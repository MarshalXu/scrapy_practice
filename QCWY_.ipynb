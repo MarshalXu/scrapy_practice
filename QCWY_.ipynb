{
 "metadata": {
  "language_info": {
   "codemirror_mode": {
    "name": "ipython",
    "version": 3
   },
   "file_extension": ".py",
   "mimetype": "text/x-python",
   "name": "python",
   "nbconvert_exporter": "python",
   "pygments_lexer": "ipython3",
   "version": "3.8.5-final"
  },
  "orig_nbformat": 2,
  "kernelspec": {
   "name": "python3",
   "display_name": "Python 3",
   "language": "python"
  }
 },
 "nbformat": 4,
 "nbformat_minor": 2,
 "cells": [
  {
   "source": [
    "## 前程无忧招聘信息数据分析"
   ],
   "cell_type": "markdown",
   "metadata": {}
  },
  {
   "source": [
    "### 数据来源及问题界定\n",
    "#### 数据来源\n",
    "本次数据分析的招聘信息数据来源于前程无忧网站，爬取的关键字为：数据分析、数据挖掘、算法*、机器学习、深度学习、人工智能。爬取的内容有工作名称、薪资、公司信息、待遇等内容。本次项目分析的主要目的是通过对爬取的招聘信息数据进行处理，分析，了解当前形势下的就业前景及对相关知识的完善和补充。"
   ],
   "cell_type": "markdown",
   "metadata": {}
  },
  {
   "source": [
    "### 数据分析要求\n",
    "1.清洗过滤数据，去重，填空值，去非技术岗位  \n",
    "2.不同岗位数量在全国范围内所占的比例。  \n",
    "3.每个岗位薪酬和工作经验间的对比。  \n",
    "4.全国不同城市，针对3种最热门岗位的岗位需求量。  \n",
    "5.不同规模的公司，对于人工智能岗位的薪酬待遇  \n",
    "6.不同规模公司，对人工智能岗位的经验和学历要求  "
   ],
   "cell_type": "markdown",
   "metadata": {}
  },
  {
   "source": [
    "## 导入相关库\n",
    "Python数据分析常用库：pandas，numpy，matplotlib"
   ],
   "cell_type": "markdown",
   "metadata": {}
  },
  {
   "cell_type": "code",
   "execution_count": 1,
   "metadata": {},
   "outputs": [],
   "source": [
    "import numpy as np\n",
    "import pandas as pd\n",
    "import matplotlib.pyplot as plt"
   ]
  },
  {
   "source": [
    "### 导入数据集和数据清洗"
   ],
   "cell_type": "markdown",
   "metadata": {}
  },
  {
   "source": [
    "#导入岗位信息记录表\n",
    "jobs_info_origin = pd.read_csv('51job_part1.csv',encoding='utf-8')\n",
    "jobs_info_origin1 = pd.read_csv('51job_part2.csv',encoding = 'utf-8')"
   ],
   "cell_type": "code",
   "metadata": {},
   "execution_count": 2,
   "outputs": []
  },
  {
   "cell_type": "code",
   "execution_count": 3,
   "metadata": {},
   "outputs": [],
   "source": [
    "#对数据集进行合并\n",
    "jobs_info = pd.concat([jobs_info_origin,jobs_info_origin1],ignore_index=True)\n",
    "#jobs_info.to_csv('51job_info.csv', encoding = 'utf-8')"
   ]
  },
  {
   "cell_type": "code",
   "execution_count": 4,
   "metadata": {},
   "outputs": [
    {
     "output_type": "execute_result",
     "data": {
      "text/plain": [
       "          company_industry                                       company_info  \\\n",
       "0                 互联网/电子商务  腾讯成立于1998年11月，是目前中国领先的互联网增值服务提供商之一。成立10多年以来，腾讯...   \n",
       "1                 生活服务,餐饮业  爱玛客美国总部1936年创立于美国费城，纽约证券交易所上市，系全球餐饮、设施、制服外包服务领...   \n",
       "2  计算机软件,计算机服务(系统、数据服务、维修)  亿达信息技术有限公司（简称YIDATEC）创建于2006年，是中国领先、国际化的IT服务及数...   \n",
       "3                    计算机软件  南方电网深圳数字电网研究院有限公司（以下简称“深圳数研院”）成立于2020年5月，现有人员规...   \n",
       "4            制药/生物工程,学术/科研  华大成立于1999年，是全球领先的生命科学前沿机构。秉承“基因科技造福人类”的使命，怀抱“健...   \n",
       "\n",
       "                  company_locations      company_names company_size  \\\n",
       "0     北京  |  3-4年经验  |  本科  |  招10人     深圳市腾讯计算机系统有限公司     10000人以上   \n",
       "1        南京  |  1年经验  |  大专  |  招1人    爱玛客服务产业（中国）有限公司     10000人以上   \n",
       "2  深圳-南山区  |  3-4年经验  |  本科  |  招1人  大连亿达信息技术有限公司深圳分公司    500-1000人   \n",
       "3  广州-黄埔区  |  3-4年经验  |  本科  |  招2人  南方电网深圳数字电网研究院有限公司   1000-5000人   \n",
       "4      异地招聘  |  2年经验  |  硕士  |  招1人       深圳华大基因科技有限公司  5000-10000人   \n",
       "\n",
       "  company_type job_EDU_require job_EXP_require  \\\n",
       "0         民营公司              本科          3-4年经验   \n",
       "1       外资（欧美）              大专            1年经验   \n",
       "2         民营公司              本科          3-4年经验   \n",
       "3           国企              本科          3-4年经验   \n",
       "4         民营公司              硕士            2年经验   \n",
       "\n",
       "                                   job_position_info       job_position_names  \\\n",
       "0  岗位职责：1. 熟悉常用的数据挖掘算法，对机器学习、深度学习、强化学习、模型可解释性方面有相...  29912-（微视北京专场）数据挖掘算法工程师   \n",
       "1  岗位职责：1.华为tririga系统维护，数据上线及合同交底；2.负责tririga系统、G...                    数据分析员   \n",
       "2  本科，需要具备数据分析和数据挖掘的能力和经验1.熟悉数据库查询脚本,如mysql或者hive...                  数据挖掘工程师   \n",
       "3  1. 能针对不同业务场景选择合适的算法进行特征提取、模型建立、效果评估及模型优化；2. 熟悉...              数据分析师（数据挖掘）   \n",
       "4  工作职责:1.负责时空组学数据挖掘，包括表达矩阵、基因调控相关等，揭示时空组学背后的生命科学...  数据挖掘高级工程师（时空组学）(J16524)   \n",
       "\n",
       "                                job_position_welfare job_salary search_by  \\\n",
       "0                                                NaN        NaN      数据挖掘   \n",
       "1                                     专业培训,五险一金,带薪年假   5-5.5千/月      数据分析   \n",
       "2                     五险一金,补充商业保险,公积金,年终奖金,员工旅游,定期体检     1-2万/月      数据挖掘   \n",
       "3  五险一金,补充医疗保险,员工旅游,餐饮补贴,通讯补贴,定期体检,年终奖金,绩效奖金,专业培训...   1.2-2万/月      数据挖掘   \n",
       "4              餐饮补贴,专业培训,定期体检,六险一金,年终奖金,班车,员工旅游,前沿项目   1.7-3万/月      数据挖掘   \n",
       "\n",
       "                                          search_url  \n",
       "0  https://jobs.51job.com/beijing/129565179.html?...  \n",
       "1  https://jobs.51job.com/nanjing/129573239.html?...  \n",
       "2  https://jobs.51job.com/shenzhen-nsq/128453493....  \n",
       "3  https://jobs.51job.com/guangzhou-hpq/125434538...  \n",
       "4  https://jobs.51job.com/shenzhen-ytq/127783757....  "
      ],
      "text/html": "<div>\n<style scoped>\n    .dataframe tbody tr th:only-of-type {\n        vertical-align: middle;\n    }\n\n    .dataframe tbody tr th {\n        vertical-align: top;\n    }\n\n    .dataframe thead th {\n        text-align: right;\n    }\n</style>\n<table border=\"1\" class=\"dataframe\">\n  <thead>\n    <tr style=\"text-align: right;\">\n      <th></th>\n      <th>company_industry</th>\n      <th>company_info</th>\n      <th>company_locations</th>\n      <th>company_names</th>\n      <th>company_size</th>\n      <th>company_type</th>\n      <th>job_EDU_require</th>\n      <th>job_EXP_require</th>\n      <th>job_position_info</th>\n      <th>job_position_names</th>\n      <th>job_position_welfare</th>\n      <th>job_salary</th>\n      <th>search_by</th>\n      <th>search_url</th>\n    </tr>\n  </thead>\n  <tbody>\n    <tr>\n      <th>0</th>\n      <td>互联网/电子商务</td>\n      <td>腾讯成立于1998年11月，是目前中国领先的互联网增值服务提供商之一。成立10多年以来，腾讯...</td>\n      <td>北京  |  3-4年经验  |  本科  |  招10人</td>\n      <td>深圳市腾讯计算机系统有限公司</td>\n      <td>10000人以上</td>\n      <td>民营公司</td>\n      <td>本科</td>\n      <td>3-4年经验</td>\n      <td>岗位职责：1. 熟悉常用的数据挖掘算法，对机器学习、深度学习、强化学习、模型可解释性方面有相...</td>\n      <td>29912-（微视北京专场）数据挖掘算法工程师</td>\n      <td>NaN</td>\n      <td>NaN</td>\n      <td>数据挖掘</td>\n      <td>https://jobs.51job.com/beijing/129565179.html?...</td>\n    </tr>\n    <tr>\n      <th>1</th>\n      <td>生活服务,餐饮业</td>\n      <td>爱玛客美国总部1936年创立于美国费城，纽约证券交易所上市，系全球餐饮、设施、制服外包服务领...</td>\n      <td>南京  |  1年经验  |  大专  |  招1人</td>\n      <td>爱玛客服务产业（中国）有限公司</td>\n      <td>10000人以上</td>\n      <td>外资（欧美）</td>\n      <td>大专</td>\n      <td>1年经验</td>\n      <td>岗位职责：1.华为tririga系统维护，数据上线及合同交底；2.负责tririga系统、G...</td>\n      <td>数据分析员</td>\n      <td>专业培训,五险一金,带薪年假</td>\n      <td>5-5.5千/月</td>\n      <td>数据分析</td>\n      <td>https://jobs.51job.com/nanjing/129573239.html?...</td>\n    </tr>\n    <tr>\n      <th>2</th>\n      <td>计算机软件,计算机服务(系统、数据服务、维修)</td>\n      <td>亿达信息技术有限公司（简称YIDATEC）创建于2006年，是中国领先、国际化的IT服务及数...</td>\n      <td>深圳-南山区  |  3-4年经验  |  本科  |  招1人</td>\n      <td>大连亿达信息技术有限公司深圳分公司</td>\n      <td>500-1000人</td>\n      <td>民营公司</td>\n      <td>本科</td>\n      <td>3-4年经验</td>\n      <td>本科，需要具备数据分析和数据挖掘的能力和经验1.熟悉数据库查询脚本,如mysql或者hive...</td>\n      <td>数据挖掘工程师</td>\n      <td>五险一金,补充商业保险,公积金,年终奖金,员工旅游,定期体检</td>\n      <td>1-2万/月</td>\n      <td>数据挖掘</td>\n      <td>https://jobs.51job.com/shenzhen-nsq/128453493....</td>\n    </tr>\n    <tr>\n      <th>3</th>\n      <td>计算机软件</td>\n      <td>南方电网深圳数字电网研究院有限公司（以下简称“深圳数研院”）成立于2020年5月，现有人员规...</td>\n      <td>广州-黄埔区  |  3-4年经验  |  本科  |  招2人</td>\n      <td>南方电网深圳数字电网研究院有限公司</td>\n      <td>1000-5000人</td>\n      <td>国企</td>\n      <td>本科</td>\n      <td>3-4年经验</td>\n      <td>1. 能针对不同业务场景选择合适的算法进行特征提取、模型建立、效果评估及模型优化；2. 熟悉...</td>\n      <td>数据分析师（数据挖掘）</td>\n      <td>五险一金,补充医疗保险,员工旅游,餐饮补贴,通讯补贴,定期体检,年终奖金,绩效奖金,专业培训...</td>\n      <td>1.2-2万/月</td>\n      <td>数据挖掘</td>\n      <td>https://jobs.51job.com/guangzhou-hpq/125434538...</td>\n    </tr>\n    <tr>\n      <th>4</th>\n      <td>制药/生物工程,学术/科研</td>\n      <td>华大成立于1999年，是全球领先的生命科学前沿机构。秉承“基因科技造福人类”的使命，怀抱“健...</td>\n      <td>异地招聘  |  2年经验  |  硕士  |  招1人</td>\n      <td>深圳华大基因科技有限公司</td>\n      <td>5000-10000人</td>\n      <td>民营公司</td>\n      <td>硕士</td>\n      <td>2年经验</td>\n      <td>工作职责:1.负责时空组学数据挖掘，包括表达矩阵、基因调控相关等，揭示时空组学背后的生命科学...</td>\n      <td>数据挖掘高级工程师（时空组学）(J16524)</td>\n      <td>餐饮补贴,专业培训,定期体检,六险一金,年终奖金,班车,员工旅游,前沿项目</td>\n      <td>1.7-3万/月</td>\n      <td>数据挖掘</td>\n      <td>https://jobs.51job.com/shenzhen-ytq/127783757....</td>\n    </tr>\n  </tbody>\n</table>\n</div>"
     },
     "metadata": {},
     "execution_count": 4
    }
   ],
   "source": [
    "#jobs_info为完整的数据\n",
    "#查看数据\n",
    "jobs_info.head(5)"
   ]
  },
  {
   "cell_type": "code",
   "execution_count": 5,
   "metadata": {},
   "outputs": [
    {
     "output_type": "execute_result",
     "data": {
      "text/plain": [
       "(138176, 14)"
      ]
     },
     "metadata": {},
     "execution_count": 5
    }
   ],
   "source": [
    "#查看数据维度\n",
    "jobs_info.shape"
   ]
  },
  {
   "cell_type": "code",
   "execution_count": 6,
   "metadata": {},
   "outputs": [
    {
     "output_type": "execute_result",
     "data": {
      "text/plain": [
       "Index(['company_industry', 'company_info', 'company_locations',\n",
       "       'company_names', 'company_size', 'company_type', 'job_EDU_require',\n",
       "       'job_EXP_require', 'job_position_info', 'job_position_names',\n",
       "       'job_position_welfare', 'job_salary', 'search_by', 'search_url'],\n",
       "      dtype='object')"
      ]
     },
     "metadata": {},
     "execution_count": 6
    }
   ],
   "source": [
    "#查看所有的列标签\n",
    "jobs_info.columns"
   ]
  },
  {
   "source": [
    "## 数据清洗\n",
    "### 检查重复数据，去重"
   ],
   "cell_type": "markdown",
   "metadata": {}
  },
  {
   "cell_type": "code",
   "execution_count": 7,
   "metadata": {},
   "outputs": [
    {
     "output_type": "execute_result",
     "data": {
      "text/plain": [
       "10203"
      ]
     },
     "metadata": {},
     "execution_count": 7
    }
   ],
   "source": [
    "#检查重复的岗位URL\n",
    "jobs_info['search_url'].duplicated().sum()"
   ]
  },
  {
   "cell_type": "code",
   "execution_count": 8,
   "metadata": {},
   "outputs": [
    {
     "output_type": "execute_result",
     "data": {
      "text/plain": [
       "21807"
      ]
     },
     "metadata": {},
     "execution_count": 8
    }
   ],
   "source": [
    "#检查重复的工作信息\n",
    "jobs_info['job_position_info'].duplicated().sum()"
   ]
  },
  {
   "cell_type": "code",
   "execution_count": 9,
   "metadata": {},
   "outputs": [
    {
     "output_type": "execute_result",
     "data": {
      "text/plain": [
       "30"
      ]
     },
     "metadata": {},
     "execution_count": 9
    }
   ],
   "source": [
    "#检查重复行\n",
    "jobs_info.duplicated().sum()"
   ]
  },
  {
   "cell_type": "code",
   "execution_count": 10,
   "metadata": {},
   "outputs": [
    {
     "output_type": "execute_result",
     "data": {
      "text/plain": [
       "12627"
      ]
     },
     "metadata": {},
     "execution_count": 10
    }
   ],
   "source": [
    "#根据搜索关键字和工作信息查重\n",
    "jobs_info.duplicated(['search_by','job_position_info']).sum()"
   ]
  },
  {
   "source": [
    "### 删除重复数据"
   ],
   "cell_type": "markdown",
   "metadata": {}
  },
  {
   "cell_type": "code",
   "execution_count": 11,
   "metadata": {},
   "outputs": [],
   "source": [
    "#删除重复的工作岗位信息\n",
    "jobs_info.drop_duplicates(['job_position_info'] , inplace = True )"
   ]
  },
  {
   "cell_type": "code",
   "execution_count": 12,
   "metadata": {},
   "outputs": [],
   "source": [
    "#根据搜索关键字和工作信息去重\n",
    "jobs_info.drop_duplicates(['search_by','job_position_info'],inplace = True)"
   ]
  },
  {
   "cell_type": "code",
   "execution_count": 13,
   "metadata": {},
   "outputs": [
    {
     "output_type": "execute_result",
     "data": {
      "text/plain": [
       "0"
      ]
     },
     "metadata": {},
     "execution_count": 13
    }
   ],
   "source": [
    "#检查去重结果\n",
    "jobs_info['job_position_info'].duplicated().sum()"
   ]
  },
  {
   "cell_type": "code",
   "execution_count": 14,
   "metadata": {},
   "outputs": [
    {
     "output_type": "execute_result",
     "data": {
      "text/plain": [
       "0"
      ]
     },
     "metadata": {},
     "execution_count": 14
    }
   ],
   "source": [
    "jobs_info.duplicated(['search_by','job_position_info']).sum()"
   ]
  },
  {
   "cell_type": "code",
   "execution_count": 15,
   "metadata": {},
   "outputs": [
    {
     "output_type": "execute_result",
     "data": {
      "text/plain": [
       "(116369, 14)"
      ]
     },
     "metadata": {},
     "execution_count": 15
    }
   ],
   "source": [
    "#查看去重之后的数据维度\n",
    "jobs_info.shape"
   ]
  },
  {
   "source": [
    "### 查看处理缺失值\n"
   ],
   "cell_type": "markdown",
   "metadata": {}
  },
  {
   "cell_type": "code",
   "execution_count": 16,
   "metadata": {},
   "outputs": [
    {
     "output_type": "stream",
     "name": "stdout",
     "text": [
      "<class 'pandas.core.frame.DataFrame'>\nInt64Index: 116369 entries, 0 to 138173\nData columns (total 14 columns):\n #   Column                Non-Null Count   Dtype \n---  ------                --------------   ----- \n 0   company_industry      116369 non-null  object\n 1   company_info          116330 non-null  object\n 2   company_locations     116369 non-null  object\n 3   company_names         116369 non-null  object\n 4   company_size          113172 non-null  object\n 5   company_type          116352 non-null  object\n 6   job_EDU_require       116369 non-null  object\n 7   job_EXP_require       116369 non-null  object\n 8   job_position_info     116369 non-null  object\n 9   job_position_names    116369 non-null  object\n 10  job_position_welfare  94363 non-null   object\n 11  job_salary            111436 non-null  object\n 12  search_by             116369 non-null  object\n 13  search_url            116369 non-null  object\ndtypes: object(14)\nmemory usage: 13.3+ MB\n"
     ]
    }
   ],
   "source": [
    "jobs_info.info()"
   ]
  },
  {
   "source": [
    "### 删除对于数据分析无意义的字段，根据本次数据分析的要求我们将岗位的URL字段删除"
   ],
   "cell_type": "markdown",
   "metadata": {}
  },
  {
   "cell_type": "code",
   "execution_count": 17,
   "metadata": {},
   "outputs": [],
   "source": [
    "jobs_info.drop('search_url',axis = 1,inplace= True)"
   ]
  },
  {
   "cell_type": "code",
   "execution_count": 18,
   "metadata": {},
   "outputs": [
    {
     "output_type": "execute_result",
     "data": {
      "text/plain": [
       "Index(['company_industry', 'company_info', 'company_locations',\n",
       "       'company_names', 'company_size', 'company_type', 'job_EDU_require',\n",
       "       'job_EXP_require', 'job_position_info', 'job_position_names',\n",
       "       'job_position_welfare', 'job_salary', 'search_by'],\n",
       "      dtype='object')"
      ]
     },
     "metadata": {},
     "execution_count": 18
    }
   ],
   "source": [
    "jobs_info.columns"
   ]
  },
  {
   "cell_type": "code",
   "execution_count": 19,
   "metadata": {},
   "outputs": [
    {
     "output_type": "stream",
     "name": "stdout",
     "text": [
      "<class 'pandas.core.frame.DataFrame'>\nInt64Index: 116369 entries, 0 to 138173\nData columns (total 13 columns):\n #   Column                Non-Null Count   Dtype \n---  ------                --------------   ----- \n 0   company_industry      116369 non-null  object\n 1   company_info          116330 non-null  object\n 2   company_locations     116369 non-null  object\n 3   company_names         116369 non-null  object\n 4   company_size          113172 non-null  object\n 5   company_type          116352 non-null  object\n 6   job_EDU_require       116369 non-null  object\n 7   job_EXP_require       116369 non-null  object\n 8   job_position_info     116369 non-null  object\n 9   job_position_names    116369 non-null  object\n 10  job_position_welfare  94363 non-null   object\n 11  job_salary            111436 non-null  object\n 12  search_by             116369 non-null  object\ndtypes: object(13)\nmemory usage: 12.4+ MB\n"
     ]
    }
   ],
   "source": [
    "jobs_info.info()"
   ]
  },
  {
   "source": [
    "#删除数据中的缺失值\n",
    "jobs_info.dropna(inplace = True)\n",
    "jobs_info.info()"
   ],
   "cell_type": "code",
   "metadata": {},
   "execution_count": 20,
   "outputs": [
    {
     "output_type": "stream",
     "name": "stdout",
     "text": [
      "<class 'pandas.core.frame.DataFrame'>\nInt64Index: 92899 entries, 1 to 138173\nData columns (total 13 columns):\n #   Column                Non-Null Count  Dtype \n---  ------                --------------  ----- \n 0   company_industry      92899 non-null  object\n 1   company_info          92899 non-null  object\n 2   company_locations     92899 non-null  object\n 3   company_names         92899 non-null  object\n 4   company_size          92899 non-null  object\n 5   company_type          92899 non-null  object\n 6   job_EDU_require       92899 non-null  object\n 7   job_EXP_require       92899 non-null  object\n 8   job_position_info     92899 non-null  object\n 9   job_position_names    92899 non-null  object\n 10  job_position_welfare  92899 non-null  object\n 11  job_salary            92899 non-null  object\n 12  search_by             92899 non-null  object\ndtypes: object(13)\nmemory usage: 9.9+ MB\n"
     ]
    }
   ]
  },
  {
   "cell_type": "code",
   "execution_count": 21,
   "metadata": {},
   "outputs": [
    {
     "output_type": "execute_result",
     "data": {
      "text/plain": [
       "(92899, 13)"
      ]
     },
     "metadata": {},
     "execution_count": 21
    }
   ],
   "source": [
    "jobs_info.shape"
   ]
  },
  {
   "source": [
    "### 学历数据清洗"
   ],
   "cell_type": "markdown",
   "metadata": {}
  },
  {
   "cell_type": "code",
   "execution_count": 22,
   "metadata": {},
   "outputs": [
    {
     "output_type": "execute_result",
     "data": {
      "text/plain": [
       "array(['大专', '本科', '硕士', '招1人', '博士', '招3人', '招2人', '03-04发布', '招若干人',\n",
       "       '招5人', '高中', '中专', '招50人', '中技', '招4人', '03-03发布', '招9人',\n",
       "       '03-02发布', '招10人', '02-24发布', '02-07发布', '招20人', '招6人', '招7人',\n",
       "       '招30人', '招8人', '初中及以下', '招12人', '招25人', '招29人', '招100人', '03-01发布',\n",
       "       '02-27发布', '02-26发布', '02-23发布', '02-11发布', '02-08发布', '02-05发布',\n",
       "       '01-27发布', '01-25发布', '招300人', '招60人', '01-09发布', '02-04发布',\n",
       "       '招18人', '招15人', '02-28发布', '02-22发布', '01-29发布', '01-24发布',\n",
       "       '02-25发布', '招33人', '招99人', '02-20发布', '02-06发布', '01-30发布', '招16人',\n",
       "       '01-07发布', '02-19发布', '招200人', '招35人', '01-13发布', '03-05发布',\n",
       "       '01-12发布', '02-18发布', '02-16发布', '招11人', '01-21发布', '02-12发布',\n",
       "       '招19人'], dtype=object)"
      ]
     },
     "metadata": {},
     "execution_count": 22
    }
   ],
   "source": [
    "#查看招聘数据中所有学历要求的内容\n",
    "jobs_info['job_EDU_require'].unique()"
   ]
  },
  {
   "cell_type": "code",
   "execution_count": 23,
   "metadata": {},
   "outputs": [],
   "source": [
    "# 删除无关数据\n",
    "jobs_info = jobs_info[~jobs_info[\"job_EDU_require\"].str.contains(\"招|初中及以下|高中|中技|发布\")]"
   ]
  },
  {
   "cell_type": "code",
   "execution_count": 24,
   "metadata": {},
   "outputs": [
    {
     "output_type": "execute_result",
     "data": {
      "text/plain": [
       "本科    42444\n",
       "大专    38729\n",
       "硕士     4945\n",
       "中专     1734\n",
       "博士      498\n",
       "Name: job_EDU_require, dtype: int64"
      ]
     },
     "metadata": {},
     "execution_count": 24
    }
   ],
   "source": [
    "# 删除后数据检查\n",
    "jobs_info[\"job_EDU_require\"].value_counts()"
   ]
  },
  {
   "cell_type": "code",
   "execution_count": 25,
   "metadata": {},
   "outputs": [
    {
     "output_type": "execute_result",
     "data": {
      "text/plain": [
       "(88350, 13)"
      ]
     },
     "metadata": {},
     "execution_count": 25
    }
   ],
   "source": [
    "jobs_info.shape"
   ]
  },
  {
   "source": [
    "### 保留技术岗位"
   ],
   "cell_type": "markdown",
   "metadata": {}
  },
  {
   "cell_type": "code",
   "execution_count": 26,
   "metadata": {},
   "outputs": [
    {
     "output_type": "execute_result",
     "data": {
      "text/plain": [
       "算法工程师                      752\n",
       "数据分析师                      686\n",
       "产品经理                       642\n",
       "Java开发工程师                  523\n",
       "嵌入式软件工程师                   462\n",
       "                          ... \n",
       "TMT行业分析师                     1\n",
       "高级C/C++开发工程师 (MJ001686)      1\n",
       "深度学习算法工程师（nlp方向）             1\n",
       "海外推广/Facebook推广/亚马逊站外推广      1\n",
       "系统总工程师                       1\n",
       "Name: job_position_names, Length: 47926, dtype: int64"
      ]
     },
     "metadata": {},
     "execution_count": 26
    }
   ],
   "source": [
    "jobs_info[\"job_position_names\"].value_counts()"
   ]
  },
  {
   "cell_type": "code",
   "execution_count": 27,
   "metadata": {},
   "outputs": [],
   "source": [
    "# 数据筛选(不区分大小写)\n",
    "jobs_info=jobs_info[jobs_info[\"job_position_names\"].str.contains(\"股票|计算|研究|交易|Data|语音|工程师|研发|人脸|图像|挖掘|机器学习|识别|Py|建模|开发|人工智能|AI|数据|深度|算法|机器|自然语言|学习建模|NLP|视觉|声音|文字|SQL|Java|DATA\",case = False)]"
   ]
  },
  {
   "cell_type": "code",
   "execution_count": 28,
   "metadata": {},
   "outputs": [
    {
     "output_type": "execute_result",
     "data": {
      "text/plain": [
       "(33329, 13)"
      ]
     },
     "metadata": {},
     "execution_count": 28
    }
   ],
   "source": [
    "jobs_info.shape"
   ]
  },
  {
   "cell_type": "code",
   "execution_count": 29,
   "metadata": {},
   "outputs": [
    {
     "output_type": "execute_result",
     "data": {
      "text/plain": [
       "算法工程师                       752\n",
       "数据分析师                       686\n",
       "Java开发工程师                   523\n",
       "嵌入式软件工程师                    462\n",
       "大数据开发工程师                    406\n",
       "                           ... \n",
       "智能车网联测试工程师                    1\n",
       "AI Lab机器学习系统研究员               1\n",
       "QT开发工程师/C++开发工程师（急聘）          1\n",
       "大数据开发工程师（LT21pz）(J12530)      1\n",
       "DQA工程师                        1\n",
       "Name: job_position_names, Length: 17538, dtype: int64"
      ]
     },
     "metadata": {},
     "execution_count": 29
    }
   ],
   "source": [
    "jobs_info[\"job_position_names\"].value_counts()"
   ]
  },
  {
   "source": [
    "### 薪资空值填充"
   ],
   "cell_type": "markdown",
   "metadata": {}
  },
  {
   "cell_type": "code",
   "execution_count": 30,
   "metadata": {},
   "outputs": [
    {
     "output_type": "execute_result",
     "data": {
      "text/plain": [
       "0"
      ]
     },
     "metadata": {},
     "execution_count": 30
    }
   ],
   "source": [
    "# 查看薪资空值个数\n",
    "sum(jobs_info['job_salary'].isnull()==True)"
   ]
  },
  {
   "cell_type": "code",
   "execution_count": 31,
   "metadata": {},
   "outputs": [
    {
     "output_type": "execute_result",
     "data": {
      "text/plain": [
       "53548     0.2-1.2万/月\n",
       "109143    0.3-1.2万/月\n",
       "23393     0.3-1.3万/月\n",
       "110781    0.3-1.5万/月\n",
       "83270     0.3-1.5万/月\n",
       "             ...    \n",
       "57769        9-15万/年\n",
       "54962        9-16万/月\n",
       "64119        9-18万/年\n",
       "94975        9-20万/年\n",
       "3374       90-120万/年\n",
       "Name: job_salary, Length: 33329, dtype: object"
      ]
     },
     "metadata": {},
     "execution_count": 31
    }
   ],
   "source": [
    "# 薪资按值排序\n",
    "jobs_info['job_salary'].sort_values()"
   ]
  },
  {
   "source": [
    "### 薪资单位转换"
   ],
   "cell_type": "markdown",
   "metadata": {}
  },
  {
   "cell_type": "code",
   "execution_count": 32,
   "metadata": {},
   "outputs": [],
   "source": [
    "# 将万元/月转换为元/月\n",
    "jobs_info['salary1'] = jobs_info.loc[jobs_info['job_salary'].str.contains('万/月')]['job_salary'].apply(lambda x:np.mean(list(map(float,x.replace('万/月','').split('-'))))*10000)\n",
    "jobs_info['salary1'].fillna(0,inplace = True)"
   ]
  },
  {
   "cell_type": "code",
   "execution_count": 33,
   "metadata": {},
   "outputs": [],
   "source": [
    "jobs_info['salary2'] = jobs_info.loc[jobs_info['job_salary'].str.contains('万/年')]['job_salary'].apply(lambda x:np.mean(list(map(float,x.replace('万/年','').split('-'))))*10000/12)\n",
    "jobs_info['salary2'].fillna(0,inplace = True)"
   ]
  },
  {
   "cell_type": "code",
   "execution_count": 34,
   "metadata": {},
   "outputs": [],
   "source": [
    "jobs_info['salary3'] = jobs_info.loc[jobs_info['job_salary'].str.contains('千/月')]['job_salary'].apply(lambda x:np.mean(list(map(float,x.replace('千/月','').split('-'))))*1000)\n",
    "jobs_info['salary3'].fillna(0,inplace = True)"
   ]
  },
  {
   "cell_type": "code",
   "execution_count": 35,
   "metadata": {},
   "outputs": [],
   "source": [
    "jobs_info['salary4'] = jobs_info.loc[jobs_info['job_salary'].str.contains('元/天')]['job_salary'].apply(lambda x:np.mean(list(map(float,x.replace('元/天','').split('-'))))*30)\n",
    "jobs_info['salary4'].fillna(0,inplace = True)"
   ]
  },
  {
   "cell_type": "code",
   "execution_count": 36,
   "metadata": {},
   "outputs": [
    {
     "output_type": "execute_result",
     "data": {
      "text/plain": [
       "  company_industry                                       company_info  \\\n",
       "1         生活服务,餐饮业  爱玛客美国总部1936年创立于美国费城，纽约证券交易所上市，系全球餐饮、设施、制服外包服务领...   \n",
       "\n",
       "            company_locations    company_names company_size company_type  \\\n",
       "1  南京  |  1年经验  |  大专  |  招1人  爱玛客服务产业（中国）有限公司     10000人以上       外资（欧美）   \n",
       "\n",
       "  job_EDU_require job_EXP_require  \\\n",
       "1              大专            1年经验   \n",
       "\n",
       "                                   job_position_info job_position_names  \\\n",
       "1  岗位职责：1.华为tririga系统维护，数据上线及合同交底；2.负责tririga系统、G...              数据分析员   \n",
       "\n",
       "  job_position_welfare job_salary search_by  salary1  salary2  salary3  \\\n",
       "1       专业培训,五险一金,带薪年假   5-5.5千/月      数据分析      0.0      0.0   5250.0   \n",
       "\n",
       "   salary4  salary  \n",
       "1      0.0  5250.0  "
      ],
      "text/html": "<div>\n<style scoped>\n    .dataframe tbody tr th:only-of-type {\n        vertical-align: middle;\n    }\n\n    .dataframe tbody tr th {\n        vertical-align: top;\n    }\n\n    .dataframe thead th {\n        text-align: right;\n    }\n</style>\n<table border=\"1\" class=\"dataframe\">\n  <thead>\n    <tr style=\"text-align: right;\">\n      <th></th>\n      <th>company_industry</th>\n      <th>company_info</th>\n      <th>company_locations</th>\n      <th>company_names</th>\n      <th>company_size</th>\n      <th>company_type</th>\n      <th>job_EDU_require</th>\n      <th>job_EXP_require</th>\n      <th>job_position_info</th>\n      <th>job_position_names</th>\n      <th>job_position_welfare</th>\n      <th>job_salary</th>\n      <th>search_by</th>\n      <th>salary1</th>\n      <th>salary2</th>\n      <th>salary3</th>\n      <th>salary4</th>\n      <th>salary</th>\n    </tr>\n  </thead>\n  <tbody>\n    <tr>\n      <th>1</th>\n      <td>生活服务,餐饮业</td>\n      <td>爱玛客美国总部1936年创立于美国费城，纽约证券交易所上市，系全球餐饮、设施、制服外包服务领...</td>\n      <td>南京  |  1年经验  |  大专  |  招1人</td>\n      <td>爱玛客服务产业（中国）有限公司</td>\n      <td>10000人以上</td>\n      <td>外资（欧美）</td>\n      <td>大专</td>\n      <td>1年经验</td>\n      <td>岗位职责：1.华为tririga系统维护，数据上线及合同交底；2.负责tririga系统、G...</td>\n      <td>数据分析员</td>\n      <td>专业培训,五险一金,带薪年假</td>\n      <td>5-5.5千/月</td>\n      <td>数据分析</td>\n      <td>0.0</td>\n      <td>0.0</td>\n      <td>5250.0</td>\n      <td>0.0</td>\n      <td>5250.0</td>\n    </tr>\n  </tbody>\n</table>\n</div>"
     },
     "metadata": {},
     "execution_count": 36
    }
   ],
   "source": [
    "# 转换后合并为salary列\n",
    "jobs_info['salary']=jobs_info['salary1']+jobs_info['salary2']+jobs_info['salary3']+jobs_info['salary4']\n",
    "jobs_info.head(1)"
   ]
  },
  {
   "source": [
    "### 删除处理薪资单位的中间值字段"
   ],
   "cell_type": "markdown",
   "metadata": {}
  },
  {
   "cell_type": "code",
   "execution_count": 37,
   "metadata": {},
   "outputs": [],
   "source": [
    "jobs_info.drop(['salary1','salary2','salary3','salary4'],axis=1,inplace=True)"
   ]
  },
  {
   "cell_type": "code",
   "execution_count": 38,
   "metadata": {},
   "outputs": [
    {
     "output_type": "execute_result",
     "data": {
      "text/plain": [
       "Index(['company_industry', 'company_info', 'company_locations',\n",
       "       'company_names', 'company_size', 'company_type', 'job_EDU_require',\n",
       "       'job_EXP_require', 'job_position_info', 'job_position_names',\n",
       "       'job_position_welfare', 'job_salary', 'search_by', 'salary'],\n",
       "      dtype='object')"
      ]
     },
     "metadata": {},
     "execution_count": 38
    }
   ],
   "source": [
    "# 查看删除后的字段名\n",
    "jobs_info.columns"
   ]
  },
  {
   "cell_type": "code",
   "execution_count": 39,
   "metadata": {},
   "outputs": [
    {
     "output_type": "execute_result",
     "data": {
      "text/plain": [
       "  company_industry                                       company_info  \\\n",
       "1         生活服务,餐饮业  爱玛客美国总部1936年创立于美国费城，纽约证券交易所上市，系全球餐饮、设施、制服外包服务领...   \n",
       "\n",
       "            company_locations    company_names company_size company_type  \\\n",
       "1  南京  |  1年经验  |  大专  |  招1人  爱玛客服务产业（中国）有限公司     10000人以上       外资（欧美）   \n",
       "\n",
       "  job_EDU_require job_EXP_require  \\\n",
       "1              大专            1年经验   \n",
       "\n",
       "                                   job_position_info job_position_names  \\\n",
       "1  岗位职责：1.华为tririga系统维护，数据上线及合同交底；2.负责tririga系统、G...              数据分析员   \n",
       "\n",
       "  job_position_welfare job_salary search_by  salary  \n",
       "1       专业培训,五险一金,带薪年假   5-5.5千/月      数据分析  5250.0  "
      ],
      "text/html": "<div>\n<style scoped>\n    .dataframe tbody tr th:only-of-type {\n        vertical-align: middle;\n    }\n\n    .dataframe tbody tr th {\n        vertical-align: top;\n    }\n\n    .dataframe thead th {\n        text-align: right;\n    }\n</style>\n<table border=\"1\" class=\"dataframe\">\n  <thead>\n    <tr style=\"text-align: right;\">\n      <th></th>\n      <th>company_industry</th>\n      <th>company_info</th>\n      <th>company_locations</th>\n      <th>company_names</th>\n      <th>company_size</th>\n      <th>company_type</th>\n      <th>job_EDU_require</th>\n      <th>job_EXP_require</th>\n      <th>job_position_info</th>\n      <th>job_position_names</th>\n      <th>job_position_welfare</th>\n      <th>job_salary</th>\n      <th>search_by</th>\n      <th>salary</th>\n    </tr>\n  </thead>\n  <tbody>\n    <tr>\n      <th>1</th>\n      <td>生活服务,餐饮业</td>\n      <td>爱玛客美国总部1936年创立于美国费城，纽约证券交易所上市，系全球餐饮、设施、制服外包服务领...</td>\n      <td>南京  |  1年经验  |  大专  |  招1人</td>\n      <td>爱玛客服务产业（中国）有限公司</td>\n      <td>10000人以上</td>\n      <td>外资（欧美）</td>\n      <td>大专</td>\n      <td>1年经验</td>\n      <td>岗位职责：1.华为tririga系统维护，数据上线及合同交底；2.负责tririga系统、G...</td>\n      <td>数据分析员</td>\n      <td>专业培训,五险一金,带薪年假</td>\n      <td>5-5.5千/月</td>\n      <td>数据分析</td>\n      <td>5250.0</td>\n    </tr>\n  </tbody>\n</table>\n</div>"
     },
     "metadata": {},
     "execution_count": 39
    }
   ],
   "source": [
    "jobs_info.head(1)"
   ]
  },
  {
   "cell_type": "code",
   "execution_count": 40,
   "metadata": {},
   "outputs": [
    {
     "output_type": "execute_result",
     "data": {
      "text/plain": [
       "54295          0.0\n",
       "107233         0.0\n",
       "106943         0.0\n",
       "20333          0.0\n",
       "1308           0.0\n",
       "            ...   \n",
       "52534     400000.0\n",
       "54027     400000.0\n",
       "58359     400000.0\n",
       "54971     425000.0\n",
       "52746     475000.0\n",
       "Name: salary, Length: 33329, dtype: float64"
      ]
     },
     "metadata": {},
     "execution_count": 40
    }
   ],
   "source": [
    "# 薪资列排序\n",
    "jobs_info['salary'].sort_values()"
   ]
  },
  {
   "cell_type": "code",
   "execution_count": 41,
   "metadata": {},
   "outputs": [],
   "source": [
    "# # 统计薪资列值为0的数量（由于上面只处理了4种单位，剩下的单位为NaN，列合并后值为0，删除工资为0的行\n",
    "jobs_info.drop(index=jobs_info[jobs_info['salary']==0].index,inplace=True)"
   ]
  },
  {
   "cell_type": "code",
   "execution_count": 42,
   "metadata": {},
   "outputs": [
    {
     "output_type": "execute_result",
     "data": {
      "text/plain": [
       "Empty DataFrame\n",
       "Columns: [company_industry, company_info, company_locations, company_names, company_size, company_type, job_EDU_require, job_EXP_require, job_position_info, job_position_names, job_position_welfare, job_salary, search_by, salary]\n",
       "Index: []"
      ],
      "text/html": "<div>\n<style scoped>\n    .dataframe tbody tr th:only-of-type {\n        vertical-align: middle;\n    }\n\n    .dataframe tbody tr th {\n        vertical-align: top;\n    }\n\n    .dataframe thead th {\n        text-align: right;\n    }\n</style>\n<table border=\"1\" class=\"dataframe\">\n  <thead>\n    <tr style=\"text-align: right;\">\n      <th></th>\n      <th>company_industry</th>\n      <th>company_info</th>\n      <th>company_locations</th>\n      <th>company_names</th>\n      <th>company_size</th>\n      <th>company_type</th>\n      <th>job_EDU_require</th>\n      <th>job_EXP_require</th>\n      <th>job_position_info</th>\n      <th>job_position_names</th>\n      <th>job_position_welfare</th>\n      <th>job_salary</th>\n      <th>search_by</th>\n      <th>salary</th>\n    </tr>\n  </thead>\n  <tbody>\n  </tbody>\n</table>\n</div>"
     },
     "metadata": {},
     "execution_count": 42
    }
   ],
   "source": [
    "# 验证薪资为0的数量\n",
    "jobs_info[jobs_info['salary'].values==0]"
   ]
  },
  {
   "cell_type": "code",
   "execution_count": 43,
   "metadata": {},
   "outputs": [
    {
     "output_type": "execute_result",
     "data": {
      "text/plain": [
       "  company_industry                                       company_info  \\\n",
       "1         生活服务,餐饮业  爱玛客美国总部1936年创立于美国费城，纽约证券交易所上市，系全球餐饮、设施、制服外包服务领...   \n",
       "\n",
       "            company_locations    company_names company_size company_type  \\\n",
       "1  南京  |  1年经验  |  大专  |  招1人  爱玛客服务产业（中国）有限公司     10000人以上       外资（欧美）   \n",
       "\n",
       "  job_EDU_require job_EXP_require  \\\n",
       "1              大专            1年经验   \n",
       "\n",
       "                                   job_position_info job_position_names  \\\n",
       "1  岗位职责：1.华为tririga系统维护，数据上线及合同交底；2.负责tririga系统、G...              数据分析员   \n",
       "\n",
       "  job_position_welfare job_salary search_by  salary  \n",
       "1       专业培训,五险一金,带薪年假   5-5.5千/月      数据分析  5250.0  "
      ],
      "text/html": "<div>\n<style scoped>\n    .dataframe tbody tr th:only-of-type {\n        vertical-align: middle;\n    }\n\n    .dataframe tbody tr th {\n        vertical-align: top;\n    }\n\n    .dataframe thead th {\n        text-align: right;\n    }\n</style>\n<table border=\"1\" class=\"dataframe\">\n  <thead>\n    <tr style=\"text-align: right;\">\n      <th></th>\n      <th>company_industry</th>\n      <th>company_info</th>\n      <th>company_locations</th>\n      <th>company_names</th>\n      <th>company_size</th>\n      <th>company_type</th>\n      <th>job_EDU_require</th>\n      <th>job_EXP_require</th>\n      <th>job_position_info</th>\n      <th>job_position_names</th>\n      <th>job_position_welfare</th>\n      <th>job_salary</th>\n      <th>search_by</th>\n      <th>salary</th>\n    </tr>\n  </thead>\n  <tbody>\n    <tr>\n      <th>1</th>\n      <td>生活服务,餐饮业</td>\n      <td>爱玛客美国总部1936年创立于美国费城，纽约证券交易所上市，系全球餐饮、设施、制服外包服务领...</td>\n      <td>南京  |  1年经验  |  大专  |  招1人</td>\n      <td>爱玛客服务产业（中国）有限公司</td>\n      <td>10000人以上</td>\n      <td>外资（欧美）</td>\n      <td>大专</td>\n      <td>1年经验</td>\n      <td>岗位职责：1.华为tririga系统维护，数据上线及合同交底；2.负责tririga系统、G...</td>\n      <td>数据分析员</td>\n      <td>专业培训,五险一金,带薪年假</td>\n      <td>5-5.5千/月</td>\n      <td>数据分析</td>\n      <td>5250.0</td>\n    </tr>\n  </tbody>\n</table>\n</div>"
     },
     "metadata": {},
     "execution_count": 43
    }
   ],
   "source": [
    "jobs_info.head(1)"
   ]
  },
  {
   "cell_type": "code",
   "execution_count": 44,
   "metadata": {},
   "outputs": [
    {
     "output_type": "execute_result",
     "data": {
      "text/plain": [
       "          company_industry                                       company_info  \\\n",
       "2  计算机软件,计算机服务(系统、数据服务、维修)  亿达信息技术有限公司（简称YIDATEC）创建于2006年，是中国领先、国际化的IT服务及数...   \n",
       "3                    计算机软件  南方电网深圳数字电网研究院有限公司（以下简称“深圳数研院”）成立于2020年5月，现有人员规...   \n",
       "4            制药/生物工程,学术/科研  华大成立于1999年，是全球领先的生命科学前沿机构。秉承“基因科技造福人类”的使命，怀抱“健...   \n",
       "5                    学术/科研  TCL集团工业研究院成立于2005年7月1日，直属于TCL集团总部，是集团中央研究机构，属于...   \n",
       "9                     网络游戏  完美世界(北京)网络技术有限公司（以下简称：完美世界）是中国领先的网络游戏开发商和运营商之一...   \n",
       "\n",
       "                      company_locations      company_names company_size  \\\n",
       "2      深圳-南山区  |  3-4年经验  |  本科  |  招1人  大连亿达信息技术有限公司深圳分公司    500-1000人   \n",
       "3      广州-黄埔区  |  3-4年经验  |  本科  |  招2人  南方电网深圳数字电网研究院有限公司   1000-5000人   \n",
       "4          异地招聘  |  2年经验  |  硕士  |  招1人       深圳华大基因科技有限公司  5000-10000人   \n",
       "5  西安-高新技术产业开发区  |  2年经验  |  硕士  |  招1人         TCL集团工业研究院     150-500人   \n",
       "9          上海  |  3-4年经验  |  本科  |  招1人      完美世界（上海）/完美时空     150-500人   \n",
       "\n",
       "  company_type job_EDU_require job_EXP_require  \\\n",
       "2         民营公司              本科          3-4年经验   \n",
       "3           国企              本科          3-4年经验   \n",
       "4         民营公司              硕士            2年经验   \n",
       "5         民营公司              硕士            2年经验   \n",
       "9         民营公司              本科          3-4年经验   \n",
       "\n",
       "                                   job_position_info       job_position_names  \\\n",
       "2  本科，需要具备数据分析和数据挖掘的能力和经验1.熟悉数据库查询脚本,如mysql或者hive...                  数据挖掘工程师   \n",
       "3  1. 能针对不同业务场景选择合适的算法进行特征提取、模型建立、效果评估及模型优化；2. 熟悉...              数据分析师（数据挖掘）   \n",
       "4  工作职责:1.负责时空组学数据挖掘，包括表达矩阵、基因调控相关等，揭示时空组学背后的生命科学...  数据挖掘高级工程师（时空组学）(J16524)   \n",
       "5  任职/技能要求：  1.计算机及数学相关专业毕业，硕士及以上学历；  2.具有良好的逻辑思维...               数据挖掘、算法工程师   \n",
       "9  1． 大学本科及以上学历，三年以上数据挖掘工作； 2． 熟练使用各类数据结构和算法，熟悉li...                  数据挖掘工程师   \n",
       "\n",
       "                                job_position_welfare job_salary search_by  \\\n",
       "2                     五险一金,补充商业保险,公积金,年终奖金,员工旅游,定期体检     1-2万/月      数据挖掘   \n",
       "3  五险一金,补充医疗保险,员工旅游,餐饮补贴,通讯补贴,定期体检,年终奖金,绩效奖金,专业培训...   1.2-2万/月      数据挖掘   \n",
       "4              餐饮补贴,专业培训,定期体检,六险一金,年终奖金,班车,员工旅游,前沿项目   1.7-3万/月      数据挖掘   \n",
       "5          餐饮补贴,专业培训,五险一金,补充医疗保险,员工旅游,定期体检,年终奖金,绩效奖金   1.5-2万/月      数据挖掘   \n",
       "9                     五险一金,补充公积金,免费班车,餐饮补贴,绩效奖金,年终奖金   2.5-3万/月      数据挖掘   \n",
       "\n",
       "    salary  \n",
       "2  15000.0  \n",
       "3  16000.0  \n",
       "4  23500.0  \n",
       "5  17500.0  \n",
       "9  27500.0  "
      ],
      "text/html": "<div>\n<style scoped>\n    .dataframe tbody tr th:only-of-type {\n        vertical-align: middle;\n    }\n\n    .dataframe tbody tr th {\n        vertical-align: top;\n    }\n\n    .dataframe thead th {\n        text-align: right;\n    }\n</style>\n<table border=\"1\" class=\"dataframe\">\n  <thead>\n    <tr style=\"text-align: right;\">\n      <th></th>\n      <th>company_industry</th>\n      <th>company_info</th>\n      <th>company_locations</th>\n      <th>company_names</th>\n      <th>company_size</th>\n      <th>company_type</th>\n      <th>job_EDU_require</th>\n      <th>job_EXP_require</th>\n      <th>job_position_info</th>\n      <th>job_position_names</th>\n      <th>job_position_welfare</th>\n      <th>job_salary</th>\n      <th>search_by</th>\n      <th>salary</th>\n    </tr>\n  </thead>\n  <tbody>\n    <tr>\n      <th>2</th>\n      <td>计算机软件,计算机服务(系统、数据服务、维修)</td>\n      <td>亿达信息技术有限公司（简称YIDATEC）创建于2006年，是中国领先、国际化的IT服务及数...</td>\n      <td>深圳-南山区  |  3-4年经验  |  本科  |  招1人</td>\n      <td>大连亿达信息技术有限公司深圳分公司</td>\n      <td>500-1000人</td>\n      <td>民营公司</td>\n      <td>本科</td>\n      <td>3-4年经验</td>\n      <td>本科，需要具备数据分析和数据挖掘的能力和经验1.熟悉数据库查询脚本,如mysql或者hive...</td>\n      <td>数据挖掘工程师</td>\n      <td>五险一金,补充商业保险,公积金,年终奖金,员工旅游,定期体检</td>\n      <td>1-2万/月</td>\n      <td>数据挖掘</td>\n      <td>15000.0</td>\n    </tr>\n    <tr>\n      <th>3</th>\n      <td>计算机软件</td>\n      <td>南方电网深圳数字电网研究院有限公司（以下简称“深圳数研院”）成立于2020年5月，现有人员规...</td>\n      <td>广州-黄埔区  |  3-4年经验  |  本科  |  招2人</td>\n      <td>南方电网深圳数字电网研究院有限公司</td>\n      <td>1000-5000人</td>\n      <td>国企</td>\n      <td>本科</td>\n      <td>3-4年经验</td>\n      <td>1. 能针对不同业务场景选择合适的算法进行特征提取、模型建立、效果评估及模型优化；2. 熟悉...</td>\n      <td>数据分析师（数据挖掘）</td>\n      <td>五险一金,补充医疗保险,员工旅游,餐饮补贴,通讯补贴,定期体检,年终奖金,绩效奖金,专业培训...</td>\n      <td>1.2-2万/月</td>\n      <td>数据挖掘</td>\n      <td>16000.0</td>\n    </tr>\n    <tr>\n      <th>4</th>\n      <td>制药/生物工程,学术/科研</td>\n      <td>华大成立于1999年，是全球领先的生命科学前沿机构。秉承“基因科技造福人类”的使命，怀抱“健...</td>\n      <td>异地招聘  |  2年经验  |  硕士  |  招1人</td>\n      <td>深圳华大基因科技有限公司</td>\n      <td>5000-10000人</td>\n      <td>民营公司</td>\n      <td>硕士</td>\n      <td>2年经验</td>\n      <td>工作职责:1.负责时空组学数据挖掘，包括表达矩阵、基因调控相关等，揭示时空组学背后的生命科学...</td>\n      <td>数据挖掘高级工程师（时空组学）(J16524)</td>\n      <td>餐饮补贴,专业培训,定期体检,六险一金,年终奖金,班车,员工旅游,前沿项目</td>\n      <td>1.7-3万/月</td>\n      <td>数据挖掘</td>\n      <td>23500.0</td>\n    </tr>\n    <tr>\n      <th>5</th>\n      <td>学术/科研</td>\n      <td>TCL集团工业研究院成立于2005年7月1日，直属于TCL集团总部，是集团中央研究机构，属于...</td>\n      <td>西安-高新技术产业开发区  |  2年经验  |  硕士  |  招1人</td>\n      <td>TCL集团工业研究院</td>\n      <td>150-500人</td>\n      <td>民营公司</td>\n      <td>硕士</td>\n      <td>2年经验</td>\n      <td>任职/技能要求：  1.计算机及数学相关专业毕业，硕士及以上学历；  2.具有良好的逻辑思维...</td>\n      <td>数据挖掘、算法工程师</td>\n      <td>餐饮补贴,专业培训,五险一金,补充医疗保险,员工旅游,定期体检,年终奖金,绩效奖金</td>\n      <td>1.5-2万/月</td>\n      <td>数据挖掘</td>\n      <td>17500.0</td>\n    </tr>\n    <tr>\n      <th>9</th>\n      <td>网络游戏</td>\n      <td>完美世界(北京)网络技术有限公司（以下简称：完美世界）是中国领先的网络游戏开发商和运营商之一...</td>\n      <td>上海  |  3-4年经验  |  本科  |  招1人</td>\n      <td>完美世界（上海）/完美时空</td>\n      <td>150-500人</td>\n      <td>民营公司</td>\n      <td>本科</td>\n      <td>3-4年经验</td>\n      <td>1． 大学本科及以上学历，三年以上数据挖掘工作； 2． 熟练使用各类数据结构和算法，熟悉li...</td>\n      <td>数据挖掘工程师</td>\n      <td>五险一金,补充公积金,免费班车,餐饮补贴,绩效奖金,年终奖金</td>\n      <td>2.5-3万/月</td>\n      <td>数据挖掘</td>\n      <td>27500.0</td>\n    </tr>\n  </tbody>\n</table>\n</div>"
     },
     "metadata": {},
     "execution_count": 44
    }
   ],
   "source": [
    "jobs_info = jobs_info[jobs_info[\"salary\"]<100000]\n",
    "jobs_info = jobs_info[jobs_info[\"salary\"]>7000]\n",
    "jobs_info.head(5)"
   ]
  },
  {
   "source": [
    "### 岗位数量和薪酬关系\n",
    "分析不同岗位数量在全国范围内所占的比例"
   ],
   "cell_type": "markdown",
   "metadata": {}
  },
  {
   "cell_type": "code",
   "execution_count": 45,
   "metadata": {},
   "outputs": [
    {
     "output_type": "execute_result",
     "data": {
      "text/plain": [
       "算法招聘    17925\n",
       "数据分析     5723\n",
       "人工智能     2149\n",
       "机器学习     1487\n",
       "数据挖掘     1402\n",
       "深度学习      413\n",
       "Name: search_by, dtype: int64"
      ]
     },
     "metadata": {},
     "execution_count": 45
    }
   ],
   "source": [
    "jobs_info[\"search_by\"].value_counts()"
   ]
  },
  {
   "cell_type": "code",
   "execution_count": 46,
   "metadata": {},
   "outputs": [],
   "source": [
    "# 解决中文显示问题\n",
    "plt.rcParams['font.sans-serif'] = ['SimHei']\n",
    "%config InlineBackend.figure_format = 'svg'"
   ]
  },
  {
   "cell_type": "code",
   "execution_count": 47,
   "metadata": {},
   "outputs": [
    {
     "output_type": "display_data",
     "data": {
      "text/plain": "<Figure size 432x288 with 1 Axes>",
      "image/svg+xml": "<?xml version=\"1.0\" encoding=\"utf-8\" standalone=\"no\"?>\r\n<!DOCTYPE svg PUBLIC \"-//W3C//DTD SVG 1.1//EN\"\r\n  \"http://www.w3.org/Graphics/SVG/1.1/DTD/svg11.dtd\">\r\n<!-- Created with matplotlib (https://matplotlib.org/) -->\r\n<svg height=\"247.4025pt\" version=\"1.1\" viewBox=\"0 0 258.69851 247.4025\" width=\"258.69851pt\" xmlns=\"http://www.w3.org/2000/svg\" xmlns:xlink=\"http://www.w3.org/1999/xlink\">\r\n <metadata>\r\n  <rdf:RDF xmlns:cc=\"http://creativecommons.org/ns#\" xmlns:dc=\"http://purl.org/dc/elements/1.1/\" xmlns:rdf=\"http://www.w3.org/1999/02/22-rdf-syntax-ns#\">\r\n   <cc:Work>\r\n    <dc:type rdf:resource=\"http://purl.org/dc/dcmitype/StillImage\"/>\r\n    <dc:date>2021-03-26T14:41:06.654723</dc:date>\r\n    <dc:format>image/svg+xml</dc:format>\r\n    <dc:creator>\r\n     <cc:Agent>\r\n      <dc:title>Matplotlib v3.3.2, https://matplotlib.org/</dc:title>\r\n     </cc:Agent>\r\n    </dc:creator>\r\n   </cc:Work>\r\n  </rdf:RDF>\r\n </metadata>\r\n <defs>\r\n  <style type=\"text/css\">*{stroke-linecap:butt;stroke-linejoin:round;}</style>\r\n </defs>\r\n <g id=\"figure_1\">\r\n  <g id=\"patch_1\">\r\n   <path d=\"M 0 247.4025 \r\nL 258.69851 247.4025 \r\nL 258.69851 0 \r\nL 0 0 \r\nz\r\n\" style=\"fill:none;\"/>\r\n  </g>\r\n  <g id=\"axes_1\">\r\n   <g id=\"patch_2\">\r\n    <path d=\"M 201.15648 133.22202 \r\nC 201.15648 119.127487 197.730434 105.241927 191.174342 92.765008 \r\nC 184.618249 80.288089 175.126518 69.589789 163.519204 61.594407 \r\nC 151.91189 53.599026 138.533185 48.543651 124.538966 46.86505 \r\nC 110.544748 45.186448 96.349986 46.934397 83.181064 51.957878 \r\nC 70.012143 56.981359 58.259559 65.131411 48.938699 75.703896 \r\nC 39.61784 86.27638 33.005095 98.957792 29.671787 112.652496 \r\nC 26.338478 126.347199 26.383448 140.649107 29.802811 154.322578 \r\nC 33.222174 167.996049 39.914536 180.635625 49.301697 191.149285 \r\nL 114.18048 133.22202 \r\nL 201.15648 133.22202 \r\nz\r\n\" style=\"fill:#092436;opacity:0.5;stroke:#092436;stroke-linejoin:miter;\"/>\r\n   </g>\r\n   <g id=\"patch_3\">\r\n    <path d=\"M 49.301697 191.149285 \r\nC 61.326216 204.616798 77.250873 214.011819 94.853955 218.023612 \r\nC 112.457037 222.035405 130.879992 220.468303 147.552563 213.540939 \r\nL 114.18048 133.22202 \r\nL 49.301697 191.149285 \r\nz\r\n\" style=\"fill:#4c2604;opacity:0.5;stroke:#4c2604;stroke-linejoin:miter;\"/>\r\n   </g>\r\n   <g id=\"patch_4\">\r\n    <path d=\"M 147.552563 213.540939 \r\nC 153.771139 210.957153 159.668661 207.659891 165.126515 203.715467 \r\nC 170.584368 199.771044 175.565716 195.206082 179.970372 190.112395 \r\nL 114.18048 133.22202 \r\nL 147.552563 213.540939 \r\nz\r\n\" style=\"fill:#0d300d;opacity:0.5;stroke:#0d300d;stroke-linejoin:miter;\"/>\r\n   </g>\r\n   <g id=\"patch_5\">\r\n    <path d=\"M 179.970372 190.112395 \r\nC 183.016396 186.589873 185.774602 182.828398 188.218378 178.864262 \r\nC 190.662155 174.900125 192.783617 170.746117 194.562298 166.442314 \r\nL 114.18048 133.22202 \r\nL 179.970372 190.112395 \r\nz\r\n\" style=\"fill:#400c0c;opacity:0.5;stroke:#400c0c;stroke-linejoin:miter;\"/>\r\n   </g>\r\n   <g id=\"patch_6\">\r\n    <path d=\"M 194.562298 166.442314 \r\nC 196.239206 162.384767 197.606481 158.206067 198.652396 153.942059 \r\nC 199.698311 149.67805 200.419865 145.340962 200.81087 140.967997 \r\nL 114.18048 133.22202 \r\nL 194.562298 166.442314 \r\nz\r\n\" style=\"fill:#2c1f39;opacity:0.5;stroke:#2c1f39;stroke-linejoin:miter;\"/>\r\n   </g>\r\n   <g id=\"patch_7\">\r\n    <path d=\"M 200.81087 140.967997 \r\nC 200.926001 139.680373 201.012411 138.390343 201.070034 137.098868 \r\nC 201.127657 135.807392 201.15648 134.514793 201.15648 133.222032 \r\nL 114.18048 133.22202 \r\nL 200.81087 140.967997 \r\nz\r\n\" style=\"fill:#2a1a16;opacity:0.5;stroke:#2a1a16;stroke-linejoin:miter;\"/>\r\n   </g>\r\n   <g id=\"patch_8\">\r\n    <path d=\"M 202.896 131.4825 \r\nC 202.896 117.387967 199.469954 103.502407 192.913862 91.025488 \r\nC 186.357769 78.548569 176.866038 67.850269 165.258724 59.854887 \r\nC 153.65141 51.859506 140.272705 46.804131 126.278486 45.12553 \r\nC 112.284268 43.446928 98.089506 45.194877 84.920584 50.218358 \r\nC 71.751663 55.241839 59.999079 63.391891 50.678219 73.964376 \r\nC 41.35736 84.53686 34.744615 97.218272 31.411307 110.912976 \r\nC 28.077998 124.607679 28.122968 138.909587 31.542331 152.583058 \r\nC 34.961694 166.256529 41.654056 178.896105 51.041217 189.409765 \r\nL 115.92 131.4825 \r\nL 202.896 131.4825 \r\nz\r\n\" style=\"fill:#1f77b4;\"/>\r\n   </g>\r\n   <g id=\"patch_9\">\r\n    <path d=\"M 51.041217 189.409765 \r\nC 63.065736 202.877278 78.990393 212.272299 96.593475 216.284092 \r\nC 114.196557 220.295885 132.619512 218.728783 149.292083 211.801419 \r\nL 115.92 131.4825 \r\nL 51.041217 189.409765 \r\nz\r\n\" style=\"fill:#ff7f0e;\"/>\r\n   </g>\r\n   <g id=\"patch_10\">\r\n    <path d=\"M 149.292083 211.801419 \r\nC 155.510659 209.217633 161.408181 205.920371 166.866035 201.975947 \r\nC 172.323888 198.031524 177.305236 193.466562 181.709892 188.372875 \r\nL 115.92 131.4825 \r\nL 149.292083 211.801419 \r\nz\r\n\" style=\"fill:#2ca02c;\"/>\r\n   </g>\r\n   <g id=\"patch_11\">\r\n    <path d=\"M 181.709892 188.372875 \r\nC 184.755916 184.850353 187.514122 181.088878 189.957898 177.124742 \r\nC 192.401675 173.160605 194.523137 169.006597 196.301818 164.702794 \r\nL 115.92 131.4825 \r\nL 181.709892 188.372875 \r\nz\r\n\" style=\"fill:#d62728;\"/>\r\n   </g>\r\n   <g id=\"patch_12\">\r\n    <path d=\"M 196.301818 164.702794 \r\nC 197.978726 160.645247 199.346001 156.466547 200.391916 152.202539 \r\nC 201.437831 147.93853 202.159385 143.601442 202.55039 139.228477 \r\nL 115.92 131.4825 \r\nL 196.301818 164.702794 \r\nz\r\n\" style=\"fill:#9467bd;\"/>\r\n   </g>\r\n   <g id=\"patch_13\">\r\n    <path d=\"M 202.55039 139.228477 \r\nC 202.665521 137.940853 202.751931 136.650823 202.809554 135.359348 \r\nC 202.867177 134.067872 202.896 132.775273 202.896 131.482512 \r\nL 115.92 131.4825 \r\nL 202.55039 139.228477 \r\nz\r\n\" style=\"fill:#8c564b;\"/>\r\n   </g>\r\n   <g id=\"matplotlib.axis_1\"/>\r\n   <g id=\"matplotlib.axis_2\"/>\r\n   <g id=\"text_1\">\r\n    <!-- 算法招聘 -->\r\n    <g transform=\"translate(41.820643 45.509912)scale(0.1 -0.1)\">\r\n     <defs>\r\n      <path d=\"M 80.859375 57.03125 \r\nQ 80.46875 50 80.46875 39.0625 \r\nQ 80.46875 28.125 80.859375 20.703125 \r\nL 71.484375 20.703125 \r\nL 71.484375 13.671875 \r\nL 82.03125 13.671875 \r\nQ 88.28125 13.671875 96.09375 14.0625 \r\nL 96.09375 7.421875 \r\nQ 88.28125 7.8125 82.03125 7.8125 \r\nL 71.484375 7.8125 \r\nQ 71.484375 -1.171875 71.875 -9.765625 \r\nL 63.28125 -9.765625 \r\nQ 63.671875 -1.171875 63.671875 7.8125 \r\nL 41.40625 7.8125 \r\nQ 38.671875 1.5625 33.203125 -2.734375 \r\nQ 27.734375 -7.03125 16.796875 -10.546875 \r\nQ 14.453125 -6.640625 10.9375 -3.90625 \r\nQ 19.53125 -2.34375 25 0.578125 \r\nQ 30.46875 3.515625 33.203125 7.8125 \r\nL 19.140625 7.8125 \r\nQ 12.5 7.8125 4.6875 7.421875 \r\nL 4.6875 14.0625 \r\nQ 12.890625 13.671875 19.140625 13.671875 \r\nL 34.375 13.671875 \r\nQ 35.15625 16.796875 35.15625 20.703125 \r\nL 19.53125 20.703125 \r\nQ 19.921875 27.734375 19.921875 38.671875 \r\nQ 19.921875 50 19.53125 57.03125 \r\nL 80.859375 57.03125 \r\nz\r\nM 28.515625 79.6875 \r\nQ 25.390625 76.5625 23.046875 73.828125 \r\nL 37.890625 73.828125 \r\nQ 42.96875 73.828125 49.609375 74.21875 \r\nL 49.609375 67.578125 \r\nQ 42.96875 67.96875 34.375 67.96875 \r\nQ 35.15625 65.234375 36.71875 60.546875 \r\nQ 32.421875 60.15625 28.515625 58.59375 \r\nQ 27.34375 63.671875 26.171875 67.96875 \r\nL 18.75 67.96875 \r\nQ 16.796875 64.453125 12.109375 58.984375 \r\nQ 8.203125 61.328125 3.90625 62.5 \r\nQ 7.8125 66.015625 11.90625 70.890625 \r\nQ 16.015625 75.78125 19.921875 82.8125 \r\nQ 23.4375 80.859375 28.515625 79.6875 \r\nz\r\nM 70.703125 79.6875 \r\nQ 67.578125 77.34375 65.234375 73.828125 \r\nL 81.640625 73.828125 \r\nQ 85.9375 73.828125 92.96875 74.21875 \r\nL 92.96875 67.578125 \r\nQ 86.71875 67.96875 77.734375 67.96875 \r\nL 80.859375 61.71875 \r\nQ 76.953125 61.328125 72.65625 59.765625 \r\nQ 71.484375 64.0625 70.3125 67.96875 \r\nL 60.9375 67.96875 \r\nQ 57.8125 62.890625 55.078125 58.984375 \r\nQ 50.78125 61.71875 47.265625 62.5 \r\nQ 51.953125 67.1875 55.46875 72.0625 \r\nQ 58.984375 76.953125 60.9375 82.421875 \r\nQ 65.234375 80.859375 70.703125 79.6875 \r\nz\r\nM 72.65625 26.171875 \r\nL 72.65625 31.25 \r\nL 27.734375 31.25 \r\nL 27.734375 26.171875 \r\nz\r\nM 72.65625 36.71875 \r\nL 72.65625 41.40625 \r\nL 27.734375 41.40625 \r\nL 27.734375 36.71875 \r\nz\r\nM 72.65625 46.875 \r\nL 72.65625 51.5625 \r\nL 27.734375 51.5625 \r\nL 27.734375 46.875 \r\nz\r\nM 63.671875 13.671875 \r\nL 63.671875 20.703125 \r\nL 42.578125 20.703125 \r\nQ 42.578125 16.796875 42.1875 13.671875 \r\nz\r\n\" id=\"SimHei-31639\"/>\r\n      <path d=\"M 94.921875 -4.6875 \r\nQ 91.40625 -6.640625 87.890625 -9.765625 \r\nQ 85.15625 -4.6875 83.203125 -1.953125 \r\nQ 70.703125 -2.734375 56.046875 -4.09375 \r\nQ 41.40625 -5.46875 36.328125 -7.03125 \r\nQ 35.15625 -2.34375 33.203125 1.171875 \r\nQ 38.28125 2.734375 44.140625 11.328125 \r\nQ 50 19.921875 54.6875 32.8125 \r\nL 43.75 32.8125 \r\nQ 36.71875 32.8125 30.46875 32.421875 \r\nL 30.46875 39.453125 \r\nQ 36.71875 39.0625 44.140625 39.0625 \r\nL 58.203125 39.0625 \r\nL 58.203125 56.25 \r\nL 49.21875 56.25 \r\nQ 41.796875 56.25 36.328125 55.859375 \r\nL 36.328125 62.890625 \r\nQ 42.578125 62.5 48.828125 62.5 \r\nL 58.203125 62.5 \r\nQ 58.203125 73.4375 57.8125 80.46875 \r\nL 66.40625 80.46875 \r\nQ 66.015625 74.609375 66.015625 62.5 \r\nL 77.734375 62.5 \r\nQ 83.59375 62.5 89.84375 62.890625 \r\nL 89.84375 55.859375 \r\nQ 83.59375 56.25 78.515625 56.25 \r\nL 66.015625 56.25 \r\nL 66.015625 39.0625 \r\nL 80.078125 39.0625 \r\nQ 87.109375 39.0625 94.140625 39.453125 \r\nL 94.140625 32.421875 \r\nQ 87.109375 32.8125 80.078125 32.8125 \r\nL 60.15625 32.8125 \r\nL 64.0625 30.46875 \r\nQ 61.71875 27.734375 56.640625 18.75 \r\nQ 51.5625 9.765625 45.3125 1.5625 \r\nQ 62.5 2.34375 79.296875 3.515625 \r\nQ 74.609375 10.546875 69.53125 16.015625 \r\nQ 72.65625 18.359375 75.390625 21.09375 \r\nQ 82.421875 12.5 94.921875 -4.6875 \r\nz\r\nM 4.6875 -3.90625 \r\nQ 10.15625 1.5625 15.8125 9.765625 \r\nQ 21.484375 17.96875 26.953125 26.953125 \r\nQ 28.90625 23.4375 32.421875 21.484375 \r\nQ 28.90625 16.796875 23.4375 7.609375 \r\nQ 17.96875 -1.5625 13.28125 -9.765625 \r\nQ 10.15625 -6.640625 4.6875 -3.90625 \r\nz\r\nM 10.546875 53.515625 \r\nQ 18.75 48.4375 28.125 41.40625 \r\nQ 24.609375 39.0625 21.875 35.15625 \r\nQ 14.453125 41.796875 5.46875 47.65625 \r\nQ 8.203125 50 10.546875 53.515625 \r\nz\r\nM 16.40625 76.5625 \r\nQ 24.21875 71.484375 32.8125 64.453125 \r\nQ 29.6875 62.109375 26.953125 58.203125 \r\nQ 19.53125 65.234375 11.328125 70.703125 \r\nQ 14.0625 73.4375 16.40625 76.5625 \r\nz\r\n\" id=\"SimHei-27861\"/>\r\n      <path d=\"M 91.796875 30.078125 \r\nQ 91.40625 24.609375 91.40625 10.546875 \r\nQ 91.40625 -3.125 91.796875 -9.375 \r\nL 83.203125 -9.375 \r\nL 83.203125 -3.125 \r\nL 52.734375 -3.125 \r\nL 52.734375 -9.375 \r\nL 44.53125 -9.375 \r\nQ 45.3125 -3.90625 45.3125 10.15625 \r\nQ 45.3125 24.609375 44.53125 30.078125 \r\nL 91.796875 30.078125 \r\nz\r\nM 38.671875 34.765625 \r\nQ 35.9375 33.59375 28.515625 30.859375 \r\nL 28.515625 1.953125 \r\nQ 28.125 -3.90625 25.390625 -5.859375 \r\nQ 22.65625 -7.8125 13.28125 -9.375 \r\nQ 12.109375 -4.6875 10.546875 -0.390625 \r\nQ 19.140625 -0.390625 20.109375 0.96875 \r\nQ 21.09375 2.34375 21.09375 5.078125 \r\nL 21.09375 28.125 \r\nQ 10.9375 23.828125 7.03125 21.484375 \r\nQ 5.859375 25.78125 3.515625 30.078125 \r\nQ 7.421875 30.859375 21.09375 35.546875 \r\nL 21.09375 54.6875 \r\nQ 12.5 54.6875 6.25 54.296875 \r\nL 6.25 61.71875 \r\nQ 12.109375 61.328125 21.09375 61.328125 \r\nQ 21.09375 71.875 20.703125 81.640625 \r\nL 28.90625 81.640625 \r\nQ 28.515625 72.65625 28.515625 61.328125 \r\nQ 33.203125 61.328125 40.234375 61.71875 \r\nL 40.234375 54.296875 \r\nQ 32.8125 54.6875 28.515625 54.6875 \r\nL 28.515625 37.890625 \r\nQ 35.546875 40.625 38.28125 41.796875 \r\nQ 38.28125 38.671875 38.671875 34.765625 \r\nz\r\nM 75 35.9375 \r\nQ 73.828125 40.234375 71.09375 44.140625 \r\nQ 78.515625 44.140625 80.859375 44.921875 \r\nQ 83.203125 45.703125 83.59375 52.734375 \r\nL 84.375 70.3125 \r\nL 67.1875 70.3125 \r\nQ 65.625 55.859375 62.109375 48.828125 \r\nQ 58.59375 41.796875 48.046875 34.375 \r\nQ 44.921875 37.890625 40.234375 40.234375 \r\nQ 50 43.75 54.09375 51.5625 \r\nQ 58.203125 59.375 58.59375 70.3125 \r\nQ 48.046875 70.3125 42.1875 69.921875 \r\nL 42.1875 77.34375 \r\nL 93.359375 77.34375 \r\nQ 92.578125 68.359375 92.1875 61.90625 \r\nQ 91.796875 55.46875 91.203125 47.84375 \r\nQ 90.625 40.234375 86.71875 38.671875 \r\nQ 82.8125 37.109375 75 35.9375 \r\nz\r\nM 83.203125 3.515625 \r\nL 83.203125 23.046875 \r\nL 52.734375 23.046875 \r\nL 52.734375 3.515625 \r\nz\r\n\" id=\"SimHei-25307\"/>\r\n      <path d=\"M 44.140625 14.453125 \r\nQ 38.28125 13.28125 35.546875 12.109375 \r\nQ 35.546875 -5.46875 35.9375 -8.984375 \r\nL 28.125 -8.984375 \r\nQ 28.515625 -3.125 28.515625 10.546875 \r\nQ 23.4375 8.984375 17.375 7.21875 \r\nQ 11.328125 5.46875 7.03125 3.90625 \r\nQ 5.078125 8.59375 3.515625 11.71875 \r\nQ 6.25 11.71875 10.546875 12.5 \r\nL 10.546875 68.75 \r\nQ 8.59375 68.75 4.296875 68.359375 \r\nL 4.296875 75 \r\nQ 9.375 74.609375 12.890625 74.609375 \r\nL 33.59375 74.609375 \r\nQ 37.5 74.609375 41.015625 75 \r\nL 41.015625 68.359375 \r\nQ 38.28125 68.75 35.546875 68.75 \r\nL 35.546875 17.96875 \r\nQ 39.84375 19.140625 44.53125 20.703125 \r\nQ 44.140625 16.796875 44.140625 14.453125 \r\nz\r\nM 63.671875 71.484375 \r\nQ 63.671875 78.90625 63.28125 82.03125 \r\nL 71.484375 82.03125 \r\nQ 71.09375 77.734375 71.09375 71.484375 \r\nL 90.234375 71.484375 \r\nQ 89.84375 66.796875 89.84375 55.46875 \r\nQ 89.84375 44.53125 90.234375 39.0625 \r\nL 44.921875 39.0625 \r\nQ 45.3125 44.53125 45.3125 56.25 \r\nQ 45.3125 67.96875 44.921875 71.484375 \r\nL 63.671875 71.484375 \r\nz\r\nM 62.109375 26.953125 \r\nQ 61.328125 22.65625 60.546875 17.96875 \r\nL 89.453125 17.96875 \r\nQ 88.671875 5.078125 87.5 -0.390625 \r\nQ 86.328125 -5.859375 82.21875 -7.421875 \r\nQ 78.125 -8.984375 73.046875 -10.15625 \r\nQ 71.484375 -4.296875 69.140625 -2.34375 \r\nQ 77.34375 -2.34375 79.09375 -0.78125 \r\nQ 80.859375 0.78125 81.640625 12.109375 \r\nL 51.953125 12.109375 \r\nQ 54.296875 21.09375 55.078125 26.953125 \r\nQ 46.484375 26.953125 41.40625 26.5625 \r\nL 41.40625 33.203125 \r\nQ 46.484375 32.8125 51.953125 32.8125 \r\nL 85.9375 32.8125 \r\nQ 90.625 32.8125 95.703125 33.203125 \r\nL 95.703125 26.5625 \r\nQ 91.015625 26.953125 86.328125 26.953125 \r\nz\r\nM 28.515625 34.375 \r\nL 28.515625 49.609375 \r\nL 17.1875 49.609375 \r\nL 17.1875 34.375 \r\nz\r\nM 17.1875 14.0625 \r\nQ 25.390625 15.625 28.515625 16.40625 \r\nL 28.515625 28.515625 \r\nL 17.1875 28.515625 \r\nL 17.1875 14.0625 \r\nz\r\nM 28.515625 55.46875 \r\nL 28.515625 68.75 \r\nL 17.1875 68.75 \r\nL 17.1875 55.46875 \r\nz\r\nM 82.8125 44.921875 \r\nL 82.8125 52.34375 \r\nL 71.09375 52.34375 \r\nL 71.09375 44.921875 \r\nz\r\nM 63.671875 44.921875 \r\nL 63.671875 52.34375 \r\nL 51.953125 52.34375 \r\nL 51.953125 44.921875 \r\nz\r\nM 82.8125 58.203125 \r\nL 82.8125 65.625 \r\nL 71.09375 65.625 \r\nL 71.09375 58.203125 \r\nz\r\nM 63.671875 58.203125 \r\nL 63.671875 65.625 \r\nL 51.953125 65.625 \r\nL 51.953125 58.203125 \r\nz\r\n\" id=\"SimHei-32856\"/>\r\n     </defs>\r\n     <use xlink:href=\"#SimHei-31639\"/>\r\n     <use x=\"100\" xlink:href=\"#SimHei-27861\"/>\r\n     <use x=\"200\" xlink:href=\"#SimHei-25307\"/>\r\n     <use x=\"300\" xlink:href=\"#SimHei-32856\"/>\r\n    </g>\r\n   </g>\r\n   <g id=\"text_2\">\r\n    <!-- 61.6% -->\r\n    <g transform=\"translate(84.820351 85.536515)scale(0.1 -0.1)\">\r\n     <defs>\r\n      <path d=\"M 3.515625 19.53125 \r\nQ 4.296875 30.859375 6.046875 34.765625 \r\nQ 7.8125 38.671875 11.328125 44.53125 \r\nL 27.34375 69.53125 \r\nL 36.328125 69.53125 \r\nL 19.921875 43.75 \r\nQ 30.46875 46.484375 36.71875 42.96875 \r\nQ 42.96875 39.453125 45.109375 34.953125 \r\nQ 47.265625 30.46875 47.453125 25.1875 \r\nQ 47.65625 19.921875 45.890625 14.84375 \r\nQ 44.140625 9.765625 39.640625 5.65625 \r\nQ 35.15625 1.5625 27.140625 1.171875 \r\nQ 19.140625 0.78125 13.46875 4.09375 \r\nQ 7.8125 7.421875 5.65625 13.46875 \r\nQ 3.515625 19.53125 4.296875 30.859375 \r\nz\r\nM 12.5 16.015625 \r\nQ 19.53125 8.59375 25.390625 8.203125 \r\nQ 31.25 7.8125 35.15625 12.109375 \r\nQ 39.0625 16.40625 39.0625 24.609375 \r\nQ 39.0625 32.8125 34.171875 35.9375 \r\nQ 29.296875 39.0625 23.234375 38.28125 \r\nQ 17.1875 37.5 14.453125 32.421875 \r\nQ 11.71875 27.34375 12.109375 21.671875 \r\nQ 12.5 16.015625 19.53125 8.59375 \r\nz\r\n\" id=\"SimHei-54\"/>\r\n      <path d=\"M 21.875 56.25 \r\nQ 16.796875 51.171875 8.984375 46.484375 \r\nL 8.984375 53.90625 \r\nQ 18.75 60.546875 25 69.53125 \r\nL 29.6875 69.53125 \r\nL 29.6875 2.34375 \r\nL 21.875 2.34375 \r\nz\r\n\" id=\"SimHei-49\"/>\r\n      <path d=\"M 16.796875 1.953125 \r\nL 7.8125 1.953125 \r\nL 7.8125 10.546875 \r\nL 16.796875 10.546875 \r\nz\r\n\" id=\"SimHei-46\"/>\r\n      <path d=\"M 21.875 51.953125 \r\nQ 21.875 40.625 18.546875 37.5 \r\nQ 15.234375 34.375 12.109375 34.375 \r\nQ 8.984375 34.375 5.65625 37.5 \r\nQ 2.34375 40.625 2.34375 51.953125 \r\nQ 2.34375 63.28125 5.65625 66.40625 \r\nQ 8.984375 69.53125 12.109375 69.53125 \r\nQ 15.234375 69.53125 18.546875 66.40625 \r\nQ 21.875 63.28125 21.875 51.953125 \r\nz\r\nM 41.015625 68.359375 \r\nL 10.9375 1.171875 \r\nL 7.8125 2.34375 \r\nL 37.890625 69.53125 \r\nz\r\nM 46.484375 18.75 \r\nQ 46.484375 7.421875 43.15625 4.296875 \r\nQ 39.84375 1.171875 36.71875 1.171875 \r\nQ 33.59375 1.171875 30.265625 4.296875 \r\nQ 26.953125 7.421875 26.953125 18.75 \r\nQ 26.953125 30.078125 30.265625 33.203125 \r\nQ 33.59375 36.328125 36.71875 36.328125 \r\nQ 39.84375 36.328125 43.15625 33.203125 \r\nQ 46.484375 30.078125 46.484375 18.75 \r\nz\r\nM 15.625 51.953125 \r\nQ 15.625 58.984375 14.84375 61.328125 \r\nQ 14.0625 63.671875 12.109375 63.671875 \r\nQ 10.15625 63.671875 9.375 61.328125 \r\nQ 8.59375 58.984375 8.59375 51.953125 \r\nQ 8.59375 44.921875 9.375 42.578125 \r\nQ 10.15625 40.234375 12.109375 40.234375 \r\nQ 14.0625 40.234375 14.84375 42.578125 \r\nQ 15.625 44.921875 15.625 51.953125 \r\nz\r\nM 40.234375 18.75 \r\nQ 40.234375 25.78125 39.453125 28.125 \r\nQ 38.671875 30.46875 36.71875 30.46875 \r\nQ 34.765625 30.46875 33.984375 28.125 \r\nQ 33.203125 25.78125 33.203125 18.75 \r\nQ 33.203125 11.71875 33.984375 9.375 \r\nQ 34.765625 7.03125 36.71875 7.03125 \r\nQ 38.671875 7.03125 39.453125 9.375 \r\nQ 40.234375 11.71875 40.234375 18.75 \r\nz\r\n\" id=\"SimHei-37\"/>\r\n     </defs>\r\n     <use xlink:href=\"#SimHei-54\"/>\r\n     <use x=\"50\" xlink:href=\"#SimHei-49\"/>\r\n     <use x=\"100\" xlink:href=\"#SimHei-46\"/>\r\n     <use x=\"150\" xlink:href=\"#SimHei-54\"/>\r\n     <use x=\"200\" xlink:href=\"#SimHei-37\"/>\r\n    </g>\r\n   </g>\r\n   <g id=\"text_3\">\r\n    <!-- 数据分析 -->\r\n    <g transform=\"translate(54.660822 228.065032)scale(0.1 -0.1)\">\r\n     <defs>\r\n      <path d=\"M 70.703125 76.953125 \r\nQ 69.921875 75 68.75 71.671875 \r\nQ 67.578125 68.359375 65.234375 59.765625 \r\nL 83.203125 59.765625 \r\nQ 87.109375 59.765625 92.578125 60.15625 \r\nL 92.578125 53.125 \r\nQ 88.28125 53.515625 85.9375 53.515625 \r\nQ 85.9375 47.265625 83.78125 33.78125 \r\nQ 81.640625 20.3125 76.171875 10.546875 \r\nQ 80.078125 5.859375 84.953125 2.140625 \r\nQ 89.84375 -1.5625 94.140625 -3.125 \r\nQ 89.453125 -6.640625 87.890625 -9.765625 \r\nQ 83.203125 -7.03125 79.296875 -3.515625 \r\nQ 75.390625 0 71.484375 5.078125 \r\nQ 67.1875 0.390625 62.296875 -2.921875 \r\nQ 57.421875 -6.25 50 -10.15625 \r\nQ 48.046875 -6.640625 44.53125 -4.6875 \r\nQ 50.390625 -2.34375 57.03125 1.953125 \r\nQ 63.671875 6.25 67.1875 10.546875 \r\nQ 64.453125 16.015625 61.90625 22.265625 \r\nQ 59.375 28.515625 57.421875 38.671875 \r\nQ 56.25 35.546875 53.515625 30.46875 \r\nQ 50.78125 32.03125 46.875 33.59375 \r\nQ 53.125 44.53125 57.03125 57.421875 \r\nQ 60.9375 70.3125 62.109375 79.6875 \r\nQ 66.796875 77.734375 70.703125 76.953125 \r\nz\r\nM 32.8125 35.15625 \r\nQ 31.25 33.59375 29.296875 30.078125 \r\nL 50.78125 30.078125 \r\nQ 48.4375 20.3125 42.578125 10.546875 \r\nQ 48.828125 8.203125 52.34375 6.25 \r\nQ 50.390625 3.515625 48.828125 0.390625 \r\nQ 45.3125 2.734375 38.28125 5.078125 \r\nQ 30.46875 -3.515625 11.328125 -10.15625 \r\nQ 9.375 -5.859375 6.25 -4.296875 \r\nQ 24.609375 0 31.25 7.421875 \r\nQ 20.3125 10.15625 13.28125 12.109375 \r\nQ 15.625 15.625 19.53125 23.828125 \r\nQ 15.625 23.828125 6.640625 23.4375 \r\nL 6.640625 30.46875 \r\nQ 14.0625 30.078125 21.875 30.078125 \r\nQ 23.4375 33.59375 24.21875 37.890625 \r\nQ 28.515625 36.328125 32.8125 35.15625 \r\nz\r\nM 27.734375 61.71875 \r\nQ 27.734375 71.09375 27.34375 79.6875 \r\nL 35.15625 79.6875 \r\nQ 34.765625 71.484375 34.765625 61.71875 \r\nQ 48.046875 61.71875 53.515625 62.109375 \r\nL 53.515625 55.078125 \r\nQ 48.046875 55.46875 34.765625 55.46875 \r\nQ 34.765625 44.140625 35.15625 37.890625 \r\nL 27.34375 37.890625 \r\nQ 27.734375 43.359375 27.734375 51.5625 \r\nQ 25.78125 48.4375 20.3125 43.546875 \r\nQ 14.84375 38.671875 10.15625 35.9375 \r\nQ 8.203125 39.453125 4.296875 41.015625 \r\nQ 7.8125 42.1875 13.671875 46.484375 \r\nQ 19.53125 50.78125 22.65625 55.46875 \r\nQ 14.84375 55.46875 7.8125 55.078125 \r\nL 7.8125 62.109375 \r\nQ 14.453125 61.71875 27.734375 61.71875 \r\nz\r\nM 62.109375 49.609375 \r\nQ 65.625 26.5625 71.875 17.578125 \r\nQ 75.78125 26.5625 77.140625 35.734375 \r\nQ 78.515625 44.921875 78.90625 53.515625 \r\nL 63.671875 53.515625 \r\nL 62.109375 49.609375 \r\nz\r\nM 22.65625 15.625 \r\nQ 27.34375 14.453125 35.546875 12.5 \r\nQ 38.671875 16.40625 41.40625 23.828125 \r\nL 26.953125 23.828125 \r\nQ 25 19.921875 22.65625 15.625 \r\nz\r\nM 51.953125 75.390625 \r\nQ 50 72.265625 48.828125 69.53125 \r\nQ 47.65625 66.796875 45.703125 62.890625 \r\nQ 42.578125 64.453125 39.453125 65.234375 \r\nQ 42.578125 70.3125 45.3125 78.125 \r\nQ 49.21875 76.171875 51.953125 75.390625 \r\nz\r\nM 40.234375 52.734375 \r\nQ 45.3125 47.65625 50 42.578125 \r\nQ 47.65625 40.625 44.921875 37.890625 \r\nQ 39.453125 44.53125 35.9375 48.4375 \r\nQ 38.28125 50.390625 40.234375 52.734375 \r\nz\r\nM 14.453125 78.125 \r\nQ 19.921875 72.65625 23.4375 67.1875 \r\nL 17.578125 63.671875 \r\nQ 14.84375 69.140625 9.375 73.828125 \r\nQ 12.890625 76.171875 14.453125 78.125 \r\nz\r\n\" id=\"SimHei-25968\"/>\r\n      <path d=\"M 89.84375 74.609375 \r\nQ 89.453125 71.09375 89.453125 66.015625 \r\nL 89.453125 60.9375 \r\nQ 89.453125 53.90625 89.84375 50.78125 \r\nL 48.4375 50.78125 \r\nL 48.4375 39.0625 \r\nL 66.40625 39.0625 \r\nQ 66.40625 42.578125 66.015625 49.609375 \r\nL 73.4375 49.609375 \r\nQ 73.046875 43.359375 73.046875 39.0625 \r\nL 83.59375 39.0625 \r\nQ 90.625 39.0625 95.3125 39.453125 \r\nL 95.3125 32.421875 \r\nQ 90.625 32.8125 83.984375 32.8125 \r\nL 73.046875 32.8125 \r\nL 73.046875 22.265625 \r\nL 90.234375 22.265625 \r\nQ 89.84375 14.84375 89.84375 12.5 \r\nL 89.84375 2.734375 \r\nQ 89.84375 -3.515625 90.234375 -8.984375 \r\nL 83.203125 -8.984375 \r\nL 83.203125 -3.515625 \r\nL 57.421875 -3.515625 \r\nL 57.421875 -9.375 \r\nL 50.390625 -9.375 \r\nQ 50.78125 -5.078125 50.78125 1.5625 \r\nL 50.78125 12.890625 \r\nQ 50.78125 16.796875 50.390625 22.265625 \r\nL 66.40625 22.265625 \r\nL 66.40625 32.8125 \r\nL 48.046875 32.8125 \r\nQ 47.65625 21.484375 45.109375 11.515625 \r\nQ 42.578125 1.5625 37.890625 -7.421875 \r\nQ 34.375 -5.078125 30.46875 -3.90625 \r\nQ 35.15625 2.34375 37.296875 9.375 \r\nQ 39.453125 16.40625 40.625 24.40625 \r\nQ 41.796875 32.421875 41.796875 41.015625 \r\nL 41.796875 55.859375 \r\nQ 41.796875 62.109375 41.40625 74.609375 \r\nL 89.84375 74.609375 \r\nz\r\nM 19.921875 69.140625 \r\nQ 19.921875 74.609375 19.53125 79.296875 \r\nL 27.34375 79.296875 \r\nQ 26.953125 75 26.953125 69.140625 \r\nL 26.953125 58.984375 \r\nQ 30.859375 58.984375 39.0625 59.375 \r\nL 39.0625 52.734375 \r\nQ 30.859375 53.125 26.953125 53.125 \r\nL 26.953125 38.28125 \r\nQ 32.03125 41.015625 37.5 44.53125 \r\nQ 37.890625 41.40625 39.453125 38.671875 \r\nQ 32.03125 34.375 26.953125 31.25 \r\nL 26.953125 2.734375 \r\nQ 26.953125 -4.6875 23.234375 -6.25 \r\nQ 19.53125 -7.8125 12.109375 -8.984375 \r\nQ 11.328125 -5.078125 9.375 -0.78125 \r\nQ 16.015625 -0.78125 17.96875 -0.1875 \r\nQ 19.921875 0.390625 19.921875 5.078125 \r\nL 19.921875 28.125 \r\nQ 14.0625 25 8.203125 20.703125 \r\nQ 7.03125 23.828125 4.296875 28.125 \r\nQ 12.109375 30.859375 19.921875 35.15625 \r\nL 19.921875 53.125 \r\nQ 12.5 53.125 5.46875 52.734375 \r\nL 5.46875 59.375 \r\nQ 12.5 58.984375 19.921875 58.984375 \r\nz\r\nM 82.8125 56.640625 \r\nL 82.8125 68.75 \r\nL 48.4375 68.75 \r\nL 48.4375 56.640625 \r\nz\r\nM 83.203125 2.34375 \r\nL 83.203125 16.796875 \r\nL 57.421875 16.796875 \r\nL 57.421875 2.34375 \r\nz\r\n\" id=\"SimHei-25454\"/>\r\n      <path d=\"M 15.625 -10.15625 \r\nQ 12.890625 -5.859375 8.984375 -3.515625 \r\nQ 15.234375 -1.171875 20.3125 2.140625 \r\nQ 25.390625 5.46875 29.296875 10.34375 \r\nQ 33.203125 15.234375 35.15625 21.09375 \r\nQ 37.109375 26.953125 37.890625 35.546875 \r\nQ 28.90625 35.546875 23.4375 35.15625 \r\nL 23.4375 43.359375 \r\nQ 29.6875 42.96875 39.453125 42.96875 \r\nL 78.515625 42.96875 \r\nQ 77.734375 37.109375 77.34375 32.8125 \r\nL 74.21875 3.90625 \r\nQ 73.4375 -3.125 67.96875 -5.46875 \r\nQ 62.5 -7.8125 55.859375 -8.203125 \r\nQ 55.46875 -4.296875 51.953125 0.78125 \r\nQ 60.15625 0.390625 63.078125 1.359375 \r\nQ 66.015625 2.34375 66.796875 8.203125 \r\nL 69.53125 35.546875 \r\nL 46.09375 35.546875 \r\nQ 44.921875 25.390625 42.765625 18.546875 \r\nQ 40.625 11.71875 36.71875 6.640625 \r\nQ 32.8125 1.5625 27.34375 -2.734375 \r\nQ 21.875 -7.03125 15.625 -10.15625 \r\nz\r\nM 61.71875 80.859375 \r\nQ 64.453125 72.65625 72.84375 62.109375 \r\nQ 81.25 51.5625 96.484375 43.75 \r\nQ 93.359375 41.015625 90.234375 35.546875 \r\nQ 83.203125 40.625 77.921875 45.109375 \r\nQ 72.65625 49.609375 69.140625 53.515625 \r\nQ 65.625 57.421875 61.328125 64.640625 \r\nQ 57.03125 71.875 54.296875 78.125 \r\nQ 58.59375 79.296875 61.71875 80.859375 \r\nz\r\nM 42.1875 75.390625 \r\nQ 38.671875 69.140625 36.328125 64.453125 \r\nQ 33.984375 59.765625 31.640625 56.046875 \r\nQ 29.296875 52.34375 24.609375 46.09375 \r\nQ 19.921875 39.84375 13.28125 33.203125 \r\nQ 9.765625 36.71875 6.25 38.671875 \r\nQ 14.0625 45.703125 18.546875 51.5625 \r\nQ 23.046875 57.421875 27.140625 64.25 \r\nQ 31.25 71.09375 34.375 79.296875 \r\nQ 37.5 76.953125 42.1875 75.390625 \r\nz\r\n\" id=\"SimHei-20998\"/>\r\n      <path d=\"M 92.1875 71.09375 \r\nQ 87.109375 70.703125 79.484375 69.53125 \r\nQ 71.875 68.359375 58.203125 66.796875 \r\nL 58.203125 48.046875 \r\nL 84.375 48.046875 \r\nQ 89.453125 48.046875 96.09375 48.4375 \r\nL 96.09375 41.40625 \r\nQ 89.0625 41.796875 82.03125 41.796875 \r\nL 82.03125 5.46875 \r\nQ 82.03125 -1.5625 82.421875 -7.421875 \r\nL 74.21875 -7.421875 \r\nQ 74.609375 -1.171875 74.609375 5.859375 \r\nL 74.609375 41.796875 \r\nL 58.203125 41.796875 \r\nQ 58.203125 33.984375 57.03125 25.578125 \r\nQ 55.859375 17.1875 53.703125 9.953125 \r\nQ 51.5625 2.734375 44.53125 -7.8125 \r\nQ 41.796875 -4.6875 35.546875 -2.34375 \r\nQ 44.140625 5.078125 47.65625 17.375 \r\nQ 51.171875 29.6875 50.96875 46.875 \r\nQ 50.78125 64.0625 50.390625 72.65625 \r\nQ 62.109375 73.4375 71.28125 75 \r\nQ 80.46875 76.5625 85.9375 78.90625 \r\nQ 88.671875 74.21875 92.1875 71.09375 \r\nz\r\nM 29.6875 8.203125 \r\nQ 29.6875 3.125 30.078125 -8.203125 \r\nL 21.875 -8.203125 \r\nQ 22.265625 0.390625 22.265625 8.203125 \r\nL 22.265625 35.15625 \r\nQ 18.359375 25.390625 9.375 12.5 \r\nQ 6.640625 16.796875 3.125 19.140625 \r\nQ 10.15625 26.953125 15.03125 37.296875 \r\nQ 19.921875 47.65625 21.484375 53.515625 \r\nQ 14.453125 53.515625 7.03125 53.125 \r\nL 7.03125 60.15625 \r\nQ 14.453125 59.765625 22.265625 59.765625 \r\nL 22.265625 69.53125 \r\nQ 22.265625 74.609375 21.875 80.078125 \r\nL 30.46875 80.078125 \r\nQ 29.6875 75.390625 29.6875 69.53125 \r\nL 29.6875 59.765625 \r\nQ 35.9375 59.765625 43.359375 60.15625 \r\nL 43.359375 53.125 \r\nQ 35.9375 53.515625 29.6875 53.515625 \r\nL 29.6875 8.203125 \r\nz\r\nM 37.109375 42.96875 \r\nQ 43.75 32.03125 45.703125 28.125 \r\nQ 42.1875 26.5625 38.28125 24.21875 \r\nQ 35.9375 29.6875 30.46875 39.453125 \r\nQ 33.984375 41.015625 37.109375 42.96875 \r\nz\r\n\" id=\"SimHei-26512\"/>\r\n     </defs>\r\n     <use xlink:href=\"#SimHei-25968\"/>\r\n     <use x=\"100\" xlink:href=\"#SimHei-25454\"/>\r\n     <use x=\"200\" xlink:href=\"#SimHei-20998\"/>\r\n     <use x=\"300\" xlink:href=\"#SimHei-26512\"/>\r\n    </g>\r\n   </g>\r\n   <g id=\"text_4\">\r\n    <!-- 19.7% -->\r\n    <g transform=\"translate(91.824085 185.175955)scale(0.1 -0.1)\">\r\n     <defs>\r\n      <path d=\"M 12.5 1.171875 \r\nQ 21.09375 15.625 26.5625 27.34375 \r\nQ 16.796875 25.78125 10.34375 29.875 \r\nQ 3.90625 33.984375 2.53125 41.015625 \r\nQ 1.171875 48.046875 2.734375 53.703125 \r\nQ 4.296875 59.375 7.609375 63.078125 \r\nQ 10.9375 66.796875 15.625 68.359375 \r\nQ 20.3125 69.921875 24.015625 69.921875 \r\nQ 27.734375 69.921875 31.640625 68.359375 \r\nQ 35.546875 66.796875 38.671875 63.671875 \r\nQ 41.796875 60.546875 42.96875 57.21875 \r\nQ 44.140625 53.90625 44.140625 48.625 \r\nQ 44.140625 43.359375 40.234375 35.15625 \r\nQ 36.328125 26.953125 21.09375 1.171875 \r\nz\r\nM 9.765625 50 \r\nQ 10.9375 39.84375 14.640625 36.515625 \r\nQ 18.359375 33.203125 22.65625 33.59375 \r\nQ 26.953125 33.984375 29.484375 35.9375 \r\nQ 32.03125 37.890625 34.375 42.578125 \r\nQ 35.9375 48.4375 35.15625 52.53125 \r\nQ 34.375 56.640625 31.046875 59.375 \r\nQ 27.734375 62.109375 23.828125 62.109375 \r\nQ 21.484375 62.5 17.765625 60.9375 \r\nQ 14.0625 59.375 11.90625 54.6875 \r\nQ 9.765625 50 10.9375 39.84375 \r\nz\r\n\" id=\"SimHei-57\"/>\r\n      <path d=\"M 13.28125 2.34375 \r\nQ 20.3125 32.03125 37.890625 61.328125 \r\nL 4.296875 61.328125 \r\nL 4.296875 68.359375 \r\nL 46.09375 68.359375 \r\nL 46.09375 61.71875 \r\nQ 27.734375 32.03125 21.875 2.34375 \r\nL 13.28125 2.34375 \r\nz\r\n\" id=\"SimHei-55\"/>\r\n     </defs>\r\n     <use xlink:href=\"#SimHei-49\"/>\r\n     <use x=\"50\" xlink:href=\"#SimHei-57\"/>\r\n     <use x=\"100\" xlink:href=\"#SimHei-46\"/>\r\n     <use x=\"150\" xlink:href=\"#SimHei-55\"/>\r\n     <use x=\"200\" xlink:href=\"#SimHei-37\"/>\r\n    </g>\r\n   </g>\r\n   <g id=\"text_5\">\r\n    <!-- 人工智能 -->\r\n    <g transform=\"translate(171.960638 212.384667)scale(0.1 -0.1)\">\r\n     <defs>\r\n      <path d=\"M 5.46875 -2.34375 \r\nQ 20.703125 5.078125 29.296875 16.015625 \r\nQ 37.890625 26.953125 41.203125 38.46875 \r\nQ 44.53125 50 44.921875 59.953125 \r\nQ 45.3125 69.921875 44.53125 80.859375 \r\nQ 48.828125 80.46875 54.296875 80.078125 \r\nQ 53.125 73.828125 53.125 67.1875 \r\nQ 53.125 60.546875 53.90625 51.953125 \r\nQ 54.6875 43.359375 65.03125 25.96875 \r\nQ 75.390625 8.59375 95.3125 0 \r\nQ 90.625 -4.6875 89.0625 -7.8125 \r\nQ 61.71875 5.46875 50 40.234375 \r\nQ 42.1875 9.375 12.109375 -8.984375 \r\nQ 9.765625 -5.859375 5.46875 -2.34375 \r\nz\r\n\" id=\"SimHei-20154\"/>\r\n      <path d=\"M 69.921875 73.046875 \r\nQ 79.296875 73.046875 87.109375 73.4375 \r\nL 87.109375 65.625 \r\nQ 79.296875 66.015625 69.921875 66.015625 \r\nL 53.90625 66.015625 \r\nL 53.90625 4.296875 \r\nL 79.296875 4.296875 \r\nQ 88.28125 4.296875 95.703125 4.6875 \r\nL 95.703125 -3.125 \r\nQ 88.28125 -2.734375 79.6875 -2.734375 \r\nL 19.140625 -2.734375 \r\nQ 10.546875 -2.734375 4.296875 -3.125 \r\nL 4.296875 4.6875 \r\nQ 10.9375 4.296875 19.53125 4.296875 \r\nL 45.3125 4.296875 \r\nL 45.3125 66.015625 \r\nL 29.6875 66.015625 \r\nQ 19.53125 66.015625 12.109375 65.625 \r\nL 12.109375 73.4375 \r\nQ 19.53125 73.046875 29.6875 73.046875 \r\nz\r\n\" id=\"SimHei-24037\"/>\r\n      <path d=\"M 80.078125 29.6875 \r\nQ 79.6875 23.046875 79.6875 10.15625 \r\nQ 79.6875 -2.734375 80.078125 -9.375 \r\nL 71.875 -9.375 \r\nL 71.875 -4.6875 \r\nL 30.859375 -4.6875 \r\nL 30.859375 -9.375 \r\nL 22.65625 -9.375 \r\nQ 23.046875 -3.125 23.046875 9.765625 \r\nQ 23.046875 23.046875 22.65625 29.6875 \r\nL 80.078125 29.6875 \r\nz\r\nM 30.078125 78.90625 \r\nQ 27.34375 76.171875 24.21875 71.484375 \r\nQ 45.3125 71.484375 53.515625 71.875 \r\nL 53.515625 64.84375 \r\nQ 44.921875 65.234375 37.890625 65.234375 \r\nQ 37.890625 61.71875 37.5 56.25 \r\nQ 50 56.25 55.859375 56.640625 \r\nL 55.859375 49.609375 \r\nQ 50 50 36.328125 50 \r\nL 35.546875 47.265625 \r\nQ 47.65625 42.578125 54.6875 39.0625 \r\nQ 51.5625 34.765625 50 32.03125 \r\nQ 41.40625 38.28125 32.421875 41.40625 \r\nQ 25.78125 32.8125 14.84375 26.5625 \r\nQ 12.5 29.6875 8.984375 32.421875 \r\nQ 15.625 35.15625 21.28125 40.234375 \r\nQ 26.953125 45.3125 28.515625 50 \r\nQ 14.0625 50 7.8125 49.609375 \r\nL 7.8125 56.640625 \r\nQ 14.0625 56.25 30.078125 56.25 \r\nQ 30.859375 61.328125 30.46875 65.234375 \r\nL 21.484375 65.234375 \r\nQ 19.140625 60.9375 16.015625 57.03125 \r\nQ 11.71875 59.375 9.375 60.9375 \r\nQ 12.5 64.453125 16.59375 71.09375 \r\nQ 20.703125 77.734375 21.875 82.03125 \r\nQ 25 80.46875 30.078125 78.90625 \r\nz\r\nM 59.375 37.5 \r\nQ 59.765625 43.75 59.765625 54.296875 \r\nQ 59.765625 65.234375 59.375 71.484375 \r\nL 90.234375 71.484375 \r\nQ 89.84375 66.796875 89.84375 55.078125 \r\nQ 89.84375 43.359375 90.234375 37.5 \r\nz\r\nM 71.875 15.625 \r\nL 71.875 24.21875 \r\nL 30.859375 24.21875 \r\nL 30.859375 15.625 \r\nz\r\nM 71.875 1.5625 \r\nL 71.875 9.765625 \r\nL 30.859375 9.765625 \r\nL 30.859375 1.5625 \r\nz\r\nM 82.03125 43.75 \r\nL 82.03125 65.234375 \r\nL 67.1875 65.234375 \r\nL 67.1875 43.75 \r\nz\r\n\" id=\"SimHei-26234\"/>\r\n      <path d=\"M 31.640625 -2.34375 \r\nQ 38.671875 -2.34375 39.453125 -0.96875 \r\nQ 40.234375 0.390625 40.234375 3.125 \r\nL 40.234375 8.59375 \r\nL 19.140625 8.59375 \r\nL 19.140625 -9.765625 \r\nL 11.71875 -9.765625 \r\nQ 12.109375 -1.953125 12.109375 4.296875 \r\nL 12.109375 30.46875 \r\nQ 12.109375 37.5 11.71875 42.96875 \r\nL 47.65625 42.96875 \r\nQ 47.265625 37.109375 47.265625 30.078125 \r\nL 47.265625 -2.734375 \r\nQ 46.875 -7.03125 43.75 -8.203125 \r\nQ 40.625 -9.375 34.765625 -10.15625 \r\nQ 33.984375 -6.640625 31.640625 -2.34375 \r\nz\r\nM 90.625 25.390625 \r\nQ 89.0625 25 81.4375 21.484375 \r\nQ 73.828125 17.96875 64.0625 14.84375 \r\nL 64.0625 3.90625 \r\nQ 64.0625 -0.78125 68.359375 -0.78125 \r\nL 82.421875 -0.78125 \r\nQ 85.546875 0 86.71875 8.984375 \r\nQ 89.84375 7.421875 94.53125 5.859375 \r\nQ 91.796875 -6.640625 85.546875 -6.640625 \r\nL 64.453125 -6.640625 \r\nQ 57.03125 -6.640625 57.03125 0.78125 \r\nL 57.03125 26.171875 \r\nQ 57.03125 32.03125 56.640625 36.71875 \r\nL 64.453125 36.71875 \r\nQ 64.0625 32.03125 64.0625 26.5625 \r\nL 64.0625 21.484375 \r\nQ 67.96875 22.65625 74.40625 25.78125 \r\nQ 80.859375 28.90625 84.765625 32.421875 \r\nQ 88.28125 27.734375 90.625 25.390625 \r\nz\r\nM 64.0625 64.0625 \r\nQ 69.53125 66.40625 74.609375 68.9375 \r\nQ 79.6875 71.484375 84.765625 75.390625 \r\nQ 87.890625 71.484375 90.234375 68.75 \r\nQ 87.890625 67.96875 80.265625 64.25 \r\nQ 72.65625 60.546875 64.0625 57.8125 \r\nL 64.0625 51.953125 \r\nQ 64.0625 47.265625 69.53125 47.265625 \r\nL 80.859375 47.265625 \r\nQ 84.765625 47.265625 85.9375 57.421875 \r\nQ 89.84375 55.46875 93.75 53.90625 \r\nQ 91.015625 41.40625 83.984375 41.40625 \r\nL 66.40625 41.40625 \r\nQ 57.03125 41.40625 57.03125 50 \r\nL 57.03125 69.921875 \r\nQ 57.03125 74.609375 56.640625 80.078125 \r\nL 64.453125 80.078125 \r\nQ 64.0625 77.34375 64.0625 68.75 \r\nz\r\nM 47.265625 48.046875 \r\nQ 46.09375 50 44.140625 52.34375 \r\nQ 31.25 51.5625 22.65625 50.78125 \r\nQ 14.0625 50 9.765625 48.828125 \r\nQ 8.59375 53.515625 7.03125 57.03125 \r\nQ 9.765625 58.203125 15.421875 65.421875 \r\nQ 21.09375 72.65625 24.609375 80.859375 \r\nQ 26.5625 79.296875 28.90625 78.515625 \r\nQ 31.25 77.734375 33.984375 76.5625 \r\nQ 30.859375 74.21875 27.53125 69.53125 \r\nQ 24.21875 64.84375 16.796875 56.25 \r\nQ 33.203125 57.03125 41.015625 57.421875 \r\nQ 36.328125 63.671875 34.375 65.625 \r\nQ 37.109375 67.1875 40.625 69.921875 \r\nQ 43.75 65.625 46.671875 62.109375 \r\nQ 49.609375 58.59375 54.296875 53.125 \r\nQ 50 50 47.265625 48.046875 \r\nz\r\nM 40.234375 14.84375 \r\nL 40.234375 23.046875 \r\nL 19.140625 23.046875 \r\nL 19.140625 14.84375 \r\nz\r\nM 40.234375 29.296875 \r\nL 40.234375 36.71875 \r\nL 19.140625 36.71875 \r\nL 19.140625 29.296875 \r\nz\r\n\" id=\"SimHei-33021\"/>\r\n     </defs>\r\n     <use xlink:href=\"#SimHei-20154\"/>\r\n     <use x=\"100\" xlink:href=\"#SimHei-24037\"/>\r\n     <use x=\"200\" xlink:href=\"#SimHei-26234\"/>\r\n     <use x=\"300\" xlink:href=\"#SimHei-33021\"/>\r\n    </g>\r\n   </g>\r\n   <g id=\"text_6\">\r\n    <!-- 7.4% -->\r\n    <g transform=\"translate(136.487621 176.591068)scale(0.1 -0.1)\">\r\n     <defs>\r\n      <path d=\"M 31.25 17.1875 \r\nL 1.171875 17.1875 \r\nL 1.171875 23.828125 \r\nL 32.8125 69.53125 \r\nL 38.671875 69.53125 \r\nL 38.671875 23.828125 \r\nL 48.046875 23.828125 \r\nL 48.046875 17.1875 \r\nL 38.671875 17.1875 \r\nL 38.671875 2.34375 \r\nL 31.25 2.34375 \r\nz\r\nM 31.25 23.828125 \r\nL 31.25 54.6875 \r\nL 9.375 23.828125 \r\nz\r\n\" id=\"SimHei-52\"/>\r\n     </defs>\r\n     <use xlink:href=\"#SimHei-55\"/>\r\n     <use x=\"50\" xlink:href=\"#SimHei-46\"/>\r\n     <use x=\"100\" xlink:href=\"#SimHei-52\"/>\r\n     <use x=\"150\" xlink:href=\"#SimHei-37\"/>\r\n    </g>\r\n   </g>\r\n   <g id=\"text_7\">\r\n    <!-- 机器学习 -->\r\n    <g transform=\"translate(197.361688 185.126466)scale(0.1 -0.1)\">\r\n     <defs>\r\n      <path d=\"M 79.6875 74.609375 \r\nQ 79.296875 63.671875 79.296875 55.859375 \r\nL 79.296875 5.078125 \r\nQ 79.296875 0 81.640625 -0.390625 \r\nQ 83.984375 -0.78125 85.546875 -0.578125 \r\nQ 87.109375 -0.390625 87.6875 2.140625 \r\nQ 88.28125 4.6875 88.28125 9.765625 \r\nQ 91.796875 7.8125 96.484375 6.640625 \r\nQ 94.921875 -1.5625 93.359375 -4.296875 \r\nQ 91.796875 -7.03125 88.28125 -7.03125 \r\nL 80.078125 -7.03125 \r\nQ 75.390625 -7.03125 73.234375 -4.875 \r\nQ 71.09375 -2.734375 71.484375 3.90625 \r\nL 71.484375 67.96875 \r\nL 56.640625 67.96875 \r\nQ 56.640625 45.703125 56.046875 33.390625 \r\nQ 55.46875 21.09375 52.53125 11.125 \r\nQ 49.609375 1.171875 41.015625 -8.984375 \r\nQ 39.0625 -6.640625 33.984375 -2.734375 \r\nQ 39.453125 1.5625 42.765625 7.8125 \r\nQ 46.09375 14.0625 47.265625 20.703125 \r\nQ 48.4375 27.34375 48.828125 34.765625 \r\nQ 49.21875 42.1875 49.21875 53.515625 \r\nQ 49.21875 65.234375 48.828125 74.609375 \r\nL 79.6875 74.609375 \r\nz\r\nM 33.59375 42.578125 \r\nQ 39.84375 33.984375 42.96875 29.296875 \r\nQ 40.234375 26.953125 36.328125 24.21875 \r\nQ 33.984375 29.296875 28.125 37.890625 \r\nL 28.125 9.375 \r\nQ 28.125 1.5625 28.515625 -8.203125 \r\nL 19.921875 -8.203125 \r\nQ 20.3125 1.5625 20.3125 9.375 \r\nL 20.3125 34.375 \r\nQ 18.359375 28.515625 16.015625 23.234375 \r\nQ 13.671875 17.96875 9.375 11.328125 \r\nQ 5.859375 15.234375 3.125 17.578125 \r\nQ 6.25 21.09375 11.328125 31.25 \r\nQ 16.40625 41.40625 19.140625 53.90625 \r\nL 16.796875 53.90625 \r\nQ 11.328125 53.90625 5.859375 53.125 \r\nL 5.859375 60.546875 \r\nQ 11.328125 60.15625 16.40625 60.15625 \r\nL 20.3125 60.15625 \r\nL 20.3125 67.96875 \r\nQ 20.3125 74.21875 19.921875 79.6875 \r\nL 28.90625 79.6875 \r\nQ 28.125 75.78125 28.125 67.96875 \r\nL 28.125 60.15625 \r\nL 32.421875 60.15625 \r\nQ 36.71875 60.15625 42.1875 60.546875 \r\nL 42.1875 53.515625 \r\nQ 33.59375 53.90625 28.125 53.90625 \r\nL 28.125 38.28125 \r\nQ 30.46875 40.234375 33.59375 42.578125 \r\nz\r\n\" id=\"SimHei-26426\"/>\r\n      <path d=\"M 4.296875 30.078125 \r\nQ 12.109375 30.078125 18.9375 31.25 \r\nQ 25.78125 32.421875 31.046875 34.375 \r\nQ 36.328125 36.328125 41.015625 41.015625 \r\nL 23.828125 41.015625 \r\nQ 19.53125 41.015625 8.59375 40.625 \r\nL 8.59375 47.265625 \r\nQ 19.53125 46.875 23.828125 46.875 \r\nL 42.96875 46.875 \r\nQ 44.140625 50.390625 43.75 55.46875 \r\nQ 48.828125 54.6875 54.296875 53.90625 \r\nQ 51.953125 51.5625 51.5625 46.875 \r\nL 69.140625 46.875 \r\nQ 66.40625 49.609375 63.671875 51.5625 \r\nL 69.140625 55.46875 \r\nQ 72.265625 53.125 75 50 \r\nQ 72.65625 48.828125 70.3125 46.875 \r\nL 76.171875 46.875 \r\nQ 84.765625 46.875 91.796875 47.265625 \r\nL 91.796875 40.625 \r\nQ 85.15625 41.015625 76.171875 41.015625 \r\nL 56.640625 41.015625 \r\nQ 64.0625 34.765625 75.578125 33 \r\nQ 87.109375 31.25 95.3125 32.03125 \r\nQ 92.1875 28.125 91.40625 23.4375 \r\nQ 81.640625 24.21875 74.796875 25.578125 \r\nQ 67.96875 26.953125 62.296875 29.6875 \r\nQ 56.640625 32.421875 49.21875 40.234375 \r\nQ 42.1875 31.25 30.859375 27.53125 \r\nQ 19.53125 23.828125 8.203125 22.265625 \r\nQ 7.03125 26.953125 4.296875 30.078125 \r\nz\r\nM 78.515625 -8.984375 \r\nL 78.515625 -1.5625 \r\nL 59.765625 -1.5625 \r\nL 59.765625 -8.59375 \r\nL 53.125 -8.59375 \r\nQ 53.515625 0 53.515625 7.421875 \r\nQ 53.515625 15.234375 53.125 22.265625 \r\nL 85.546875 22.265625 \r\nQ 85.15625 17.578125 85.15625 6.25 \r\nQ 85.15625 -4.6875 85.546875 -8.984375 \r\nz\r\nM 37.5 -8.59375 \r\nL 37.5 -1.5625 \r\nL 20.703125 -1.5625 \r\nL 20.703125 -8.984375 \r\nL 13.671875 -8.984375 \r\nQ 14.0625 -2.34375 14.0625 7.421875 \r\nQ 14.0625 17.1875 13.671875 22.265625 \r\nL 44.140625 22.265625 \r\nQ 43.75 16.015625 43.75 6.640625 \r\nQ 43.75 -2.34375 44.140625 -8.59375 \r\nz\r\nM 85.546875 78.515625 \r\nQ 85.15625 73.4375 85.15625 67.96875 \r\nQ 85.15625 62.5 85.546875 56.640625 \r\nL 52.734375 56.640625 \r\nQ 53.125 62.5 53.125 67.96875 \r\nQ 53.125 73.828125 52.734375 78.515625 \r\nL 85.546875 78.515625 \r\nz\r\nM 44.140625 78.515625 \r\nQ 43.75 73.4375 43.75 67.578125 \r\nQ 43.75 62.109375 44.140625 56.640625 \r\nL 13.671875 56.640625 \r\nQ 14.0625 62.109375 14.0625 67.578125 \r\nQ 14.0625 73.4375 13.671875 78.515625 \r\nL 44.140625 78.515625 \r\nz\r\nM 78.515625 3.90625 \r\nL 78.515625 16.40625 \r\nL 59.765625 16.40625 \r\nL 59.765625 3.90625 \r\nz\r\nM 37.5 3.90625 \r\nL 37.5 16.40625 \r\nL 20.703125 16.40625 \r\nL 20.703125 3.90625 \r\nz\r\nM 78.515625 62.109375 \r\nL 78.515625 73.046875 \r\nL 59.765625 73.046875 \r\nL 59.765625 62.109375 \r\nz\r\nM 37.5 62.109375 \r\nL 37.5 73.046875 \r\nL 20.703125 73.046875 \r\nL 20.703125 62.109375 \r\nz\r\n\" id=\"SimHei-22120\"/>\r\n      <path d=\"M 76.171875 41.796875 \r\nL 76.171875 33.59375 \r\nQ 70.703125 32.421875 66.203125 29.875 \r\nQ 61.71875 27.34375 55.859375 24.609375 \r\nL 55.859375 21.09375 \r\nL 80.46875 21.09375 \r\nQ 85.15625 21.09375 92.578125 21.484375 \r\nL 92.578125 13.671875 \r\nQ 84.765625 14.0625 80.46875 14.0625 \r\nL 55.859375 14.0625 \r\nL 55.859375 -1.953125 \r\nQ 55.859375 -7.421875 51.5625 -8.78125 \r\nQ 47.265625 -10.15625 37.5 -10.9375 \r\nQ 36.328125 -6.640625 33.59375 -2.34375 \r\nL 44.140625 -2.34375 \r\nQ 48.046875 -2.34375 48.046875 1.953125 \r\nL 48.046875 14.0625 \r\nL 21.09375 14.0625 \r\nQ 14.84375 14.0625 7.03125 13.671875 \r\nL 7.03125 21.484375 \r\nQ 15.234375 21.09375 20.703125 21.09375 \r\nL 48.046875 21.09375 \r\nQ 48.046875 24.21875 47.265625 28.125 \r\nL 61.328125 35.15625 \r\nL 39.84375 35.15625 \r\nQ 32.421875 35.15625 23.046875 34.765625 \r\nL 23.046875 42.1875 \r\nQ 31.640625 41.796875 39.453125 41.796875 \r\nz\r\nM 83.59375 77.734375 \r\nQ 75.78125 68.75 70.3125 59.375 \r\nL 91.796875 59.375 \r\nQ 91.40625 55.859375 91.40625 51.171875 \r\nQ 91.40625 46.484375 91.796875 42.1875 \r\nL 83.59375 42.1875 \r\nL 83.59375 52.734375 \r\nL 16.015625 52.734375 \r\nL 16.015625 41.796875 \r\nL 7.8125 41.796875 \r\nQ 8.203125 46.484375 8.203125 51.171875 \r\nQ 8.203125 55.859375 7.8125 59.375 \r\nL 62.109375 59.375 \r\nQ 65.234375 64.84375 68.546875 70.890625 \r\nQ 71.875 76.953125 73.828125 82.8125 \r\nQ 80.078125 79.296875 83.59375 77.734375 \r\nz\r\nM 46.09375 81.640625 \r\nQ 53.515625 72.265625 55.859375 67.96875 \r\nQ 52.34375 65.234375 48.4375 62.890625 \r\nQ 45.3125 69.140625 39.0625 76.953125 \r\nQ 42.96875 79.6875 46.09375 81.640625 \r\nz\r\nM 19.53125 78.90625 \r\nQ 26.5625 73.046875 31.640625 66.796875 \r\nQ 27.34375 63.671875 25 60.9375 \r\nQ 19.921875 68.359375 13.28125 73.828125 \r\nQ 17.578125 76.953125 19.53125 78.90625 \r\nz\r\n\" id=\"SimHei-23398\"/>\r\n      <path d=\"M 39.0625 67.578125 \r\nQ 27.734375 67.578125 17.578125 67.1875 \r\nL 17.578125 75 \r\nQ 30.46875 74.609375 37.109375 74.609375 \r\nL 85.9375 74.609375 \r\nQ 85.15625 69.140625 84.765625 57.8125 \r\nL 83.203125 5.859375 \r\nQ 82.421875 -4.6875 76.953125 -6.640625 \r\nQ 71.484375 -8.59375 58.984375 -9.375 \r\nQ 57.8125 -4.6875 54.6875 0 \r\nQ 66.015625 -0.78125 70.3125 0.1875 \r\nQ 74.609375 1.171875 75.390625 7.421875 \r\nL 76.953125 67.578125 \r\nz\r\nM 65.625 32.421875 \r\nQ 65.625 28.125 66.40625 24.21875 \r\nQ 44.140625 16.015625 19.921875 3.90625 \r\nQ 17.96875 8.59375 14.453125 12.890625 \r\nQ 19.53125 14.0625 34.5625 19.53125 \r\nQ 49.609375 25 65.625 32.421875 \r\nz\r\nM 28.125 59.765625 \r\nQ 44.921875 50 53.125 43.75 \r\nQ 51.5625 41.40625 47.65625 36.328125 \r\nQ 40.625 42.96875 23.4375 53.125 \r\nQ 26.171875 56.640625 28.125 59.765625 \r\nz\r\n\" id=\"SimHei-20064\"/>\r\n     </defs>\r\n     <use xlink:href=\"#SimHei-26426\"/>\r\n     <use x=\"100\" xlink:href=\"#SimHei-22120\"/>\r\n     <use x=\"200\" xlink:href=\"#SimHei-23398\"/>\r\n     <use x=\"300\" xlink:href=\"#SimHei-20064\"/>\r\n    </g>\r\n   </g>\r\n   <g id=\"text_8\">\r\n    <!-- 5.1% -->\r\n    <g transform=\"translate(150.342739 161.680345)scale(0.1 -0.1)\">\r\n     <defs>\r\n      <path d=\"M 8.59375 20.703125 \r\nQ 11.328125 10.15625 17.96875 8.984375 \r\nQ 24.609375 7.8125 28.703125 10.34375 \r\nQ 32.8125 12.890625 34.5625 16.984375 \r\nQ 36.328125 21.09375 36.125 26.171875 \r\nQ 35.9375 31.25 33.390625 34.765625 \r\nQ 30.859375 38.28125 26.953125 39.453125 \r\nQ 23.046875 40.625 18.15625 39.453125 \r\nQ 13.28125 38.28125 10.15625 33.984375 \r\nL 3.515625 34.765625 \r\nQ 4.296875 37.109375 10.9375 68.359375 \r\nL 41.796875 68.359375 \r\nL 41.796875 61.328125 \r\nL 16.796875 61.328125 \r\nQ 14.84375 50.78125 12.890625 44.53125 \r\nQ 18.75 47.265625 23.828125 47.0625 \r\nQ 28.90625 46.875 33.59375 44.71875 \r\nQ 38.28125 42.578125 40.421875 38.859375 \r\nQ 42.578125 35.15625 43.546875 31.4375 \r\nQ 44.53125 27.734375 44.328125 23.4375 \r\nQ 44.140625 19.140625 42.578125 14.640625 \r\nQ 41.015625 10.15625 37.890625 7.21875 \r\nQ 34.765625 4.296875 30.265625 2.53125 \r\nQ 25.78125 0.78125 19.921875 1.171875 \r\nQ 14.0625 1.5625 8.78125 5.46875 \r\nQ 3.515625 9.375 1.5625 18.75 \r\nz\r\n\" id=\"SimHei-53\"/>\r\n     </defs>\r\n     <use xlink:href=\"#SimHei-53\"/>\r\n     <use x=\"50\" xlink:href=\"#SimHei-46\"/>\r\n     <use x=\"100\" xlink:href=\"#SimHei-49\"/>\r\n     <use x=\"150\" xlink:href=\"#SimHei-37\"/>\r\n    </g>\r\n   </g>\r\n   <g id=\"text_9\">\r\n    <!-- 数据挖掘 -->\r\n    <g transform=\"translate(208.839107 157.633917)scale(0.1 -0.1)\">\r\n     <defs>\r\n      <path d=\"M 17.578125 60.546875 \r\nQ 17.578125 75.78125 17.1875 80.859375 \r\nL 25 80.859375 \r\nQ 24.609375 76.953125 24.609375 60.546875 \r\nQ 28.90625 60.546875 34.375 60.9375 \r\nL 34.375 53.515625 \r\nQ 28.90625 53.90625 24.609375 53.90625 \r\nL 24.609375 37.890625 \r\nQ 28.515625 39.84375 32.421875 42.578125 \r\nQ 33.203125 38.28125 33.984375 35.15625 \r\nQ 29.296875 33.203125 24.609375 30.859375 \r\nL 24.609375 -0.390625 \r\nQ 24.21875 -4.6875 21.09375 -6.25 \r\nQ 17.96875 -7.8125 10.546875 -8.59375 \r\nQ 10.15625 -4.6875 7.421875 -0.78125 \r\nQ 13.28125 -0.78125 15.234375 -0.578125 \r\nQ 17.1875 -0.390625 17.578125 2.734375 \r\nL 17.578125 27.734375 \r\nQ 10.546875 23.828125 7.8125 21.875 \r\nQ 6.640625 25.78125 3.90625 30.078125 \r\nQ 8.59375 31.25 17.578125 35.15625 \r\nL 17.578125 53.90625 \r\nQ 10.15625 53.90625 4.296875 53.515625 \r\nL 4.296875 60.9375 \r\nQ 9.765625 60.546875 17.578125 60.546875 \r\nz\r\nM 85.15625 35.546875 \r\nL 85.15625 28.515625 \r\nQ 80.46875 26.953125 73.4375 21.671875 \r\nQ 66.40625 16.40625 58.984375 9.953125 \r\nQ 51.5625 3.515625 52.734375 0.96875 \r\nQ 53.90625 -1.5625 57.03125 -1.5625 \r\nL 78.90625 -1.5625 \r\nQ 82.8125 -1.5625 84.5625 0.1875 \r\nQ 86.328125 1.953125 86.71875 9.375 \r\nQ 91.015625 6.25 95.703125 5.46875 \r\nQ 92.96875 -3.90625 90.234375 -5.859375 \r\nQ 87.5 -7.8125 80.46875 -7.8125 \r\nL 52.734375 -7.8125 \r\nQ 48.828125 -7.8125 46.09375 -5.46875 \r\nQ 43.359375 -3.125 43.15625 0.96875 \r\nQ 42.96875 5.078125 51.953125 13.078125 \r\nQ 60.9375 21.09375 71.875 29.296875 \r\nL 50 29.296875 \r\nQ 45.3125 29.296875 40.625 28.90625 \r\nL 40.625 35.9375 \r\nQ 44.921875 35.546875 50 35.546875 \r\nz\r\nM 68.359375 82.03125 \r\nQ 69.140625 78.125 70.3125 71.484375 \r\nL 94.53125 71.484375 \r\nQ 94.140625 67.96875 94.328125 63.46875 \r\nQ 94.53125 58.984375 94.53125 54.6875 \r\nL 86.71875 54.6875 \r\nL 86.71875 65.234375 \r\nL 44.53125 65.234375 \r\nL 44.53125 53.90625 \r\nL 36.71875 53.90625 \r\nQ 37.109375 57.8125 37.109375 62.5 \r\nQ 37.109375 67.1875 36.71875 71.484375 \r\nL 62.109375 71.484375 \r\nQ 61.328125 76.5625 59.765625 80.859375 \r\nQ 64.0625 81.25 68.359375 82.03125 \r\nz\r\nM 73.4375 58.59375 \r\nQ 85.15625 50.78125 91.40625 46.09375 \r\nQ 88.28125 43.359375 85.9375 39.453125 \r\nQ 82.421875 43.75 67.96875 53.125 \r\nQ 71.09375 55.46875 73.4375 58.59375 \r\nz\r\nM 60.9375 54.6875 \r\nQ 57.421875 51.171875 54.296875 47.65625 \r\nQ 51.171875 44.140625 46.484375 37.890625 \r\nQ 43.75 40.625 39.453125 42.578125 \r\nQ 47.65625 50 53.515625 59.765625 \r\nQ 56.640625 56.640625 60.9375 54.6875 \r\nz\r\n\" id=\"SimHei-25366\"/>\r\n      <path d=\"M 91.40625 78.125 \r\nQ 91.015625 75.78125 90.625 69.53125 \r\nL 90.625 61.328125 \r\nQ 90.625 58.203125 91.015625 55.078125 \r\nL 46.875 55.078125 \r\nQ 46.875 43.75 46.28125 33.984375 \r\nQ 45.703125 24.21875 42.765625 11.71875 \r\nQ 39.84375 -0.78125 34.375 -9.375 \r\nQ 30.859375 -6.640625 26.5625 -4.296875 \r\nQ 34.375 5.46875 37.109375 19.71875 \r\nQ 39.84375 33.984375 39.84375 45.3125 \r\nL 39.84375 64.84375 \r\nQ 39.84375 73.4375 39.0625 78.125 \r\nL 91.40625 78.125 \r\nz\r\nM 92.578125 0.78125 \r\nQ 92.578125 -5.078125 93.359375 -8.59375 \r\nL 85.15625 -8.59375 \r\nL 85.15625 -5.46875 \r\nL 49.21875 -5.46875 \r\nQ 49.609375 0.390625 49.609375 5.859375 \r\nQ 49.609375 11.328125 49.21875 19.921875 \r\nL 57.03125 19.921875 \r\nQ 56.640625 16.40625 56.640625 8.984375 \r\nL 56.640625 1.171875 \r\nL 67.578125 1.171875 \r\nL 67.578125 25.390625 \r\nL 51.5625 25.390625 \r\nL 51.5625 36.71875 \r\nQ 51.5625 42.96875 51.171875 46.875 \r\nL 58.59375 46.875 \r\nQ 58.203125 42.578125 58.203125 39.453125 \r\nL 58.203125 31.640625 \r\nL 67.578125 31.640625 \r\nL 67.578125 42.578125 \r\nQ 67.578125 45.3125 67.1875 50.390625 \r\nL 75 50.390625 \r\nQ 74.609375 48.4375 74.21875 42.1875 \r\nL 74.21875 31.640625 \r\nL 83.203125 31.640625 \r\nQ 83.203125 36.71875 83 40.03125 \r\nQ 82.8125 43.359375 82.421875 46.09375 \r\nL 90.625 46.09375 \r\nQ 90.234375 41.015625 90.234375 35.546875 \r\nQ 90.234375 30.078125 90.625 25.390625 \r\nL 74.21875 25.390625 \r\nL 74.21875 1.171875 \r\nL 85.15625 1.171875 \r\nL 85.15625 6.640625 \r\nQ 85.15625 15.625 84.765625 19.53125 \r\nL 93.359375 19.53125 \r\nQ 92.578125 16.796875 92.578125 9.375 \r\nz\r\nM 34.765625 34.375 \r\nQ 26.953125 31.640625 24.21875 30.46875 \r\nL 24.21875 2.34375 \r\nQ 23.4375 -2.34375 20.890625 -4.09375 \r\nQ 18.359375 -5.859375 9.765625 -7.421875 \r\nQ 9.765625 -3.125 7.421875 1.5625 \r\nQ 14.0625 1.171875 15.8125 1.953125 \r\nQ 17.578125 2.734375 17.578125 6.640625 \r\nL 17.578125 28.125 \r\nQ 13.28125 26.953125 7.03125 23.4375 \r\nQ 5.078125 29.6875 3.90625 32.421875 \r\nQ 14.0625 33.984375 17.578125 35.546875 \r\nL 17.578125 53.515625 \r\nL 15.234375 53.515625 \r\nQ 9.765625 53.515625 6.25 53.125 \r\nL 6.25 60.546875 \r\nQ 9.765625 60.15625 15.234375 60.15625 \r\nL 17.578125 60.15625 \r\nL 17.578125 71.484375 \r\nQ 17.578125 76.953125 17.1875 81.640625 \r\nL 25 81.640625 \r\nQ 24.21875 77.34375 24.21875 71.484375 \r\nL 24.21875 60.15625 \r\nQ 29.296875 60.15625 33.984375 60.546875 \r\nL 33.984375 53.125 \r\nQ 28.515625 53.515625 24.21875 53.515625 \r\nL 24.21875 37.5 \r\nQ 29.6875 39.0625 33.984375 41.015625 \r\nQ 34.375 35.9375 34.765625 34.375 \r\nz\r\nM 83.59375 61.71875 \r\nL 83.59375 71.875 \r\nL 46.875 71.875 \r\nL 46.875 61.71875 \r\nz\r\n\" id=\"SimHei-25496\"/>\r\n     </defs>\r\n     <use xlink:href=\"#SimHei-25968\"/>\r\n     <use x=\"100\" xlink:href=\"#SimHei-25454\"/>\r\n     <use x=\"200\" xlink:href=\"#SimHei-25366\"/>\r\n     <use x=\"300\" xlink:href=\"#SimHei-25496\"/>\r\n    </g>\r\n   </g>\r\n   <g id=\"text_10\">\r\n    <!-- 4.8% -->\r\n    <g transform=\"translate(156.60315 146.727023)scale(0.1 -0.1)\">\r\n     <defs>\r\n      <path d=\"M 2.734375 16.796875 \r\nQ 2.734375 26.171875 5.078125 30.65625 \r\nQ 7.421875 35.15625 12.890625 37.890625 \r\nQ 8.203125 40.625 6.640625 43.9375 \r\nQ 5.078125 47.265625 4.875 51.5625 \r\nQ 4.6875 55.859375 6.046875 58.984375 \r\nQ 7.421875 62.109375 10.15625 64.84375 \r\nQ 12.890625 67.578125 16.203125 68.546875 \r\nQ 19.53125 69.53125 23.4375 69.53125 \r\nQ 27.34375 69.53125 30.46875 68.75 \r\nQ 33.59375 67.96875 37.109375 65.421875 \r\nQ 40.625 62.890625 42.1875 58.203125 \r\nQ 43.75 53.515625 41.984375 47.265625 \r\nQ 40.234375 41.015625 32.8125 37.5 \r\nQ 39.453125 35.546875 42.1875 31.4375 \r\nQ 44.921875 27.34375 44.921875 21.484375 \r\nQ 44.921875 15.625 43.15625 12.109375 \r\nQ 41.40625 8.59375 39.25 6.25 \r\nQ 37.109375 3.90625 33.390625 2.53125 \r\nQ 29.6875 1.171875 24.015625 1.171875 \r\nQ 18.359375 1.171875 14.25 2.53125 \r\nQ 10.15625 3.90625 7.421875 6.640625 \r\nQ 4.6875 9.375 3.703125 13.078125 \r\nQ 2.734375 16.796875 2.734375 26.171875 \r\nz\r\nM 10.9375 26.5625 \r\nQ 10.546875 17.1875 12.296875 13.671875 \r\nQ 14.0625 10.15625 18.75 9.171875 \r\nQ 23.4375 8.203125 28.515625 9.375 \r\nQ 33.59375 10.546875 35.546875 14.84375 \r\nQ 37.5 19.140625 36.90625 23.4375 \r\nQ 36.328125 27.734375 32.03125 30.65625 \r\nQ 27.734375 33.59375 22.65625 33.203125 \r\nQ 17.578125 32.8125 14.25 29.6875 \r\nQ 10.9375 26.5625 10.546875 17.1875 \r\nz\r\nM 12.109375 56.25 \r\nQ 12.109375 48.4375 14.84375 44.921875 \r\nQ 17.578125 41.40625 23.4375 41.40625 \r\nQ 29.296875 41.40625 32.21875 44.921875 \r\nQ 35.15625 48.4375 34.953125 53.3125 \r\nQ 34.765625 58.203125 31.4375 60.546875 \r\nQ 28.125 62.890625 22.453125 62.5 \r\nQ 16.796875 62.109375 14.453125 59.171875 \r\nQ 12.109375 56.25 12.109375 48.4375 \r\nz\r\n\" id=\"SimHei-56\"/>\r\n     </defs>\r\n     <use xlink:href=\"#SimHei-52\"/>\r\n     <use x=\"50\" xlink:href=\"#SimHei-46\"/>\r\n     <use x=\"100\" xlink:href=\"#SimHei-56\"/>\r\n     <use x=\"150\" xlink:href=\"#SimHei-37\"/>\r\n    </g>\r\n   </g>\r\n   <g id=\"text_11\">\r\n    <!-- 深度学习 -->\r\n    <g transform=\"translate(211.49851 139.184533)scale(0.1 -0.1)\">\r\n     <defs>\r\n      <path d=\"M 57.421875 -9.765625 \r\nQ 57.8125 -2.734375 57.8125 0.390625 \r\nL 57.8125 26.171875 \r\nQ 52.34375 15.234375 45.703125 7.421875 \r\nQ 39.0625 -0.390625 33.59375 -5.078125 \r\nQ 31.25 -2.34375 26.5625 0 \r\nQ 33.59375 4.296875 40.625 12.5 \r\nQ 47.65625 20.703125 50.390625 28.515625 \r\nQ 40.625 28.515625 33.203125 28.125 \r\nL 33.203125 35.15625 \r\nQ 39.453125 34.765625 57.8125 34.765625 \r\nQ 57.8125 41.796875 57.421875 47.65625 \r\nL 65.625 47.65625 \r\nQ 65.234375 41.796875 65.234375 34.765625 \r\nQ 84.375 34.765625 93.75 35.15625 \r\nL 93.75 28.125 \r\nQ 87.5 28.515625 71.484375 28.515625 \r\nQ 74.21875 20.703125 80.859375 13.46875 \r\nQ 87.5 6.25 95.703125 3.125 \r\nQ 91.015625 1.171875 89.453125 -3.125 \r\nQ 81.25 1.5625 75 8.78125 \r\nQ 68.75 16.015625 65.234375 27.34375 \r\nL 65.234375 0.390625 \r\nQ 65.234375 -1.953125 66.015625 -9.765625 \r\nz\r\nM 91.796875 75.78125 \r\nQ 91.40625 71.875 91.40625 67.1875 \r\nQ 91.40625 62.890625 91.796875 58.203125 \r\nL 83.984375 58.203125 \r\nL 83.984375 69.53125 \r\nL 39.84375 69.53125 \r\nL 39.84375 57.03125 \r\nL 32.421875 57.03125 \r\nQ 32.8125 62.890625 32.8125 66.796875 \r\nQ 32.8125 70.703125 32.421875 75.78125 \r\nL 91.796875 75.78125 \r\nz\r\nM 28.90625 23.828125 \r\nQ 25.390625 17.96875 21.28125 7.609375 \r\nQ 17.1875 -2.734375 15.234375 -8.203125 \r\nQ 11.328125 -5.46875 5.859375 -3.90625 \r\nQ 9.765625 0.78125 14.84375 11.125 \r\nQ 19.921875 21.484375 22.65625 28.90625 \r\nQ 25.390625 25.78125 28.90625 23.828125 \r\nz\r\nM 72.265625 63.671875 \r\nQ 79.6875 57.03125 89.0625 46.484375 \r\nQ 85.15625 44.140625 82.8125 41.015625 \r\nQ 74.609375 52.34375 66.40625 58.984375 \r\nQ 69.53125 61.328125 72.265625 63.671875 \r\nz\r\nM 57.8125 58.59375 \r\nQ 54.6875 57.03125 50 51.75 \r\nQ 45.3125 46.484375 39.0625 40.625 \r\nQ 36.328125 43.359375 32.03125 45.3125 \r\nQ 37.890625 48.828125 43.359375 54.484375 \r\nQ 48.828125 60.15625 50.78125 63.28125 \r\nQ 53.515625 60.9375 57.8125 58.59375 \r\nz\r\nM 8.59375 57.03125 \r\nQ 17.578125 51.5625 25 45.3125 \r\nQ 22.65625 42.96875 20.3125 39.0625 \r\nQ 13.28125 46.484375 4.296875 51.171875 \r\nQ 6.25 53.90625 8.59375 57.03125 \r\nz\r\nM 15.625 80.46875 \r\nQ 22.65625 75.78125 30.46875 68.75 \r\nQ 27.734375 66.40625 25.390625 62.890625 \r\nQ 18.359375 70.703125 10.546875 75.78125 \r\nQ 13.28125 77.34375 15.625 80.46875 \r\nz\r\n\" id=\"SimHei-28145\"/>\r\n      <path d=\"M 27.34375 26.171875 \r\nQ 38.28125 25.78125 44.921875 25.78125 \r\nL 81.25 25.78125 \r\nQ 77.734375 19.53125 72.65625 13.28125 \r\nQ 67.578125 7.03125 62.890625 3.125 \r\nQ 67.96875 0.78125 77.34375 -0.78125 \r\nQ 86.71875 -2.34375 95.3125 -2.34375 \r\nQ 92.96875 -4.6875 91.015625 -10.15625 \r\nQ 79.6875 -8.59375 71.09375 -6.4375 \r\nQ 62.5 -4.296875 56.640625 -1.5625 \r\nQ 48.4375 -5.078125 40.421875 -7.21875 \r\nQ 32.421875 -9.375 23.828125 -10.546875 \r\nQ 22.65625 -7.421875 19.140625 -3.90625 \r\nQ 26.171875 -3.90625 35.15625 -1.953125 \r\nQ 44.140625 0 50.78125 3.125 \r\nQ 44.140625 8.59375 37.5 19.921875 \r\nL 27.34375 19.53125 \r\nz\r\nM 46.484375 79.296875 \r\nQ 50.78125 80.46875 54.296875 82.03125 \r\nQ 56.640625 77.734375 58.984375 70.703125 \r\nL 73.4375 70.703125 \r\nQ 77.734375 70.703125 89.0625 71.09375 \r\nL 89.0625 64.0625 \r\nQ 78.125 64.453125 72.65625 64.453125 \r\nL 21.484375 64.453125 \r\nQ 21.484375 46.875 21.09375 36.125 \r\nQ 20.703125 25.390625 18.9375 14.84375 \r\nQ 17.1875 4.296875 11.328125 -8.203125 \r\nQ 7.8125 -5.859375 3.90625 -4.6875 \r\nQ 10.15625 6.25 11.90625 16.796875 \r\nQ 13.671875 27.34375 13.859375 43.75 \r\nQ 14.0625 60.15625 13.671875 70.703125 \r\nL 50 70.703125 \r\nQ 48.4375 75.78125 46.484375 79.296875 \r\nz\r\nM 38.671875 51.5625 \r\nQ 38.671875 57.8125 38.28125 61.328125 \r\nL 46.484375 61.328125 \r\nQ 46.09375 58.203125 46.09375 51.5625 \r\nL 67.1875 51.5625 \r\nQ 67.1875 57.8125 66.796875 61.71875 \r\nL 75 61.71875 \r\nQ 74.609375 57.03125 74.609375 51.5625 \r\nQ 83.203125 51.5625 89.453125 51.953125 \r\nL 89.453125 45.3125 \r\nQ 83.59375 45.703125 74.609375 45.703125 \r\nQ 74.609375 35.15625 75 30.46875 \r\nL 38.28125 30.46875 \r\nQ 38.671875 36.71875 38.671875 45.703125 \r\nQ 33.984375 45.703125 25 45.3125 \r\nL 25 51.953125 \r\nQ 33.984375 51.5625 38.671875 51.5625 \r\nz\r\nM 67.1875 36.71875 \r\nL 67.1875 45.703125 \r\nL 46.09375 45.703125 \r\nL 46.09375 36.71875 \r\nz\r\nM 44.921875 19.921875 \r\nQ 50 12.109375 57.03125 6.640625 \r\nQ 62.890625 10.9375 69.140625 19.921875 \r\nL 45.3125 19.921875 \r\nz\r\n\" id=\"SimHei-24230\"/>\r\n     </defs>\r\n     <use xlink:href=\"#SimHei-28145\"/>\r\n     <use x=\"100\" xlink:href=\"#SimHei-24230\"/>\r\n     <use x=\"200\" xlink:href=\"#SimHei-23398\"/>\r\n     <use x=\"300\" xlink:href=\"#SimHei-20064\"/>\r\n    </g>\r\n   </g>\r\n   <g id=\"text_12\">\r\n    <!-- 1.4% -->\r\n    <g transform=\"translate(158.053733 136.621109)scale(0.1 -0.1)\">\r\n     <use xlink:href=\"#SimHei-49\"/>\r\n     <use x=\"50\" xlink:href=\"#SimHei-46\"/>\r\n     <use x=\"100\" xlink:href=\"#SimHei-52\"/>\r\n     <use x=\"150\" xlink:href=\"#SimHei-37\"/>\r\n    </g>\r\n   </g>\r\n   <g id=\"text_13\">\r\n    <!-- 不同岗位数量在全国的占比 -->\r\n    <g transform=\"translate(43.92 16.7625)scale(0.12 -0.12)\">\r\n     <defs>\r\n      <path d=\"M 93.359375 69.53125 \r\nQ 86.328125 69.921875 81.25 69.921875 \r\nL 58.203125 69.921875 \r\nQ 55.46875 64.453125 51.5625 57.8125 \r\nL 51.5625 8.984375 \r\nQ 51.5625 1.171875 51.953125 -8.59375 \r\nL 43.359375 -8.59375 \r\nQ 43.75 0.78125 43.75 8.984375 \r\nL 43.75 47.265625 \r\nQ 31.640625 30.46875 10.9375 16.40625 \r\nQ 7.8125 21.09375 5.078125 23.046875 \r\nQ 12.890625 26.5625 25.78125 38.078125 \r\nQ 38.671875 49.609375 49.609375 69.921875 \r\nL 23.828125 69.921875 \r\nQ 16.40625 69.921875 8.203125 69.53125 \r\nL 8.203125 77.34375 \r\nQ 19.921875 76.953125 26.171875 76.953125 \r\nL 80.859375 76.953125 \r\nQ 85.9375 76.953125 93.359375 77.34375 \r\nz\r\nM 85.15625 17.578125 \r\nQ 77.734375 26.953125 58.59375 46.484375 \r\nQ 61.71875 49.21875 63.671875 51.953125 \r\nQ 73.046875 43.359375 79.6875 36.90625 \r\nQ 86.328125 30.46875 92.1875 24.21875 \r\nQ 88.28125 21.09375 85.15625 17.578125 \r\nz\r\n\" id=\"SimHei-19981\"/>\r\n      <path d=\"M 91.015625 76.953125 \r\nQ 90.234375 71.09375 90.234375 62.109375 \r\nL 90.234375 -0.78125 \r\nQ 90.234375 -6.25 86.328125 -7.609375 \r\nQ 82.421875 -8.984375 73.828125 -9.765625 \r\nQ 73.828125 -6.25 70.703125 -0.78125 \r\nQ 76.953125 -0.78125 79.6875 -0.1875 \r\nQ 82.421875 0.390625 82.421875 3.125 \r\nL 82.421875 69.53125 \r\nL 17.96875 69.53125 \r\nL 17.96875 -9.375 \r\nL 8.984375 -9.375 \r\nQ 9.375 -3.90625 9.765625 3.125 \r\nL 9.765625 62.109375 \r\nQ 9.765625 71.484375 9.375 76.953125 \r\nL 91.015625 76.953125 \r\nz\r\nM 68.359375 39.84375 \r\nQ 67.578125 35.546875 67.578125 26.5625 \r\nQ 67.578125 17.96875 68.359375 11.328125 \r\nL 31.640625 11.328125 \r\nQ 32.03125 18.359375 32.03125 27.34375 \r\nQ 32.03125 36.328125 31.640625 39.84375 \r\nL 68.359375 39.84375 \r\nz\r\nM 64.0625 58.59375 \r\nQ 71.875 58.59375 75.390625 58.984375 \r\nL 75.390625 51.171875 \r\nQ 71.484375 51.5625 63.671875 51.5625 \r\nL 38.28125 51.5625 \r\nQ 28.90625 51.5625 25 51.171875 \r\nL 25 58.984375 \r\nQ 29.296875 58.59375 38.671875 58.59375 \r\nz\r\nM 60.546875 17.96875 \r\nL 60.546875 33.59375 \r\nL 39.453125 33.59375 \r\nL 39.453125 17.96875 \r\nz\r\n\" id=\"SimHei-21516\"/>\r\n      <path d=\"M 89.453125 48.4375 \r\nQ 89.0625 41.796875 89.0625 33.984375 \r\nL 89.0625 2.734375 \r\nQ 89.0625 -5.46875 83.984375 -7.21875 \r\nQ 78.90625 -8.984375 69.53125 -10.15625 \r\nQ 68.75 -5.46875 66.40625 -1.171875 \r\nQ 75 -1.171875 78.125 -0.1875 \r\nQ 81.25 0.78125 81.25 5.859375 \r\nL 81.25 42.1875 \r\nL 17.96875 42.1875 \r\nL 17.96875 -7.8125 \r\nL 10.15625 -7.8125 \r\nQ 10.546875 3.125 10.546875 21.09375 \r\nQ 10.546875 39.453125 10.15625 48.4375 \r\nL 89.453125 48.4375 \r\nz\r\nM 54.296875 62.5 \r\nL 79.6875 62.5 \r\nQ 79.6875 69.140625 79.296875 75.390625 \r\nL 87.890625 75.390625 \r\nQ 87.5 69.921875 87.5 64.84375 \r\nL 87.5 56.25 \r\nL 12.5 56.25 \r\nL 12.5 66.015625 \r\nQ 12.5 70.703125 12.109375 75.78125 \r\nL 21.484375 75.78125 \r\nQ 20.703125 72.65625 20.703125 69.921875 \r\nL 20.703125 62.5 \r\nL 46.09375 62.5 \r\nL 46.09375 71.875 \r\nQ 46.09375 76.5625 45.703125 80.46875 \r\nL 54.6875 80.46875 \r\nQ 54.296875 76.171875 54.296875 72.265625 \r\nz\r\nM 23.046875 8.984375 \r\nQ 38.28125 14.453125 44.921875 20.3125 \r\nQ 38.28125 24.609375 26.5625 29.296875 \r\nQ 30.078125 32.421875 32.421875 35.15625 \r\nQ 44.140625 29.296875 51.5625 25.390625 \r\nQ 57.8125 29.6875 64.84375 37.890625 \r\nQ 67.578125 35.15625 71.875 32.03125 \r\nQ 68.75 30.46875 65.421875 27.53125 \r\nQ 62.109375 24.609375 58.59375 21.484375 \r\nQ 68.75 15.234375 75.78125 10.9375 \r\nQ 71.875 7.8125 68.359375 5.46875 \r\nQ 62.109375 10.15625 51.953125 16.40625 \r\nQ 43.75 10.15625 28.90625 2.734375 \r\nQ 25.390625 7.03125 23.046875 8.984375 \r\nz\r\n\" id=\"SimHei-23703\"/>\r\n      <path d=\"M 33.203125 76.953125 \r\nQ 30.46875 74.21875 25.390625 58.59375 \r\nL 25.390625 8.984375 \r\nQ 25.390625 -3.515625 25.78125 -10.15625 \r\nL 17.1875 -10.15625 \r\nQ 17.96875 -3.125 17.96875 8.59375 \r\nL 17.96875 46.09375 \r\nQ 12.109375 35.546875 8.59375 30.46875 \r\nQ 5.859375 35.546875 3.125 37.890625 \r\nQ 8.203125 43.359375 14.25 55.859375 \r\nQ 20.3125 68.359375 23.4375 81.25 \r\nQ 28.515625 78.125 33.203125 76.953125 \r\nz\r\nM 83.984375 47.265625 \r\nQ 82.421875 44.921875 79.6875 35.15625 \r\nQ 76.953125 25.390625 71.875 4.6875 \r\nL 85.15625 4.6875 \r\nQ 92.578125 4.6875 95.3125 5.078125 \r\nL 95.3125 -2.734375 \r\nQ 91.796875 -2.34375 85.15625 -2.34375 \r\nL 45.3125 -2.34375 \r\nQ 35.546875 -2.34375 32.03125 -2.734375 \r\nL 32.03125 5.078125 \r\nQ 35.546875 4.6875 44.53125 4.6875 \r\nL 63.671875 4.6875 \r\nQ 68.75 21.875 73.4375 49.609375 \r\nQ 79.6875 48.046875 83.984375 47.265625 \r\nz\r\nM 82.03125 62.890625 \r\nQ 89.0625 62.890625 92.578125 63.28125 \r\nL 92.578125 55.859375 \r\nQ 89.0625 56.25 81.640625 56.25 \r\nL 46.875 56.25 \r\nQ 41.40625 56.25 35.546875 55.859375 \r\nL 35.546875 63.28125 \r\nQ 41.796875 62.890625 46.875 62.890625 \r\nz\r\nM 47.65625 47.65625 \r\nQ 54.6875 27.734375 58.59375 11.328125 \r\nQ 53.90625 9.765625 50.78125 8.59375 \r\nQ 48.828125 17.578125 46.28125 26.171875 \r\nQ 43.75 34.765625 39.84375 44.921875 \r\nQ 43.75 45.703125 47.65625 47.65625 \r\nz\r\nM 60.546875 81.25 \r\nQ 65.234375 73.046875 68.75 67.1875 \r\nQ 65.625 66.40625 60.546875 63.671875 \r\nQ 57.8125 70.703125 53.125 77.34375 \r\nQ 57.03125 78.90625 60.546875 81.25 \r\nz\r\n\" id=\"SimHei-20301\"/>\r\n      <path d=\"M 82.03125 39.0625 \r\nQ 81.640625 34.375 81.640625 26.5625 \r\nQ 81.640625 19.140625 82.03125 14.84375 \r\nL 53.515625 14.84375 \r\nL 53.515625 9.765625 \r\nL 71.484375 9.765625 \r\nQ 78.125 9.765625 83.984375 10.15625 \r\nL 83.984375 4.296875 \r\nQ 78.515625 4.6875 71.484375 4.6875 \r\nL 53.515625 4.6875 \r\nL 53.515625 -1.171875 \r\nL 80.078125 -1.171875 \r\nQ 86.328125 -1.171875 92.578125 -0.78125 \r\nL 92.578125 -6.640625 \r\nQ 86.328125 -6.25 80.078125 -6.25 \r\nL 19.921875 -6.25 \r\nQ 14.0625 -6.25 7.421875 -6.640625 \r\nL 7.421875 -0.78125 \r\nQ 14.453125 -0.78125 19.921875 -1.171875 \r\nL 46.484375 -1.171875 \r\nL 46.484375 4.6875 \r\nL 26.953125 4.6875 \r\nQ 21.09375 4.6875 15.234375 3.90625 \r\nL 15.234375 10.15625 \r\nQ 21.484375 9.765625 26.953125 9.765625 \r\nL 46.484375 9.765625 \r\nL 46.484375 14.84375 \r\nL 17.96875 14.84375 \r\nQ 18.359375 21.484375 18.359375 27.734375 \r\nQ 18.359375 33.984375 17.96875 39.0625 \r\nL 82.03125 39.0625 \r\nz\r\nM 81.25 77.34375 \r\nQ 80.859375 71.484375 80.859375 66.40625 \r\nQ 80.859375 61.328125 81.25 53.125 \r\nL 18.75 53.125 \r\nQ 19.140625 61.328125 19.140625 66.40625 \r\nQ 19.140625 71.484375 18.75 77.34375 \r\nL 81.25 77.34375 \r\nz\r\nM 76.5625 48.4375 \r\nQ 85.9375 48.828125 93.75 49.21875 \r\nL 93.75 42.96875 \r\nQ 85.9375 43.359375 76.953125 43.359375 \r\nL 25.78125 43.359375 \r\nQ 15.234375 43.359375 5.078125 42.96875 \r\nL 5.078125 49.21875 \r\nQ 15.234375 48.828125 25.78125 48.4375 \r\nz\r\nM 73.828125 57.8125 \r\nL 73.828125 62.890625 \r\nL 26.171875 62.890625 \r\nL 26.171875 57.8125 \r\nz\r\nM 73.828125 67.96875 \r\nL 73.828125 72.65625 \r\nL 26.171875 72.65625 \r\nL 26.171875 67.96875 \r\nz\r\nM 74.21875 29.296875 \r\nL 74.21875 33.984375 \r\nL 53.515625 33.984375 \r\nL 53.515625 29.296875 \r\nz\r\nM 46.484375 29.296875 \r\nL 46.484375 33.984375 \r\nL 25.78125 33.984375 \r\nL 25.78125 29.296875 \r\nz\r\nM 46.484375 19.921875 \r\nL 46.484375 24.21875 \r\nL 25.78125 24.21875 \r\nL 25.78125 19.921875 \r\nz\r\nM 74.21875 19.921875 \r\nL 74.21875 24.21875 \r\nL 53.515625 24.21875 \r\nL 53.515625 19.921875 \r\nz\r\n\" id=\"SimHei-37327\"/>\r\n      <path d=\"M 37.890625 65.625 \r\nQ 39.453125 70.703125 40.625 74.40625 \r\nQ 41.796875 78.125 42.1875 82.03125 \r\nQ 47.65625 80.859375 51.953125 79.6875 \r\nQ 50 75.78125 49.21875 73.625 \r\nQ 48.4375 71.484375 46.484375 65.625 \r\nL 78.125 65.625 \r\nQ 86.328125 65.625 92.96875 66.015625 \r\nL 92.96875 58.59375 \r\nQ 86.328125 58.984375 78.125 58.984375 \r\nL 44.140625 58.984375 \r\nQ 41.796875 53.515625 38.078125 46.875 \r\nQ 34.375 40.234375 28.515625 32.421875 \r\nL 28.515625 5.078125 \r\nQ 28.515625 -2.734375 28.90625 -10.15625 \r\nL 20.703125 -10.15625 \r\nQ 21.09375 -2.734375 21.09375 5.078125 \r\nL 21.09375 25.390625 \r\nQ 14.84375 19.53125 9.765625 15.625 \r\nQ 7.03125 19.140625 3.125 21.484375 \r\nQ 7.8125 24.21875 12.5 28.125 \r\nQ 17.1875 32.03125 21.09375 37.109375 \r\nQ 21.09375 40.625 20.703125 44.140625 \r\nL 26.953125 44.140625 \r\nQ 29.6875 47.265625 31.828125 51.171875 \r\nQ 33.984375 55.078125 35.546875 58.984375 \r\nL 26.171875 58.984375 \r\nQ 16.796875 58.984375 9.765625 58.59375 \r\nL 9.765625 66.015625 \r\nQ 17.1875 65.625 26.171875 65.625 \r\nz\r\nM 57.8125 35.15625 \r\nL 57.8125 40.625 \r\nQ 57.8125 48.4375 57.421875 53.125 \r\nL 66.015625 53.125 \r\nQ 65.625 48.4375 65.625 40.625 \r\nL 65.625 35.15625 \r\nL 74.609375 35.15625 \r\nQ 81.640625 35.15625 87.5 35.546875 \r\nL 87.5 28.125 \r\nQ 81.640625 28.515625 74.609375 28.515625 \r\nL 65.625 28.515625 \r\nL 65.625 2.34375 \r\nL 80.46875 2.34375 \r\nQ 87.890625 2.34375 93.75 2.734375 \r\nL 93.75 -4.296875 \r\nQ 87.890625 -3.90625 80.46875 -3.90625 \r\nL 48.828125 -3.90625 \r\nQ 38.671875 -3.90625 32.8125 -4.296875 \r\nL 32.8125 2.734375 \r\nQ 38.671875 2.34375 48.828125 2.34375 \r\nL 57.8125 2.34375 \r\nL 57.8125 28.515625 \r\nL 50.390625 28.515625 \r\nQ 43.359375 28.515625 36.71875 28.125 \r\nL 36.71875 35.546875 \r\nQ 43.359375 35.15625 50.390625 35.15625 \r\nz\r\n\" id=\"SimHei-22312\"/>\r\n      <path d=\"M 54.296875 75.390625 \r\nQ 67.96875 53.515625 95.703125 47.265625 \r\nQ 92.1875 42.96875 91.015625 38.28125 \r\nQ 83.203125 41.40625 77.734375 44.921875 \r\nL 77.734375 38.671875 \r\nQ 73.4375 39.0625 64.0625 39.0625 \r\nL 54.6875 39.0625 \r\nL 54.6875 23.4375 \r\nL 69.53125 23.4375 \r\nQ 77.734375 23.4375 82.8125 23.828125 \r\nL 82.8125 16.796875 \r\nQ 77.734375 17.1875 69.53125 17.1875 \r\nL 54.6875 17.1875 \r\nL 54.6875 -0.390625 \r\nL 69.921875 -0.390625 \r\nQ 81.640625 -0.390625 89.0625 0.390625 \r\nL 89.0625 -7.8125 \r\nQ 82.03125 -6.640625 70.703125 -6.640625 \r\nL 27.734375 -6.640625 \r\nQ 16.015625 -6.640625 10.15625 -7.03125 \r\nL 10.15625 0 \r\nQ 16.015625 -0.390625 27.734375 -0.390625 \r\nL 46.875 -0.390625 \r\nL 46.875 17.1875 \r\nL 35.9375 17.1875 \r\nQ 22.65625 17.1875 18.359375 16.796875 \r\nL 18.359375 23.828125 \r\nQ 22.65625 23.4375 35.546875 23.4375 \r\nL 46.875 23.4375 \r\nL 46.875 39.0625 \r\nL 39.0625 39.0625 \r\nQ 26.953125 39.0625 23.4375 38.671875 \r\nL 23.4375 44.921875 \r\nQ 19.921875 42.1875 10.15625 36.71875 \r\nQ 7.8125 41.40625 4.6875 44.921875 \r\nQ 14.0625 47.265625 26.5625 56.640625 \r\nQ 39.0625 66.015625 46.484375 81.25 \r\nQ 51.171875 79.296875 56.25 77.34375 \r\nz\r\nM 25.78125 46.09375 \r\nQ 30.46875 45.703125 39.453125 45.703125 \r\nL 62.890625 45.703125 \r\nQ 70.703125 45.703125 75 46.09375 \r\nQ 58.203125 54.6875 50 71.09375 \r\nQ 39.453125 55.078125 25.78125 46.09375 \r\nz\r\n\" id=\"SimHei-20840\"/>\r\n      <path d=\"M 90.234375 77.734375 \r\nQ 89.84375 67.96875 89.84375 55.859375 \r\nL 89.84375 14.0625 \r\nQ 89.84375 1.953125 90.234375 -9.765625 \r\nL 82.421875 -9.765625 \r\nL 82.421875 -4.296875 \r\nL 17.578125 -4.296875 \r\nL 17.578125 -10.15625 \r\nL 9.765625 -10.15625 \r\nQ 10.15625 1.953125 10.15625 14.84375 \r\nL 10.15625 55.859375 \r\nQ 10.15625 67.578125 9.765625 77.734375 \r\nL 90.234375 77.734375 \r\nz\r\nM 82.421875 1.5625 \r\nL 82.421875 71.875 \r\nL 17.578125 71.875 \r\nL 17.578125 1.5625 \r\nz\r\nM 62.109375 61.328125 \r\nQ 67.96875 61.328125 74.609375 61.71875 \r\nL 74.609375 54.6875 \r\nQ 68.75 55.078125 62.109375 55.078125 \r\nL 52.34375 55.078125 \r\nL 52.34375 42.1875 \r\nL 59.375 42.1875 \r\nQ 66.40625 42.1875 72.65625 42.578125 \r\nL 72.65625 35.546875 \r\nQ 66.40625 35.9375 59.375 35.9375 \r\nL 52.34375 35.9375 \r\nL 52.34375 18.359375 \r\nL 63.28125 18.359375 \r\nQ 70.3125 18.359375 76.5625 18.75 \r\nL 76.5625 11.71875 \r\nQ 70.703125 12.109375 63.28125 12.109375 \r\nL 36.71875 12.109375 \r\nQ 30.078125 12.109375 23.4375 11.71875 \r\nL 23.4375 18.75 \r\nQ 30.078125 18.359375 36.71875 18.359375 \r\nL 45.3125 18.359375 \r\nL 45.3125 35.9375 \r\nL 39.84375 35.9375 \r\nQ 33.203125 35.9375 27.34375 35.546875 \r\nL 27.34375 42.578125 \r\nQ 33.203125 42.1875 39.84375 42.1875 \r\nL 45.3125 42.1875 \r\nL 45.3125 55.078125 \r\nL 39.453125 55.078125 \r\nQ 32.421875 55.078125 25.78125 54.6875 \r\nL 25.78125 61.71875 \r\nQ 32.421875 61.328125 39.453125 61.328125 \r\nz\r\nM 63.28125 33.203125 \r\nQ 65.234375 31.25 71.09375 25 \r\nQ 67.1875 22.65625 64.453125 20.703125 \r\nQ 63.28125 22.265625 57.8125 28.90625 \r\nQ 60.9375 31.25 63.28125 33.203125 \r\nz\r\n\" id=\"SimHei-22269\"/>\r\n      <path d=\"M 32.8125 77.734375 \r\nQ 30.859375 74.21875 27.34375 61.71875 \r\nL 44.921875 61.71875 \r\nQ 44.53125 55.078125 44.53125 44.921875 \r\nL 44.53125 10.546875 \r\nQ 44.53125 4.6875 44.921875 -6.25 \r\nL 37.109375 -6.25 \r\nL 37.109375 1.5625 \r\nL 17.1875 1.5625 \r\nL 17.1875 -7.03125 \r\nL 9.375 -7.03125 \r\nQ 9.765625 5.46875 9.765625 8.59375 \r\nL 9.765625 44.53125 \r\nQ 9.765625 55.078125 9.375 61.71875 \r\nL 20.703125 61.71875 \r\nQ 22.65625 70.703125 23.828125 80.46875 \r\nQ 29.296875 78.515625 32.8125 77.734375 \r\nz\r\nM 91.015625 48.046875 \r\nQ 90.625 24.21875 89.0625 2.734375 \r\nQ 88.28125 -4.296875 81.640625 -6.640625 \r\nQ 75 -8.984375 66.796875 -9.765625 \r\nQ 66.40625 -5.46875 63.28125 -0.78125 \r\nQ 71.09375 -1.171875 75.578125 -0.390625 \r\nQ 80.078125 0.390625 81.25 3.125 \r\nQ 82.421875 5.859375 83 19.140625 \r\nQ 83.59375 32.421875 83.984375 56.25 \r\nL 61.328125 56.25 \r\nQ 58.203125 48.828125 52.34375 38.671875 \r\nQ 49.609375 41.40625 45.703125 42.96875 \r\nQ 49.21875 47.65625 52.34375 54.296875 \r\nQ 55.46875 60.9375 57.8125 68.75 \r\nQ 60.15625 76.5625 60.546875 80.859375 \r\nQ 66.015625 78.515625 69.921875 77.34375 \r\nQ 67.96875 74.21875 66.59375 70.5 \r\nQ 65.234375 66.796875 63.671875 63.28125 \r\nL 91.40625 63.28125 \r\nQ 91.015625 55.078125 91.015625 48.046875 \r\nz\r\nM 37.109375 8.203125 \r\nL 37.109375 28.90625 \r\nL 17.1875 28.90625 \r\nL 17.1875 8.203125 \r\nz\r\nM 37.109375 35.546875 \r\nL 37.109375 55.078125 \r\nL 17.1875 55.078125 \r\nL 17.1875 35.546875 \r\nz\r\nM 67.96875 32.03125 \r\nQ 70.3125 27.34375 73.4375 19.921875 \r\nQ 70.703125 18.75 66.015625 16.015625 \r\nQ 63.28125 23.4375 60.9375 28.703125 \r\nQ 58.59375 33.984375 56.25 37.5 \r\nQ 58.984375 39.0625 63.28125 41.40625 \r\nz\r\n\" id=\"SimHei-30340\"/>\r\n      <path d=\"M 42.578125 68.75 \r\nQ 42.578125 75 42.1875 79.296875 \r\nL 52.734375 79.296875 \r\nQ 52.34375 74.609375 52.34375 68.75 \r\nL 52.34375 62.5 \r\nL 82.03125 62.5 \r\nQ 92.1875 62.5 96.09375 62.890625 \r\nL 96.09375 55.078125 \r\nQ 92.1875 55.46875 82.8125 55.46875 \r\nL 52.34375 55.46875 \r\nL 52.34375 36.328125 \r\nL 85.15625 36.328125 \r\nQ 84.375 31.25 84.375 23.828125 \r\nL 84.375 5.078125 \r\nQ 84.375 -3.90625 85.15625 -8.59375 \r\nL 75.78125 -8.59375 \r\nL 75.78125 -0.390625 \r\nL 23.046875 -0.390625 \r\nL 23.046875 -8.59375 \r\nL 13.671875 -8.59375 \r\nQ 14.0625 -2.34375 14.0625 2.734375 \r\nL 14.0625 24.21875 \r\nQ 14.0625 31.25 13.671875 36.328125 \r\nL 42.578125 36.328125 \r\nz\r\nM 75.78125 6.640625 \r\nL 75.78125 29.296875 \r\nL 23.046875 29.296875 \r\nL 23.046875 6.640625 \r\nz\r\n\" id=\"SimHei-21344\"/>\r\n      <path d=\"M 58.984375 79.6875 \r\nQ 58.59375 71.484375 58.59375 64.0625 \r\nL 58.59375 47.65625 \r\nQ 76.953125 56.25 85.546875 65.234375 \r\nQ 88.671875 60.9375 92.1875 57.421875 \r\nQ 87.5 54.6875 78.703125 49.796875 \r\nQ 69.921875 44.921875 58.59375 39.84375 \r\nL 58.59375 7.03125 \r\nQ 58.59375 1.5625 63.28125 1.5625 \r\nL 78.125 1.5625 \r\nQ 80.859375 1.5625 82.21875 3.90625 \r\nQ 83.59375 6.25 85.15625 14.0625 \r\nQ 88.28125 12.109375 94.140625 10.546875 \r\nQ 91.40625 0 88.28125 -2.734375 \r\nQ 85.15625 -5.46875 81.640625 -5.46875 \r\nL 60.9375 -5.46875 \r\nQ 50.78125 -5.46875 50.78125 4.296875 \r\nL 50.78125 62.5 \r\nQ 50.78125 71.09375 50.390625 79.6875 \r\nL 58.984375 79.6875 \r\nz\r\nM 19.921875 77.734375 \r\nQ 19.53125 71.484375 19.53125 62.5 \r\nL 19.53125 49.21875 \r\nL 28.90625 49.21875 \r\nQ 36.328125 49.21875 44.921875 49.609375 \r\nL 44.921875 41.40625 \r\nQ 36.328125 41.796875 28.90625 41.796875 \r\nL 19.53125 41.796875 \r\nL 19.53125 7.421875 \r\nQ 25.78125 10.15625 30.65625 12.6875 \r\nQ 35.546875 15.234375 44.53125 19.921875 \r\nQ 45.3125 14.84375 46.09375 11.71875 \r\nQ 37.109375 7.421875 27.53125 2.734375 \r\nQ 17.96875 -1.953125 14.453125 -5.078125 \r\nQ 11.71875 -1.5625 8.984375 3.125 \r\nQ 10.9375 4.6875 11.71875 9.375 \r\nL 11.71875 61.71875 \r\nQ 11.71875 71.09375 11.328125 77.734375 \r\nL 19.921875 77.734375 \r\nz\r\n\" id=\"SimHei-27604\"/>\r\n     </defs>\r\n     <use xlink:href=\"#SimHei-19981\"/>\r\n     <use x=\"100\" xlink:href=\"#SimHei-21516\"/>\r\n     <use x=\"200\" xlink:href=\"#SimHei-23703\"/>\r\n     <use x=\"300\" xlink:href=\"#SimHei-20301\"/>\r\n     <use x=\"400\" xlink:href=\"#SimHei-25968\"/>\r\n     <use x=\"500\" xlink:href=\"#SimHei-37327\"/>\r\n     <use x=\"600\" xlink:href=\"#SimHei-22312\"/>\r\n     <use x=\"700\" xlink:href=\"#SimHei-20840\"/>\r\n     <use x=\"800\" xlink:href=\"#SimHei-22269\"/>\r\n     <use x=\"900\" xlink:href=\"#SimHei-30340\"/>\r\n     <use x=\"1000\" xlink:href=\"#SimHei-21344\"/>\r\n     <use x=\"1100\" xlink:href=\"#SimHei-27604\"/>\r\n    </g>\r\n   </g>\r\n  </g>\r\n </g>\r\n</svg>\r\n"
     },
     "metadata": {}
    }
   ],
   "source": [
    "# 显示前十行工作数据在全国的占比\n",
    "plt.pie(jobs_info[\"search_by\"].value_counts(),labels=jobs_info[\"search_by\"].value_counts().index,shadow=True,autopct='%1.1f%%')\n",
    "\n",
    "plt.title(\"不同岗位数量在全国的占比\")\n",
    "\n",
    "plt.show()"
   ]
  },
  {
   "source": [
    "从饼图中可以看出算法、数据分析、人工智能占了绝大部分岗位,算法岗位占了绝大部分的岗位（65.3%）。"
   ],
   "cell_type": "markdown",
   "metadata": {}
  },
  {
   "source": [
    "### 全国排名前十技术岗位"
   ],
   "cell_type": "markdown",
   "metadata": {}
  },
  {
   "cell_type": "code",
   "execution_count": 48,
   "metadata": {},
   "outputs": [],
   "source": [
    "# # 取job_name_detail 值数量，并取前十行数据\n",
    "jobs_info_counts = jobs_info['job_position_names'].value_counts().iloc[1:10]"
   ]
  },
  {
   "cell_type": "code",
   "execution_count": 49,
   "metadata": {},
   "outputs": [
    {
     "output_type": "display_data",
     "data": {
      "text/plain": "<Figure size 432x288 with 1 Axes>",
      "image/svg+xml": "<?xml version=\"1.0\" encoding=\"utf-8\" standalone=\"no\"?>\r\n<!DOCTYPE svg PUBLIC \"-//W3C//DTD SVG 1.1//EN\"\r\n  \"http://www.w3.org/Graphics/SVG/1.1/DTD/svg11.dtd\">\r\n<!-- Created with matplotlib (https://matplotlib.org/) -->\r\n<svg height=\"247.49625pt\" version=\"1.1\" viewBox=\"0 0 373.688881 247.49625\" width=\"373.688881pt\" xmlns=\"http://www.w3.org/2000/svg\" xmlns:xlink=\"http://www.w3.org/1999/xlink\">\r\n <metadata>\r\n  <rdf:RDF xmlns:cc=\"http://creativecommons.org/ns#\" xmlns:dc=\"http://purl.org/dc/elements/1.1/\" xmlns:rdf=\"http://www.w3.org/1999/02/22-rdf-syntax-ns#\">\r\n   <cc:Work>\r\n    <dc:type rdf:resource=\"http://purl.org/dc/dcmitype/StillImage\"/>\r\n    <dc:date>2021-03-26T14:41:07.127549</dc:date>\r\n    <dc:format>image/svg+xml</dc:format>\r\n    <dc:creator>\r\n     <cc:Agent>\r\n      <dc:title>Matplotlib v3.3.2, https://matplotlib.org/</dc:title>\r\n     </cc:Agent>\r\n    </dc:creator>\r\n   </cc:Work>\r\n  </rdf:RDF>\r\n </metadata>\r\n <defs>\r\n  <style type=\"text/css\">*{stroke-linecap:butt;stroke-linejoin:round;}</style>\r\n </defs>\r\n <g id=\"figure_1\">\r\n  <g id=\"patch_1\">\r\n   <path d=\"M 0 247.49625 \r\nL 373.688881 247.49625 \r\nL 373.688881 0 \r\nL 0 0 \r\nz\r\n\" style=\"fill:none;\"/>\r\n  </g>\r\n  <g id=\"axes_1\">\r\n   <g id=\"patch_2\">\r\n    <path d=\"M 268.105662 133.31577 \r\nC 268.105662 118.271331 264.202255 103.481159 256.77833 90.396035 \r\nC 249.354404 77.310911 238.660905 66.373139 225.746766 58.655616 \r\nL 181.129662 133.31577 \r\nL 268.105662 133.31577 \r\nz\r\n\" style=\"fill:#092436;opacity:0.5;stroke:#092436;stroke-linejoin:miter;\"/>\r\n   </g>\r\n   <g id=\"patch_3\">\r\n    <path d=\"M 225.746766 58.655616 \r\nC 214.361436 51.851713 201.56918 47.741419 188.351541 46.640116 \r\nC 175.133902 45.538812 161.837815 47.475406 149.483481 52.301303 \r\nL 181.129662 133.31577 \r\nL 225.746766 58.655616 \r\nz\r\n\" style=\"fill:#4c2604;opacity:0.5;stroke:#4c2604;stroke-linejoin:miter;\"/>\r\n   </g>\r\n   <g id=\"patch_4\">\r\n    <path d=\"M 149.483481 52.301303 \r\nC 138.127042 56.737399 127.829239 63.512209 119.26005 72.184962 \r\nC 110.690861 80.857714 104.040244 91.236157 99.740888 102.645066 \r\nL 181.129662 133.31577 \r\nL 149.483481 52.301303 \r\nz\r\n\" style=\"fill:#0d300d;opacity:0.5;stroke:#0d300d;stroke-linejoin:miter;\"/>\r\n   </g>\r\n   <g id=\"patch_5\">\r\n    <path d=\"M 99.740888 102.645066 \r\nC 95.947465 112.711415 94.054298 123.394728 94.157678 134.151622 \r\nC 94.261058 144.908516 96.359203 155.55347 100.345394 165.545053 \r\nL 181.129662 133.31577 \r\nL 99.740888 102.645066 \r\nz\r\n\" style=\"fill:#400c0c;opacity:0.5;stroke:#400c0c;stroke-linejoin:miter;\"/>\r\n   </g>\r\n   <g id=\"patch_6\">\r\n    <path d=\"M 100.345394 165.545053 \r\nC 104.165047 175.119198 109.65648 183.938521 116.562925 191.590645 \r\nC 123.46937 199.24277 131.681477 205.606541 140.815263 210.384401 \r\nL 181.129662 133.31577 \r\nL 100.345394 165.545053 \r\nz\r\n\" style=\"fill:#2c1f39;opacity:0.5;stroke:#2c1f39;stroke-linejoin:miter;\"/>\r\n   </g>\r\n   <g id=\"patch_7\">\r\n    <path d=\"M 140.815263 210.384401 \r\nC 149.401905 214.87605 158.679144 217.901254 168.262999 219.3348 \r\nC 177.846854 220.768346 187.603251 220.590179 197.128377 218.807674 \r\nL 181.129662 133.31577 \r\nL 140.815263 210.384401 \r\nz\r\n\" style=\"fill:#2a1a16;opacity:0.5;stroke:#2a1a16;stroke-linejoin:miter;\"/>\r\n   </g>\r\n   <g id=\"patch_8\">\r\n    <path d=\"M 197.128377 218.807674 \r\nC 204.175674 217.488863 211.032941 215.303709 217.54396 212.301993 \r\nC 224.05498 209.300277 230.169931 205.504968 235.749509 201.002526 \r\nL 181.129662 133.31577 \r\nL 197.128377 218.807674 \r\nz\r\n\" style=\"fill:#44243a;opacity:0.5;stroke:#44243a;stroke-linejoin:miter;\"/>\r\n   </g>\r\n   <g id=\"patch_9\">\r\n    <path d=\"M 235.749509 201.002526 \r\nC 241.133224 196.658135 245.979443 191.686898 250.185332 186.194301 \r\nC 254.391221 180.701704 257.926818 174.726874 260.7171 168.396594 \r\nL 181.129662 133.31577 \r\nL 235.749509 201.002526 \r\nz\r\n\" style=\"fill:#262626;opacity:0.5;stroke:#262626;stroke-linejoin:miter;\"/>\r\n   </g>\r\n   <g id=\"patch_10\">\r\n    <path d=\"M 260.7171 168.396594 \r\nC 263.146654 162.884695 264.997052 157.135285 266.238479 151.240997 \r\nC 267.479907 145.346709 268.105662 139.339371 268.105662 133.31577 \r\nL 181.129662 133.31577 \r\nL 260.7171 168.396594 \r\nz\r\n\" style=\"fill:#38390a;opacity:0.5;stroke:#38390a;stroke-linejoin:miter;\"/>\r\n   </g>\r\n   <g id=\"patch_11\">\r\n    <path d=\"M 269.845182 131.57625 \r\nC 269.845182 116.531811 265.941775 101.741639 258.51785 88.656515 \r\nC 251.093924 75.571391 240.400425 64.633619 227.486286 56.916096 \r\nL 182.869182 131.57625 \r\nL 269.845182 131.57625 \r\nz\r\n\" style=\"fill:#1f77b4;\"/>\r\n   </g>\r\n   <g id=\"patch_12\">\r\n    <path d=\"M 227.486286 56.916096 \r\nC 216.100956 50.112193 203.3087 46.001899 190.091061 44.900596 \r\nC 176.873422 43.799292 163.577335 45.735886 151.223001 50.561783 \r\nL 182.869182 131.57625 \r\nL 227.486286 56.916096 \r\nz\r\n\" style=\"fill:#ff7f0e;\"/>\r\n   </g>\r\n   <g id=\"patch_13\">\r\n    <path d=\"M 151.223001 50.561783 \r\nC 139.866562 54.997879 129.568759 61.772689 120.99957 70.445442 \r\nC 112.430381 79.118194 105.779764 89.496637 101.480408 100.905546 \r\nL 182.869182 131.57625 \r\nL 151.223001 50.561783 \r\nz\r\n\" style=\"fill:#2ca02c;\"/>\r\n   </g>\r\n   <g id=\"patch_14\">\r\n    <path d=\"M 101.480408 100.905546 \r\nC 97.686985 110.971895 95.793818 121.655208 95.897198 132.412102 \r\nC 96.000578 143.168996 98.098723 153.81395 102.084914 163.805533 \r\nL 182.869182 131.57625 \r\nL 101.480408 100.905546 \r\nz\r\n\" style=\"fill:#d62728;\"/>\r\n   </g>\r\n   <g id=\"patch_15\">\r\n    <path d=\"M 102.084914 163.805533 \r\nC 105.904567 173.379678 111.396 182.199001 118.302445 189.851125 \r\nC 125.20889 197.50325 133.420997 203.867021 142.554783 208.644881 \r\nL 182.869182 131.57625 \r\nL 102.084914 163.805533 \r\nz\r\n\" style=\"fill:#9467bd;\"/>\r\n   </g>\r\n   <g id=\"patch_16\">\r\n    <path d=\"M 142.554783 208.644881 \r\nC 151.141425 213.13653 160.418664 216.161734 170.002519 217.59528 \r\nC 179.586374 219.028826 189.342771 218.850659 198.867897 217.068154 \r\nL 182.869182 131.57625 \r\nL 142.554783 208.644881 \r\nz\r\n\" style=\"fill:#8c564b;\"/>\r\n   </g>\r\n   <g id=\"patch_17\">\r\n    <path d=\"M 198.867897 217.068154 \r\nC 205.915194 215.749343 212.772461 213.564189 219.28348 210.562473 \r\nC 225.7945 207.560757 231.909451 203.765448 237.489029 199.263006 \r\nL 182.869182 131.57625 \r\nL 198.867897 217.068154 \r\nz\r\n\" style=\"fill:#e377c2;\"/>\r\n   </g>\r\n   <g id=\"patch_18\">\r\n    <path d=\"M 237.489029 199.263006 \r\nC 242.872744 194.918615 247.718963 189.947378 251.924852 184.454781 \r\nC 256.130741 178.962184 259.666338 172.987354 262.45662 166.657074 \r\nL 182.869182 131.57625 \r\nL 237.489029 199.263006 \r\nz\r\n\" style=\"fill:#7f7f7f;\"/>\r\n   </g>\r\n   <g id=\"patch_19\">\r\n    <path d=\"M 262.45662 166.657074 \r\nC 264.886174 161.145175 266.736572 155.395765 267.977999 149.501477 \r\nC 269.219427 143.607189 269.845182 137.599851 269.845182 131.57625 \r\nL 182.869182 131.57625 \r\nL 262.45662 166.657074 \r\nz\r\n\" style=\"fill:#bcbd22;\"/>\r\n   </g>\r\n   <g id=\"matplotlib.axis_1\"/>\r\n   <g id=\"matplotlib.axis_2\"/>\r\n   <g id=\"text_1\">\r\n    <!-- 数据分析师 -->\r\n    <g transform=\"translate(266.082716 87.665323)scale(0.1 -0.1)\">\r\n     <defs>\r\n      <path d=\"M 70.703125 76.953125 \r\nQ 69.921875 75 68.75 71.671875 \r\nQ 67.578125 68.359375 65.234375 59.765625 \r\nL 83.203125 59.765625 \r\nQ 87.109375 59.765625 92.578125 60.15625 \r\nL 92.578125 53.125 \r\nQ 88.28125 53.515625 85.9375 53.515625 \r\nQ 85.9375 47.265625 83.78125 33.78125 \r\nQ 81.640625 20.3125 76.171875 10.546875 \r\nQ 80.078125 5.859375 84.953125 2.140625 \r\nQ 89.84375 -1.5625 94.140625 -3.125 \r\nQ 89.453125 -6.640625 87.890625 -9.765625 \r\nQ 83.203125 -7.03125 79.296875 -3.515625 \r\nQ 75.390625 0 71.484375 5.078125 \r\nQ 67.1875 0.390625 62.296875 -2.921875 \r\nQ 57.421875 -6.25 50 -10.15625 \r\nQ 48.046875 -6.640625 44.53125 -4.6875 \r\nQ 50.390625 -2.34375 57.03125 1.953125 \r\nQ 63.671875 6.25 67.1875 10.546875 \r\nQ 64.453125 16.015625 61.90625 22.265625 \r\nQ 59.375 28.515625 57.421875 38.671875 \r\nQ 56.25 35.546875 53.515625 30.46875 \r\nQ 50.78125 32.03125 46.875 33.59375 \r\nQ 53.125 44.53125 57.03125 57.421875 \r\nQ 60.9375 70.3125 62.109375 79.6875 \r\nQ 66.796875 77.734375 70.703125 76.953125 \r\nz\r\nM 32.8125 35.15625 \r\nQ 31.25 33.59375 29.296875 30.078125 \r\nL 50.78125 30.078125 \r\nQ 48.4375 20.3125 42.578125 10.546875 \r\nQ 48.828125 8.203125 52.34375 6.25 \r\nQ 50.390625 3.515625 48.828125 0.390625 \r\nQ 45.3125 2.734375 38.28125 5.078125 \r\nQ 30.46875 -3.515625 11.328125 -10.15625 \r\nQ 9.375 -5.859375 6.25 -4.296875 \r\nQ 24.609375 0 31.25 7.421875 \r\nQ 20.3125 10.15625 13.28125 12.109375 \r\nQ 15.625 15.625 19.53125 23.828125 \r\nQ 15.625 23.828125 6.640625 23.4375 \r\nL 6.640625 30.46875 \r\nQ 14.0625 30.078125 21.875 30.078125 \r\nQ 23.4375 33.59375 24.21875 37.890625 \r\nQ 28.515625 36.328125 32.8125 35.15625 \r\nz\r\nM 27.734375 61.71875 \r\nQ 27.734375 71.09375 27.34375 79.6875 \r\nL 35.15625 79.6875 \r\nQ 34.765625 71.484375 34.765625 61.71875 \r\nQ 48.046875 61.71875 53.515625 62.109375 \r\nL 53.515625 55.078125 \r\nQ 48.046875 55.46875 34.765625 55.46875 \r\nQ 34.765625 44.140625 35.15625 37.890625 \r\nL 27.34375 37.890625 \r\nQ 27.734375 43.359375 27.734375 51.5625 \r\nQ 25.78125 48.4375 20.3125 43.546875 \r\nQ 14.84375 38.671875 10.15625 35.9375 \r\nQ 8.203125 39.453125 4.296875 41.015625 \r\nQ 7.8125 42.1875 13.671875 46.484375 \r\nQ 19.53125 50.78125 22.65625 55.46875 \r\nQ 14.84375 55.46875 7.8125 55.078125 \r\nL 7.8125 62.109375 \r\nQ 14.453125 61.71875 27.734375 61.71875 \r\nz\r\nM 62.109375 49.609375 \r\nQ 65.625 26.5625 71.875 17.578125 \r\nQ 75.78125 26.5625 77.140625 35.734375 \r\nQ 78.515625 44.921875 78.90625 53.515625 \r\nL 63.671875 53.515625 \r\nL 62.109375 49.609375 \r\nz\r\nM 22.65625 15.625 \r\nQ 27.34375 14.453125 35.546875 12.5 \r\nQ 38.671875 16.40625 41.40625 23.828125 \r\nL 26.953125 23.828125 \r\nQ 25 19.921875 22.65625 15.625 \r\nz\r\nM 51.953125 75.390625 \r\nQ 50 72.265625 48.828125 69.53125 \r\nQ 47.65625 66.796875 45.703125 62.890625 \r\nQ 42.578125 64.453125 39.453125 65.234375 \r\nQ 42.578125 70.3125 45.3125 78.125 \r\nQ 49.21875 76.171875 51.953125 75.390625 \r\nz\r\nM 40.234375 52.734375 \r\nQ 45.3125 47.65625 50 42.578125 \r\nQ 47.65625 40.625 44.921875 37.890625 \r\nQ 39.453125 44.53125 35.9375 48.4375 \r\nQ 38.28125 50.390625 40.234375 52.734375 \r\nz\r\nM 14.453125 78.125 \r\nQ 19.921875 72.65625 23.4375 67.1875 \r\nL 17.578125 63.671875 \r\nQ 14.84375 69.140625 9.375 73.828125 \r\nQ 12.890625 76.171875 14.453125 78.125 \r\nz\r\n\" id=\"SimHei-25968\"/>\r\n      <path d=\"M 89.84375 74.609375 \r\nQ 89.453125 71.09375 89.453125 66.015625 \r\nL 89.453125 60.9375 \r\nQ 89.453125 53.90625 89.84375 50.78125 \r\nL 48.4375 50.78125 \r\nL 48.4375 39.0625 \r\nL 66.40625 39.0625 \r\nQ 66.40625 42.578125 66.015625 49.609375 \r\nL 73.4375 49.609375 \r\nQ 73.046875 43.359375 73.046875 39.0625 \r\nL 83.59375 39.0625 \r\nQ 90.625 39.0625 95.3125 39.453125 \r\nL 95.3125 32.421875 \r\nQ 90.625 32.8125 83.984375 32.8125 \r\nL 73.046875 32.8125 \r\nL 73.046875 22.265625 \r\nL 90.234375 22.265625 \r\nQ 89.84375 14.84375 89.84375 12.5 \r\nL 89.84375 2.734375 \r\nQ 89.84375 -3.515625 90.234375 -8.984375 \r\nL 83.203125 -8.984375 \r\nL 83.203125 -3.515625 \r\nL 57.421875 -3.515625 \r\nL 57.421875 -9.375 \r\nL 50.390625 -9.375 \r\nQ 50.78125 -5.078125 50.78125 1.5625 \r\nL 50.78125 12.890625 \r\nQ 50.78125 16.796875 50.390625 22.265625 \r\nL 66.40625 22.265625 \r\nL 66.40625 32.8125 \r\nL 48.046875 32.8125 \r\nQ 47.65625 21.484375 45.109375 11.515625 \r\nQ 42.578125 1.5625 37.890625 -7.421875 \r\nQ 34.375 -5.078125 30.46875 -3.90625 \r\nQ 35.15625 2.34375 37.296875 9.375 \r\nQ 39.453125 16.40625 40.625 24.40625 \r\nQ 41.796875 32.421875 41.796875 41.015625 \r\nL 41.796875 55.859375 \r\nQ 41.796875 62.109375 41.40625 74.609375 \r\nL 89.84375 74.609375 \r\nz\r\nM 19.921875 69.140625 \r\nQ 19.921875 74.609375 19.53125 79.296875 \r\nL 27.34375 79.296875 \r\nQ 26.953125 75 26.953125 69.140625 \r\nL 26.953125 58.984375 \r\nQ 30.859375 58.984375 39.0625 59.375 \r\nL 39.0625 52.734375 \r\nQ 30.859375 53.125 26.953125 53.125 \r\nL 26.953125 38.28125 \r\nQ 32.03125 41.015625 37.5 44.53125 \r\nQ 37.890625 41.40625 39.453125 38.671875 \r\nQ 32.03125 34.375 26.953125 31.25 \r\nL 26.953125 2.734375 \r\nQ 26.953125 -4.6875 23.234375 -6.25 \r\nQ 19.53125 -7.8125 12.109375 -8.984375 \r\nQ 11.328125 -5.078125 9.375 -0.78125 \r\nQ 16.015625 -0.78125 17.96875 -0.1875 \r\nQ 19.921875 0.390625 19.921875 5.078125 \r\nL 19.921875 28.125 \r\nQ 14.0625 25 8.203125 20.703125 \r\nQ 7.03125 23.828125 4.296875 28.125 \r\nQ 12.109375 30.859375 19.921875 35.15625 \r\nL 19.921875 53.125 \r\nQ 12.5 53.125 5.46875 52.734375 \r\nL 5.46875 59.375 \r\nQ 12.5 58.984375 19.921875 58.984375 \r\nz\r\nM 82.8125 56.640625 \r\nL 82.8125 68.75 \r\nL 48.4375 68.75 \r\nL 48.4375 56.640625 \r\nz\r\nM 83.203125 2.34375 \r\nL 83.203125 16.796875 \r\nL 57.421875 16.796875 \r\nL 57.421875 2.34375 \r\nz\r\n\" id=\"SimHei-25454\"/>\r\n      <path d=\"M 15.625 -10.15625 \r\nQ 12.890625 -5.859375 8.984375 -3.515625 \r\nQ 15.234375 -1.171875 20.3125 2.140625 \r\nQ 25.390625 5.46875 29.296875 10.34375 \r\nQ 33.203125 15.234375 35.15625 21.09375 \r\nQ 37.109375 26.953125 37.890625 35.546875 \r\nQ 28.90625 35.546875 23.4375 35.15625 \r\nL 23.4375 43.359375 \r\nQ 29.6875 42.96875 39.453125 42.96875 \r\nL 78.515625 42.96875 \r\nQ 77.734375 37.109375 77.34375 32.8125 \r\nL 74.21875 3.90625 \r\nQ 73.4375 -3.125 67.96875 -5.46875 \r\nQ 62.5 -7.8125 55.859375 -8.203125 \r\nQ 55.46875 -4.296875 51.953125 0.78125 \r\nQ 60.15625 0.390625 63.078125 1.359375 \r\nQ 66.015625 2.34375 66.796875 8.203125 \r\nL 69.53125 35.546875 \r\nL 46.09375 35.546875 \r\nQ 44.921875 25.390625 42.765625 18.546875 \r\nQ 40.625 11.71875 36.71875 6.640625 \r\nQ 32.8125 1.5625 27.34375 -2.734375 \r\nQ 21.875 -7.03125 15.625 -10.15625 \r\nz\r\nM 61.71875 80.859375 \r\nQ 64.453125 72.65625 72.84375 62.109375 \r\nQ 81.25 51.5625 96.484375 43.75 \r\nQ 93.359375 41.015625 90.234375 35.546875 \r\nQ 83.203125 40.625 77.921875 45.109375 \r\nQ 72.65625 49.609375 69.140625 53.515625 \r\nQ 65.625 57.421875 61.328125 64.640625 \r\nQ 57.03125 71.875 54.296875 78.125 \r\nQ 58.59375 79.296875 61.71875 80.859375 \r\nz\r\nM 42.1875 75.390625 \r\nQ 38.671875 69.140625 36.328125 64.453125 \r\nQ 33.984375 59.765625 31.640625 56.046875 \r\nQ 29.296875 52.34375 24.609375 46.09375 \r\nQ 19.921875 39.84375 13.28125 33.203125 \r\nQ 9.765625 36.71875 6.25 38.671875 \r\nQ 14.0625 45.703125 18.546875 51.5625 \r\nQ 23.046875 57.421875 27.140625 64.25 \r\nQ 31.25 71.09375 34.375 79.296875 \r\nQ 37.5 76.953125 42.1875 75.390625 \r\nz\r\n\" id=\"SimHei-20998\"/>\r\n      <path d=\"M 92.1875 71.09375 \r\nQ 87.109375 70.703125 79.484375 69.53125 \r\nQ 71.875 68.359375 58.203125 66.796875 \r\nL 58.203125 48.046875 \r\nL 84.375 48.046875 \r\nQ 89.453125 48.046875 96.09375 48.4375 \r\nL 96.09375 41.40625 \r\nQ 89.0625 41.796875 82.03125 41.796875 \r\nL 82.03125 5.46875 \r\nQ 82.03125 -1.5625 82.421875 -7.421875 \r\nL 74.21875 -7.421875 \r\nQ 74.609375 -1.171875 74.609375 5.859375 \r\nL 74.609375 41.796875 \r\nL 58.203125 41.796875 \r\nQ 58.203125 33.984375 57.03125 25.578125 \r\nQ 55.859375 17.1875 53.703125 9.953125 \r\nQ 51.5625 2.734375 44.53125 -7.8125 \r\nQ 41.796875 -4.6875 35.546875 -2.34375 \r\nQ 44.140625 5.078125 47.65625 17.375 \r\nQ 51.171875 29.6875 50.96875 46.875 \r\nQ 50.78125 64.0625 50.390625 72.65625 \r\nQ 62.109375 73.4375 71.28125 75 \r\nQ 80.46875 76.5625 85.9375 78.90625 \r\nQ 88.671875 74.21875 92.1875 71.09375 \r\nz\r\nM 29.6875 8.203125 \r\nQ 29.6875 3.125 30.078125 -8.203125 \r\nL 21.875 -8.203125 \r\nQ 22.265625 0.390625 22.265625 8.203125 \r\nL 22.265625 35.15625 \r\nQ 18.359375 25.390625 9.375 12.5 \r\nQ 6.640625 16.796875 3.125 19.140625 \r\nQ 10.15625 26.953125 15.03125 37.296875 \r\nQ 19.921875 47.65625 21.484375 53.515625 \r\nQ 14.453125 53.515625 7.03125 53.125 \r\nL 7.03125 60.15625 \r\nQ 14.453125 59.765625 22.265625 59.765625 \r\nL 22.265625 69.53125 \r\nQ 22.265625 74.609375 21.875 80.078125 \r\nL 30.46875 80.078125 \r\nQ 29.6875 75.390625 29.6875 69.53125 \r\nL 29.6875 59.765625 \r\nQ 35.9375 59.765625 43.359375 60.15625 \r\nL 43.359375 53.125 \r\nQ 35.9375 53.515625 29.6875 53.515625 \r\nL 29.6875 8.203125 \r\nz\r\nM 37.109375 42.96875 \r\nQ 43.75 32.03125 45.703125 28.125 \r\nQ 42.1875 26.5625 38.28125 24.21875 \r\nQ 35.9375 29.6875 30.46875 39.453125 \r\nQ 33.984375 41.015625 37.109375 42.96875 \r\nz\r\n\" id=\"SimHei-26512\"/>\r\n      <path d=\"M 83.59375 75 \r\nQ 88.671875 75 94.921875 75.390625 \r\nL 94.921875 68.359375 \r\nQ 88.671875 68.75 83.59375 68.75 \r\nL 70.703125 68.75 \r\nL 70.703125 53.90625 \r\nL 92.1875 53.90625 \r\nQ 91.796875 48.046875 91.796875 41.40625 \r\nL 91.796875 16.015625 \r\nQ 91.796875 9.765625 88.078125 8 \r\nQ 84.375 6.25 78.515625 5.46875 \r\nQ 78.125 9.765625 75.390625 14.0625 \r\nQ 85.15625 13.671875 84.375 16.796875 \r\nL 84.375 47.65625 \r\nL 70.703125 47.65625 \r\nL 70.703125 5.859375 \r\nQ 70.703125 -0.390625 71.09375 -8.984375 \r\nL 62.890625 -8.984375 \r\nQ 63.28125 -1.171875 63.28125 6.25 \r\nL 63.28125 47.65625 \r\nL 50.390625 47.65625 \r\nL 50.390625 3.90625 \r\nL 42.578125 3.90625 \r\nQ 42.96875 12.109375 42.96875 18.359375 \r\nL 42.96875 41.40625 \r\nQ 42.96875 47.65625 42.578125 53.90625 \r\nL 63.28125 53.90625 \r\nL 63.28125 68.75 \r\nL 50.78125 68.75 \r\nQ 45.3125 68.75 40.234375 68.359375 \r\nL 40.234375 75.390625 \r\nQ 45.703125 75 50.78125 75 \r\nz\r\nM 34.765625 79.296875 \r\nQ 34.375 75 33.59375 67.578125 \r\nL 33.59375 32.421875 \r\nQ 33.59375 18.75 29.484375 9.765625 \r\nQ 25.390625 0.78125 11.71875 -9.765625 \r\nQ 10.15625 -7.421875 4.296875 -4.296875 \r\nQ 11.328125 -0.390625 15.421875 3.90625 \r\nQ 19.53125 8.203125 22.453125 13.28125 \r\nQ 25.390625 18.359375 26.171875 31.640625 \r\nL 26.171875 67.96875 \r\nQ 26.171875 74.21875 25.78125 80.46875 \r\nQ 30.46875 79.6875 34.765625 79.296875 \r\nz\r\nM 16.40625 69.921875 \r\nQ 15.625 65.234375 15.625 60.546875 \r\nL 15.625 26.5625 \r\nQ 15.625 20.703125 16.015625 13.28125 \r\nL 7.8125 13.28125 \r\nQ 8.203125 20.703125 8.203125 26.171875 \r\nL 8.203125 60.9375 \r\nQ 8.203125 64.84375 7.8125 69.921875 \r\nL 16.40625 69.921875 \r\nz\r\n\" id=\"SimHei-24072\"/>\r\n     </defs>\r\n     <use xlink:href=\"#SimHei-25968\"/>\r\n     <use x=\"100\" xlink:href=\"#SimHei-25454\"/>\r\n     <use x=\"200\" xlink:href=\"#SimHei-20998\"/>\r\n     <use x=\"300\" xlink:href=\"#SimHei-26512\"/>\r\n     <use x=\"400\" xlink:href=\"#SimHei-24072\"/>\r\n    </g>\r\n   </g>\r\n   <g id=\"text_2\">\r\n    <!-- 16.4% -->\r\n    <g transform=\"translate(215.758383 108.636909)scale(0.1 -0.1)\">\r\n     <defs>\r\n      <path d=\"M 21.875 56.25 \r\nQ 16.796875 51.171875 8.984375 46.484375 \r\nL 8.984375 53.90625 \r\nQ 18.75 60.546875 25 69.53125 \r\nL 29.6875 69.53125 \r\nL 29.6875 2.34375 \r\nL 21.875 2.34375 \r\nz\r\n\" id=\"SimHei-49\"/>\r\n      <path d=\"M 3.515625 19.53125 \r\nQ 4.296875 30.859375 6.046875 34.765625 \r\nQ 7.8125 38.671875 11.328125 44.53125 \r\nL 27.34375 69.53125 \r\nL 36.328125 69.53125 \r\nL 19.921875 43.75 \r\nQ 30.46875 46.484375 36.71875 42.96875 \r\nQ 42.96875 39.453125 45.109375 34.953125 \r\nQ 47.265625 30.46875 47.453125 25.1875 \r\nQ 47.65625 19.921875 45.890625 14.84375 \r\nQ 44.140625 9.765625 39.640625 5.65625 \r\nQ 35.15625 1.5625 27.140625 1.171875 \r\nQ 19.140625 0.78125 13.46875 4.09375 \r\nQ 7.8125 7.421875 5.65625 13.46875 \r\nQ 3.515625 19.53125 4.296875 30.859375 \r\nz\r\nM 12.5 16.015625 \r\nQ 19.53125 8.59375 25.390625 8.203125 \r\nQ 31.25 7.8125 35.15625 12.109375 \r\nQ 39.0625 16.40625 39.0625 24.609375 \r\nQ 39.0625 32.8125 34.171875 35.9375 \r\nQ 29.296875 39.0625 23.234375 38.28125 \r\nQ 17.1875 37.5 14.453125 32.421875 \r\nQ 11.71875 27.34375 12.109375 21.671875 \r\nQ 12.5 16.015625 19.53125 8.59375 \r\nz\r\n\" id=\"SimHei-54\"/>\r\n      <path d=\"M 16.796875 1.953125 \r\nL 7.8125 1.953125 \r\nL 7.8125 10.546875 \r\nL 16.796875 10.546875 \r\nz\r\n\" id=\"SimHei-46\"/>\r\n      <path d=\"M 31.25 17.1875 \r\nL 1.171875 17.1875 \r\nL 1.171875 23.828125 \r\nL 32.8125 69.53125 \r\nL 38.671875 69.53125 \r\nL 38.671875 23.828125 \r\nL 48.046875 23.828125 \r\nL 48.046875 17.1875 \r\nL 38.671875 17.1875 \r\nL 38.671875 2.34375 \r\nL 31.25 2.34375 \r\nz\r\nM 31.25 23.828125 \r\nL 31.25 54.6875 \r\nL 9.375 23.828125 \r\nz\r\n\" id=\"SimHei-52\"/>\r\n      <path d=\"M 21.875 51.953125 \r\nQ 21.875 40.625 18.546875 37.5 \r\nQ 15.234375 34.375 12.109375 34.375 \r\nQ 8.984375 34.375 5.65625 37.5 \r\nQ 2.34375 40.625 2.34375 51.953125 \r\nQ 2.34375 63.28125 5.65625 66.40625 \r\nQ 8.984375 69.53125 12.109375 69.53125 \r\nQ 15.234375 69.53125 18.546875 66.40625 \r\nQ 21.875 63.28125 21.875 51.953125 \r\nz\r\nM 41.015625 68.359375 \r\nL 10.9375 1.171875 \r\nL 7.8125 2.34375 \r\nL 37.890625 69.53125 \r\nz\r\nM 46.484375 18.75 \r\nQ 46.484375 7.421875 43.15625 4.296875 \r\nQ 39.84375 1.171875 36.71875 1.171875 \r\nQ 33.59375 1.171875 30.265625 4.296875 \r\nQ 26.953125 7.421875 26.953125 18.75 \r\nQ 26.953125 30.078125 30.265625 33.203125 \r\nQ 33.59375 36.328125 36.71875 36.328125 \r\nQ 39.84375 36.328125 43.15625 33.203125 \r\nQ 46.484375 30.078125 46.484375 18.75 \r\nz\r\nM 15.625 51.953125 \r\nQ 15.625 58.984375 14.84375 61.328125 \r\nQ 14.0625 63.671875 12.109375 63.671875 \r\nQ 10.15625 63.671875 9.375 61.328125 \r\nQ 8.59375 58.984375 8.59375 51.953125 \r\nQ 8.59375 44.921875 9.375 42.578125 \r\nQ 10.15625 40.234375 12.109375 40.234375 \r\nQ 14.0625 40.234375 14.84375 42.578125 \r\nQ 15.625 44.921875 15.625 51.953125 \r\nz\r\nM 40.234375 18.75 \r\nQ 40.234375 25.78125 39.453125 28.125 \r\nQ 38.671875 30.46875 36.71875 30.46875 \r\nQ 34.765625 30.46875 33.984375 28.125 \r\nQ 33.203125 25.78125 33.203125 18.75 \r\nQ 33.203125 11.71875 33.984375 9.375 \r\nQ 34.765625 7.03125 36.71875 7.03125 \r\nQ 38.671875 7.03125 39.453125 9.375 \r\nQ 40.234375 11.71875 40.234375 18.75 \r\nz\r\n\" id=\"SimHei-37\"/>\r\n     </defs>\r\n     <use xlink:href=\"#SimHei-49\"/>\r\n     <use x=\"50\" xlink:href=\"#SimHei-54\"/>\r\n     <use x=\"100\" xlink:href=\"#SimHei-46\"/>\r\n     <use x=\"150\" xlink:href=\"#SimHei-52\"/>\r\n     <use x=\"200\" xlink:href=\"#SimHei-37\"/>\r\n    </g>\r\n   </g>\r\n   <g id=\"text_3\">\r\n    <!-- Java开发工程师 -->\r\n    <g transform=\"translate(190.813249 39.650999)scale(0.1 -0.1)\">\r\n     <defs>\r\n      <path d=\"M 43.75 24.21875 \r\nQ 43.75 12.109375 38.46875 6.640625 \r\nQ 33.203125 1.171875 24.21875 1.171875 \r\nQ 16.015625 1.171875 10.546875 6.4375 \r\nQ 5.078125 11.71875 5.078125 23.4375 \r\nL 5.078125 27.734375 \r\nL 14.0625 27.734375 \r\nL 14.0625 22.265625 \r\nQ 14.0625 15.234375 16.984375 12.296875 \r\nQ 19.921875 9.375 23.828125 9.375 \r\nQ 29.296875 9.375 32.03125 12.5 \r\nQ 34.765625 15.625 34.765625 23.828125 \r\nL 34.765625 68.75 \r\nL 43.75 68.75 \r\nz\r\n\" id=\"SimHei-74\"/>\r\n      <path d=\"M 44.921875 1.953125 \r\nL 35.546875 1.953125 \r\nQ 34.765625 2.734375 34.375 4.09375 \r\nQ 33.984375 5.46875 33.984375 7.421875 \r\nQ 31.25 4.296875 27.34375 2.734375 \r\nQ 23.4375 1.171875 19.140625 1.171875 \r\nQ 12.890625 1.171875 8.59375 4.296875 \r\nQ 4.296875 7.421875 4.296875 13.28125 \r\nQ 4.296875 19.140625 8.203125 22.65625 \r\nQ 12.109375 26.171875 20.3125 27.34375 \r\nQ 25.78125 28.125 29.875 29.296875 \r\nQ 33.984375 30.46875 33.984375 32.421875 \r\nQ 33.984375 34.765625 32.21875 37.109375 \r\nQ 30.46875 39.453125 24.609375 39.453125 \r\nQ 19.921875 39.453125 17.765625 37.6875 \r\nQ 15.625 35.9375 14.84375 32.8125 \r\nL 6.25 32.8125 \r\nQ 7.03125 39.0625 11.90625 42.765625 \r\nQ 16.796875 46.484375 24.609375 46.484375 \r\nQ 33.203125 46.484375 37.5 42.578125 \r\nQ 41.796875 38.671875 41.796875 31.640625 \r\nL 41.796875 10.15625 \r\nQ 41.796875 7.8125 42.578125 5.859375 \r\nQ 43.359375 3.90625 44.921875 1.953125 \r\nz\r\nM 33.984375 16.40625 \r\nL 33.984375 24.21875 \r\nQ 31.640625 23.4375 29.484375 22.84375 \r\nQ 27.34375 22.265625 22.265625 21.484375 \r\nQ 16.40625 20.703125 14.640625 18.75 \r\nQ 12.890625 16.796875 12.890625 14.0625 \r\nQ 12.890625 11.71875 14.640625 9.953125 \r\nQ 16.40625 8.203125 19.921875 8.203125 \r\nQ 23.4375 8.203125 27.53125 10.15625 \r\nQ 31.640625 12.109375 33.984375 16.40625 \r\nz\r\n\" id=\"SimHei-97\"/>\r\n      <path d=\"M 44.921875 45.703125 \r\nL 28.515625 1.171875 \r\nL 19.921875 1.171875 \r\nL 3.515625 45.703125 \r\nL 11.71875 45.703125 \r\nL 23.828125 11.71875 \r\nL 24.609375 11.71875 \r\nL 36.71875 45.703125 \r\nz\r\n\" id=\"SimHei-118\"/>\r\n      <path d=\"M 34.375 69.53125 \r\nQ 22.65625 69.53125 12.5 69.140625 \r\nL 12.5 76.953125 \r\nQ 22.265625 76.5625 30.46875 76.5625 \r\nL 72.65625 76.5625 \r\nQ 80.46875 76.5625 89.453125 76.953125 \r\nL 89.453125 69.140625 \r\nQ 80.859375 69.53125 70.3125 69.53125 \r\nL 70.3125 40.625 \r\nL 77.734375 40.625 \r\nQ 85.546875 40.625 94.53125 41.015625 \r\nL 94.53125 33.203125 \r\nQ 85.546875 33.984375 77.734375 33.984375 \r\nL 70.3125 33.984375 \r\nL 70.3125 12.890625 \r\nQ 70.3125 3.125 70.703125 -8.984375 \r\nL 61.71875 -8.984375 \r\nQ 62.109375 3.125 62.109375 12.890625 \r\nL 62.109375 33.984375 \r\nL 42.578125 33.984375 \r\nQ 41.40625 26.5625 39.453125 20.109375 \r\nQ 37.5 13.671875 33.203125 7.03125 \r\nQ 28.90625 0.390625 17.1875 -8.984375 \r\nQ 14.0625 -5.46875 7.8125 -2.34375 \r\nQ 15.625 0.78125 21.28125 6.4375 \r\nQ 26.953125 12.109375 30.265625 19.71875 \r\nQ 33.59375 27.34375 33.984375 33.984375 \r\nL 25 33.984375 \r\nQ 14.84375 33.984375 5.46875 32.8125 \r\nL 5.46875 41.015625 \r\nQ 15.234375 40.625 25 40.625 \r\nL 34.375 40.625 \r\nL 34.375 69.53125 \r\nz\r\nM 62.109375 40.625 \r\nL 62.109375 69.53125 \r\nL 42.578125 69.53125 \r\nL 42.578125 40.625 \r\nz\r\n\" id=\"SimHei-24320\"/>\r\n      <path d=\"M 54.296875 76.953125 \r\nQ 52.34375 72.65625 51.171875 68.15625 \r\nQ 50 63.671875 48.046875 55.859375 \r\nL 79.296875 55.859375 \r\nQ 83.203125 55.859375 91.015625 56.25 \r\nL 91.015625 48.828125 \r\nQ 83.203125 49.21875 79.296875 49.21875 \r\nL 46.484375 49.21875 \r\nQ 44.140625 43.359375 41.40625 37.5 \r\nL 82.8125 37.5 \r\nQ 75.390625 19.53125 62.109375 7.421875 \r\nQ 72.65625 0 92.96875 -2.34375 \r\nQ 90.234375 -5.46875 88.28125 -10.15625 \r\nQ 80.46875 -8.59375 72.265625 -5.65625 \r\nQ 64.0625 -2.734375 56.25 2.734375 \r\nQ 50 -1.171875 41.015625 -4.875 \r\nQ 32.03125 -8.59375 22.65625 -10.9375 \r\nQ 21.875 -7.03125 18.75 -3.515625 \r\nQ 27.34375 -2.34375 35.9375 0.578125 \r\nQ 44.53125 3.515625 51.171875 7.8125 \r\nQ 44.53125 14.453125 36.328125 26.953125 \r\nQ 32.03125 19.921875 25.390625 13.28125 \r\nQ 18.75 6.640625 10.9375 1.171875 \r\nQ 9.375 3.90625 4.6875 7.03125 \r\nQ 10.546875 10.15625 16.203125 15.234375 \r\nQ 21.875 20.3125 28.125 28.703125 \r\nQ 34.375 37.109375 38.671875 49.21875 \r\nQ 28.515625 49.21875 23.046875 48.828125 \r\nQ 17.578125 48.4375 14.84375 47.265625 \r\nQ 13.671875 50.78125 11.71875 54.6875 \r\nQ 15.625 55.46875 17.375 60.546875 \r\nQ 19.140625 65.625 21.09375 76.171875 \r\nQ 24.21875 74.609375 29.6875 73.046875 \r\nQ 27.734375 69.140625 26.171875 65.03125 \r\nQ 24.609375 60.9375 22.65625 55.859375 \r\nL 40.625 55.859375 \r\nQ 43.75 68.359375 45.3125 79.6875 \r\nQ 49.609375 77.34375 54.296875 76.953125 \r\nz\r\nM 41.796875 31.25 \r\nQ 47.265625 21.484375 57.03125 11.71875 \r\nQ 65.625 18.75 72.265625 31.25 \r\nL 41.796875 31.25 \r\nz\r\nM 68.75 79.296875 \r\nQ 75.390625 71.875 82.03125 64.0625 \r\nQ 79.296875 62.5 75.390625 58.984375 \r\nQ 69.140625 67.96875 63.28125 74.21875 \r\nQ 66.015625 76.171875 68.75 79.296875 \r\nz\r\n\" id=\"SimHei-21457\"/>\r\n      <path d=\"M 69.921875 73.046875 \r\nQ 79.296875 73.046875 87.109375 73.4375 \r\nL 87.109375 65.625 \r\nQ 79.296875 66.015625 69.921875 66.015625 \r\nL 53.90625 66.015625 \r\nL 53.90625 4.296875 \r\nL 79.296875 4.296875 \r\nQ 88.28125 4.296875 95.703125 4.6875 \r\nL 95.703125 -3.125 \r\nQ 88.28125 -2.734375 79.6875 -2.734375 \r\nL 19.140625 -2.734375 \r\nQ 10.546875 -2.734375 4.296875 -3.125 \r\nL 4.296875 4.6875 \r\nQ 10.9375 4.296875 19.53125 4.296875 \r\nL 45.3125 4.296875 \r\nL 45.3125 66.015625 \r\nL 29.6875 66.015625 \r\nQ 19.53125 66.015625 12.109375 65.625 \r\nL 12.109375 73.4375 \r\nQ 19.53125 73.046875 29.6875 73.046875 \r\nz\r\n\" id=\"SimHei-24037\"/>\r\n      <path d=\"M 91.015625 77.734375 \r\nQ 90.625 69.140625 90.625 62.109375 \r\nQ 90.625 55.46875 91.015625 48.828125 \r\nL 47.265625 48.828125 \r\nQ 47.65625 56.25 47.65625 62.890625 \r\nQ 47.65625 69.53125 47.265625 77.734375 \r\nL 91.015625 77.734375 \r\nz\r\nM 6.25 75.390625 \r\nQ 12.890625 76.171875 21.28125 77.921875 \r\nQ 29.6875 79.6875 35.546875 82.421875 \r\nQ 38.28125 77.34375 41.015625 73.828125 \r\nQ 38.28125 74.21875 35.34375 73.625 \r\nQ 32.421875 73.046875 28.90625 72.65625 \r\nL 28.90625 53.515625 \r\nQ 34.375 53.515625 40.625 53.90625 \r\nL 40.625 46.484375 \r\nQ 34.375 46.875 28.90625 46.875 \r\nL 28.90625 12.5 \r\nQ 28.90625 3.90625 29.296875 -10.546875 \r\nL 21.484375 -10.546875 \r\nQ 21.875 3.90625 21.875 12.109375 \r\nL 21.875 30.078125 \r\nQ 16.40625 19.140625 9.765625 9.375 \r\nQ 7.03125 13.28125 3.515625 16.40625 \r\nQ 8.984375 21.875 13.28125 28.90625 \r\nQ 17.578125 35.9375 21.09375 46.875 \r\nQ 11.328125 46.875 6.640625 46.484375 \r\nL 6.640625 53.90625 \r\nQ 13.28125 53.515625 16.40625 53.515625 \r\nL 21.875 53.515625 \r\nL 21.875 71.09375 \r\nQ 16.796875 69.921875 8.984375 68.75 \r\nQ 7.8125 72.265625 6.25 75.390625 \r\nz\r\nM 79.6875 39.0625 \r\nQ 85.9375 39.0625 92.96875 39.453125 \r\nL 92.96875 32.421875 \r\nQ 85.9375 32.8125 79.6875 32.8125 \r\nL 72.265625 32.8125 \r\nL 72.265625 20.3125 \r\nL 76.5625 20.3125 \r\nQ 82.421875 20.3125 90.234375 20.703125 \r\nL 90.234375 13.28125 \r\nQ 82.421875 13.671875 77.734375 13.671875 \r\nL 72.265625 13.671875 \r\nL 72.265625 0 \r\nL 81.640625 0 \r\nQ 88.671875 0 96.484375 0.390625 \r\nL 96.484375 -7.03125 \r\nQ 90.234375 -6.640625 81.640625 -6.640625 \r\nL 55.46875 -6.640625 \r\nQ 46.875 -6.640625 40.625 -7.421875 \r\nL 40.625 0.390625 \r\nQ 46.875 0 55.46875 0 \r\nL 64.84375 0 \r\nL 64.84375 13.671875 \r\nL 59.375 13.671875 \r\nQ 53.125 13.671875 47.65625 12.890625 \r\nL 47.65625 20.703125 \r\nQ 53.125 20.3125 59.375 20.3125 \r\nL 64.84375 20.3125 \r\nL 64.84375 32.8125 \r\nL 58.59375 32.8125 \r\nQ 51.5625 32.8125 45.3125 32.421875 \r\nL 45.3125 39.453125 \r\nQ 51.5625 39.0625 58.59375 39.0625 \r\nz\r\nM 82.421875 55.859375 \r\nL 82.421875 71.09375 \r\nL 54.6875 71.09375 \r\nL 54.6875 55.859375 \r\nz\r\nM 35.9375 37.5 \r\nQ 39.84375 31.640625 44.140625 23.828125 \r\nQ 41.796875 22.265625 37.890625 19.140625 \r\nQ 33.984375 27.734375 30.078125 33.203125 \r\nQ 32.421875 35.15625 35.9375 37.5 \r\nz\r\n\" id=\"SimHei-31243\"/>\r\n     </defs>\r\n     <use xlink:href=\"#SimHei-74\"/>\r\n     <use x=\"50\" xlink:href=\"#SimHei-97\"/>\r\n     <use x=\"100\" xlink:href=\"#SimHei-118\"/>\r\n     <use x=\"150\" xlink:href=\"#SimHei-97\"/>\r\n     <use x=\"200\" xlink:href=\"#SimHei-24320\"/>\r\n     <use x=\"300\" xlink:href=\"#SimHei-21457\"/>\r\n     <use x=\"400\" xlink:href=\"#SimHei-24037\"/>\r\n     <use x=\"500\" xlink:href=\"#SimHei-31243\"/>\r\n     <use x=\"600\" xlink:href=\"#SimHei-24072\"/>\r\n    </g>\r\n   </g>\r\n   <g id=\"text_4\">\r\n    <!-- 14.5% -->\r\n    <g transform=\"translate(174.702309 82.383357)scale(0.1 -0.1)\">\r\n     <defs>\r\n      <path d=\"M 8.59375 20.703125 \r\nQ 11.328125 10.15625 17.96875 8.984375 \r\nQ 24.609375 7.8125 28.703125 10.34375 \r\nQ 32.8125 12.890625 34.5625 16.984375 \r\nQ 36.328125 21.09375 36.125 26.171875 \r\nQ 35.9375 31.25 33.390625 34.765625 \r\nQ 30.859375 38.28125 26.953125 39.453125 \r\nQ 23.046875 40.625 18.15625 39.453125 \r\nQ 13.28125 38.28125 10.15625 33.984375 \r\nL 3.515625 34.765625 \r\nQ 4.296875 37.109375 10.9375 68.359375 \r\nL 41.796875 68.359375 \r\nL 41.796875 61.328125 \r\nL 16.796875 61.328125 \r\nQ 14.84375 50.78125 12.890625 44.53125 \r\nQ 18.75 47.265625 23.828125 47.0625 \r\nQ 28.90625 46.875 33.59375 44.71875 \r\nQ 38.28125 42.578125 40.421875 38.859375 \r\nQ 42.578125 35.15625 43.546875 31.4375 \r\nQ 44.53125 27.734375 44.328125 23.4375 \r\nQ 44.140625 19.140625 42.578125 14.640625 \r\nQ 41.015625 10.15625 37.890625 7.21875 \r\nQ 34.765625 4.296875 30.265625 2.53125 \r\nQ 25.78125 0.78125 19.921875 1.171875 \r\nQ 14.0625 1.5625 8.78125 5.46875 \r\nQ 3.515625 9.375 1.5625 18.75 \r\nz\r\n\" id=\"SimHei-53\"/>\r\n     </defs>\r\n     <use xlink:href=\"#SimHei-49\"/>\r\n     <use x=\"50\" xlink:href=\"#SimHei-52\"/>\r\n     <use x=\"100\" xlink:href=\"#SimHei-46\"/>\r\n     <use x=\"150\" xlink:href=\"#SimHei-53\"/>\r\n     <use x=\"200\" xlink:href=\"#SimHei-37\"/>\r\n    </g>\r\n   </g>\r\n   <g id=\"text_5\">\r\n    <!-- 嵌入式软件工程师 -->\r\n    <g transform=\"translate(34.812609 67.730798)scale(0.1 -0.1)\">\r\n     <defs>\r\n      <path d=\"M 37.890625 -5.46875 \r\nL 37.890625 1.5625 \r\nL 21.09375 1.5625 \r\nL 21.09375 -8.59375 \r\nL 13.671875 -8.59375 \r\nQ 14.0625 -1.5625 14.0625 6.25 \r\nL 14.0625 35.9375 \r\nQ 8.984375 35.9375 3.515625 35.546875 \r\nL 3.515625 42.1875 \r\nQ 8.59375 41.796875 14.0625 41.796875 \r\nQ 14.0625 46.484375 13.671875 53.515625 \r\nL 21.484375 53.515625 \r\nQ 21.09375 46.484375 21.09375 41.796875 \r\nL 37.890625 41.796875 \r\nQ 37.890625 47.65625 37.5 54.296875 \r\nL 45.703125 54.296875 \r\nQ 45.3125 46.484375 45.3125 41.796875 \r\nQ 48.046875 41.796875 51.953125 42.1875 \r\nL 51.953125 35.546875 \r\nQ 47.65625 35.9375 45.3125 35.9375 \r\nL 45.3125 -5.46875 \r\nz\r\nM 21.484375 76.953125 \r\nQ 21.09375 74.21875 21.09375 64.84375 \r\nL 47.265625 64.84375 \r\nQ 47.265625 77.34375 46.875 82.421875 \r\nL 54.6875 82.421875 \r\nQ 54.296875 78.125 54.296875 64.84375 \r\nL 79.6875 64.84375 \r\nQ 79.6875 71.875 79.296875 76.5625 \r\nL 86.71875 76.5625 \r\nQ 86.328125 71.875 86.328125 67.96875 \r\nQ 86.328125 64.0625 86.71875 58.984375 \r\nL 14.0625 58.984375 \r\nQ 14.453125 65.234375 14.453125 68.75 \r\nQ 14.453125 72.265625 14.0625 76.953125 \r\nL 21.484375 76.953125 \r\nz\r\nM 74.21875 21.484375 \r\nQ 75.78125 15.234375 82.03125 7.421875 \r\nQ 88.28125 -0.390625 96.484375 -3.125 \r\nQ 91.40625 -6.640625 90.234375 -10.15625 \r\nQ 81.25 -3.515625 77.34375 2.140625 \r\nQ 73.4375 7.8125 71.09375 13.671875 \r\nQ 68.359375 6.640625 64.84375 1.359375 \r\nQ 61.328125 -3.90625 54.296875 -10.15625 \r\nQ 50.78125 -6.25 46.875 -4.6875 \r\nQ 53.125 -1.5625 57.421875 3.3125 \r\nQ 61.71875 8.203125 64.25 14.640625 \r\nQ 66.796875 21.09375 67.1875 31.640625 \r\nQ 71.484375 30.859375 76.171875 30.078125 \r\nQ 74.21875 26.953125 74.21875 21.484375 \r\nz\r\nM 50.390625 30.859375 \r\nQ 54.6875 35.9375 58.390625 43.546875 \r\nQ 62.109375 51.171875 63.28125 57.421875 \r\nQ 67.1875 55.859375 71.875 53.90625 \r\nQ 69.140625 50.78125 67.1875 45.703125 \r\nL 94.53125 45.703125 \r\nQ 90.234375 34.765625 87.890625 28.90625 \r\nQ 84.765625 30.859375 81.25 31.640625 \r\nQ 82.8125 35.15625 85.15625 39.84375 \r\nL 64.453125 39.84375 \r\nQ 60.9375 32.03125 56.640625 26.5625 \r\nQ 53.90625 30.078125 50.390625 30.859375 \r\nz\r\nM 37.890625 7.421875 \r\nL 37.890625 19.53125 \r\nL 21.09375 19.53125 \r\nL 21.09375 7.421875 \r\nz\r\nM 37.890625 25.390625 \r\nL 37.890625 35.9375 \r\nL 21.09375 35.9375 \r\nL 21.09375 25.390625 \r\nz\r\n\" id=\"SimHei-23884\"/>\r\n      <path d=\"M 88.28125 -5.859375 \r\nQ 78.90625 0.390625 70.3125 10.15625 \r\nQ 61.71875 19.921875 51.171875 47.65625 \r\nQ 40.234375 15.234375 10.546875 -7.421875 \r\nQ 8.984375 -3.515625 3.515625 0.78125 \r\nQ 28.90625 12.890625 46.484375 55.078125 \r\nQ 45.3125 58.203125 39.453125 64.453125 \r\nQ 33.59375 70.703125 27.34375 73.046875 \r\nQ 31.640625 76.5625 33.984375 80.078125 \r\nQ 43.75 72.65625 49.609375 66.015625 \r\nQ 55.46875 59.375 64.453125 37.109375 \r\nQ 73.4375 14.84375 95.703125 3.90625 \r\nQ 90.234375 0 88.28125 -5.859375 \r\nz\r\n\" id=\"SimHei-20837\"/>\r\n      <path d=\"M 51.5625 60.9375 \r\nQ 50.78125 74.609375 50.390625 81.640625 \r\nQ 52.734375 81.25 60.546875 80.859375 \r\nQ 59.765625 78.125 60.15625 60.9375 \r\nL 75.78125 60.9375 \r\nQ 83.203125 60.9375 91.015625 61.328125 \r\nL 91.015625 53.515625 \r\nQ 83.984375 53.90625 76.171875 53.90625 \r\nL 60.546875 53.90625 \r\nQ 61.71875 43.75 63.859375 34.953125 \r\nQ 66.015625 26.171875 69.53125 18.359375 \r\nQ 73.046875 10.546875 78.703125 4.484375 \r\nQ 84.375 -1.5625 85.546875 3.90625 \r\nQ 86.71875 9.375 86.328125 14.84375 \r\nQ 89.84375 12.109375 96.09375 9.765625 \r\nQ 93.359375 -7.03125 88.078125 -8.203125 \r\nQ 82.8125 -9.375 77.53125 -5.65625 \r\nQ 72.265625 -1.953125 67.578125 5.078125 \r\nQ 62.890625 12.109375 59.953125 20.5 \r\nQ 57.03125 28.90625 55.078125 37.890625 \r\nQ 53.125 46.875 52.34375 53.90625 \r\nL 23.828125 53.90625 \r\nQ 12.5 53.90625 5.46875 53.515625 \r\nL 5.46875 61.328125 \r\nQ 12.890625 60.9375 23.4375 60.9375 \r\nz\r\nM 35.15625 40.234375 \r\nQ 42.578125 40.234375 49.21875 40.625 \r\nL 49.21875 33.203125 \r\nQ 42.1875 33.59375 34.375 33.59375 \r\nL 34.375 8.984375 \r\nQ 42.578125 10.9375 53.125 13.671875 \r\nL 53.125 6.640625 \r\nQ 39.0625 3.90625 30.859375 1.359375 \r\nQ 22.65625 -1.171875 10.9375 -5.859375 \r\nL 7.03125 3.515625 \r\nQ 11.71875 3.90625 26.5625 7.03125 \r\nL 26.5625 33.59375 \r\nQ 15.234375 33.59375 10.9375 33.203125 \r\nL 10.9375 40.625 \r\nQ 15.234375 40.234375 23.046875 40.234375 \r\nz\r\nM 73.4375 79.296875 \r\nQ 80.859375 71.09375 83.984375 67.1875 \r\nQ 82.03125 66.40625 76.5625 62.5 \r\nQ 73.828125 67.1875 66.796875 74.21875 \r\nQ 68.75 75.78125 73.4375 79.296875 \r\nz\r\n\" id=\"SimHei-24335\"/>\r\n      <path d=\"M 48.4375 14.84375 \r\nQ 44.140625 14.453125 33.203125 12.890625 \r\nQ 33.203125 -3.125 33.59375 -10.15625 \r\nL 25.78125 -10.15625 \r\nQ 26.171875 -0.390625 26.171875 11.71875 \r\nQ 12.5 9.375 7.8125 8.203125 \r\nQ 6.640625 12.890625 4.6875 15.625 \r\nQ 10.546875 16.015625 26.171875 17.96875 \r\nL 26.171875 32.03125 \r\nQ 14.84375 31.640625 8.59375 30.46875 \r\nL 5.46875 37.5 \r\nQ 8.984375 39.453125 12.109375 46.875 \r\nQ 15.234375 54.296875 17.1875 61.328125 \r\nQ 11.71875 61.328125 5.46875 60.9375 \r\nL 5.46875 67.578125 \r\nQ 12.5 67.1875 18.75 67.1875 \r\nQ 21.09375 75 21.875 82.421875 \r\nQ 26.5625 80.46875 30.859375 79.6875 \r\nQ 29.296875 77.734375 26.171875 67.1875 \r\nL 31.25 67.1875 \r\nQ 39.453125 67.1875 46.484375 67.578125 \r\nL 46.484375 60.9375 \r\nQ 39.453125 61.328125 31.640625 61.328125 \r\nL 24.609375 61.328125 \r\nQ 18.359375 42.96875 16.015625 37.890625 \r\nL 26.171875 37.890625 \r\nQ 26.171875 46.875 25.78125 52.734375 \r\nL 33.984375 52.734375 \r\nQ 33.203125 47.65625 33.203125 37.890625 \r\nL 48.828125 37.890625 \r\nL 48.828125 32.03125 \r\nL 33.203125 32.03125 \r\nL 33.203125 19.140625 \r\nQ 42.96875 20.3125 48.828125 21.484375 \r\nQ 48.4375 18.359375 48.4375 14.84375 \r\nz\r\nM 39.84375 -3.515625 \r\nQ 47.65625 1.171875 53.703125 9.5625 \r\nQ 59.765625 17.96875 62.109375 28.3125 \r\nQ 64.453125 38.671875 63.671875 48.828125 \r\nQ 67.1875 48.046875 72.265625 48.046875 \r\nQ 71.484375 39.453125 71.875 33.59375 \r\nQ 72.265625 27.734375 74.796875 21.09375 \r\nQ 77.34375 14.453125 82.421875 8.984375 \r\nQ 87.5 3.515625 96.875 -0.78125 \r\nQ 92.1875 -4.296875 90.234375 -8.203125 \r\nQ 78.515625 0.78125 74.015625 8.203125 \r\nQ 69.53125 15.625 67.96875 20.703125 \r\nQ 64.84375 12.109375 59.953125 4.875 \r\nQ 55.078125 -2.34375 46.875 -9.765625 \r\nQ 44.53125 -5.859375 39.84375 -3.515625 \r\nz\r\nM 79.6875 44.921875 \r\nQ 81.640625 50.78125 83.59375 57.421875 \r\nL 58.984375 57.421875 \r\nQ 55.078125 49.609375 51.953125 43.75 \r\nQ 48.828125 46.484375 44.53125 47.265625 \r\nQ 50 55.078125 53.703125 64.0625 \r\nQ 57.421875 73.046875 58.984375 81.25 \r\nQ 64.0625 79.296875 68.75 78.515625 \r\nQ 65.625 75.78125 60.9375 63.28125 \r\nL 93.75 63.28125 \r\nQ 91.015625 55.859375 87.5 43.359375 \r\nQ 83.203125 44.53125 79.6875 44.921875 \r\nz\r\n\" id=\"SimHei-36719\"/>\r\n      <path d=\"M 51.171875 69.921875 \r\nQ 49.21875 68.359375 45.703125 58.984375 \r\nL 60.9375 58.984375 \r\nL 60.9375 66.796875 \r\nQ 60.9375 76.5625 60.546875 80.078125 \r\nL 68.75 80.078125 \r\nQ 68.359375 76.953125 68.359375 67.1875 \r\nL 68.359375 58.984375 \r\nL 80.078125 58.984375 \r\nQ 85.15625 58.984375 89.453125 59.375 \r\nL 89.453125 51.953125 \r\nQ 85.15625 52.34375 80.078125 52.34375 \r\nL 68.359375 52.34375 \r\nL 68.359375 31.25 \r\nL 81.25 31.25 \r\nQ 87.109375 31.25 95.3125 31.640625 \r\nL 95.3125 24.21875 \r\nQ 88.671875 24.609375 80.859375 24.609375 \r\nL 68.359375 24.609375 \r\nL 68.359375 4.296875 \r\nQ 68.359375 -1.5625 68.75 -8.59375 \r\nL 60.546875 -8.59375 \r\nQ 60.9375 -1.5625 60.9375 4.296875 \r\nL 60.9375 24.609375 \r\nL 45.703125 24.609375 \r\nQ 39.0625 24.609375 30.078125 24.21875 \r\nL 30.078125 31.640625 \r\nQ 38.671875 31.25 44.140625 31.25 \r\nL 60.9375 31.25 \r\nL 60.9375 52.34375 \r\nL 43.359375 52.34375 \r\nQ 42.1875 49.21875 36.71875 37.890625 \r\nQ 35.546875 39.0625 29.6875 41.40625 \r\nQ 33.59375 47.265625 36.71875 54.6875 \r\nQ 39.84375 62.109375 42.1875 73.4375 \r\nQ 45.3125 71.484375 51.171875 69.921875 \r\nz\r\nM 17.96875 50 \r\nQ 14.0625 44.140625 8.59375 37.109375 \r\nQ 6.640625 41.015625 3.125 42.96875 \r\nQ 10.15625 50 16.015625 60.15625 \r\nQ 21.875 70.3125 25.78125 82.03125 \r\nQ 30.46875 78.90625 33.984375 77.734375 \r\nQ 31.25 75.390625 25.390625 62.890625 \r\nL 25.390625 9.765625 \r\nQ 25.390625 -2.734375 25.78125 -8.984375 \r\nL 17.578125 -8.984375 \r\nQ 17.96875 -3.515625 17.96875 9.375 \r\nz\r\n\" id=\"SimHei-20214\"/>\r\n     </defs>\r\n     <use xlink:href=\"#SimHei-23884\"/>\r\n     <use x=\"100\" xlink:href=\"#SimHei-20837\"/>\r\n     <use x=\"200\" xlink:href=\"#SimHei-24335\"/>\r\n     <use x=\"300\" xlink:href=\"#SimHei-36719\"/>\r\n     <use x=\"400\" xlink:href=\"#SimHei-20214\"/>\r\n     <use x=\"500\" xlink:href=\"#SimHei-24037\"/>\r\n     <use x=\"600\" xlink:href=\"#SimHei-31243\"/>\r\n     <use x=\"700\" xlink:href=\"#SimHei-24072\"/>\r\n    </g>\r\n   </g>\r\n   <g id=\"text_6\">\r\n    <!-- 13.3% -->\r\n    <g transform=\"translate(133.247415 97.710265)scale(0.1 -0.1)\">\r\n     <defs>\r\n      <path d=\"M 3.90625 19.140625 \r\nL 10.9375 20.3125 \r\nQ 12.5 15.234375 16.015625 11.90625 \r\nQ 19.53125 8.59375 24.796875 8.78125 \r\nQ 30.078125 8.984375 33.203125 13.078125 \r\nQ 36.328125 17.1875 35.9375 22.453125 \r\nQ 35.546875 27.734375 31.828125 30.65625 \r\nQ 28.125 33.59375 19.921875 34.765625 \r\nL 19.921875 39.84375 \r\nQ 28.125 40.625 31.828125 44.140625 \r\nQ 35.546875 47.65625 35.15625 53.3125 \r\nQ 34.765625 58.984375 30.078125 61.515625 \r\nQ 25.390625 64.0625 20.109375 62.109375 \r\nQ 14.84375 60.15625 11.71875 51.171875 \r\nL 4.6875 52.34375 \r\nQ 7.03125 59.375 11.125 64.0625 \r\nQ 15.234375 68.75 22.265625 69.53125 \r\nQ 29.296875 70.3125 34.5625 67.765625 \r\nQ 39.84375 65.234375 41.984375 59.953125 \r\nQ 44.140625 54.6875 42.578125 48.4375 \r\nQ 41.015625 42.1875 33.59375 37.5 \r\nQ 39.0625 35.15625 41.984375 30.46875 \r\nQ 44.921875 25.78125 43.9375 18.15625 \r\nQ 42.96875 10.546875 37.109375 5.859375 \r\nQ 31.25 1.171875 23.828125 1.359375 \r\nQ 16.40625 1.5625 10.9375 6.046875 \r\nQ 5.46875 10.546875 3.90625 19.140625 \r\nz\r\n\" id=\"SimHei-51\"/>\r\n     </defs>\r\n     <use xlink:href=\"#SimHei-49\"/>\r\n     <use x=\"50\" xlink:href=\"#SimHei-51\"/>\r\n     <use x=\"100\" xlink:href=\"#SimHei-46\"/>\r\n     <use x=\"150\" xlink:href=\"#SimHei-51\"/>\r\n     <use x=\"200\" xlink:href=\"#SimHei-37\"/>\r\n    </g>\r\n   </g>\r\n   <g id=\"text_7\">\r\n    <!-- 大数据开发工程师 -->\r\n    <g transform=\"translate(7.2 135.913656)scale(0.1 -0.1)\">\r\n     <defs>\r\n      <path d=\"M 45.3125 53.125 \r\nQ 45.703125 66.796875 45.5 71.484375 \r\nQ 45.3125 76.171875 44.921875 80.46875 \r\nQ 49.609375 79.6875 55.46875 79.296875 \r\nQ 54.296875 75.390625 53.703125 67.96875 \r\nQ 53.125 60.546875 53.125 53.125 \r\nL 73.046875 53.125 \r\nQ 83.59375 53.125 92.578125 53.90625 \r\nL 92.578125 45.3125 \r\nQ 84.765625 45.703125 76.5625 45.703125 \r\nL 53.515625 45.703125 \r\nQ 55.078125 39.0625 58.984375 32.21875 \r\nQ 62.890625 25.390625 66.984375 20.109375 \r\nQ 71.09375 14.84375 78.3125 8.984375 \r\nQ 85.546875 3.125 94.140625 -0.78125 \r\nQ 91.015625 -3.125 87.890625 -8.59375 \r\nQ 80.859375 -4.6875 74.015625 1.171875 \r\nQ 67.1875 7.03125 60.34375 16.59375 \r\nQ 53.515625 26.171875 50 34.375 \r\nQ 46.875 25.78125 43.359375 20.109375 \r\nQ 39.84375 14.453125 35.734375 9.765625 \r\nQ 31.640625 5.078125 25.1875 0.390625 \r\nQ 18.75 -4.296875 10.546875 -8.984375 \r\nQ 7.421875 -4.296875 3.515625 -0.78125 \r\nQ 11.71875 1.953125 19.71875 7.03125 \r\nQ 27.734375 12.109375 32.8125 18.546875 \r\nQ 37.890625 25 41.015625 32.03125 \r\nQ 44.140625 39.0625 44.921875 45.703125 \r\nL 23.4375 45.703125 \r\nQ 14.0625 45.703125 8.59375 45.3125 \r\nL 8.59375 53.90625 \r\nQ 14.0625 53.515625 23.4375 53.125 \r\nz\r\n\" id=\"SimHei-22823\"/>\r\n     </defs>\r\n     <use xlink:href=\"#SimHei-22823\"/>\r\n     <use x=\"100\" xlink:href=\"#SimHei-25968\"/>\r\n     <use x=\"200\" xlink:href=\"#SimHei-25454\"/>\r\n     <use x=\"300\" xlink:href=\"#SimHei-24320\"/>\r\n     <use x=\"400\" xlink:href=\"#SimHei-21457\"/>\r\n     <use x=\"500\" xlink:href=\"#SimHei-24037\"/>\r\n     <use x=\"600\" xlink:href=\"#SimHei-31243\"/>\r\n     <use x=\"700\" xlink:href=\"#SimHei-24072\"/>\r\n    </g>\r\n   </g>\r\n   <g id=\"text_8\">\r\n    <!-- 11.8% -->\r\n    <g transform=\"translate(118.185992 134.890261)scale(0.1 -0.1)\">\r\n     <defs>\r\n      <path d=\"M 2.734375 16.796875 \r\nQ 2.734375 26.171875 5.078125 30.65625 \r\nQ 7.421875 35.15625 12.890625 37.890625 \r\nQ 8.203125 40.625 6.640625 43.9375 \r\nQ 5.078125 47.265625 4.875 51.5625 \r\nQ 4.6875 55.859375 6.046875 58.984375 \r\nQ 7.421875 62.109375 10.15625 64.84375 \r\nQ 12.890625 67.578125 16.203125 68.546875 \r\nQ 19.53125 69.53125 23.4375 69.53125 \r\nQ 27.34375 69.53125 30.46875 68.75 \r\nQ 33.59375 67.96875 37.109375 65.421875 \r\nQ 40.625 62.890625 42.1875 58.203125 \r\nQ 43.75 53.515625 41.984375 47.265625 \r\nQ 40.234375 41.015625 32.8125 37.5 \r\nQ 39.453125 35.546875 42.1875 31.4375 \r\nQ 44.921875 27.34375 44.921875 21.484375 \r\nQ 44.921875 15.625 43.15625 12.109375 \r\nQ 41.40625 8.59375 39.25 6.25 \r\nQ 37.109375 3.90625 33.390625 2.53125 \r\nQ 29.6875 1.171875 24.015625 1.171875 \r\nQ 18.359375 1.171875 14.25 2.53125 \r\nQ 10.15625 3.90625 7.421875 6.640625 \r\nQ 4.6875 9.375 3.703125 13.078125 \r\nQ 2.734375 16.796875 2.734375 26.171875 \r\nz\r\nM 10.9375 26.5625 \r\nQ 10.546875 17.1875 12.296875 13.671875 \r\nQ 14.0625 10.15625 18.75 9.171875 \r\nQ 23.4375 8.203125 28.515625 9.375 \r\nQ 33.59375 10.546875 35.546875 14.84375 \r\nQ 37.5 19.140625 36.90625 23.4375 \r\nQ 36.328125 27.734375 32.03125 30.65625 \r\nQ 27.734375 33.59375 22.65625 33.203125 \r\nQ 17.578125 32.8125 14.25 29.6875 \r\nQ 10.9375 26.5625 10.546875 17.1875 \r\nz\r\nM 12.109375 56.25 \r\nQ 12.109375 48.4375 14.84375 44.921875 \r\nQ 17.578125 41.40625 23.4375 41.40625 \r\nQ 29.296875 41.40625 32.21875 44.921875 \r\nQ 35.15625 48.4375 34.953125 53.3125 \r\nQ 34.765625 58.203125 31.4375 60.546875 \r\nQ 28.125 62.890625 22.453125 62.5 \r\nQ 16.796875 62.109375 14.453125 59.171875 \r\nQ 12.109375 56.25 12.109375 48.4375 \r\nz\r\n\" id=\"SimHei-56\"/>\r\n     </defs>\r\n     <use xlink:href=\"#SimHei-49\"/>\r\n     <use x=\"50\" xlink:href=\"#SimHei-49\"/>\r\n     <use x=\"100\" xlink:href=\"#SimHei-46\"/>\r\n     <use x=\"150\" xlink:href=\"#SimHei-56\"/>\r\n     <use x=\"200\" xlink:href=\"#SimHei-37\"/>\r\n    </g>\r\n   </g>\r\n   <g id=\"text_9\">\r\n    <!-- 图像算法工程师 -->\r\n    <g transform=\"translate(41.845771 199.116113)scale(0.1 -0.1)\">\r\n     <defs>\r\n      <path d=\"M 90.625 77.734375 \r\nQ 90.234375 67.96875 90.234375 56.25 \r\nL 90.234375 14.453125 \r\nQ 90.234375 2.34375 90.625 -9.375 \r\nL 82.8125 -9.375 \r\nL 82.8125 -4.296875 \r\nL 17.578125 -4.296875 \r\nL 17.578125 -10.15625 \r\nL 9.765625 -10.15625 \r\nQ 10.15625 1.953125 10.15625 14.84375 \r\nL 10.15625 56.25 \r\nQ 10.15625 67.578125 9.765625 77.734375 \r\nL 90.625 77.734375 \r\nz\r\nM 82.8125 2.34375 \r\nL 82.8125 71.484375 \r\nL 17.578125 71.484375 \r\nL 17.578125 2.34375 \r\nz\r\nM 50.390625 66.40625 \r\nQ 48.046875 64.0625 46.09375 61.328125 \r\nL 72.265625 61.328125 \r\nQ 70.703125 57.8125 67.1875 52.734375 \r\nQ 63.671875 47.65625 56.25 40.625 \r\nQ 67.96875 34.765625 79.296875 33.59375 \r\nQ 76.5625 30.078125 74.609375 26.171875 \r\nQ 60.15625 30.46875 50.390625 36.71875 \r\nQ 39.0625 29.296875 26.171875 25.78125 \r\nQ 25 29.296875 21.875 32.421875 \r\nQ 34.375 34.375 44.921875 40.625 \r\nQ 39.453125 45.703125 37.109375 49.21875 \r\nQ 33.59375 45.3125 29.6875 41.40625 \r\nQ 26.953125 44.53125 23.828125 46.09375 \r\nQ 30.46875 51.5625 35.15625 58.390625 \r\nQ 39.84375 65.234375 41.796875 69.921875 \r\nQ 45.703125 67.96875 50.390625 66.40625 \r\nz\r\nM 38.28125 19.921875 \r\nQ 55.46875 14.84375 64.0625 11.328125 \r\nQ 62.109375 8.203125 60.15625 4.6875 \r\nQ 44.140625 11.328125 35.546875 13.28125 \r\nQ 37.109375 16.40625 38.28125 19.921875 \r\nz\r\nM 45.703125 32.03125 \r\nQ 58.984375 26.5625 63.671875 25 \r\nQ 61.71875 21.875 60.15625 17.96875 \r\nQ 46.875 24.21875 42.1875 25.78125 \r\nQ 44.140625 28.515625 45.703125 32.03125 \r\nz\r\nM 41.015625 53.90625 \r\nQ 46.875 47.265625 51.171875 44.53125 \r\nQ 56.25 48.4375 60.546875 55.078125 \r\nL 41.796875 55.078125 \r\nL 41.015625 53.90625 \r\nz\r\n\" id=\"SimHei-22270\"/>\r\n      <path d=\"M 59.375 78.515625 \r\nQ 55.859375 76.171875 52.734375 71.484375 \r\nL 77.734375 71.484375 \r\nQ 75.78125 67.578125 71.875 59.375 \r\nL 89.453125 59.375 \r\nQ 89.0625 53.515625 89.0625 49.21875 \r\nQ 89.0625 44.921875 89.453125 39.84375 \r\nL 61.71875 39.84375 \r\nQ 59.375 37.890625 57.8125 36.328125 \r\nQ 62.5 32.8125 66.015625 27.34375 \r\nQ 74.609375 31.640625 80.46875 37.5 \r\nQ 82.03125 35.15625 86.71875 32.03125 \r\nQ 82.03125 29.296875 77.34375 26.171875 \r\nQ 82.8125 11.328125 94.53125 5.859375 \r\nQ 89.453125 3.125 87.890625 0.390625 \r\nQ 76.953125 8.984375 71.875 23.828125 \r\nQ 71.09375 23.046875 68.75 21.875 \r\nQ 70.703125 17.1875 71.09375 11.90625 \r\nQ 71.484375 6.640625 70.703125 1.5625 \r\nQ 69.921875 -3.515625 66.203125 -6.640625 \r\nQ 62.5 -9.765625 55.078125 -10.9375 \r\nQ 54.296875 -7.03125 51.171875 -3.125 \r\nQ 60.546875 -3.515625 62.890625 0.578125 \r\nQ 65.234375 4.6875 64.0625 14.453125 \r\nQ 49.609375 1.5625 35.9375 -4.6875 \r\nQ 34.765625 -0.78125 30.46875 1.5625 \r\nQ 45.3125 5.859375 61.71875 20.703125 \r\nQ 60.546875 23.828125 59.375 25.78125 \r\nQ 46.09375 13.671875 34.375 8.203125 \r\nQ 32.421875 11.71875 29.296875 14.0625 \r\nQ 42.1875 17.578125 55.46875 30.078125 \r\nL 52.734375 32.8125 \r\nQ 42.1875 25.78125 34.375 22.265625 \r\nQ 32.8125 26.171875 29.296875 28.90625 \r\nQ 43.75 33.203125 52.34375 39.84375 \r\nL 37.109375 39.84375 \r\nQ 37.5 43.75 37.5 54.6875 \r\nQ 35.9375 52.734375 33.59375 50.78125 \r\nQ 31.25 53.515625 27.734375 55.859375 \r\nQ 34.375 60.9375 40.625 68.15625 \r\nQ 46.875 75.390625 49.609375 82.421875 \r\nQ 55.859375 79.296875 59.375 78.515625 \r\nz\r\nM 31.640625 77.734375 \r\nQ 28.515625 74.609375 23.4375 59.765625 \r\nL 23.4375 9.765625 \r\nQ 23.4375 -1.5625 23.828125 -8.59375 \r\nL 16.015625 -8.59375 \r\nQ 16.796875 -1.171875 16.796875 9.375 \r\nL 16.796875 47.65625 \r\nQ 11.71875 39.453125 9.375 35.546875 \r\nQ 5.859375 39.0625 3.125 41.015625 \r\nQ 8.59375 46.875 13.671875 57.421875 \r\nQ 18.75 67.96875 21.875 81.640625 \r\nQ 25.390625 80.078125 31.640625 77.734375 \r\nz\r\nM 82.03125 45.3125 \r\nL 82.03125 53.90625 \r\nL 66.015625 53.90625 \r\nQ 64.84375 49.609375 63.28125 45.3125 \r\nz\r\nM 64.453125 59.375 \r\nQ 65.625 62.109375 67.1875 66.015625 \r\nL 48.828125 66.015625 \r\nQ 46.09375 63.28125 42.96875 59.375 \r\nz\r\nM 56.25 45.3125 \r\nQ 57.8125 50 58.984375 53.90625 \r\nL 44.53125 53.90625 \r\nL 44.53125 45.3125 \r\nz\r\n\" id=\"SimHei-20687\"/>\r\n      <path d=\"M 80.859375 57.03125 \r\nQ 80.46875 50 80.46875 39.0625 \r\nQ 80.46875 28.125 80.859375 20.703125 \r\nL 71.484375 20.703125 \r\nL 71.484375 13.671875 \r\nL 82.03125 13.671875 \r\nQ 88.28125 13.671875 96.09375 14.0625 \r\nL 96.09375 7.421875 \r\nQ 88.28125 7.8125 82.03125 7.8125 \r\nL 71.484375 7.8125 \r\nQ 71.484375 -1.171875 71.875 -9.765625 \r\nL 63.28125 -9.765625 \r\nQ 63.671875 -1.171875 63.671875 7.8125 \r\nL 41.40625 7.8125 \r\nQ 38.671875 1.5625 33.203125 -2.734375 \r\nQ 27.734375 -7.03125 16.796875 -10.546875 \r\nQ 14.453125 -6.640625 10.9375 -3.90625 \r\nQ 19.53125 -2.34375 25 0.578125 \r\nQ 30.46875 3.515625 33.203125 7.8125 \r\nL 19.140625 7.8125 \r\nQ 12.5 7.8125 4.6875 7.421875 \r\nL 4.6875 14.0625 \r\nQ 12.890625 13.671875 19.140625 13.671875 \r\nL 34.375 13.671875 \r\nQ 35.15625 16.796875 35.15625 20.703125 \r\nL 19.53125 20.703125 \r\nQ 19.921875 27.734375 19.921875 38.671875 \r\nQ 19.921875 50 19.53125 57.03125 \r\nL 80.859375 57.03125 \r\nz\r\nM 28.515625 79.6875 \r\nQ 25.390625 76.5625 23.046875 73.828125 \r\nL 37.890625 73.828125 \r\nQ 42.96875 73.828125 49.609375 74.21875 \r\nL 49.609375 67.578125 \r\nQ 42.96875 67.96875 34.375 67.96875 \r\nQ 35.15625 65.234375 36.71875 60.546875 \r\nQ 32.421875 60.15625 28.515625 58.59375 \r\nQ 27.34375 63.671875 26.171875 67.96875 \r\nL 18.75 67.96875 \r\nQ 16.796875 64.453125 12.109375 58.984375 \r\nQ 8.203125 61.328125 3.90625 62.5 \r\nQ 7.8125 66.015625 11.90625 70.890625 \r\nQ 16.015625 75.78125 19.921875 82.8125 \r\nQ 23.4375 80.859375 28.515625 79.6875 \r\nz\r\nM 70.703125 79.6875 \r\nQ 67.578125 77.34375 65.234375 73.828125 \r\nL 81.640625 73.828125 \r\nQ 85.9375 73.828125 92.96875 74.21875 \r\nL 92.96875 67.578125 \r\nQ 86.71875 67.96875 77.734375 67.96875 \r\nL 80.859375 61.71875 \r\nQ 76.953125 61.328125 72.65625 59.765625 \r\nQ 71.484375 64.0625 70.3125 67.96875 \r\nL 60.9375 67.96875 \r\nQ 57.8125 62.890625 55.078125 58.984375 \r\nQ 50.78125 61.71875 47.265625 62.5 \r\nQ 51.953125 67.1875 55.46875 72.0625 \r\nQ 58.984375 76.953125 60.9375 82.421875 \r\nQ 65.234375 80.859375 70.703125 79.6875 \r\nz\r\nM 72.65625 26.171875 \r\nL 72.65625 31.25 \r\nL 27.734375 31.25 \r\nL 27.734375 26.171875 \r\nz\r\nM 72.65625 36.71875 \r\nL 72.65625 41.40625 \r\nL 27.734375 41.40625 \r\nL 27.734375 36.71875 \r\nz\r\nM 72.65625 46.875 \r\nL 72.65625 51.5625 \r\nL 27.734375 51.5625 \r\nL 27.734375 46.875 \r\nz\r\nM 63.671875 13.671875 \r\nL 63.671875 20.703125 \r\nL 42.578125 20.703125 \r\nQ 42.578125 16.796875 42.1875 13.671875 \r\nz\r\n\" id=\"SimHei-31639\"/>\r\n      <path d=\"M 94.921875 -4.6875 \r\nQ 91.40625 -6.640625 87.890625 -9.765625 \r\nQ 85.15625 -4.6875 83.203125 -1.953125 \r\nQ 70.703125 -2.734375 56.046875 -4.09375 \r\nQ 41.40625 -5.46875 36.328125 -7.03125 \r\nQ 35.15625 -2.34375 33.203125 1.171875 \r\nQ 38.28125 2.734375 44.140625 11.328125 \r\nQ 50 19.921875 54.6875 32.8125 \r\nL 43.75 32.8125 \r\nQ 36.71875 32.8125 30.46875 32.421875 \r\nL 30.46875 39.453125 \r\nQ 36.71875 39.0625 44.140625 39.0625 \r\nL 58.203125 39.0625 \r\nL 58.203125 56.25 \r\nL 49.21875 56.25 \r\nQ 41.796875 56.25 36.328125 55.859375 \r\nL 36.328125 62.890625 \r\nQ 42.578125 62.5 48.828125 62.5 \r\nL 58.203125 62.5 \r\nQ 58.203125 73.4375 57.8125 80.46875 \r\nL 66.40625 80.46875 \r\nQ 66.015625 74.609375 66.015625 62.5 \r\nL 77.734375 62.5 \r\nQ 83.59375 62.5 89.84375 62.890625 \r\nL 89.84375 55.859375 \r\nQ 83.59375 56.25 78.515625 56.25 \r\nL 66.015625 56.25 \r\nL 66.015625 39.0625 \r\nL 80.078125 39.0625 \r\nQ 87.109375 39.0625 94.140625 39.453125 \r\nL 94.140625 32.421875 \r\nQ 87.109375 32.8125 80.078125 32.8125 \r\nL 60.15625 32.8125 \r\nL 64.0625 30.46875 \r\nQ 61.71875 27.734375 56.640625 18.75 \r\nQ 51.5625 9.765625 45.3125 1.5625 \r\nQ 62.5 2.34375 79.296875 3.515625 \r\nQ 74.609375 10.546875 69.53125 16.015625 \r\nQ 72.65625 18.359375 75.390625 21.09375 \r\nQ 82.421875 12.5 94.921875 -4.6875 \r\nz\r\nM 4.6875 -3.90625 \r\nQ 10.15625 1.5625 15.8125 9.765625 \r\nQ 21.484375 17.96875 26.953125 26.953125 \r\nQ 28.90625 23.4375 32.421875 21.484375 \r\nQ 28.90625 16.796875 23.4375 7.609375 \r\nQ 17.96875 -1.5625 13.28125 -9.765625 \r\nQ 10.15625 -6.640625 4.6875 -3.90625 \r\nz\r\nM 10.546875 53.515625 \r\nQ 18.75 48.4375 28.125 41.40625 \r\nQ 24.609375 39.0625 21.875 35.15625 \r\nQ 14.453125 41.796875 5.46875 47.65625 \r\nQ 8.203125 50 10.546875 53.515625 \r\nz\r\nM 16.40625 76.5625 \r\nQ 24.21875 71.484375 32.8125 64.453125 \r\nQ 29.6875 62.109375 26.953125 58.203125 \r\nQ 19.53125 65.234375 11.328125 70.703125 \r\nQ 14.0625 73.4375 16.40625 76.5625 \r\nz\r\n\" id=\"SimHei-27861\"/>\r\n     </defs>\r\n     <use xlink:href=\"#SimHei-22270\"/>\r\n     <use x=\"100\" xlink:href=\"#SimHei-20687\"/>\r\n     <use x=\"200\" xlink:href=\"#SimHei-31639\"/>\r\n     <use x=\"300\" xlink:href=\"#SimHei-27861\"/>\r\n     <use x=\"400\" xlink:href=\"#SimHei-24037\"/>\r\n     <use x=\"500\" xlink:href=\"#SimHei-31243\"/>\r\n     <use x=\"600\" xlink:href=\"#SimHei-24072\"/>\r\n    </g>\r\n   </g>\r\n   <g id=\"text_10\">\r\n    <!-- 11.3% -->\r\n    <g transform=\"translate(131.62914 169.353675)scale(0.1 -0.1)\">\r\n     <use xlink:href=\"#SimHei-49\"/>\r\n     <use x=\"50\" xlink:href=\"#SimHei-49\"/>\r\n     <use x=\"100\" xlink:href=\"#SimHei-46\"/>\r\n     <use x=\"150\" xlink:href=\"#SimHei-51\"/>\r\n     <use x=\"200\" xlink:href=\"#SimHei-37\"/>\r\n    </g>\r\n   </g>\r\n   <g id=\"text_11\">\r\n    <!-- 软件工程师 -->\r\n    <g transform=\"translate(118.715853 229.595621)scale(0.1 -0.1)\">\r\n     <use xlink:href=\"#SimHei-36719\"/>\r\n     <use x=\"100\" xlink:href=\"#SimHei-20214\"/>\r\n     <use x=\"200\" xlink:href=\"#SimHei-24037\"/>\r\n     <use x=\"300\" xlink:href=\"#SimHei-31243\"/>\r\n     <use x=\"400\" xlink:href=\"#SimHei-24072\"/>\r\n    </g>\r\n   </g>\r\n   <g id=\"text_12\">\r\n    <!-- 10.6% -->\r\n    <g transform=\"translate(162.649184 186.000168)scale(0.1 -0.1)\">\r\n     <defs>\r\n      <path d=\"M 3.125 29.296875 \r\nQ 3.90625 50 6.4375 56.046875 \r\nQ 8.984375 62.109375 13.671875 66.015625 \r\nQ 18.359375 69.921875 25.1875 69.921875 \r\nQ 32.03125 69.921875 37.109375 64.25 \r\nQ 42.1875 58.59375 43.75 50 \r\nQ 45.3125 41.40625 44.71875 30.265625 \r\nQ 44.140625 19.140625 40.8125 12.109375 \r\nQ 37.5 5.078125 30.859375 2.34375 \r\nQ 24.21875 -0.390625 17.578125 2.921875 \r\nQ 10.9375 6.25 8.203125 11.71875 \r\nQ 5.46875 17.1875 4.296875 23.234375 \r\nQ 3.125 29.296875 3.90625 50 \r\nz\r\nM 12.890625 52.734375 \r\nQ 10.546875 31.25 12.5 22.84375 \r\nQ 14.453125 14.453125 18.9375 10.9375 \r\nQ 23.4375 7.421875 28.125 9.5625 \r\nQ 32.8125 11.71875 34.953125 18.15625 \r\nQ 37.109375 24.609375 37.109375 32.21875 \r\nQ 37.109375 39.84375 36.515625 46.09375 \r\nQ 35.9375 52.34375 33 57.421875 \r\nQ 30.078125 62.5 25.1875 62.6875 \r\nQ 20.3125 62.890625 16.59375 57.8125 \r\nQ 12.890625 52.734375 10.546875 31.25 \r\nz\r\n\" id=\"SimHei-48\"/>\r\n     </defs>\r\n     <use xlink:href=\"#SimHei-49\"/>\r\n     <use x=\"50\" xlink:href=\"#SimHei-48\"/>\r\n     <use x=\"100\" xlink:href=\"#SimHei-46\"/>\r\n     <use x=\"150\" xlink:href=\"#SimHei-54\"/>\r\n     <use x=\"200\" xlink:href=\"#SimHei-37\"/>\r\n    </g>\r\n   </g>\r\n   <g id=\"text_13\">\r\n    <!-- C++开发工程师 -->\r\n    <g transform=\"translate(222.92491 221.879064)scale(0.1 -0.1)\">\r\n     <defs>\r\n      <path d=\"M 46.484375 28.515625 \r\nQ 46.09375 13.671875 40.234375 7.421875 \r\nQ 34.375 1.171875 26.171875 1.171875 \r\nQ 16.796875 1.171875 10.15625 8.78125 \r\nQ 3.515625 16.40625 3.515625 33.203125 \r\nQ 3.515625 51.5625 9.953125 60.546875 \r\nQ 16.40625 69.53125 26.5625 69.53125 \r\nQ 35.15625 69.53125 40.8125 63.078125 \r\nQ 46.484375 56.640625 46.09375 44.921875 \r\nL 37.5 44.921875 \r\nQ 37.5 53.515625 34.765625 57.8125 \r\nQ 32.03125 62.109375 26.5625 62.109375 \r\nQ 20.3125 62.109375 16.59375 55.65625 \r\nQ 12.890625 49.21875 12.890625 33.984375 \r\nQ 12.890625 19.921875 16.59375 14.25 \r\nQ 20.3125 8.59375 26.171875 8.59375 \r\nQ 30.46875 8.59375 33.984375 12.6875 \r\nQ 37.5 16.796875 37.5 28.515625 \r\nz\r\n\" id=\"SimHei-67\"/>\r\n      <path d=\"M 46.875 33.203125 \r\nL 27.734375 33.203125 \r\nL 27.734375 14.0625 \r\nL 21.09375 14.0625 \r\nL 21.09375 33.203125 \r\nL 1.953125 33.203125 \r\nL 1.953125 39.453125 \r\nL 21.09375 39.453125 \r\nL 21.09375 58.59375 \r\nL 27.734375 58.59375 \r\nL 27.734375 39.453125 \r\nL 46.875 39.453125 \r\nz\r\n\" id=\"SimHei-43\"/>\r\n     </defs>\r\n     <use xlink:href=\"#SimHei-67\"/>\r\n     <use x=\"50\" xlink:href=\"#SimHei-43\"/>\r\n     <use x=\"100\" xlink:href=\"#SimHei-43\"/>\r\n     <use x=\"150\" xlink:href=\"#SimHei-24320\"/>\r\n     <use x=\"250\" xlink:href=\"#SimHei-21457\"/>\r\n     <use x=\"350\" xlink:href=\"#SimHei-24037\"/>\r\n     <use x=\"450\" xlink:href=\"#SimHei-31243\"/>\r\n     <use x=\"550\" xlink:href=\"#SimHei-24072\"/>\r\n    </g>\r\n   </g>\r\n   <g id=\"text_14\">\r\n    <!-- 7.9% -->\r\n    <g transform=\"translate(194.717761 181.780484)scale(0.1 -0.1)\">\r\n     <defs>\r\n      <path d=\"M 13.28125 2.34375 \r\nQ 20.3125 32.03125 37.890625 61.328125 \r\nL 4.296875 61.328125 \r\nL 4.296875 68.359375 \r\nL 46.09375 68.359375 \r\nL 46.09375 61.71875 \r\nQ 27.734375 32.03125 21.875 2.34375 \r\nL 13.28125 2.34375 \r\nz\r\n\" id=\"SimHei-55\"/>\r\n      <path d=\"M 12.5 1.171875 \r\nQ 21.09375 15.625 26.5625 27.34375 \r\nQ 16.796875 25.78125 10.34375 29.875 \r\nQ 3.90625 33.984375 2.53125 41.015625 \r\nQ 1.171875 48.046875 2.734375 53.703125 \r\nQ 4.296875 59.375 7.609375 63.078125 \r\nQ 10.9375 66.796875 15.625 68.359375 \r\nQ 20.3125 69.921875 24.015625 69.921875 \r\nQ 27.734375 69.921875 31.640625 68.359375 \r\nQ 35.546875 66.796875 38.671875 63.671875 \r\nQ 41.796875 60.546875 42.96875 57.21875 \r\nQ 44.140625 53.90625 44.140625 48.625 \r\nQ 44.140625 43.359375 40.234375 35.15625 \r\nQ 36.328125 26.953125 21.09375 1.171875 \r\nz\r\nM 9.765625 50 \r\nQ 10.9375 39.84375 14.640625 36.515625 \r\nQ 18.359375 33.203125 22.65625 33.59375 \r\nQ 26.953125 33.984375 29.484375 35.9375 \r\nQ 32.03125 37.890625 34.375 42.578125 \r\nQ 35.9375 48.4375 35.15625 52.53125 \r\nQ 34.375 56.640625 31.046875 59.375 \r\nQ 27.734375 62.109375 23.828125 62.109375 \r\nQ 21.484375 62.5 17.765625 60.9375 \r\nQ 14.0625 59.375 11.90625 54.6875 \r\nQ 9.765625 50 10.9375 39.84375 \r\nz\r\n\" id=\"SimHei-57\"/>\r\n     </defs>\r\n     <use xlink:href=\"#SimHei-55\"/>\r\n     <use x=\"50\" xlink:href=\"#SimHei-46\"/>\r\n     <use x=\"100\" xlink:href=\"#SimHei-57\"/>\r\n     <use x=\"150\" xlink:href=\"#SimHei-37\"/>\r\n    </g>\r\n   </g>\r\n   <g id=\"text_15\">\r\n    <!-- Android开发工程师 -->\r\n    <g transform=\"translate(258.830419 193.160603)scale(0.1 -0.1)\">\r\n     <defs>\r\n      <path d=\"M 48.046875 1.953125 \r\nL 38.671875 1.953125 \r\nL 33.203125 22.65625 \r\nL 16.015625 22.65625 \r\nL 10.546875 1.953125 \r\nL 1.171875 1.953125 \r\nL 20.703125 69.53125 \r\nL 28.515625 69.53125 \r\nz\r\nM 31.25 30.078125 \r\nL 25 53.90625 \r\nL 24.21875 53.90625 \r\nL 17.96875 30.078125 \r\nz\r\n\" id=\"SimHei-65\"/>\r\n      <path d=\"M 43.75 1.953125 \r\nL 35.9375 1.953125 \r\nL 35.9375 30.078125 \r\nQ 35.9375 34.765625 33.59375 37.5 \r\nQ 31.25 40.234375 27.34375 40.234375 \r\nQ 22.265625 40.234375 17.765625 34.953125 \r\nQ 13.28125 29.6875 13.28125 21.875 \r\nL 13.28125 1.953125 \r\nL 5.46875 1.953125 \r\nL 5.46875 45.703125 \r\nL 13.28125 45.703125 \r\nL 13.28125 37.5 \r\nQ 16.40625 41.796875 20.109375 44.140625 \r\nQ 23.828125 46.484375 29.6875 46.484375 \r\nQ 36.71875 46.484375 40.234375 42.578125 \r\nQ 43.75 38.671875 43.75 32.8125 \r\nz\r\n\" id=\"SimHei-110\"/>\r\n      <path d=\"M 42.96875 1.953125 \r\nL 35.15625 1.953125 \r\nL 35.15625 7.8125 \r\nQ 32.8125 4.296875 29.6875 2.734375 \r\nQ 26.5625 1.171875 22.265625 1.171875 \r\nQ 14.453125 1.171875 8.984375 6.828125 \r\nQ 3.515625 12.5 3.515625 23.828125 \r\nQ 3.515625 35.15625 8.984375 41.015625 \r\nQ 14.453125 46.875 22.265625 46.875 \r\nQ 26.5625 46.875 29.6875 45.109375 \r\nQ 32.8125 43.359375 35.15625 39.84375 \r\nL 35.15625 68.75 \r\nL 42.96875 68.75 \r\nz\r\nM 35.15625 23.828125 \r\nQ 35.15625 31.25 31.828125 35.546875 \r\nQ 28.515625 39.84375 23.828125 39.84375 \r\nQ 17.96875 39.84375 15.03125 35.546875 \r\nQ 12.109375 31.25 12.109375 23.828125 \r\nQ 12.109375 16.40625 15.03125 12.296875 \r\nQ 17.96875 8.203125 23.828125 8.203125 \r\nQ 28.515625 8.203125 31.828125 12.296875 \r\nQ 35.15625 16.40625 35.15625 23.828125 \r\nz\r\n\" id=\"SimHei-100\"/>\r\n      <path d=\"M 39.0625 37.890625 \r\nQ 31.640625 39.0625 26.5625 35.734375 \r\nQ 21.484375 32.421875 17.96875 24.21875 \r\nL 17.96875 1.953125 \r\nL 10.15625 1.953125 \r\nL 10.15625 45.703125 \r\nL 17.96875 45.703125 \r\nL 17.96875 34.375 \r\nQ 21.484375 40.625 26.75 43.546875 \r\nQ 32.03125 46.484375 39.0625 46.484375 \r\nz\r\n\" id=\"SimHei-114\"/>\r\n      <path d=\"M 45.703125 23.828125 \r\nQ 45.703125 13.671875 39.453125 7.421875 \r\nQ 33.203125 1.171875 24.609375 1.171875 \r\nQ 16.015625 1.171875 9.765625 7.421875 \r\nQ 3.515625 13.671875 3.515625 23.828125 \r\nQ 3.515625 33.984375 9.765625 40.234375 \r\nQ 16.015625 46.484375 24.609375 46.484375 \r\nQ 33.203125 46.484375 39.453125 40.234375 \r\nQ 45.703125 33.984375 45.703125 23.828125 \r\nz\r\nM 37.109375 23.828125 \r\nQ 37.109375 31.640625 33.203125 35.546875 \r\nQ 29.296875 39.453125 24.609375 39.453125 \r\nQ 19.921875 39.453125 16.015625 35.546875 \r\nQ 12.109375 31.640625 12.109375 23.828125 \r\nQ 12.109375 16.015625 16.015625 12.109375 \r\nQ 19.921875 8.203125 24.609375 8.203125 \r\nQ 29.296875 8.203125 33.203125 12.109375 \r\nQ 37.109375 16.015625 37.109375 23.828125 \r\nz\r\n\" id=\"SimHei-111\"/>\r\n      <path d=\"M 28.125 58.203125 \r\nL 20.3125 58.203125 \r\nL 20.3125 68.359375 \r\nL 28.125 68.359375 \r\nz\r\nM 28.125 1.953125 \r\nL 20.3125 1.953125 \r\nL 20.3125 45.703125 \r\nL 28.125 45.703125 \r\nz\r\n\" id=\"SimHei-105\"/>\r\n     </defs>\r\n     <use xlink:href=\"#SimHei-65\"/>\r\n     <use x=\"50\" xlink:href=\"#SimHei-110\"/>\r\n     <use x=\"100\" xlink:href=\"#SimHei-100\"/>\r\n     <use x=\"150\" xlink:href=\"#SimHei-114\"/>\r\n     <use x=\"200\" xlink:href=\"#SimHei-111\"/>\r\n     <use x=\"250\" xlink:href=\"#SimHei-105\"/>\r\n     <use x=\"300\" xlink:href=\"#SimHei-100\"/>\r\n     <use x=\"350\" xlink:href=\"#SimHei-24320\"/>\r\n     <use x=\"450\" xlink:href=\"#SimHei-21457\"/>\r\n     <use x=\"550\" xlink:href=\"#SimHei-24037\"/>\r\n     <use x=\"650\" xlink:href=\"#SimHei-31243\"/>\r\n     <use x=\"750\" xlink:href=\"#SimHei-24072\"/>\r\n    </g>\r\n   </g>\r\n   <g id=\"text_16\">\r\n    <!-- 7.6% -->\r\n    <g transform=\"translate(214.302584 166.115868)scale(0.1 -0.1)\">\r\n     <use xlink:href=\"#SimHei-55\"/>\r\n     <use x=\"50\" xlink:href=\"#SimHei-46\"/>\r\n     <use x=\"100\" xlink:href=\"#SimHei-54\"/>\r\n     <use x=\"150\" xlink:href=\"#SimHei-37\"/>\r\n    </g>\r\n   </g>\r\n   <g id=\"text_17\">\r\n    <!-- Java高级开发工程师 -->\r\n    <g transform=\"translate(276.488881 154.711968)scale(0.1 -0.1)\">\r\n     <defs>\r\n      <path d=\"M 91.015625 -0.390625 \r\nQ 91.40625 -6.25 86.71875 -7.8125 \r\nQ 82.03125 -9.375 77.734375 -9.765625 \r\nQ 76.171875 -5.078125 73.828125 -1.5625 \r\nQ 77.734375 -1.5625 80.859375 -1.359375 \r\nQ 83.984375 -1.171875 83.59375 3.90625 \r\nL 83.59375 28.515625 \r\nL 17.1875 28.515625 \r\nL 17.1875 -8.984375 \r\nL 9.375 -8.984375 \r\nQ 9.765625 -3.515625 9.765625 13.28125 \r\nQ 9.765625 30.46875 9.375 34.375 \r\nL 91.40625 34.375 \r\nQ 91.015625 28.90625 91.015625 22.265625 \r\nz\r\nM 76.953125 59.375 \r\nQ 76.5625 54.296875 76.5625 49.609375 \r\nQ 76.5625 45.3125 76.953125 40.625 \r\nL 21.875 40.625 \r\nQ 22.265625 44.140625 22.265625 49.609375 \r\nQ 22.265625 55.078125 21.875 59.375 \r\nL 76.953125 59.375 \r\nz\r\nM 70.3125 21.875 \r\nQ 69.921875 17.578125 69.921875 12.5 \r\nQ 69.921875 7.8125 70.3125 3.125 \r\nL 30.46875 3.125 \r\nQ 31.25 7.8125 31.25 12.5 \r\nQ 31.25 17.578125 30.46875 21.875 \r\nL 70.3125 21.875 \r\nz\r\nM 6.640625 71.875 \r\nQ 11.71875 71.484375 17.578125 71.484375 \r\nL 45.703125 71.484375 \r\nQ 44.53125 76.171875 42.96875 79.6875 \r\nQ 47.65625 80.078125 52.34375 81.25 \r\nQ 53.125 77.34375 55.078125 71.484375 \r\nL 82.03125 71.484375 \r\nQ 87.5 71.484375 93.359375 71.875 \r\nL 93.359375 64.84375 \r\nQ 87.5 65.234375 78.90625 65.234375 \r\nL 17.96875 65.234375 \r\nQ 11.71875 65.234375 6.640625 64.84375 \r\nz\r\nM 69.53125 46.484375 \r\nL 69.53125 53.515625 \r\nL 29.6875 53.515625 \r\nL 29.6875 46.484375 \r\nz\r\nM 62.890625 8.59375 \r\nL 62.890625 16.40625 \r\nL 37.5 16.40625 \r\nL 37.5 8.59375 \r\nz\r\n\" id=\"SimHei-39640\"/>\r\n      <path d=\"M 83.59375 74.21875 \r\nQ 80.078125 61.328125 76.5625 46.484375 \r\nL 90.234375 46.484375 \r\nQ 88.28125 36.328125 85.34375 27.34375 \r\nQ 82.421875 18.359375 76.5625 8.984375 \r\nQ 80.46875 5.078125 85.34375 1.75 \r\nQ 90.234375 -1.5625 96.09375 -3.90625 \r\nQ 91.796875 -7.421875 90.625 -10.9375 \r\nQ 80.859375 -5.46875 71.875 3.90625 \r\nQ 69.140625 1.171875 63.46875 -2.921875 \r\nQ 57.8125 -7.03125 48.828125 -10.9375 \r\nQ 46.875 -7.8125 43.359375 -5.46875 \r\nQ 51.5625 -2.734375 57.421875 1.171875 \r\nQ 63.28125 5.078125 67.578125 9.375 \r\nQ 62.890625 14.84375 54.6875 30.46875 \r\nQ 53.515625 21.875 48.828125 12.5 \r\nQ 44.53125 2.734375 33.203125 -7.421875 \r\nQ 30.859375 -5.46875 26.5625 -3.125 \r\nQ 34.375 2.34375 39.453125 9.953125 \r\nQ 44.53125 17.578125 46.671875 26.359375 \r\nQ 48.828125 35.15625 49.21875 45.5 \r\nQ 49.609375 55.859375 49.609375 67.96875 \r\nQ 45.3125 67.96875 39.453125 67.578125 \r\nL 39.453125 74.609375 \r\nQ 46.484375 74.21875 58.203125 74.21875 \r\nz\r\nM 29.6875 75.78125 \r\nQ 27.34375 72.65625 23.625 65.8125 \r\nQ 19.921875 58.984375 14.0625 50.78125 \r\nL 27.734375 51.5625 \r\nQ 31.640625 57.8125 33.984375 64.453125 \r\nQ 35.9375 62.890625 41.015625 59.765625 \r\nQ 38.671875 55.859375 33.984375 48.4375 \r\nQ 29.296875 41.015625 18.75 26.953125 \r\nQ 30.46875 28.515625 37.5 29.6875 \r\nQ 36.328125 25 36.328125 22.65625 \r\nQ 32.421875 22.265625 24.40625 21.09375 \r\nQ 16.40625 19.921875 8.984375 17.96875 \r\nQ 7.8125 21.875 6.25 25 \r\nQ 9.765625 26.953125 14.453125 31.828125 \r\nQ 19.140625 36.71875 24.21875 45.3125 \r\nQ 19.921875 44.921875 15.8125 44.53125 \r\nQ 11.71875 44.140625 7.8125 42.578125 \r\nQ 6.640625 46.09375 4.6875 50.78125 \r\nQ 9.765625 53.90625 14.640625 62.890625 \r\nQ 19.53125 71.875 21.875 80.078125 \r\nQ 24.609375 78.125 29.6875 75.78125 \r\nz\r\nM 55.859375 48.828125 \r\nQ 55.859375 46.09375 55.859375 43.359375 \r\nQ 58.59375 36.328125 64.0625 27.34375 \r\nQ 69.53125 17.96875 71.875 15.234375 \r\nQ 78.515625 25.390625 81.640625 40.234375 \r\nL 67.578125 40.234375 \r\nQ 71.484375 53.125 74.21875 67.96875 \r\nL 56.25 67.96875 \r\nQ 56.25 58.59375 55.859375 48.828125 \r\nz\r\nM 37.109375 15.625 \r\nQ 35.9375 11.71875 36.328125 8.59375 \r\nQ 28.515625 6.640625 22.265625 4.875 \r\nQ 16.015625 3.125 8.59375 0.78125 \r\nQ 7.421875 4.6875 5.078125 8.203125 \r\nQ 10.546875 9.375 17.375 10.734375 \r\nQ 24.21875 12.109375 37.109375 15.625 \r\nz\r\n\" id=\"SimHei-32423\"/>\r\n     </defs>\r\n     <use xlink:href=\"#SimHei-74\"/>\r\n     <use x=\"50\" xlink:href=\"#SimHei-97\"/>\r\n     <use x=\"100\" xlink:href=\"#SimHei-118\"/>\r\n     <use x=\"150\" xlink:href=\"#SimHei-97\"/>\r\n     <use x=\"200\" xlink:href=\"#SimHei-39640\"/>\r\n     <use x=\"300\" xlink:href=\"#SimHei-32423\"/>\r\n     <use x=\"400\" xlink:href=\"#SimHei-24320\"/>\r\n     <use x=\"500\" xlink:href=\"#SimHei-21457\"/>\r\n     <use x=\"600\" xlink:href=\"#SimHei-24037\"/>\r\n     <use x=\"700\" xlink:href=\"#SimHei-31243\"/>\r\n     <use x=\"800\" xlink:href=\"#SimHei-24072\"/>\r\n    </g>\r\n   </g>\r\n   <g id=\"text_18\">\r\n    <!-- 6.6% -->\r\n    <g transform=\"translate(223.934472 145.143886)scale(0.1 -0.1)\">\r\n     <use xlink:href=\"#SimHei-54\"/>\r\n     <use x=\"50\" xlink:href=\"#SimHei-46\"/>\r\n     <use x=\"100\" xlink:href=\"#SimHei-54\"/>\r\n     <use x=\"150\" xlink:href=\"#SimHei-37\"/>\r\n    </g>\r\n   </g>\r\n   <g id=\"text_19\">\r\n    <!-- 全国前十技术岗位占比 -->\r\n    <g transform=\"translate(122.869182 16.85625)scale(0.12 -0.12)\">\r\n     <defs>\r\n      <path d=\"M 54.296875 75.390625 \r\nQ 67.96875 53.515625 95.703125 47.265625 \r\nQ 92.1875 42.96875 91.015625 38.28125 \r\nQ 83.203125 41.40625 77.734375 44.921875 \r\nL 77.734375 38.671875 \r\nQ 73.4375 39.0625 64.0625 39.0625 \r\nL 54.6875 39.0625 \r\nL 54.6875 23.4375 \r\nL 69.53125 23.4375 \r\nQ 77.734375 23.4375 82.8125 23.828125 \r\nL 82.8125 16.796875 \r\nQ 77.734375 17.1875 69.53125 17.1875 \r\nL 54.6875 17.1875 \r\nL 54.6875 -0.390625 \r\nL 69.921875 -0.390625 \r\nQ 81.640625 -0.390625 89.0625 0.390625 \r\nL 89.0625 -7.8125 \r\nQ 82.03125 -6.640625 70.703125 -6.640625 \r\nL 27.734375 -6.640625 \r\nQ 16.015625 -6.640625 10.15625 -7.03125 \r\nL 10.15625 0 \r\nQ 16.015625 -0.390625 27.734375 -0.390625 \r\nL 46.875 -0.390625 \r\nL 46.875 17.1875 \r\nL 35.9375 17.1875 \r\nQ 22.65625 17.1875 18.359375 16.796875 \r\nL 18.359375 23.828125 \r\nQ 22.65625 23.4375 35.546875 23.4375 \r\nL 46.875 23.4375 \r\nL 46.875 39.0625 \r\nL 39.0625 39.0625 \r\nQ 26.953125 39.0625 23.4375 38.671875 \r\nL 23.4375 44.921875 \r\nQ 19.921875 42.1875 10.15625 36.71875 \r\nQ 7.8125 41.40625 4.6875 44.921875 \r\nQ 14.0625 47.265625 26.5625 56.640625 \r\nQ 39.0625 66.015625 46.484375 81.25 \r\nQ 51.171875 79.296875 56.25 77.34375 \r\nz\r\nM 25.78125 46.09375 \r\nQ 30.46875 45.703125 39.453125 45.703125 \r\nL 62.890625 45.703125 \r\nQ 70.703125 45.703125 75 46.09375 \r\nQ 58.203125 54.6875 50 71.09375 \r\nQ 39.453125 55.078125 25.78125 46.09375 \r\nz\r\n\" id=\"SimHei-20840\"/>\r\n      <path d=\"M 90.234375 77.734375 \r\nQ 89.84375 67.96875 89.84375 55.859375 \r\nL 89.84375 14.0625 \r\nQ 89.84375 1.953125 90.234375 -9.765625 \r\nL 82.421875 -9.765625 \r\nL 82.421875 -4.296875 \r\nL 17.578125 -4.296875 \r\nL 17.578125 -10.15625 \r\nL 9.765625 -10.15625 \r\nQ 10.15625 1.953125 10.15625 14.84375 \r\nL 10.15625 55.859375 \r\nQ 10.15625 67.578125 9.765625 77.734375 \r\nL 90.234375 77.734375 \r\nz\r\nM 82.421875 1.5625 \r\nL 82.421875 71.875 \r\nL 17.578125 71.875 \r\nL 17.578125 1.5625 \r\nz\r\nM 62.109375 61.328125 \r\nQ 67.96875 61.328125 74.609375 61.71875 \r\nL 74.609375 54.6875 \r\nQ 68.75 55.078125 62.109375 55.078125 \r\nL 52.34375 55.078125 \r\nL 52.34375 42.1875 \r\nL 59.375 42.1875 \r\nQ 66.40625 42.1875 72.65625 42.578125 \r\nL 72.65625 35.546875 \r\nQ 66.40625 35.9375 59.375 35.9375 \r\nL 52.34375 35.9375 \r\nL 52.34375 18.359375 \r\nL 63.28125 18.359375 \r\nQ 70.3125 18.359375 76.5625 18.75 \r\nL 76.5625 11.71875 \r\nQ 70.703125 12.109375 63.28125 12.109375 \r\nL 36.71875 12.109375 \r\nQ 30.078125 12.109375 23.4375 11.71875 \r\nL 23.4375 18.75 \r\nQ 30.078125 18.359375 36.71875 18.359375 \r\nL 45.3125 18.359375 \r\nL 45.3125 35.9375 \r\nL 39.84375 35.9375 \r\nQ 33.203125 35.9375 27.34375 35.546875 \r\nL 27.34375 42.578125 \r\nQ 33.203125 42.1875 39.84375 42.1875 \r\nL 45.3125 42.1875 \r\nL 45.3125 55.078125 \r\nL 39.453125 55.078125 \r\nQ 32.421875 55.078125 25.78125 54.6875 \r\nL 25.78125 61.71875 \r\nQ 32.421875 61.328125 39.453125 61.328125 \r\nz\r\nM 63.28125 33.203125 \r\nQ 65.234375 31.25 71.09375 25 \r\nQ 67.1875 22.65625 64.453125 20.703125 \r\nQ 63.28125 22.265625 57.8125 28.90625 \r\nQ 60.9375 31.25 63.28125 33.203125 \r\nz\r\n\" id=\"SimHei-22269\"/>\r\n      <path d=\"M 32.421875 -1.5625 \r\nQ 37.5 -1.5625 39.640625 -1.359375 \r\nQ 41.796875 -1.171875 41.796875 1.5625 \r\nL 41.796875 13.671875 \r\nL 20.703125 13.671875 \r\nL 20.703125 -10.15625 \r\nL 12.5 -10.15625 \r\nQ 13.28125 -3.125 13.28125 5.46875 \r\nL 13.28125 36.71875 \r\nQ 13.28125 44.53125 12.890625 51.5625 \r\nL 49.609375 51.5625 \r\nQ 49.21875 44.921875 49.21875 37.109375 \r\nL 49.21875 -2.34375 \r\nQ 49.21875 -6.25 46.09375 -7.421875 \r\nQ 42.96875 -8.59375 35.546875 -9.765625 \r\nQ 34.375 -5.46875 32.421875 -1.5625 \r\nz\r\nM 77.34375 79.296875 \r\nQ 75.390625 77.734375 73.234375 74.21875 \r\nQ 71.09375 70.703125 68.359375 66.015625 \r\nL 84.375 66.015625 \r\nQ 89.84375 66.015625 96.484375 66.40625 \r\nL 96.484375 58.984375 \r\nQ 90.234375 59.765625 82.8125 59.765625 \r\nL 21.09375 59.765625 \r\nQ 10.9375 59.765625 3.90625 58.984375 \r\nL 3.90625 66.40625 \r\nQ 12.109375 66.015625 21.09375 66.015625 \r\nL 60.546875 66.015625 \r\nQ 67.1875 78.515625 67.96875 82.8125 \r\nQ 72.265625 80.46875 77.34375 79.296875 \r\nz\r\nM 68.359375 -1.171875 \r\nQ 75.390625 -1.5625 77.140625 -1.171875 \r\nQ 78.90625 -0.78125 78.90625 2.34375 \r\nL 78.90625 42.96875 \r\nQ 78.90625 47.65625 78.515625 53.125 \r\nL 86.71875 53.125 \r\nQ 86.328125 48.046875 86.328125 42.96875 \r\nL 86.328125 -0.390625 \r\nQ 86.328125 -5.46875 83.78125 -7.03125 \r\nQ 81.25 -8.59375 71.875 -9.375 \r\nQ 71.09375 -4.296875 68.359375 -1.171875 \r\nz\r\nM 58.984375 8.984375 \r\nQ 59.375 14.84375 59.375 19.140625 \r\nL 59.375 37.109375 \r\nQ 59.375 43.359375 58.984375 48.046875 \r\nL 67.1875 48.046875 \r\nQ 66.796875 43.359375 66.796875 37.109375 \r\nL 66.796875 19.53125 \r\nQ 66.796875 13.671875 67.1875 8.984375 \r\nz\r\nM 41.796875 35.15625 \r\nL 41.796875 45.703125 \r\nL 20.703125 45.703125 \r\nL 20.703125 35.15625 \r\nz\r\nM 41.796875 19.53125 \r\nL 41.796875 29.296875 \r\nL 20.703125 29.296875 \r\nL 20.703125 19.53125 \r\nz\r\nM 34.765625 67.1875 \r\nQ 33.203125 71.484375 27.34375 78.90625 \r\nQ 31.640625 80.859375 34.375 82.8125 \r\nQ 39.84375 75.78125 42.578125 71.09375 \r\nQ 39.0625 69.53125 34.765625 67.1875 \r\nz\r\n\" id=\"SimHei-21069\"/>\r\n      <path d=\"M 45.703125 44.921875 \r\nL 45.703125 66.796875 \r\nQ 45.703125 74.21875 45.3125 80.078125 \r\nL 54.6875 80.078125 \r\nQ 54.296875 74.21875 54.296875 67.1875 \r\nL 54.296875 44.921875 \r\nL 80.46875 44.921875 \r\nQ 86.71875 44.921875 95.3125 45.3125 \r\nL 95.3125 37.5 \r\nQ 87.109375 37.890625 80.46875 37.890625 \r\nL 54.296875 37.890625 \r\nL 54.296875 10.546875 \r\nQ 54.296875 2.734375 54.6875 -7.8125 \r\nL 45.3125 -7.8125 \r\nQ 45.703125 2.734375 45.703125 10.9375 \r\nL 45.703125 37.890625 \r\nL 19.921875 37.890625 \r\nQ 13.671875 37.890625 5.078125 37.5 \r\nL 5.078125 45.3125 \r\nQ 13.671875 44.921875 20.3125 44.921875 \r\nz\r\n\" id=\"SimHei-21313\"/>\r\n      <path d=\"M 42.578125 43.75 \r\nQ 50.78125 43.359375 61.71875 43.359375 \r\nL 61.71875 58.984375 \r\nL 52.734375 58.984375 \r\nQ 45.703125 58.984375 41.015625 58.59375 \r\nL 41.015625 65.625 \r\nQ 46.875 65.234375 51.953125 65.234375 \r\nL 61.71875 65.234375 \r\nQ 61.71875 71.09375 61.328125 79.6875 \r\nL 69.53125 79.6875 \r\nQ 69.140625 72.65625 69.140625 65.234375 \r\nL 82.8125 65.234375 \r\nQ 87.109375 65.234375 92.578125 65.625 \r\nL 92.578125 58.59375 \r\nQ 87.109375 58.984375 82.8125 58.984375 \r\nL 69.140625 58.984375 \r\nL 69.140625 43.359375 \r\nL 89.0625 43.359375 \r\nQ 87.109375 35.546875 82.8125 26.171875 \r\nQ 78.515625 16.796875 71.484375 8.59375 \r\nQ 77.734375 3.90625 84.375 1.171875 \r\nQ 91.015625 -1.5625 96.484375 -2.734375 \r\nQ 93.75 -6.25 91.796875 -10.15625 \r\nQ 78.90625 -6.25 66.015625 3.90625 \r\nQ 57.8125 -2.734375 38.671875 -9.765625 \r\nQ 37.109375 -7.421875 32.8125 -2.34375 \r\nQ 38.671875 -1.5625 45.703125 1.171875 \r\nQ 52.734375 3.90625 60.546875 8.59375 \r\nQ 51.5625 21.484375 47.65625 37.109375 \r\nL 42.578125 37.109375 \r\nz\r\nM 37.109375 43.359375 \r\nQ 37.5 40.625 38.28125 36.328125 \r\nQ 32.8125 33.59375 26.953125 30.859375 \r\nL 26.953125 1.5625 \r\nQ 27.34375 -3.125 24.21875 -5.46875 \r\nQ 21.09375 -7.8125 11.71875 -9.375 \r\nQ 10.9375 -5.46875 8.59375 -0.78125 \r\nQ 16.40625 -1.171875 18.15625 0.578125 \r\nQ 19.921875 2.34375 19.921875 4.6875 \r\nL 19.921875 27.34375 \r\nQ 13.671875 24.609375 7.8125 21.09375 \r\nQ 6.640625 25.390625 3.90625 28.515625 \r\nQ 7.8125 29.296875 19.921875 34.765625 \r\nL 19.921875 53.90625 \r\nQ 11.71875 53.90625 6.25 53.515625 \r\nL 6.25 60.546875 \r\nQ 11.71875 60.15625 19.921875 60.15625 \r\nQ 19.921875 74.21875 19.53125 80.859375 \r\nL 27.34375 80.859375 \r\nQ 26.953125 75 26.953125 60.15625 \r\nQ 31.25 60.15625 37.5 60.546875 \r\nL 37.5 53.515625 \r\nQ 31.25 53.90625 26.953125 53.90625 \r\nL 26.953125 37.890625 \r\nQ 32.421875 40.234375 37.109375 43.359375 \r\nz\r\nM 54.6875 37.5 \r\nQ 59.765625 20.703125 66.015625 13.671875 \r\nQ 69.53125 16.796875 73.234375 23.4375 \r\nQ 76.953125 30.078125 79.296875 37.5 \r\nL 54.6875 37.5 \r\nz\r\n\" id=\"SimHei-25216\"/>\r\n      <path d=\"M 45.703125 57.03125 \r\nL 45.703125 64.453125 \r\nQ 45.703125 73.828125 45.3125 80.078125 \r\nL 54.296875 80.078125 \r\nQ 53.90625 73.046875 53.90625 64.453125 \r\nL 53.90625 57.03125 \r\nL 78.515625 57.03125 \r\nQ 85.15625 57.03125 92.96875 57.421875 \r\nL 92.96875 49.609375 \r\nQ 85.546875 50 78.90625 50 \r\nL 60.9375 50 \r\nQ 63.28125 42.578125 66.984375 36.328125 \r\nQ 70.703125 30.078125 75.390625 25 \r\nQ 80.078125 19.921875 85.546875 16.203125 \r\nQ 91.015625 12.5 95.703125 10.9375 \r\nQ 91.015625 7.03125 88.28125 3.515625 \r\nQ 81.25 7.8125 76.171875 12.296875 \r\nQ 71.09375 16.796875 66.40625 23.046875 \r\nQ 61.71875 29.296875 58.78125 35.734375 \r\nQ 55.859375 42.1875 53.90625 48.4375 \r\nL 53.90625 5.46875 \r\nQ 53.90625 -0.390625 54.296875 -8.203125 \r\nL 45.3125 -8.203125 \r\nQ 45.703125 -0.390625 45.703125 5.46875 \r\nL 45.703125 46.484375 \r\nQ 43.359375 40.625 40.234375 34.375 \r\nQ 37.109375 28.125 33.390625 23.046875 \r\nQ 29.6875 17.96875 24.40625 12.6875 \r\nQ 19.140625 7.421875 10.9375 1.171875 \r\nQ 8.59375 4.6875 3.515625 7.8125 \r\nQ 8.984375 10.546875 14.640625 15.234375 \r\nQ 20.3125 19.921875 24.796875 25.578125 \r\nQ 29.296875 31.25 32.8125 37.6875 \r\nQ 36.328125 44.140625 38.28125 50 \r\nL 21.875 50 \r\nQ 15.625 50 7.03125 49.609375 \r\nL 7.03125 57.421875 \r\nQ 15.625 57.03125 21.484375 57.03125 \r\nz\r\nM 73.046875 79.296875 \r\nQ 76.171875 76.171875 78.90625 73.046875 \r\nQ 81.640625 69.921875 85.15625 64.84375 \r\nQ 80.078125 61.328125 78.125 59.375 \r\nQ 74.21875 65.625 71.671875 69.140625 \r\nQ 69.140625 72.65625 66.796875 75 \r\nL 73.046875 79.296875 \r\nz\r\n\" id=\"SimHei-26415\"/>\r\n      <path d=\"M 89.453125 48.4375 \r\nQ 89.0625 41.796875 89.0625 33.984375 \r\nL 89.0625 2.734375 \r\nQ 89.0625 -5.46875 83.984375 -7.21875 \r\nQ 78.90625 -8.984375 69.53125 -10.15625 \r\nQ 68.75 -5.46875 66.40625 -1.171875 \r\nQ 75 -1.171875 78.125 -0.1875 \r\nQ 81.25 0.78125 81.25 5.859375 \r\nL 81.25 42.1875 \r\nL 17.96875 42.1875 \r\nL 17.96875 -7.8125 \r\nL 10.15625 -7.8125 \r\nQ 10.546875 3.125 10.546875 21.09375 \r\nQ 10.546875 39.453125 10.15625 48.4375 \r\nL 89.453125 48.4375 \r\nz\r\nM 54.296875 62.5 \r\nL 79.6875 62.5 \r\nQ 79.6875 69.140625 79.296875 75.390625 \r\nL 87.890625 75.390625 \r\nQ 87.5 69.921875 87.5 64.84375 \r\nL 87.5 56.25 \r\nL 12.5 56.25 \r\nL 12.5 66.015625 \r\nQ 12.5 70.703125 12.109375 75.78125 \r\nL 21.484375 75.78125 \r\nQ 20.703125 72.65625 20.703125 69.921875 \r\nL 20.703125 62.5 \r\nL 46.09375 62.5 \r\nL 46.09375 71.875 \r\nQ 46.09375 76.5625 45.703125 80.46875 \r\nL 54.6875 80.46875 \r\nQ 54.296875 76.171875 54.296875 72.265625 \r\nz\r\nM 23.046875 8.984375 \r\nQ 38.28125 14.453125 44.921875 20.3125 \r\nQ 38.28125 24.609375 26.5625 29.296875 \r\nQ 30.078125 32.421875 32.421875 35.15625 \r\nQ 44.140625 29.296875 51.5625 25.390625 \r\nQ 57.8125 29.6875 64.84375 37.890625 \r\nQ 67.578125 35.15625 71.875 32.03125 \r\nQ 68.75 30.46875 65.421875 27.53125 \r\nQ 62.109375 24.609375 58.59375 21.484375 \r\nQ 68.75 15.234375 75.78125 10.9375 \r\nQ 71.875 7.8125 68.359375 5.46875 \r\nQ 62.109375 10.15625 51.953125 16.40625 \r\nQ 43.75 10.15625 28.90625 2.734375 \r\nQ 25.390625 7.03125 23.046875 8.984375 \r\nz\r\n\" id=\"SimHei-23703\"/>\r\n      <path d=\"M 33.203125 76.953125 \r\nQ 30.46875 74.21875 25.390625 58.59375 \r\nL 25.390625 8.984375 \r\nQ 25.390625 -3.515625 25.78125 -10.15625 \r\nL 17.1875 -10.15625 \r\nQ 17.96875 -3.125 17.96875 8.59375 \r\nL 17.96875 46.09375 \r\nQ 12.109375 35.546875 8.59375 30.46875 \r\nQ 5.859375 35.546875 3.125 37.890625 \r\nQ 8.203125 43.359375 14.25 55.859375 \r\nQ 20.3125 68.359375 23.4375 81.25 \r\nQ 28.515625 78.125 33.203125 76.953125 \r\nz\r\nM 83.984375 47.265625 \r\nQ 82.421875 44.921875 79.6875 35.15625 \r\nQ 76.953125 25.390625 71.875 4.6875 \r\nL 85.15625 4.6875 \r\nQ 92.578125 4.6875 95.3125 5.078125 \r\nL 95.3125 -2.734375 \r\nQ 91.796875 -2.34375 85.15625 -2.34375 \r\nL 45.3125 -2.34375 \r\nQ 35.546875 -2.34375 32.03125 -2.734375 \r\nL 32.03125 5.078125 \r\nQ 35.546875 4.6875 44.53125 4.6875 \r\nL 63.671875 4.6875 \r\nQ 68.75 21.875 73.4375 49.609375 \r\nQ 79.6875 48.046875 83.984375 47.265625 \r\nz\r\nM 82.03125 62.890625 \r\nQ 89.0625 62.890625 92.578125 63.28125 \r\nL 92.578125 55.859375 \r\nQ 89.0625 56.25 81.640625 56.25 \r\nL 46.875 56.25 \r\nQ 41.40625 56.25 35.546875 55.859375 \r\nL 35.546875 63.28125 \r\nQ 41.796875 62.890625 46.875 62.890625 \r\nz\r\nM 47.65625 47.65625 \r\nQ 54.6875 27.734375 58.59375 11.328125 \r\nQ 53.90625 9.765625 50.78125 8.59375 \r\nQ 48.828125 17.578125 46.28125 26.171875 \r\nQ 43.75 34.765625 39.84375 44.921875 \r\nQ 43.75 45.703125 47.65625 47.65625 \r\nz\r\nM 60.546875 81.25 \r\nQ 65.234375 73.046875 68.75 67.1875 \r\nQ 65.625 66.40625 60.546875 63.671875 \r\nQ 57.8125 70.703125 53.125 77.34375 \r\nQ 57.03125 78.90625 60.546875 81.25 \r\nz\r\n\" id=\"SimHei-20301\"/>\r\n      <path d=\"M 42.578125 68.75 \r\nQ 42.578125 75 42.1875 79.296875 \r\nL 52.734375 79.296875 \r\nQ 52.34375 74.609375 52.34375 68.75 \r\nL 52.34375 62.5 \r\nL 82.03125 62.5 \r\nQ 92.1875 62.5 96.09375 62.890625 \r\nL 96.09375 55.078125 \r\nQ 92.1875 55.46875 82.8125 55.46875 \r\nL 52.34375 55.46875 \r\nL 52.34375 36.328125 \r\nL 85.15625 36.328125 \r\nQ 84.375 31.25 84.375 23.828125 \r\nL 84.375 5.078125 \r\nQ 84.375 -3.90625 85.15625 -8.59375 \r\nL 75.78125 -8.59375 \r\nL 75.78125 -0.390625 \r\nL 23.046875 -0.390625 \r\nL 23.046875 -8.59375 \r\nL 13.671875 -8.59375 \r\nQ 14.0625 -2.34375 14.0625 2.734375 \r\nL 14.0625 24.21875 \r\nQ 14.0625 31.25 13.671875 36.328125 \r\nL 42.578125 36.328125 \r\nz\r\nM 75.78125 6.640625 \r\nL 75.78125 29.296875 \r\nL 23.046875 29.296875 \r\nL 23.046875 6.640625 \r\nz\r\n\" id=\"SimHei-21344\"/>\r\n      <path d=\"M 58.984375 79.6875 \r\nQ 58.59375 71.484375 58.59375 64.0625 \r\nL 58.59375 47.65625 \r\nQ 76.953125 56.25 85.546875 65.234375 \r\nQ 88.671875 60.9375 92.1875 57.421875 \r\nQ 87.5 54.6875 78.703125 49.796875 \r\nQ 69.921875 44.921875 58.59375 39.84375 \r\nL 58.59375 7.03125 \r\nQ 58.59375 1.5625 63.28125 1.5625 \r\nL 78.125 1.5625 \r\nQ 80.859375 1.5625 82.21875 3.90625 \r\nQ 83.59375 6.25 85.15625 14.0625 \r\nQ 88.28125 12.109375 94.140625 10.546875 \r\nQ 91.40625 0 88.28125 -2.734375 \r\nQ 85.15625 -5.46875 81.640625 -5.46875 \r\nL 60.9375 -5.46875 \r\nQ 50.78125 -5.46875 50.78125 4.296875 \r\nL 50.78125 62.5 \r\nQ 50.78125 71.09375 50.390625 79.6875 \r\nL 58.984375 79.6875 \r\nz\r\nM 19.921875 77.734375 \r\nQ 19.53125 71.484375 19.53125 62.5 \r\nL 19.53125 49.21875 \r\nL 28.90625 49.21875 \r\nQ 36.328125 49.21875 44.921875 49.609375 \r\nL 44.921875 41.40625 \r\nQ 36.328125 41.796875 28.90625 41.796875 \r\nL 19.53125 41.796875 \r\nL 19.53125 7.421875 \r\nQ 25.78125 10.15625 30.65625 12.6875 \r\nQ 35.546875 15.234375 44.53125 19.921875 \r\nQ 45.3125 14.84375 46.09375 11.71875 \r\nQ 37.109375 7.421875 27.53125 2.734375 \r\nQ 17.96875 -1.953125 14.453125 -5.078125 \r\nQ 11.71875 -1.5625 8.984375 3.125 \r\nQ 10.9375 4.6875 11.71875 9.375 \r\nL 11.71875 61.71875 \r\nQ 11.71875 71.09375 11.328125 77.734375 \r\nL 19.921875 77.734375 \r\nz\r\n\" id=\"SimHei-27604\"/>\r\n     </defs>\r\n     <use xlink:href=\"#SimHei-20840\"/>\r\n     <use x=\"100\" xlink:href=\"#SimHei-22269\"/>\r\n     <use x=\"200\" xlink:href=\"#SimHei-21069\"/>\r\n     <use x=\"300\" xlink:href=\"#SimHei-21313\"/>\r\n     <use x=\"400\" xlink:href=\"#SimHei-25216\"/>\r\n     <use x=\"500\" xlink:href=\"#SimHei-26415\"/>\r\n     <use x=\"600\" xlink:href=\"#SimHei-23703\"/>\r\n     <use x=\"700\" xlink:href=\"#SimHei-20301\"/>\r\n     <use x=\"800\" xlink:href=\"#SimHei-21344\"/>\r\n     <use x=\"900\" xlink:href=\"#SimHei-27604\"/>\r\n    </g>\r\n   </g>\r\n  </g>\r\n </g>\r\n</svg>\r\n"
     },
     "metadata": {}
    }
   ],
   "source": [
    "# # 制作饼状图，显示前十行工作数据在全国的占比\n",
    "plt.pie(jobs_info_counts.values,labels=jobs_info_counts.index,shadow=True,autopct='%1.1f%%')\n",
    "\n",
    "plt.title(\"全国前十技术岗位占比\")\n",
    "\n",
    "plt.show()"
   ]
  },
  {
   "source": [
    "#### 从上图中可以看出数据分析师、Java开发工程师、嵌入式工程师、图像算法工程师占比比较高"
   ],
   "cell_type": "markdown",
   "metadata": {}
  },
  {
   "source": [
    "## 每个岗位薪酬和工作经验之间的对比\n",
    "### 不同岗位平均薪资对比"
   ],
   "cell_type": "markdown",
   "metadata": {}
  },
  {
   "source": [
    "df_ks = jobs_info.groupby(['search_by'])['salary'].mean().sort_values(ascending = False)"
   ],
   "cell_type": "code",
   "metadata": {},
   "execution_count": 50,
   "outputs": []
  },
  {
   "cell_type": "code",
   "execution_count": 51,
   "metadata": {},
   "outputs": [
    {
     "output_type": "execute_result",
     "data": {
      "text/plain": [
       "search_by\n",
       "机器学习    20242.210267\n",
       "深度学习    19532.284100\n",
       "算法招聘    18888.442585\n",
       "人工智能    16734.721576\n",
       "数据挖掘    15927.306229\n",
       "数据分析    13639.840701\n",
       "Name: salary, dtype: float64"
      ]
     },
     "metadata": {},
     "execution_count": 51
    }
   ],
   "source": [
    "df_ks"
   ]
  },
  {
   "cell_type": "code",
   "execution_count": 52,
   "metadata": {},
   "outputs": [
    {
     "output_type": "display_data",
     "data": {
      "text/plain": "<Figure size 432x288 with 1 Axes>",
      "image/svg+xml": "<?xml version=\"1.0\" encoding=\"utf-8\" standalone=\"no\"?>\r\n<!DOCTYPE svg PUBLIC \"-//W3C//DTD SVG 1.1//EN\"\r\n  \"http://www.w3.org/Graphics/SVG/1.1/DTD/svg11.dtd\">\r\n<!-- Created with matplotlib (https://matplotlib.org/) -->\r\n<svg height=\"263.730625pt\" version=\"1.1\" viewBox=\"0 0 381.2 263.730625\" width=\"381.2pt\" xmlns=\"http://www.w3.org/2000/svg\" xmlns:xlink=\"http://www.w3.org/1999/xlink\">\r\n <metadata>\r\n  <rdf:RDF xmlns:cc=\"http://creativecommons.org/ns#\" xmlns:dc=\"http://purl.org/dc/elements/1.1/\" xmlns:rdf=\"http://www.w3.org/1999/02/22-rdf-syntax-ns#\">\r\n   <cc:Work>\r\n    <dc:type rdf:resource=\"http://purl.org/dc/dcmitype/StillImage\"/>\r\n    <dc:date>2021-03-26T14:41:07.609383</dc:date>\r\n    <dc:format>image/svg+xml</dc:format>\r\n    <dc:creator>\r\n     <cc:Agent>\r\n      <dc:title>Matplotlib v3.3.2, https://matplotlib.org/</dc:title>\r\n     </cc:Agent>\r\n    </dc:creator>\r\n   </cc:Work>\r\n  </rdf:RDF>\r\n </metadata>\r\n <defs>\r\n  <style type=\"text/css\">*{stroke-linecap:butt;stroke-linejoin:round;}</style>\r\n </defs>\r\n <g id=\"figure_1\">\r\n  <g id=\"patch_1\">\r\n   <path d=\"M 0 263.730625 \r\nL 381.2 263.730625 \r\nL 381.2 0 \r\nL 0 0 \r\nz\r\n\" style=\"fill:none;\"/>\r\n  </g>\r\n  <g id=\"axes_1\">\r\n   <g id=\"patch_2\">\r\n    <path d=\"M 39.2 240.155625 \r\nL 374 240.155625 \r\nL 374 22.715625 \r\nL 39.2 22.715625 \r\nz\r\n\" style=\"fill:#ffffff;\"/>\r\n   </g>\r\n   <g id=\"patch_3\">\r\n    <path clip-path=\"url(#pe06941adc5)\" d=\"M 54.418182 240.155625 \r\nL 96.399373 240.155625 \r\nL 96.399373 33.069911 \r\nL 54.418182 33.069911 \r\nz\r\n\" style=\"fill:#1f77b4;\"/>\r\n   </g>\r\n   <g id=\"patch_4\">\r\n    <path clip-path=\"url(#pe06941adc5)\" d=\"M 106.894671 240.155625 \r\nL 148.875862 240.155625 \r\nL 148.875862 40.332733 \r\nL 106.894671 40.332733 \r\nz\r\n\" style=\"fill:#1f77b4;\"/>\r\n   </g>\r\n   <g id=\"patch_5\">\r\n    <path clip-path=\"url(#pe06941adc5)\" d=\"M 159.37116 240.155625 \r\nL 201.352351 240.155625 \r\nL 201.352351 46.919483 \r\nL 159.37116 46.919483 \r\nz\r\n\" style=\"fill:#1f77b4;\"/>\r\n   </g>\r\n   <g id=\"patch_6\">\r\n    <path clip-path=\"url(#pe06941adc5)\" d=\"M 211.847649 240.155625 \r\nL 253.82884 240.155625 \r\nL 253.82884 68.952889 \r\nL 211.847649 68.952889 \r\nz\r\n\" style=\"fill:#1f77b4;\"/>\r\n   </g>\r\n   <g id=\"patch_7\">\r\n    <path clip-path=\"url(#pe06941adc5)\" d=\"M 264.324138 240.155625 \r\nL 306.305329 240.155625 \r\nL 306.305329 77.213064 \r\nL 264.324138 77.213064 \r\nz\r\n\" style=\"fill:#1f77b4;\"/>\r\n   </g>\r\n   <g id=\"patch_8\">\r\n    <path clip-path=\"url(#pe06941adc5)\" d=\"M 316.800627 240.155625 \r\nL 358.781818 240.155625 \r\nL 358.781818 100.614729 \r\nL 316.800627 100.614729 \r\nz\r\n\" style=\"fill:#1f77b4;\"/>\r\n   </g>\r\n   <g id=\"matplotlib.axis_1\">\r\n    <g id=\"xtick_1\">\r\n     <g id=\"line2d_1\">\r\n      <path clip-path=\"url(#pe06941adc5)\" d=\"M 75.408777 240.155625 \r\nL 75.408777 22.715625 \r\n\" style=\"fill:none;stroke:#b0b0b0;stroke-dasharray:2.96,1.28;stroke-dashoffset:0;stroke-opacity:0.5;stroke-width:0.8;\"/>\r\n     </g>\r\n     <g id=\"line2d_2\">\r\n      <defs>\r\n       <path d=\"M 0 0 \r\nL 0 3.5 \r\n\" id=\"m93bb6d61c0\" style=\"stroke:#000000;stroke-width:0.8;\"/>\r\n      </defs>\r\n      <g>\r\n       <use style=\"stroke:#000000;stroke-width:0.8;\" x=\"75.408777\" xlink:href=\"#m93bb6d61c0\" y=\"240.155625\"/>\r\n      </g>\r\n     </g>\r\n     <g id=\"text_1\">\r\n      <!-- 机器学习 -->\r\n      <g transform=\"translate(55.408777 255.280625)scale(0.1 -0.1)\">\r\n       <defs>\r\n        <path d=\"M 79.6875 74.609375 \r\nQ 79.296875 63.671875 79.296875 55.859375 \r\nL 79.296875 5.078125 \r\nQ 79.296875 0 81.640625 -0.390625 \r\nQ 83.984375 -0.78125 85.546875 -0.578125 \r\nQ 87.109375 -0.390625 87.6875 2.140625 \r\nQ 88.28125 4.6875 88.28125 9.765625 \r\nQ 91.796875 7.8125 96.484375 6.640625 \r\nQ 94.921875 -1.5625 93.359375 -4.296875 \r\nQ 91.796875 -7.03125 88.28125 -7.03125 \r\nL 80.078125 -7.03125 \r\nQ 75.390625 -7.03125 73.234375 -4.875 \r\nQ 71.09375 -2.734375 71.484375 3.90625 \r\nL 71.484375 67.96875 \r\nL 56.640625 67.96875 \r\nQ 56.640625 45.703125 56.046875 33.390625 \r\nQ 55.46875 21.09375 52.53125 11.125 \r\nQ 49.609375 1.171875 41.015625 -8.984375 \r\nQ 39.0625 -6.640625 33.984375 -2.734375 \r\nQ 39.453125 1.5625 42.765625 7.8125 \r\nQ 46.09375 14.0625 47.265625 20.703125 \r\nQ 48.4375 27.34375 48.828125 34.765625 \r\nQ 49.21875 42.1875 49.21875 53.515625 \r\nQ 49.21875 65.234375 48.828125 74.609375 \r\nL 79.6875 74.609375 \r\nz\r\nM 33.59375 42.578125 \r\nQ 39.84375 33.984375 42.96875 29.296875 \r\nQ 40.234375 26.953125 36.328125 24.21875 \r\nQ 33.984375 29.296875 28.125 37.890625 \r\nL 28.125 9.375 \r\nQ 28.125 1.5625 28.515625 -8.203125 \r\nL 19.921875 -8.203125 \r\nQ 20.3125 1.5625 20.3125 9.375 \r\nL 20.3125 34.375 \r\nQ 18.359375 28.515625 16.015625 23.234375 \r\nQ 13.671875 17.96875 9.375 11.328125 \r\nQ 5.859375 15.234375 3.125 17.578125 \r\nQ 6.25 21.09375 11.328125 31.25 \r\nQ 16.40625 41.40625 19.140625 53.90625 \r\nL 16.796875 53.90625 \r\nQ 11.328125 53.90625 5.859375 53.125 \r\nL 5.859375 60.546875 \r\nQ 11.328125 60.15625 16.40625 60.15625 \r\nL 20.3125 60.15625 \r\nL 20.3125 67.96875 \r\nQ 20.3125 74.21875 19.921875 79.6875 \r\nL 28.90625 79.6875 \r\nQ 28.125 75.78125 28.125 67.96875 \r\nL 28.125 60.15625 \r\nL 32.421875 60.15625 \r\nQ 36.71875 60.15625 42.1875 60.546875 \r\nL 42.1875 53.515625 \r\nQ 33.59375 53.90625 28.125 53.90625 \r\nL 28.125 38.28125 \r\nQ 30.46875 40.234375 33.59375 42.578125 \r\nz\r\n\" id=\"SimHei-26426\"/>\r\n        <path d=\"M 4.296875 30.078125 \r\nQ 12.109375 30.078125 18.9375 31.25 \r\nQ 25.78125 32.421875 31.046875 34.375 \r\nQ 36.328125 36.328125 41.015625 41.015625 \r\nL 23.828125 41.015625 \r\nQ 19.53125 41.015625 8.59375 40.625 \r\nL 8.59375 47.265625 \r\nQ 19.53125 46.875 23.828125 46.875 \r\nL 42.96875 46.875 \r\nQ 44.140625 50.390625 43.75 55.46875 \r\nQ 48.828125 54.6875 54.296875 53.90625 \r\nQ 51.953125 51.5625 51.5625 46.875 \r\nL 69.140625 46.875 \r\nQ 66.40625 49.609375 63.671875 51.5625 \r\nL 69.140625 55.46875 \r\nQ 72.265625 53.125 75 50 \r\nQ 72.65625 48.828125 70.3125 46.875 \r\nL 76.171875 46.875 \r\nQ 84.765625 46.875 91.796875 47.265625 \r\nL 91.796875 40.625 \r\nQ 85.15625 41.015625 76.171875 41.015625 \r\nL 56.640625 41.015625 \r\nQ 64.0625 34.765625 75.578125 33 \r\nQ 87.109375 31.25 95.3125 32.03125 \r\nQ 92.1875 28.125 91.40625 23.4375 \r\nQ 81.640625 24.21875 74.796875 25.578125 \r\nQ 67.96875 26.953125 62.296875 29.6875 \r\nQ 56.640625 32.421875 49.21875 40.234375 \r\nQ 42.1875 31.25 30.859375 27.53125 \r\nQ 19.53125 23.828125 8.203125 22.265625 \r\nQ 7.03125 26.953125 4.296875 30.078125 \r\nz\r\nM 78.515625 -8.984375 \r\nL 78.515625 -1.5625 \r\nL 59.765625 -1.5625 \r\nL 59.765625 -8.59375 \r\nL 53.125 -8.59375 \r\nQ 53.515625 0 53.515625 7.421875 \r\nQ 53.515625 15.234375 53.125 22.265625 \r\nL 85.546875 22.265625 \r\nQ 85.15625 17.578125 85.15625 6.25 \r\nQ 85.15625 -4.6875 85.546875 -8.984375 \r\nz\r\nM 37.5 -8.59375 \r\nL 37.5 -1.5625 \r\nL 20.703125 -1.5625 \r\nL 20.703125 -8.984375 \r\nL 13.671875 -8.984375 \r\nQ 14.0625 -2.34375 14.0625 7.421875 \r\nQ 14.0625 17.1875 13.671875 22.265625 \r\nL 44.140625 22.265625 \r\nQ 43.75 16.015625 43.75 6.640625 \r\nQ 43.75 -2.34375 44.140625 -8.59375 \r\nz\r\nM 85.546875 78.515625 \r\nQ 85.15625 73.4375 85.15625 67.96875 \r\nQ 85.15625 62.5 85.546875 56.640625 \r\nL 52.734375 56.640625 \r\nQ 53.125 62.5 53.125 67.96875 \r\nQ 53.125 73.828125 52.734375 78.515625 \r\nL 85.546875 78.515625 \r\nz\r\nM 44.140625 78.515625 \r\nQ 43.75 73.4375 43.75 67.578125 \r\nQ 43.75 62.109375 44.140625 56.640625 \r\nL 13.671875 56.640625 \r\nQ 14.0625 62.109375 14.0625 67.578125 \r\nQ 14.0625 73.4375 13.671875 78.515625 \r\nL 44.140625 78.515625 \r\nz\r\nM 78.515625 3.90625 \r\nL 78.515625 16.40625 \r\nL 59.765625 16.40625 \r\nL 59.765625 3.90625 \r\nz\r\nM 37.5 3.90625 \r\nL 37.5 16.40625 \r\nL 20.703125 16.40625 \r\nL 20.703125 3.90625 \r\nz\r\nM 78.515625 62.109375 \r\nL 78.515625 73.046875 \r\nL 59.765625 73.046875 \r\nL 59.765625 62.109375 \r\nz\r\nM 37.5 62.109375 \r\nL 37.5 73.046875 \r\nL 20.703125 73.046875 \r\nL 20.703125 62.109375 \r\nz\r\n\" id=\"SimHei-22120\"/>\r\n        <path d=\"M 76.171875 41.796875 \r\nL 76.171875 33.59375 \r\nQ 70.703125 32.421875 66.203125 29.875 \r\nQ 61.71875 27.34375 55.859375 24.609375 \r\nL 55.859375 21.09375 \r\nL 80.46875 21.09375 \r\nQ 85.15625 21.09375 92.578125 21.484375 \r\nL 92.578125 13.671875 \r\nQ 84.765625 14.0625 80.46875 14.0625 \r\nL 55.859375 14.0625 \r\nL 55.859375 -1.953125 \r\nQ 55.859375 -7.421875 51.5625 -8.78125 \r\nQ 47.265625 -10.15625 37.5 -10.9375 \r\nQ 36.328125 -6.640625 33.59375 -2.34375 \r\nL 44.140625 -2.34375 \r\nQ 48.046875 -2.34375 48.046875 1.953125 \r\nL 48.046875 14.0625 \r\nL 21.09375 14.0625 \r\nQ 14.84375 14.0625 7.03125 13.671875 \r\nL 7.03125 21.484375 \r\nQ 15.234375 21.09375 20.703125 21.09375 \r\nL 48.046875 21.09375 \r\nQ 48.046875 24.21875 47.265625 28.125 \r\nL 61.328125 35.15625 \r\nL 39.84375 35.15625 \r\nQ 32.421875 35.15625 23.046875 34.765625 \r\nL 23.046875 42.1875 \r\nQ 31.640625 41.796875 39.453125 41.796875 \r\nz\r\nM 83.59375 77.734375 \r\nQ 75.78125 68.75 70.3125 59.375 \r\nL 91.796875 59.375 \r\nQ 91.40625 55.859375 91.40625 51.171875 \r\nQ 91.40625 46.484375 91.796875 42.1875 \r\nL 83.59375 42.1875 \r\nL 83.59375 52.734375 \r\nL 16.015625 52.734375 \r\nL 16.015625 41.796875 \r\nL 7.8125 41.796875 \r\nQ 8.203125 46.484375 8.203125 51.171875 \r\nQ 8.203125 55.859375 7.8125 59.375 \r\nL 62.109375 59.375 \r\nQ 65.234375 64.84375 68.546875 70.890625 \r\nQ 71.875 76.953125 73.828125 82.8125 \r\nQ 80.078125 79.296875 83.59375 77.734375 \r\nz\r\nM 46.09375 81.640625 \r\nQ 53.515625 72.265625 55.859375 67.96875 \r\nQ 52.34375 65.234375 48.4375 62.890625 \r\nQ 45.3125 69.140625 39.0625 76.953125 \r\nQ 42.96875 79.6875 46.09375 81.640625 \r\nz\r\nM 19.53125 78.90625 \r\nQ 26.5625 73.046875 31.640625 66.796875 \r\nQ 27.34375 63.671875 25 60.9375 \r\nQ 19.921875 68.359375 13.28125 73.828125 \r\nQ 17.578125 76.953125 19.53125 78.90625 \r\nz\r\n\" id=\"SimHei-23398\"/>\r\n        <path d=\"M 39.0625 67.578125 \r\nQ 27.734375 67.578125 17.578125 67.1875 \r\nL 17.578125 75 \r\nQ 30.46875 74.609375 37.109375 74.609375 \r\nL 85.9375 74.609375 \r\nQ 85.15625 69.140625 84.765625 57.8125 \r\nL 83.203125 5.859375 \r\nQ 82.421875 -4.6875 76.953125 -6.640625 \r\nQ 71.484375 -8.59375 58.984375 -9.375 \r\nQ 57.8125 -4.6875 54.6875 0 \r\nQ 66.015625 -0.78125 70.3125 0.1875 \r\nQ 74.609375 1.171875 75.390625 7.421875 \r\nL 76.953125 67.578125 \r\nz\r\nM 65.625 32.421875 \r\nQ 65.625 28.125 66.40625 24.21875 \r\nQ 44.140625 16.015625 19.921875 3.90625 \r\nQ 17.96875 8.59375 14.453125 12.890625 \r\nQ 19.53125 14.0625 34.5625 19.53125 \r\nQ 49.609375 25 65.625 32.421875 \r\nz\r\nM 28.125 59.765625 \r\nQ 44.921875 50 53.125 43.75 \r\nQ 51.5625 41.40625 47.65625 36.328125 \r\nQ 40.625 42.96875 23.4375 53.125 \r\nQ 26.171875 56.640625 28.125 59.765625 \r\nz\r\n\" id=\"SimHei-20064\"/>\r\n       </defs>\r\n       <use xlink:href=\"#SimHei-26426\"/>\r\n       <use x=\"100\" xlink:href=\"#SimHei-22120\"/>\r\n       <use x=\"200\" xlink:href=\"#SimHei-23398\"/>\r\n       <use x=\"300\" xlink:href=\"#SimHei-20064\"/>\r\n      </g>\r\n     </g>\r\n    </g>\r\n    <g id=\"xtick_2\">\r\n     <g id=\"line2d_3\">\r\n      <path clip-path=\"url(#pe06941adc5)\" d=\"M 127.885266 240.155625 \r\nL 127.885266 22.715625 \r\n\" style=\"fill:none;stroke:#b0b0b0;stroke-dasharray:2.96,1.28;stroke-dashoffset:0;stroke-opacity:0.5;stroke-width:0.8;\"/>\r\n     </g>\r\n     <g id=\"line2d_4\">\r\n      <g>\r\n       <use style=\"stroke:#000000;stroke-width:0.8;\" x=\"127.885266\" xlink:href=\"#m93bb6d61c0\" y=\"240.155625\"/>\r\n      </g>\r\n     </g>\r\n     <g id=\"text_2\">\r\n      <!-- 深度学习 -->\r\n      <g transform=\"translate(107.885266 255.280625)scale(0.1 -0.1)\">\r\n       <defs>\r\n        <path d=\"M 57.421875 -9.765625 \r\nQ 57.8125 -2.734375 57.8125 0.390625 \r\nL 57.8125 26.171875 \r\nQ 52.34375 15.234375 45.703125 7.421875 \r\nQ 39.0625 -0.390625 33.59375 -5.078125 \r\nQ 31.25 -2.34375 26.5625 0 \r\nQ 33.59375 4.296875 40.625 12.5 \r\nQ 47.65625 20.703125 50.390625 28.515625 \r\nQ 40.625 28.515625 33.203125 28.125 \r\nL 33.203125 35.15625 \r\nQ 39.453125 34.765625 57.8125 34.765625 \r\nQ 57.8125 41.796875 57.421875 47.65625 \r\nL 65.625 47.65625 \r\nQ 65.234375 41.796875 65.234375 34.765625 \r\nQ 84.375 34.765625 93.75 35.15625 \r\nL 93.75 28.125 \r\nQ 87.5 28.515625 71.484375 28.515625 \r\nQ 74.21875 20.703125 80.859375 13.46875 \r\nQ 87.5 6.25 95.703125 3.125 \r\nQ 91.015625 1.171875 89.453125 -3.125 \r\nQ 81.25 1.5625 75 8.78125 \r\nQ 68.75 16.015625 65.234375 27.34375 \r\nL 65.234375 0.390625 \r\nQ 65.234375 -1.953125 66.015625 -9.765625 \r\nz\r\nM 91.796875 75.78125 \r\nQ 91.40625 71.875 91.40625 67.1875 \r\nQ 91.40625 62.890625 91.796875 58.203125 \r\nL 83.984375 58.203125 \r\nL 83.984375 69.53125 \r\nL 39.84375 69.53125 \r\nL 39.84375 57.03125 \r\nL 32.421875 57.03125 \r\nQ 32.8125 62.890625 32.8125 66.796875 \r\nQ 32.8125 70.703125 32.421875 75.78125 \r\nL 91.796875 75.78125 \r\nz\r\nM 28.90625 23.828125 \r\nQ 25.390625 17.96875 21.28125 7.609375 \r\nQ 17.1875 -2.734375 15.234375 -8.203125 \r\nQ 11.328125 -5.46875 5.859375 -3.90625 \r\nQ 9.765625 0.78125 14.84375 11.125 \r\nQ 19.921875 21.484375 22.65625 28.90625 \r\nQ 25.390625 25.78125 28.90625 23.828125 \r\nz\r\nM 72.265625 63.671875 \r\nQ 79.6875 57.03125 89.0625 46.484375 \r\nQ 85.15625 44.140625 82.8125 41.015625 \r\nQ 74.609375 52.34375 66.40625 58.984375 \r\nQ 69.53125 61.328125 72.265625 63.671875 \r\nz\r\nM 57.8125 58.59375 \r\nQ 54.6875 57.03125 50 51.75 \r\nQ 45.3125 46.484375 39.0625 40.625 \r\nQ 36.328125 43.359375 32.03125 45.3125 \r\nQ 37.890625 48.828125 43.359375 54.484375 \r\nQ 48.828125 60.15625 50.78125 63.28125 \r\nQ 53.515625 60.9375 57.8125 58.59375 \r\nz\r\nM 8.59375 57.03125 \r\nQ 17.578125 51.5625 25 45.3125 \r\nQ 22.65625 42.96875 20.3125 39.0625 \r\nQ 13.28125 46.484375 4.296875 51.171875 \r\nQ 6.25 53.90625 8.59375 57.03125 \r\nz\r\nM 15.625 80.46875 \r\nQ 22.65625 75.78125 30.46875 68.75 \r\nQ 27.734375 66.40625 25.390625 62.890625 \r\nQ 18.359375 70.703125 10.546875 75.78125 \r\nQ 13.28125 77.34375 15.625 80.46875 \r\nz\r\n\" id=\"SimHei-28145\"/>\r\n        <path d=\"M 27.34375 26.171875 \r\nQ 38.28125 25.78125 44.921875 25.78125 \r\nL 81.25 25.78125 \r\nQ 77.734375 19.53125 72.65625 13.28125 \r\nQ 67.578125 7.03125 62.890625 3.125 \r\nQ 67.96875 0.78125 77.34375 -0.78125 \r\nQ 86.71875 -2.34375 95.3125 -2.34375 \r\nQ 92.96875 -4.6875 91.015625 -10.15625 \r\nQ 79.6875 -8.59375 71.09375 -6.4375 \r\nQ 62.5 -4.296875 56.640625 -1.5625 \r\nQ 48.4375 -5.078125 40.421875 -7.21875 \r\nQ 32.421875 -9.375 23.828125 -10.546875 \r\nQ 22.65625 -7.421875 19.140625 -3.90625 \r\nQ 26.171875 -3.90625 35.15625 -1.953125 \r\nQ 44.140625 0 50.78125 3.125 \r\nQ 44.140625 8.59375 37.5 19.921875 \r\nL 27.34375 19.53125 \r\nz\r\nM 46.484375 79.296875 \r\nQ 50.78125 80.46875 54.296875 82.03125 \r\nQ 56.640625 77.734375 58.984375 70.703125 \r\nL 73.4375 70.703125 \r\nQ 77.734375 70.703125 89.0625 71.09375 \r\nL 89.0625 64.0625 \r\nQ 78.125 64.453125 72.65625 64.453125 \r\nL 21.484375 64.453125 \r\nQ 21.484375 46.875 21.09375 36.125 \r\nQ 20.703125 25.390625 18.9375 14.84375 \r\nQ 17.1875 4.296875 11.328125 -8.203125 \r\nQ 7.8125 -5.859375 3.90625 -4.6875 \r\nQ 10.15625 6.25 11.90625 16.796875 \r\nQ 13.671875 27.34375 13.859375 43.75 \r\nQ 14.0625 60.15625 13.671875 70.703125 \r\nL 50 70.703125 \r\nQ 48.4375 75.78125 46.484375 79.296875 \r\nz\r\nM 38.671875 51.5625 \r\nQ 38.671875 57.8125 38.28125 61.328125 \r\nL 46.484375 61.328125 \r\nQ 46.09375 58.203125 46.09375 51.5625 \r\nL 67.1875 51.5625 \r\nQ 67.1875 57.8125 66.796875 61.71875 \r\nL 75 61.71875 \r\nQ 74.609375 57.03125 74.609375 51.5625 \r\nQ 83.203125 51.5625 89.453125 51.953125 \r\nL 89.453125 45.3125 \r\nQ 83.59375 45.703125 74.609375 45.703125 \r\nQ 74.609375 35.15625 75 30.46875 \r\nL 38.28125 30.46875 \r\nQ 38.671875 36.71875 38.671875 45.703125 \r\nQ 33.984375 45.703125 25 45.3125 \r\nL 25 51.953125 \r\nQ 33.984375 51.5625 38.671875 51.5625 \r\nz\r\nM 67.1875 36.71875 \r\nL 67.1875 45.703125 \r\nL 46.09375 45.703125 \r\nL 46.09375 36.71875 \r\nz\r\nM 44.921875 19.921875 \r\nQ 50 12.109375 57.03125 6.640625 \r\nQ 62.890625 10.9375 69.140625 19.921875 \r\nL 45.3125 19.921875 \r\nz\r\n\" id=\"SimHei-24230\"/>\r\n       </defs>\r\n       <use xlink:href=\"#SimHei-28145\"/>\r\n       <use x=\"100\" xlink:href=\"#SimHei-24230\"/>\r\n       <use x=\"200\" xlink:href=\"#SimHei-23398\"/>\r\n       <use x=\"300\" xlink:href=\"#SimHei-20064\"/>\r\n      </g>\r\n     </g>\r\n    </g>\r\n    <g id=\"xtick_3\">\r\n     <g id=\"line2d_5\">\r\n      <path clip-path=\"url(#pe06941adc5)\" d=\"M 180.361755 240.155625 \r\nL 180.361755 22.715625 \r\n\" style=\"fill:none;stroke:#b0b0b0;stroke-dasharray:2.96,1.28;stroke-dashoffset:0;stroke-opacity:0.5;stroke-width:0.8;\"/>\r\n     </g>\r\n     <g id=\"line2d_6\">\r\n      <g>\r\n       <use style=\"stroke:#000000;stroke-width:0.8;\" x=\"180.361755\" xlink:href=\"#m93bb6d61c0\" y=\"240.155625\"/>\r\n      </g>\r\n     </g>\r\n     <g id=\"text_3\">\r\n      <!-- 算法招聘 -->\r\n      <g transform=\"translate(160.361755 255.241562)scale(0.1 -0.1)\">\r\n       <defs>\r\n        <path d=\"M 80.859375 57.03125 \r\nQ 80.46875 50 80.46875 39.0625 \r\nQ 80.46875 28.125 80.859375 20.703125 \r\nL 71.484375 20.703125 \r\nL 71.484375 13.671875 \r\nL 82.03125 13.671875 \r\nQ 88.28125 13.671875 96.09375 14.0625 \r\nL 96.09375 7.421875 \r\nQ 88.28125 7.8125 82.03125 7.8125 \r\nL 71.484375 7.8125 \r\nQ 71.484375 -1.171875 71.875 -9.765625 \r\nL 63.28125 -9.765625 \r\nQ 63.671875 -1.171875 63.671875 7.8125 \r\nL 41.40625 7.8125 \r\nQ 38.671875 1.5625 33.203125 -2.734375 \r\nQ 27.734375 -7.03125 16.796875 -10.546875 \r\nQ 14.453125 -6.640625 10.9375 -3.90625 \r\nQ 19.53125 -2.34375 25 0.578125 \r\nQ 30.46875 3.515625 33.203125 7.8125 \r\nL 19.140625 7.8125 \r\nQ 12.5 7.8125 4.6875 7.421875 \r\nL 4.6875 14.0625 \r\nQ 12.890625 13.671875 19.140625 13.671875 \r\nL 34.375 13.671875 \r\nQ 35.15625 16.796875 35.15625 20.703125 \r\nL 19.53125 20.703125 \r\nQ 19.921875 27.734375 19.921875 38.671875 \r\nQ 19.921875 50 19.53125 57.03125 \r\nL 80.859375 57.03125 \r\nz\r\nM 28.515625 79.6875 \r\nQ 25.390625 76.5625 23.046875 73.828125 \r\nL 37.890625 73.828125 \r\nQ 42.96875 73.828125 49.609375 74.21875 \r\nL 49.609375 67.578125 \r\nQ 42.96875 67.96875 34.375 67.96875 \r\nQ 35.15625 65.234375 36.71875 60.546875 \r\nQ 32.421875 60.15625 28.515625 58.59375 \r\nQ 27.34375 63.671875 26.171875 67.96875 \r\nL 18.75 67.96875 \r\nQ 16.796875 64.453125 12.109375 58.984375 \r\nQ 8.203125 61.328125 3.90625 62.5 \r\nQ 7.8125 66.015625 11.90625 70.890625 \r\nQ 16.015625 75.78125 19.921875 82.8125 \r\nQ 23.4375 80.859375 28.515625 79.6875 \r\nz\r\nM 70.703125 79.6875 \r\nQ 67.578125 77.34375 65.234375 73.828125 \r\nL 81.640625 73.828125 \r\nQ 85.9375 73.828125 92.96875 74.21875 \r\nL 92.96875 67.578125 \r\nQ 86.71875 67.96875 77.734375 67.96875 \r\nL 80.859375 61.71875 \r\nQ 76.953125 61.328125 72.65625 59.765625 \r\nQ 71.484375 64.0625 70.3125 67.96875 \r\nL 60.9375 67.96875 \r\nQ 57.8125 62.890625 55.078125 58.984375 \r\nQ 50.78125 61.71875 47.265625 62.5 \r\nQ 51.953125 67.1875 55.46875 72.0625 \r\nQ 58.984375 76.953125 60.9375 82.421875 \r\nQ 65.234375 80.859375 70.703125 79.6875 \r\nz\r\nM 72.65625 26.171875 \r\nL 72.65625 31.25 \r\nL 27.734375 31.25 \r\nL 27.734375 26.171875 \r\nz\r\nM 72.65625 36.71875 \r\nL 72.65625 41.40625 \r\nL 27.734375 41.40625 \r\nL 27.734375 36.71875 \r\nz\r\nM 72.65625 46.875 \r\nL 72.65625 51.5625 \r\nL 27.734375 51.5625 \r\nL 27.734375 46.875 \r\nz\r\nM 63.671875 13.671875 \r\nL 63.671875 20.703125 \r\nL 42.578125 20.703125 \r\nQ 42.578125 16.796875 42.1875 13.671875 \r\nz\r\n\" id=\"SimHei-31639\"/>\r\n        <path d=\"M 94.921875 -4.6875 \r\nQ 91.40625 -6.640625 87.890625 -9.765625 \r\nQ 85.15625 -4.6875 83.203125 -1.953125 \r\nQ 70.703125 -2.734375 56.046875 -4.09375 \r\nQ 41.40625 -5.46875 36.328125 -7.03125 \r\nQ 35.15625 -2.34375 33.203125 1.171875 \r\nQ 38.28125 2.734375 44.140625 11.328125 \r\nQ 50 19.921875 54.6875 32.8125 \r\nL 43.75 32.8125 \r\nQ 36.71875 32.8125 30.46875 32.421875 \r\nL 30.46875 39.453125 \r\nQ 36.71875 39.0625 44.140625 39.0625 \r\nL 58.203125 39.0625 \r\nL 58.203125 56.25 \r\nL 49.21875 56.25 \r\nQ 41.796875 56.25 36.328125 55.859375 \r\nL 36.328125 62.890625 \r\nQ 42.578125 62.5 48.828125 62.5 \r\nL 58.203125 62.5 \r\nQ 58.203125 73.4375 57.8125 80.46875 \r\nL 66.40625 80.46875 \r\nQ 66.015625 74.609375 66.015625 62.5 \r\nL 77.734375 62.5 \r\nQ 83.59375 62.5 89.84375 62.890625 \r\nL 89.84375 55.859375 \r\nQ 83.59375 56.25 78.515625 56.25 \r\nL 66.015625 56.25 \r\nL 66.015625 39.0625 \r\nL 80.078125 39.0625 \r\nQ 87.109375 39.0625 94.140625 39.453125 \r\nL 94.140625 32.421875 \r\nQ 87.109375 32.8125 80.078125 32.8125 \r\nL 60.15625 32.8125 \r\nL 64.0625 30.46875 \r\nQ 61.71875 27.734375 56.640625 18.75 \r\nQ 51.5625 9.765625 45.3125 1.5625 \r\nQ 62.5 2.34375 79.296875 3.515625 \r\nQ 74.609375 10.546875 69.53125 16.015625 \r\nQ 72.65625 18.359375 75.390625 21.09375 \r\nQ 82.421875 12.5 94.921875 -4.6875 \r\nz\r\nM 4.6875 -3.90625 \r\nQ 10.15625 1.5625 15.8125 9.765625 \r\nQ 21.484375 17.96875 26.953125 26.953125 \r\nQ 28.90625 23.4375 32.421875 21.484375 \r\nQ 28.90625 16.796875 23.4375 7.609375 \r\nQ 17.96875 -1.5625 13.28125 -9.765625 \r\nQ 10.15625 -6.640625 4.6875 -3.90625 \r\nz\r\nM 10.546875 53.515625 \r\nQ 18.75 48.4375 28.125 41.40625 \r\nQ 24.609375 39.0625 21.875 35.15625 \r\nQ 14.453125 41.796875 5.46875 47.65625 \r\nQ 8.203125 50 10.546875 53.515625 \r\nz\r\nM 16.40625 76.5625 \r\nQ 24.21875 71.484375 32.8125 64.453125 \r\nQ 29.6875 62.109375 26.953125 58.203125 \r\nQ 19.53125 65.234375 11.328125 70.703125 \r\nQ 14.0625 73.4375 16.40625 76.5625 \r\nz\r\n\" id=\"SimHei-27861\"/>\r\n        <path d=\"M 91.796875 30.078125 \r\nQ 91.40625 24.609375 91.40625 10.546875 \r\nQ 91.40625 -3.125 91.796875 -9.375 \r\nL 83.203125 -9.375 \r\nL 83.203125 -3.125 \r\nL 52.734375 -3.125 \r\nL 52.734375 -9.375 \r\nL 44.53125 -9.375 \r\nQ 45.3125 -3.90625 45.3125 10.15625 \r\nQ 45.3125 24.609375 44.53125 30.078125 \r\nL 91.796875 30.078125 \r\nz\r\nM 38.671875 34.765625 \r\nQ 35.9375 33.59375 28.515625 30.859375 \r\nL 28.515625 1.953125 \r\nQ 28.125 -3.90625 25.390625 -5.859375 \r\nQ 22.65625 -7.8125 13.28125 -9.375 \r\nQ 12.109375 -4.6875 10.546875 -0.390625 \r\nQ 19.140625 -0.390625 20.109375 0.96875 \r\nQ 21.09375 2.34375 21.09375 5.078125 \r\nL 21.09375 28.125 \r\nQ 10.9375 23.828125 7.03125 21.484375 \r\nQ 5.859375 25.78125 3.515625 30.078125 \r\nQ 7.421875 30.859375 21.09375 35.546875 \r\nL 21.09375 54.6875 \r\nQ 12.5 54.6875 6.25 54.296875 \r\nL 6.25 61.71875 \r\nQ 12.109375 61.328125 21.09375 61.328125 \r\nQ 21.09375 71.875 20.703125 81.640625 \r\nL 28.90625 81.640625 \r\nQ 28.515625 72.65625 28.515625 61.328125 \r\nQ 33.203125 61.328125 40.234375 61.71875 \r\nL 40.234375 54.296875 \r\nQ 32.8125 54.6875 28.515625 54.6875 \r\nL 28.515625 37.890625 \r\nQ 35.546875 40.625 38.28125 41.796875 \r\nQ 38.28125 38.671875 38.671875 34.765625 \r\nz\r\nM 75 35.9375 \r\nQ 73.828125 40.234375 71.09375 44.140625 \r\nQ 78.515625 44.140625 80.859375 44.921875 \r\nQ 83.203125 45.703125 83.59375 52.734375 \r\nL 84.375 70.3125 \r\nL 67.1875 70.3125 \r\nQ 65.625 55.859375 62.109375 48.828125 \r\nQ 58.59375 41.796875 48.046875 34.375 \r\nQ 44.921875 37.890625 40.234375 40.234375 \r\nQ 50 43.75 54.09375 51.5625 \r\nQ 58.203125 59.375 58.59375 70.3125 \r\nQ 48.046875 70.3125 42.1875 69.921875 \r\nL 42.1875 77.34375 \r\nL 93.359375 77.34375 \r\nQ 92.578125 68.359375 92.1875 61.90625 \r\nQ 91.796875 55.46875 91.203125 47.84375 \r\nQ 90.625 40.234375 86.71875 38.671875 \r\nQ 82.8125 37.109375 75 35.9375 \r\nz\r\nM 83.203125 3.515625 \r\nL 83.203125 23.046875 \r\nL 52.734375 23.046875 \r\nL 52.734375 3.515625 \r\nz\r\n\" id=\"SimHei-25307\"/>\r\n        <path d=\"M 44.140625 14.453125 \r\nQ 38.28125 13.28125 35.546875 12.109375 \r\nQ 35.546875 -5.46875 35.9375 -8.984375 \r\nL 28.125 -8.984375 \r\nQ 28.515625 -3.125 28.515625 10.546875 \r\nQ 23.4375 8.984375 17.375 7.21875 \r\nQ 11.328125 5.46875 7.03125 3.90625 \r\nQ 5.078125 8.59375 3.515625 11.71875 \r\nQ 6.25 11.71875 10.546875 12.5 \r\nL 10.546875 68.75 \r\nQ 8.59375 68.75 4.296875 68.359375 \r\nL 4.296875 75 \r\nQ 9.375 74.609375 12.890625 74.609375 \r\nL 33.59375 74.609375 \r\nQ 37.5 74.609375 41.015625 75 \r\nL 41.015625 68.359375 \r\nQ 38.28125 68.75 35.546875 68.75 \r\nL 35.546875 17.96875 \r\nQ 39.84375 19.140625 44.53125 20.703125 \r\nQ 44.140625 16.796875 44.140625 14.453125 \r\nz\r\nM 63.671875 71.484375 \r\nQ 63.671875 78.90625 63.28125 82.03125 \r\nL 71.484375 82.03125 \r\nQ 71.09375 77.734375 71.09375 71.484375 \r\nL 90.234375 71.484375 \r\nQ 89.84375 66.796875 89.84375 55.46875 \r\nQ 89.84375 44.53125 90.234375 39.0625 \r\nL 44.921875 39.0625 \r\nQ 45.3125 44.53125 45.3125 56.25 \r\nQ 45.3125 67.96875 44.921875 71.484375 \r\nL 63.671875 71.484375 \r\nz\r\nM 62.109375 26.953125 \r\nQ 61.328125 22.65625 60.546875 17.96875 \r\nL 89.453125 17.96875 \r\nQ 88.671875 5.078125 87.5 -0.390625 \r\nQ 86.328125 -5.859375 82.21875 -7.421875 \r\nQ 78.125 -8.984375 73.046875 -10.15625 \r\nQ 71.484375 -4.296875 69.140625 -2.34375 \r\nQ 77.34375 -2.34375 79.09375 -0.78125 \r\nQ 80.859375 0.78125 81.640625 12.109375 \r\nL 51.953125 12.109375 \r\nQ 54.296875 21.09375 55.078125 26.953125 \r\nQ 46.484375 26.953125 41.40625 26.5625 \r\nL 41.40625 33.203125 \r\nQ 46.484375 32.8125 51.953125 32.8125 \r\nL 85.9375 32.8125 \r\nQ 90.625 32.8125 95.703125 33.203125 \r\nL 95.703125 26.5625 \r\nQ 91.015625 26.953125 86.328125 26.953125 \r\nz\r\nM 28.515625 34.375 \r\nL 28.515625 49.609375 \r\nL 17.1875 49.609375 \r\nL 17.1875 34.375 \r\nz\r\nM 17.1875 14.0625 \r\nQ 25.390625 15.625 28.515625 16.40625 \r\nL 28.515625 28.515625 \r\nL 17.1875 28.515625 \r\nL 17.1875 14.0625 \r\nz\r\nM 28.515625 55.46875 \r\nL 28.515625 68.75 \r\nL 17.1875 68.75 \r\nL 17.1875 55.46875 \r\nz\r\nM 82.8125 44.921875 \r\nL 82.8125 52.34375 \r\nL 71.09375 52.34375 \r\nL 71.09375 44.921875 \r\nz\r\nM 63.671875 44.921875 \r\nL 63.671875 52.34375 \r\nL 51.953125 52.34375 \r\nL 51.953125 44.921875 \r\nz\r\nM 82.8125 58.203125 \r\nL 82.8125 65.625 \r\nL 71.09375 65.625 \r\nL 71.09375 58.203125 \r\nz\r\nM 63.671875 58.203125 \r\nL 63.671875 65.625 \r\nL 51.953125 65.625 \r\nL 51.953125 58.203125 \r\nz\r\n\" id=\"SimHei-32856\"/>\r\n       </defs>\r\n       <use xlink:href=\"#SimHei-31639\"/>\r\n       <use x=\"100\" xlink:href=\"#SimHei-27861\"/>\r\n       <use x=\"200\" xlink:href=\"#SimHei-25307\"/>\r\n       <use x=\"300\" xlink:href=\"#SimHei-32856\"/>\r\n      </g>\r\n     </g>\r\n    </g>\r\n    <g id=\"xtick_4\">\r\n     <g id=\"line2d_7\">\r\n      <path clip-path=\"url(#pe06941adc5)\" d=\"M 232.838245 240.155625 \r\nL 232.838245 22.715625 \r\n\" style=\"fill:none;stroke:#b0b0b0;stroke-dasharray:2.96,1.28;stroke-dashoffset:0;stroke-opacity:0.5;stroke-width:0.8;\"/>\r\n     </g>\r\n     <g id=\"line2d_8\">\r\n      <g>\r\n       <use style=\"stroke:#000000;stroke-width:0.8;\" x=\"232.838245\" xlink:href=\"#m93bb6d61c0\" y=\"240.155625\"/>\r\n      </g>\r\n     </g>\r\n     <g id=\"text_4\">\r\n      <!-- 人工智能 -->\r\n      <g transform=\"translate(212.838245 255.124375)scale(0.1 -0.1)\">\r\n       <defs>\r\n        <path d=\"M 5.46875 -2.34375 \r\nQ 20.703125 5.078125 29.296875 16.015625 \r\nQ 37.890625 26.953125 41.203125 38.46875 \r\nQ 44.53125 50 44.921875 59.953125 \r\nQ 45.3125 69.921875 44.53125 80.859375 \r\nQ 48.828125 80.46875 54.296875 80.078125 \r\nQ 53.125 73.828125 53.125 67.1875 \r\nQ 53.125 60.546875 53.90625 51.953125 \r\nQ 54.6875 43.359375 65.03125 25.96875 \r\nQ 75.390625 8.59375 95.3125 0 \r\nQ 90.625 -4.6875 89.0625 -7.8125 \r\nQ 61.71875 5.46875 50 40.234375 \r\nQ 42.1875 9.375 12.109375 -8.984375 \r\nQ 9.765625 -5.859375 5.46875 -2.34375 \r\nz\r\n\" id=\"SimHei-20154\"/>\r\n        <path d=\"M 69.921875 73.046875 \r\nQ 79.296875 73.046875 87.109375 73.4375 \r\nL 87.109375 65.625 \r\nQ 79.296875 66.015625 69.921875 66.015625 \r\nL 53.90625 66.015625 \r\nL 53.90625 4.296875 \r\nL 79.296875 4.296875 \r\nQ 88.28125 4.296875 95.703125 4.6875 \r\nL 95.703125 -3.125 \r\nQ 88.28125 -2.734375 79.6875 -2.734375 \r\nL 19.140625 -2.734375 \r\nQ 10.546875 -2.734375 4.296875 -3.125 \r\nL 4.296875 4.6875 \r\nQ 10.9375 4.296875 19.53125 4.296875 \r\nL 45.3125 4.296875 \r\nL 45.3125 66.015625 \r\nL 29.6875 66.015625 \r\nQ 19.53125 66.015625 12.109375 65.625 \r\nL 12.109375 73.4375 \r\nQ 19.53125 73.046875 29.6875 73.046875 \r\nz\r\n\" id=\"SimHei-24037\"/>\r\n        <path d=\"M 80.078125 29.6875 \r\nQ 79.6875 23.046875 79.6875 10.15625 \r\nQ 79.6875 -2.734375 80.078125 -9.375 \r\nL 71.875 -9.375 \r\nL 71.875 -4.6875 \r\nL 30.859375 -4.6875 \r\nL 30.859375 -9.375 \r\nL 22.65625 -9.375 \r\nQ 23.046875 -3.125 23.046875 9.765625 \r\nQ 23.046875 23.046875 22.65625 29.6875 \r\nL 80.078125 29.6875 \r\nz\r\nM 30.078125 78.90625 \r\nQ 27.34375 76.171875 24.21875 71.484375 \r\nQ 45.3125 71.484375 53.515625 71.875 \r\nL 53.515625 64.84375 \r\nQ 44.921875 65.234375 37.890625 65.234375 \r\nQ 37.890625 61.71875 37.5 56.25 \r\nQ 50 56.25 55.859375 56.640625 \r\nL 55.859375 49.609375 \r\nQ 50 50 36.328125 50 \r\nL 35.546875 47.265625 \r\nQ 47.65625 42.578125 54.6875 39.0625 \r\nQ 51.5625 34.765625 50 32.03125 \r\nQ 41.40625 38.28125 32.421875 41.40625 \r\nQ 25.78125 32.8125 14.84375 26.5625 \r\nQ 12.5 29.6875 8.984375 32.421875 \r\nQ 15.625 35.15625 21.28125 40.234375 \r\nQ 26.953125 45.3125 28.515625 50 \r\nQ 14.0625 50 7.8125 49.609375 \r\nL 7.8125 56.640625 \r\nQ 14.0625 56.25 30.078125 56.25 \r\nQ 30.859375 61.328125 30.46875 65.234375 \r\nL 21.484375 65.234375 \r\nQ 19.140625 60.9375 16.015625 57.03125 \r\nQ 11.71875 59.375 9.375 60.9375 \r\nQ 12.5 64.453125 16.59375 71.09375 \r\nQ 20.703125 77.734375 21.875 82.03125 \r\nQ 25 80.46875 30.078125 78.90625 \r\nz\r\nM 59.375 37.5 \r\nQ 59.765625 43.75 59.765625 54.296875 \r\nQ 59.765625 65.234375 59.375 71.484375 \r\nL 90.234375 71.484375 \r\nQ 89.84375 66.796875 89.84375 55.078125 \r\nQ 89.84375 43.359375 90.234375 37.5 \r\nz\r\nM 71.875 15.625 \r\nL 71.875 24.21875 \r\nL 30.859375 24.21875 \r\nL 30.859375 15.625 \r\nz\r\nM 71.875 1.5625 \r\nL 71.875 9.765625 \r\nL 30.859375 9.765625 \r\nL 30.859375 1.5625 \r\nz\r\nM 82.03125 43.75 \r\nL 82.03125 65.234375 \r\nL 67.1875 65.234375 \r\nL 67.1875 43.75 \r\nz\r\n\" id=\"SimHei-26234\"/>\r\n        <path d=\"M 31.640625 -2.34375 \r\nQ 38.671875 -2.34375 39.453125 -0.96875 \r\nQ 40.234375 0.390625 40.234375 3.125 \r\nL 40.234375 8.59375 \r\nL 19.140625 8.59375 \r\nL 19.140625 -9.765625 \r\nL 11.71875 -9.765625 \r\nQ 12.109375 -1.953125 12.109375 4.296875 \r\nL 12.109375 30.46875 \r\nQ 12.109375 37.5 11.71875 42.96875 \r\nL 47.65625 42.96875 \r\nQ 47.265625 37.109375 47.265625 30.078125 \r\nL 47.265625 -2.734375 \r\nQ 46.875 -7.03125 43.75 -8.203125 \r\nQ 40.625 -9.375 34.765625 -10.15625 \r\nQ 33.984375 -6.640625 31.640625 -2.34375 \r\nz\r\nM 90.625 25.390625 \r\nQ 89.0625 25 81.4375 21.484375 \r\nQ 73.828125 17.96875 64.0625 14.84375 \r\nL 64.0625 3.90625 \r\nQ 64.0625 -0.78125 68.359375 -0.78125 \r\nL 82.421875 -0.78125 \r\nQ 85.546875 0 86.71875 8.984375 \r\nQ 89.84375 7.421875 94.53125 5.859375 \r\nQ 91.796875 -6.640625 85.546875 -6.640625 \r\nL 64.453125 -6.640625 \r\nQ 57.03125 -6.640625 57.03125 0.78125 \r\nL 57.03125 26.171875 \r\nQ 57.03125 32.03125 56.640625 36.71875 \r\nL 64.453125 36.71875 \r\nQ 64.0625 32.03125 64.0625 26.5625 \r\nL 64.0625 21.484375 \r\nQ 67.96875 22.65625 74.40625 25.78125 \r\nQ 80.859375 28.90625 84.765625 32.421875 \r\nQ 88.28125 27.734375 90.625 25.390625 \r\nz\r\nM 64.0625 64.0625 \r\nQ 69.53125 66.40625 74.609375 68.9375 \r\nQ 79.6875 71.484375 84.765625 75.390625 \r\nQ 87.890625 71.484375 90.234375 68.75 \r\nQ 87.890625 67.96875 80.265625 64.25 \r\nQ 72.65625 60.546875 64.0625 57.8125 \r\nL 64.0625 51.953125 \r\nQ 64.0625 47.265625 69.53125 47.265625 \r\nL 80.859375 47.265625 \r\nQ 84.765625 47.265625 85.9375 57.421875 \r\nQ 89.84375 55.46875 93.75 53.90625 \r\nQ 91.015625 41.40625 83.984375 41.40625 \r\nL 66.40625 41.40625 \r\nQ 57.03125 41.40625 57.03125 50 \r\nL 57.03125 69.921875 \r\nQ 57.03125 74.609375 56.640625 80.078125 \r\nL 64.453125 80.078125 \r\nQ 64.0625 77.34375 64.0625 68.75 \r\nz\r\nM 47.265625 48.046875 \r\nQ 46.09375 50 44.140625 52.34375 \r\nQ 31.25 51.5625 22.65625 50.78125 \r\nQ 14.0625 50 9.765625 48.828125 \r\nQ 8.59375 53.515625 7.03125 57.03125 \r\nQ 9.765625 58.203125 15.421875 65.421875 \r\nQ 21.09375 72.65625 24.609375 80.859375 \r\nQ 26.5625 79.296875 28.90625 78.515625 \r\nQ 31.25 77.734375 33.984375 76.5625 \r\nQ 30.859375 74.21875 27.53125 69.53125 \r\nQ 24.21875 64.84375 16.796875 56.25 \r\nQ 33.203125 57.03125 41.015625 57.421875 \r\nQ 36.328125 63.671875 34.375 65.625 \r\nQ 37.109375 67.1875 40.625 69.921875 \r\nQ 43.75 65.625 46.671875 62.109375 \r\nQ 49.609375 58.59375 54.296875 53.125 \r\nQ 50 50 47.265625 48.046875 \r\nz\r\nM 40.234375 14.84375 \r\nL 40.234375 23.046875 \r\nL 19.140625 23.046875 \r\nL 19.140625 14.84375 \r\nz\r\nM 40.234375 29.296875 \r\nL 40.234375 36.71875 \r\nL 19.140625 36.71875 \r\nL 19.140625 29.296875 \r\nz\r\n\" id=\"SimHei-33021\"/>\r\n       </defs>\r\n       <use xlink:href=\"#SimHei-20154\"/>\r\n       <use x=\"100\" xlink:href=\"#SimHei-24037\"/>\r\n       <use x=\"200\" xlink:href=\"#SimHei-26234\"/>\r\n       <use x=\"300\" xlink:href=\"#SimHei-33021\"/>\r\n      </g>\r\n     </g>\r\n    </g>\r\n    <g id=\"xtick_5\">\r\n     <g id=\"line2d_9\">\r\n      <path clip-path=\"url(#pe06941adc5)\" d=\"M 285.314734 240.155625 \r\nL 285.314734 22.715625 \r\n\" style=\"fill:none;stroke:#b0b0b0;stroke-dasharray:2.96,1.28;stroke-dashoffset:0;stroke-opacity:0.5;stroke-width:0.8;\"/>\r\n     </g>\r\n     <g id=\"line2d_10\">\r\n      <g>\r\n       <use style=\"stroke:#000000;stroke-width:0.8;\" x=\"285.314734\" xlink:href=\"#m93bb6d61c0\" y=\"240.155625\"/>\r\n      </g>\r\n     </g>\r\n     <g id=\"text_5\">\r\n      <!-- 数据挖掘 -->\r\n      <g transform=\"translate(265.314734 255.124375)scale(0.1 -0.1)\">\r\n       <defs>\r\n        <path d=\"M 70.703125 76.953125 \r\nQ 69.921875 75 68.75 71.671875 \r\nQ 67.578125 68.359375 65.234375 59.765625 \r\nL 83.203125 59.765625 \r\nQ 87.109375 59.765625 92.578125 60.15625 \r\nL 92.578125 53.125 \r\nQ 88.28125 53.515625 85.9375 53.515625 \r\nQ 85.9375 47.265625 83.78125 33.78125 \r\nQ 81.640625 20.3125 76.171875 10.546875 \r\nQ 80.078125 5.859375 84.953125 2.140625 \r\nQ 89.84375 -1.5625 94.140625 -3.125 \r\nQ 89.453125 -6.640625 87.890625 -9.765625 \r\nQ 83.203125 -7.03125 79.296875 -3.515625 \r\nQ 75.390625 0 71.484375 5.078125 \r\nQ 67.1875 0.390625 62.296875 -2.921875 \r\nQ 57.421875 -6.25 50 -10.15625 \r\nQ 48.046875 -6.640625 44.53125 -4.6875 \r\nQ 50.390625 -2.34375 57.03125 1.953125 \r\nQ 63.671875 6.25 67.1875 10.546875 \r\nQ 64.453125 16.015625 61.90625 22.265625 \r\nQ 59.375 28.515625 57.421875 38.671875 \r\nQ 56.25 35.546875 53.515625 30.46875 \r\nQ 50.78125 32.03125 46.875 33.59375 \r\nQ 53.125 44.53125 57.03125 57.421875 \r\nQ 60.9375 70.3125 62.109375 79.6875 \r\nQ 66.796875 77.734375 70.703125 76.953125 \r\nz\r\nM 32.8125 35.15625 \r\nQ 31.25 33.59375 29.296875 30.078125 \r\nL 50.78125 30.078125 \r\nQ 48.4375 20.3125 42.578125 10.546875 \r\nQ 48.828125 8.203125 52.34375 6.25 \r\nQ 50.390625 3.515625 48.828125 0.390625 \r\nQ 45.3125 2.734375 38.28125 5.078125 \r\nQ 30.46875 -3.515625 11.328125 -10.15625 \r\nQ 9.375 -5.859375 6.25 -4.296875 \r\nQ 24.609375 0 31.25 7.421875 \r\nQ 20.3125 10.15625 13.28125 12.109375 \r\nQ 15.625 15.625 19.53125 23.828125 \r\nQ 15.625 23.828125 6.640625 23.4375 \r\nL 6.640625 30.46875 \r\nQ 14.0625 30.078125 21.875 30.078125 \r\nQ 23.4375 33.59375 24.21875 37.890625 \r\nQ 28.515625 36.328125 32.8125 35.15625 \r\nz\r\nM 27.734375 61.71875 \r\nQ 27.734375 71.09375 27.34375 79.6875 \r\nL 35.15625 79.6875 \r\nQ 34.765625 71.484375 34.765625 61.71875 \r\nQ 48.046875 61.71875 53.515625 62.109375 \r\nL 53.515625 55.078125 \r\nQ 48.046875 55.46875 34.765625 55.46875 \r\nQ 34.765625 44.140625 35.15625 37.890625 \r\nL 27.34375 37.890625 \r\nQ 27.734375 43.359375 27.734375 51.5625 \r\nQ 25.78125 48.4375 20.3125 43.546875 \r\nQ 14.84375 38.671875 10.15625 35.9375 \r\nQ 8.203125 39.453125 4.296875 41.015625 \r\nQ 7.8125 42.1875 13.671875 46.484375 \r\nQ 19.53125 50.78125 22.65625 55.46875 \r\nQ 14.84375 55.46875 7.8125 55.078125 \r\nL 7.8125 62.109375 \r\nQ 14.453125 61.71875 27.734375 61.71875 \r\nz\r\nM 62.109375 49.609375 \r\nQ 65.625 26.5625 71.875 17.578125 \r\nQ 75.78125 26.5625 77.140625 35.734375 \r\nQ 78.515625 44.921875 78.90625 53.515625 \r\nL 63.671875 53.515625 \r\nL 62.109375 49.609375 \r\nz\r\nM 22.65625 15.625 \r\nQ 27.34375 14.453125 35.546875 12.5 \r\nQ 38.671875 16.40625 41.40625 23.828125 \r\nL 26.953125 23.828125 \r\nQ 25 19.921875 22.65625 15.625 \r\nz\r\nM 51.953125 75.390625 \r\nQ 50 72.265625 48.828125 69.53125 \r\nQ 47.65625 66.796875 45.703125 62.890625 \r\nQ 42.578125 64.453125 39.453125 65.234375 \r\nQ 42.578125 70.3125 45.3125 78.125 \r\nQ 49.21875 76.171875 51.953125 75.390625 \r\nz\r\nM 40.234375 52.734375 \r\nQ 45.3125 47.65625 50 42.578125 \r\nQ 47.65625 40.625 44.921875 37.890625 \r\nQ 39.453125 44.53125 35.9375 48.4375 \r\nQ 38.28125 50.390625 40.234375 52.734375 \r\nz\r\nM 14.453125 78.125 \r\nQ 19.921875 72.65625 23.4375 67.1875 \r\nL 17.578125 63.671875 \r\nQ 14.84375 69.140625 9.375 73.828125 \r\nQ 12.890625 76.171875 14.453125 78.125 \r\nz\r\n\" id=\"SimHei-25968\"/>\r\n        <path d=\"M 89.84375 74.609375 \r\nQ 89.453125 71.09375 89.453125 66.015625 \r\nL 89.453125 60.9375 \r\nQ 89.453125 53.90625 89.84375 50.78125 \r\nL 48.4375 50.78125 \r\nL 48.4375 39.0625 \r\nL 66.40625 39.0625 \r\nQ 66.40625 42.578125 66.015625 49.609375 \r\nL 73.4375 49.609375 \r\nQ 73.046875 43.359375 73.046875 39.0625 \r\nL 83.59375 39.0625 \r\nQ 90.625 39.0625 95.3125 39.453125 \r\nL 95.3125 32.421875 \r\nQ 90.625 32.8125 83.984375 32.8125 \r\nL 73.046875 32.8125 \r\nL 73.046875 22.265625 \r\nL 90.234375 22.265625 \r\nQ 89.84375 14.84375 89.84375 12.5 \r\nL 89.84375 2.734375 \r\nQ 89.84375 -3.515625 90.234375 -8.984375 \r\nL 83.203125 -8.984375 \r\nL 83.203125 -3.515625 \r\nL 57.421875 -3.515625 \r\nL 57.421875 -9.375 \r\nL 50.390625 -9.375 \r\nQ 50.78125 -5.078125 50.78125 1.5625 \r\nL 50.78125 12.890625 \r\nQ 50.78125 16.796875 50.390625 22.265625 \r\nL 66.40625 22.265625 \r\nL 66.40625 32.8125 \r\nL 48.046875 32.8125 \r\nQ 47.65625 21.484375 45.109375 11.515625 \r\nQ 42.578125 1.5625 37.890625 -7.421875 \r\nQ 34.375 -5.078125 30.46875 -3.90625 \r\nQ 35.15625 2.34375 37.296875 9.375 \r\nQ 39.453125 16.40625 40.625 24.40625 \r\nQ 41.796875 32.421875 41.796875 41.015625 \r\nL 41.796875 55.859375 \r\nQ 41.796875 62.109375 41.40625 74.609375 \r\nL 89.84375 74.609375 \r\nz\r\nM 19.921875 69.140625 \r\nQ 19.921875 74.609375 19.53125 79.296875 \r\nL 27.34375 79.296875 \r\nQ 26.953125 75 26.953125 69.140625 \r\nL 26.953125 58.984375 \r\nQ 30.859375 58.984375 39.0625 59.375 \r\nL 39.0625 52.734375 \r\nQ 30.859375 53.125 26.953125 53.125 \r\nL 26.953125 38.28125 \r\nQ 32.03125 41.015625 37.5 44.53125 \r\nQ 37.890625 41.40625 39.453125 38.671875 \r\nQ 32.03125 34.375 26.953125 31.25 \r\nL 26.953125 2.734375 \r\nQ 26.953125 -4.6875 23.234375 -6.25 \r\nQ 19.53125 -7.8125 12.109375 -8.984375 \r\nQ 11.328125 -5.078125 9.375 -0.78125 \r\nQ 16.015625 -0.78125 17.96875 -0.1875 \r\nQ 19.921875 0.390625 19.921875 5.078125 \r\nL 19.921875 28.125 \r\nQ 14.0625 25 8.203125 20.703125 \r\nQ 7.03125 23.828125 4.296875 28.125 \r\nQ 12.109375 30.859375 19.921875 35.15625 \r\nL 19.921875 53.125 \r\nQ 12.5 53.125 5.46875 52.734375 \r\nL 5.46875 59.375 \r\nQ 12.5 58.984375 19.921875 58.984375 \r\nz\r\nM 82.8125 56.640625 \r\nL 82.8125 68.75 \r\nL 48.4375 68.75 \r\nL 48.4375 56.640625 \r\nz\r\nM 83.203125 2.34375 \r\nL 83.203125 16.796875 \r\nL 57.421875 16.796875 \r\nL 57.421875 2.34375 \r\nz\r\n\" id=\"SimHei-25454\"/>\r\n        <path d=\"M 17.578125 60.546875 \r\nQ 17.578125 75.78125 17.1875 80.859375 \r\nL 25 80.859375 \r\nQ 24.609375 76.953125 24.609375 60.546875 \r\nQ 28.90625 60.546875 34.375 60.9375 \r\nL 34.375 53.515625 \r\nQ 28.90625 53.90625 24.609375 53.90625 \r\nL 24.609375 37.890625 \r\nQ 28.515625 39.84375 32.421875 42.578125 \r\nQ 33.203125 38.28125 33.984375 35.15625 \r\nQ 29.296875 33.203125 24.609375 30.859375 \r\nL 24.609375 -0.390625 \r\nQ 24.21875 -4.6875 21.09375 -6.25 \r\nQ 17.96875 -7.8125 10.546875 -8.59375 \r\nQ 10.15625 -4.6875 7.421875 -0.78125 \r\nQ 13.28125 -0.78125 15.234375 -0.578125 \r\nQ 17.1875 -0.390625 17.578125 2.734375 \r\nL 17.578125 27.734375 \r\nQ 10.546875 23.828125 7.8125 21.875 \r\nQ 6.640625 25.78125 3.90625 30.078125 \r\nQ 8.59375 31.25 17.578125 35.15625 \r\nL 17.578125 53.90625 \r\nQ 10.15625 53.90625 4.296875 53.515625 \r\nL 4.296875 60.9375 \r\nQ 9.765625 60.546875 17.578125 60.546875 \r\nz\r\nM 85.15625 35.546875 \r\nL 85.15625 28.515625 \r\nQ 80.46875 26.953125 73.4375 21.671875 \r\nQ 66.40625 16.40625 58.984375 9.953125 \r\nQ 51.5625 3.515625 52.734375 0.96875 \r\nQ 53.90625 -1.5625 57.03125 -1.5625 \r\nL 78.90625 -1.5625 \r\nQ 82.8125 -1.5625 84.5625 0.1875 \r\nQ 86.328125 1.953125 86.71875 9.375 \r\nQ 91.015625 6.25 95.703125 5.46875 \r\nQ 92.96875 -3.90625 90.234375 -5.859375 \r\nQ 87.5 -7.8125 80.46875 -7.8125 \r\nL 52.734375 -7.8125 \r\nQ 48.828125 -7.8125 46.09375 -5.46875 \r\nQ 43.359375 -3.125 43.15625 0.96875 \r\nQ 42.96875 5.078125 51.953125 13.078125 \r\nQ 60.9375 21.09375 71.875 29.296875 \r\nL 50 29.296875 \r\nQ 45.3125 29.296875 40.625 28.90625 \r\nL 40.625 35.9375 \r\nQ 44.921875 35.546875 50 35.546875 \r\nz\r\nM 68.359375 82.03125 \r\nQ 69.140625 78.125 70.3125 71.484375 \r\nL 94.53125 71.484375 \r\nQ 94.140625 67.96875 94.328125 63.46875 \r\nQ 94.53125 58.984375 94.53125 54.6875 \r\nL 86.71875 54.6875 \r\nL 86.71875 65.234375 \r\nL 44.53125 65.234375 \r\nL 44.53125 53.90625 \r\nL 36.71875 53.90625 \r\nQ 37.109375 57.8125 37.109375 62.5 \r\nQ 37.109375 67.1875 36.71875 71.484375 \r\nL 62.109375 71.484375 \r\nQ 61.328125 76.5625 59.765625 80.859375 \r\nQ 64.0625 81.25 68.359375 82.03125 \r\nz\r\nM 73.4375 58.59375 \r\nQ 85.15625 50.78125 91.40625 46.09375 \r\nQ 88.28125 43.359375 85.9375 39.453125 \r\nQ 82.421875 43.75 67.96875 53.125 \r\nQ 71.09375 55.46875 73.4375 58.59375 \r\nz\r\nM 60.9375 54.6875 \r\nQ 57.421875 51.171875 54.296875 47.65625 \r\nQ 51.171875 44.140625 46.484375 37.890625 \r\nQ 43.75 40.625 39.453125 42.578125 \r\nQ 47.65625 50 53.515625 59.765625 \r\nQ 56.640625 56.640625 60.9375 54.6875 \r\nz\r\n\" id=\"SimHei-25366\"/>\r\n        <path d=\"M 91.40625 78.125 \r\nQ 91.015625 75.78125 90.625 69.53125 \r\nL 90.625 61.328125 \r\nQ 90.625 58.203125 91.015625 55.078125 \r\nL 46.875 55.078125 \r\nQ 46.875 43.75 46.28125 33.984375 \r\nQ 45.703125 24.21875 42.765625 11.71875 \r\nQ 39.84375 -0.78125 34.375 -9.375 \r\nQ 30.859375 -6.640625 26.5625 -4.296875 \r\nQ 34.375 5.46875 37.109375 19.71875 \r\nQ 39.84375 33.984375 39.84375 45.3125 \r\nL 39.84375 64.84375 \r\nQ 39.84375 73.4375 39.0625 78.125 \r\nL 91.40625 78.125 \r\nz\r\nM 92.578125 0.78125 \r\nQ 92.578125 -5.078125 93.359375 -8.59375 \r\nL 85.15625 -8.59375 \r\nL 85.15625 -5.46875 \r\nL 49.21875 -5.46875 \r\nQ 49.609375 0.390625 49.609375 5.859375 \r\nQ 49.609375 11.328125 49.21875 19.921875 \r\nL 57.03125 19.921875 \r\nQ 56.640625 16.40625 56.640625 8.984375 \r\nL 56.640625 1.171875 \r\nL 67.578125 1.171875 \r\nL 67.578125 25.390625 \r\nL 51.5625 25.390625 \r\nL 51.5625 36.71875 \r\nQ 51.5625 42.96875 51.171875 46.875 \r\nL 58.59375 46.875 \r\nQ 58.203125 42.578125 58.203125 39.453125 \r\nL 58.203125 31.640625 \r\nL 67.578125 31.640625 \r\nL 67.578125 42.578125 \r\nQ 67.578125 45.3125 67.1875 50.390625 \r\nL 75 50.390625 \r\nQ 74.609375 48.4375 74.21875 42.1875 \r\nL 74.21875 31.640625 \r\nL 83.203125 31.640625 \r\nQ 83.203125 36.71875 83 40.03125 \r\nQ 82.8125 43.359375 82.421875 46.09375 \r\nL 90.625 46.09375 \r\nQ 90.234375 41.015625 90.234375 35.546875 \r\nQ 90.234375 30.078125 90.625 25.390625 \r\nL 74.21875 25.390625 \r\nL 74.21875 1.171875 \r\nL 85.15625 1.171875 \r\nL 85.15625 6.640625 \r\nQ 85.15625 15.625 84.765625 19.53125 \r\nL 93.359375 19.53125 \r\nQ 92.578125 16.796875 92.578125 9.375 \r\nz\r\nM 34.765625 34.375 \r\nQ 26.953125 31.640625 24.21875 30.46875 \r\nL 24.21875 2.34375 \r\nQ 23.4375 -2.34375 20.890625 -4.09375 \r\nQ 18.359375 -5.859375 9.765625 -7.421875 \r\nQ 9.765625 -3.125 7.421875 1.5625 \r\nQ 14.0625 1.171875 15.8125 1.953125 \r\nQ 17.578125 2.734375 17.578125 6.640625 \r\nL 17.578125 28.125 \r\nQ 13.28125 26.953125 7.03125 23.4375 \r\nQ 5.078125 29.6875 3.90625 32.421875 \r\nQ 14.0625 33.984375 17.578125 35.546875 \r\nL 17.578125 53.515625 \r\nL 15.234375 53.515625 \r\nQ 9.765625 53.515625 6.25 53.125 \r\nL 6.25 60.546875 \r\nQ 9.765625 60.15625 15.234375 60.15625 \r\nL 17.578125 60.15625 \r\nL 17.578125 71.484375 \r\nQ 17.578125 76.953125 17.1875 81.640625 \r\nL 25 81.640625 \r\nQ 24.21875 77.34375 24.21875 71.484375 \r\nL 24.21875 60.15625 \r\nQ 29.296875 60.15625 33.984375 60.546875 \r\nL 33.984375 53.125 \r\nQ 28.515625 53.515625 24.21875 53.515625 \r\nL 24.21875 37.5 \r\nQ 29.6875 39.0625 33.984375 41.015625 \r\nQ 34.375 35.9375 34.765625 34.375 \r\nz\r\nM 83.59375 61.71875 \r\nL 83.59375 71.875 \r\nL 46.875 71.875 \r\nL 46.875 61.71875 \r\nz\r\n\" id=\"SimHei-25496\"/>\r\n       </defs>\r\n       <use xlink:href=\"#SimHei-25968\"/>\r\n       <use x=\"100\" xlink:href=\"#SimHei-25454\"/>\r\n       <use x=\"200\" xlink:href=\"#SimHei-25366\"/>\r\n       <use x=\"300\" xlink:href=\"#SimHei-25496\"/>\r\n      </g>\r\n     </g>\r\n    </g>\r\n    <g id=\"xtick_6\">\r\n     <g id=\"line2d_11\">\r\n      <path clip-path=\"url(#pe06941adc5)\" d=\"M 337.791223 240.155625 \r\nL 337.791223 22.715625 \r\n\" style=\"fill:none;stroke:#b0b0b0;stroke-dasharray:2.96,1.28;stroke-dashoffset:0;stroke-opacity:0.5;stroke-width:0.8;\"/>\r\n     </g>\r\n     <g id=\"line2d_12\">\r\n      <g>\r\n       <use style=\"stroke:#000000;stroke-width:0.8;\" x=\"337.791223\" xlink:href=\"#m93bb6d61c0\" y=\"240.155625\"/>\r\n      </g>\r\n     </g>\r\n     <g id=\"text_6\">\r\n      <!-- 数据分析 -->\r\n      <g transform=\"translate(317.791223 255.007187)scale(0.1 -0.1)\">\r\n       <defs>\r\n        <path d=\"M 15.625 -10.15625 \r\nQ 12.890625 -5.859375 8.984375 -3.515625 \r\nQ 15.234375 -1.171875 20.3125 2.140625 \r\nQ 25.390625 5.46875 29.296875 10.34375 \r\nQ 33.203125 15.234375 35.15625 21.09375 \r\nQ 37.109375 26.953125 37.890625 35.546875 \r\nQ 28.90625 35.546875 23.4375 35.15625 \r\nL 23.4375 43.359375 \r\nQ 29.6875 42.96875 39.453125 42.96875 \r\nL 78.515625 42.96875 \r\nQ 77.734375 37.109375 77.34375 32.8125 \r\nL 74.21875 3.90625 \r\nQ 73.4375 -3.125 67.96875 -5.46875 \r\nQ 62.5 -7.8125 55.859375 -8.203125 \r\nQ 55.46875 -4.296875 51.953125 0.78125 \r\nQ 60.15625 0.390625 63.078125 1.359375 \r\nQ 66.015625 2.34375 66.796875 8.203125 \r\nL 69.53125 35.546875 \r\nL 46.09375 35.546875 \r\nQ 44.921875 25.390625 42.765625 18.546875 \r\nQ 40.625 11.71875 36.71875 6.640625 \r\nQ 32.8125 1.5625 27.34375 -2.734375 \r\nQ 21.875 -7.03125 15.625 -10.15625 \r\nz\r\nM 61.71875 80.859375 \r\nQ 64.453125 72.65625 72.84375 62.109375 \r\nQ 81.25 51.5625 96.484375 43.75 \r\nQ 93.359375 41.015625 90.234375 35.546875 \r\nQ 83.203125 40.625 77.921875 45.109375 \r\nQ 72.65625 49.609375 69.140625 53.515625 \r\nQ 65.625 57.421875 61.328125 64.640625 \r\nQ 57.03125 71.875 54.296875 78.125 \r\nQ 58.59375 79.296875 61.71875 80.859375 \r\nz\r\nM 42.1875 75.390625 \r\nQ 38.671875 69.140625 36.328125 64.453125 \r\nQ 33.984375 59.765625 31.640625 56.046875 \r\nQ 29.296875 52.34375 24.609375 46.09375 \r\nQ 19.921875 39.84375 13.28125 33.203125 \r\nQ 9.765625 36.71875 6.25 38.671875 \r\nQ 14.0625 45.703125 18.546875 51.5625 \r\nQ 23.046875 57.421875 27.140625 64.25 \r\nQ 31.25 71.09375 34.375 79.296875 \r\nQ 37.5 76.953125 42.1875 75.390625 \r\nz\r\n\" id=\"SimHei-20998\"/>\r\n        <path d=\"M 92.1875 71.09375 \r\nQ 87.109375 70.703125 79.484375 69.53125 \r\nQ 71.875 68.359375 58.203125 66.796875 \r\nL 58.203125 48.046875 \r\nL 84.375 48.046875 \r\nQ 89.453125 48.046875 96.09375 48.4375 \r\nL 96.09375 41.40625 \r\nQ 89.0625 41.796875 82.03125 41.796875 \r\nL 82.03125 5.46875 \r\nQ 82.03125 -1.5625 82.421875 -7.421875 \r\nL 74.21875 -7.421875 \r\nQ 74.609375 -1.171875 74.609375 5.859375 \r\nL 74.609375 41.796875 \r\nL 58.203125 41.796875 \r\nQ 58.203125 33.984375 57.03125 25.578125 \r\nQ 55.859375 17.1875 53.703125 9.953125 \r\nQ 51.5625 2.734375 44.53125 -7.8125 \r\nQ 41.796875 -4.6875 35.546875 -2.34375 \r\nQ 44.140625 5.078125 47.65625 17.375 \r\nQ 51.171875 29.6875 50.96875 46.875 \r\nQ 50.78125 64.0625 50.390625 72.65625 \r\nQ 62.109375 73.4375 71.28125 75 \r\nQ 80.46875 76.5625 85.9375 78.90625 \r\nQ 88.671875 74.21875 92.1875 71.09375 \r\nz\r\nM 29.6875 8.203125 \r\nQ 29.6875 3.125 30.078125 -8.203125 \r\nL 21.875 -8.203125 \r\nQ 22.265625 0.390625 22.265625 8.203125 \r\nL 22.265625 35.15625 \r\nQ 18.359375 25.390625 9.375 12.5 \r\nQ 6.640625 16.796875 3.125 19.140625 \r\nQ 10.15625 26.953125 15.03125 37.296875 \r\nQ 19.921875 47.65625 21.484375 53.515625 \r\nQ 14.453125 53.515625 7.03125 53.125 \r\nL 7.03125 60.15625 \r\nQ 14.453125 59.765625 22.265625 59.765625 \r\nL 22.265625 69.53125 \r\nQ 22.265625 74.609375 21.875 80.078125 \r\nL 30.46875 80.078125 \r\nQ 29.6875 75.390625 29.6875 69.53125 \r\nL 29.6875 59.765625 \r\nQ 35.9375 59.765625 43.359375 60.15625 \r\nL 43.359375 53.125 \r\nQ 35.9375 53.515625 29.6875 53.515625 \r\nL 29.6875 8.203125 \r\nz\r\nM 37.109375 42.96875 \r\nQ 43.75 32.03125 45.703125 28.125 \r\nQ 42.1875 26.5625 38.28125 24.21875 \r\nQ 35.9375 29.6875 30.46875 39.453125 \r\nQ 33.984375 41.015625 37.109375 42.96875 \r\nz\r\n\" id=\"SimHei-26512\"/>\r\n       </defs>\r\n       <use xlink:href=\"#SimHei-25968\"/>\r\n       <use x=\"100\" xlink:href=\"#SimHei-25454\"/>\r\n       <use x=\"200\" xlink:href=\"#SimHei-20998\"/>\r\n       <use x=\"300\" xlink:href=\"#SimHei-26512\"/>\r\n      </g>\r\n     </g>\r\n    </g>\r\n   </g>\r\n   <g id=\"matplotlib.axis_2\">\r\n    <g id=\"ytick_1\">\r\n     <g id=\"line2d_13\">\r\n      <path clip-path=\"url(#pe06941adc5)\" d=\"M 39.2 240.155625 \r\nL 374 240.155625 \r\n\" style=\"fill:none;stroke:#b0b0b0;stroke-dasharray:2.96,1.28;stroke-dashoffset:0;stroke-opacity:0.5;stroke-width:0.8;\"/>\r\n     </g>\r\n     <g id=\"line2d_14\">\r\n      <defs>\r\n       <path d=\"M 0 0 \r\nL -3.5 0 \r\n\" id=\"m9ed03e58f2\" style=\"stroke:#000000;stroke-width:0.8;\"/>\r\n      </defs>\r\n      <g>\r\n       <use style=\"stroke:#000000;stroke-width:0.8;\" x=\"39.2\" xlink:href=\"#m9ed03e58f2\" y=\"240.155625\"/>\r\n      </g>\r\n     </g>\r\n     <g id=\"text_7\">\r\n      <!-- 0 -->\r\n      <g transform=\"translate(27.2 243.593125)scale(0.1 -0.1)\">\r\n       <defs>\r\n        <path d=\"M 3.125 29.296875 \r\nQ 3.90625 50 6.4375 56.046875 \r\nQ 8.984375 62.109375 13.671875 66.015625 \r\nQ 18.359375 69.921875 25.1875 69.921875 \r\nQ 32.03125 69.921875 37.109375 64.25 \r\nQ 42.1875 58.59375 43.75 50 \r\nQ 45.3125 41.40625 44.71875 30.265625 \r\nQ 44.140625 19.140625 40.8125 12.109375 \r\nQ 37.5 5.078125 30.859375 2.34375 \r\nQ 24.21875 -0.390625 17.578125 2.921875 \r\nQ 10.9375 6.25 8.203125 11.71875 \r\nQ 5.46875 17.1875 4.296875 23.234375 \r\nQ 3.125 29.296875 3.90625 50 \r\nz\r\nM 12.890625 52.734375 \r\nQ 10.546875 31.25 12.5 22.84375 \r\nQ 14.453125 14.453125 18.9375 10.9375 \r\nQ 23.4375 7.421875 28.125 9.5625 \r\nQ 32.8125 11.71875 34.953125 18.15625 \r\nQ 37.109375 24.609375 37.109375 32.21875 \r\nQ 37.109375 39.84375 36.515625 46.09375 \r\nQ 35.9375 52.34375 33 57.421875 \r\nQ 30.078125 62.5 25.1875 62.6875 \r\nQ 20.3125 62.890625 16.59375 57.8125 \r\nQ 12.890625 52.734375 10.546875 31.25 \r\nz\r\n\" id=\"SimHei-48\"/>\r\n       </defs>\r\n       <use xlink:href=\"#SimHei-48\"/>\r\n      </g>\r\n     </g>\r\n    </g>\r\n    <g id=\"ytick_2\">\r\n     <g id=\"line2d_15\">\r\n      <path clip-path=\"url(#pe06941adc5)\" d=\"M 39.2 214.579649 \r\nL 374 214.579649 \r\n\" style=\"fill:none;stroke:#b0b0b0;stroke-dasharray:2.96,1.28;stroke-dashoffset:0;stroke-opacity:0.5;stroke-width:0.8;\"/>\r\n     </g>\r\n     <g id=\"line2d_16\">\r\n      <g>\r\n       <use style=\"stroke:#000000;stroke-width:0.8;\" x=\"39.2\" xlink:href=\"#m9ed03e58f2\" y=\"214.579649\"/>\r\n      </g>\r\n     </g>\r\n     <g id=\"text_8\">\r\n      <!-- 2500 -->\r\n      <g transform=\"translate(12.2 218.017149)scale(0.1 -0.1)\">\r\n       <defs>\r\n        <path d=\"M 4.6875 3.90625 \r\nQ 5.078125 9.765625 10.15625 14.453125 \r\nQ 15.234375 19.140625 23.046875 29.09375 \r\nQ 30.859375 39.0625 33.203125 44.53125 \r\nQ 35.546875 50 34.953125 53.90625 \r\nQ 34.375 57.8125 31.25 60.34375 \r\nQ 28.125 62.890625 24.015625 62.5 \r\nQ 19.921875 62.109375 16.203125 59.375 \r\nQ 12.5 56.640625 10.546875 51.171875 \r\nL 3.125 52.34375 \r\nQ 6.25 61.328125 11.125 65.421875 \r\nQ 16.015625 69.53125 22.65625 69.921875 \r\nQ 26.5625 70.3125 29.6875 69.71875 \r\nQ 32.8125 69.140625 36.125 66.984375 \r\nQ 39.453125 64.84375 41.59375 60.546875 \r\nQ 43.75 56.25 43.15625 50.1875 \r\nQ 42.578125 44.140625 37.109375 35.734375 \r\nQ 31.640625 27.34375 16.015625 9.375 \r\nL 44.140625 9.375 \r\nL 44.140625 2.34375 \r\nL 4.6875 2.34375 \r\nz\r\n\" id=\"SimHei-50\"/>\r\n        <path d=\"M 8.59375 20.703125 \r\nQ 11.328125 10.15625 17.96875 8.984375 \r\nQ 24.609375 7.8125 28.703125 10.34375 \r\nQ 32.8125 12.890625 34.5625 16.984375 \r\nQ 36.328125 21.09375 36.125 26.171875 \r\nQ 35.9375 31.25 33.390625 34.765625 \r\nQ 30.859375 38.28125 26.953125 39.453125 \r\nQ 23.046875 40.625 18.15625 39.453125 \r\nQ 13.28125 38.28125 10.15625 33.984375 \r\nL 3.515625 34.765625 \r\nQ 4.296875 37.109375 10.9375 68.359375 \r\nL 41.796875 68.359375 \r\nL 41.796875 61.328125 \r\nL 16.796875 61.328125 \r\nQ 14.84375 50.78125 12.890625 44.53125 \r\nQ 18.75 47.265625 23.828125 47.0625 \r\nQ 28.90625 46.875 33.59375 44.71875 \r\nQ 38.28125 42.578125 40.421875 38.859375 \r\nQ 42.578125 35.15625 43.546875 31.4375 \r\nQ 44.53125 27.734375 44.328125 23.4375 \r\nQ 44.140625 19.140625 42.578125 14.640625 \r\nQ 41.015625 10.15625 37.890625 7.21875 \r\nQ 34.765625 4.296875 30.265625 2.53125 \r\nQ 25.78125 0.78125 19.921875 1.171875 \r\nQ 14.0625 1.5625 8.78125 5.46875 \r\nQ 3.515625 9.375 1.5625 18.75 \r\nz\r\n\" id=\"SimHei-53\"/>\r\n       </defs>\r\n       <use xlink:href=\"#SimHei-50\"/>\r\n       <use x=\"50\" xlink:href=\"#SimHei-53\"/>\r\n       <use x=\"100\" xlink:href=\"#SimHei-48\"/>\r\n       <use x=\"150\" xlink:href=\"#SimHei-48\"/>\r\n      </g>\r\n     </g>\r\n    </g>\r\n    <g id=\"ytick_3\">\r\n     <g id=\"line2d_17\">\r\n      <path clip-path=\"url(#pe06941adc5)\" d=\"M 39.2 189.003673 \r\nL 374 189.003673 \r\n\" style=\"fill:none;stroke:#b0b0b0;stroke-dasharray:2.96,1.28;stroke-dashoffset:0;stroke-opacity:0.5;stroke-width:0.8;\"/>\r\n     </g>\r\n     <g id=\"line2d_18\">\r\n      <g>\r\n       <use style=\"stroke:#000000;stroke-width:0.8;\" x=\"39.2\" xlink:href=\"#m9ed03e58f2\" y=\"189.003673\"/>\r\n      </g>\r\n     </g>\r\n     <g id=\"text_9\">\r\n      <!-- 5000 -->\r\n      <g transform=\"translate(12.2 192.441173)scale(0.1 -0.1)\">\r\n       <use xlink:href=\"#SimHei-53\"/>\r\n       <use x=\"50\" xlink:href=\"#SimHei-48\"/>\r\n       <use x=\"100\" xlink:href=\"#SimHei-48\"/>\r\n       <use x=\"150\" xlink:href=\"#SimHei-48\"/>\r\n      </g>\r\n     </g>\r\n    </g>\r\n    <g id=\"ytick_4\">\r\n     <g id=\"line2d_19\">\r\n      <path clip-path=\"url(#pe06941adc5)\" d=\"M 39.2 163.427697 \r\nL 374 163.427697 \r\n\" style=\"fill:none;stroke:#b0b0b0;stroke-dasharray:2.96,1.28;stroke-dashoffset:0;stroke-opacity:0.5;stroke-width:0.8;\"/>\r\n     </g>\r\n     <g id=\"line2d_20\">\r\n      <g>\r\n       <use style=\"stroke:#000000;stroke-width:0.8;\" x=\"39.2\" xlink:href=\"#m9ed03e58f2\" y=\"163.427697\"/>\r\n      </g>\r\n     </g>\r\n     <g id=\"text_10\">\r\n      <!-- 7500 -->\r\n      <g transform=\"translate(12.2 166.865197)scale(0.1 -0.1)\">\r\n       <defs>\r\n        <path d=\"M 13.28125 2.34375 \r\nQ 20.3125 32.03125 37.890625 61.328125 \r\nL 4.296875 61.328125 \r\nL 4.296875 68.359375 \r\nL 46.09375 68.359375 \r\nL 46.09375 61.71875 \r\nQ 27.734375 32.03125 21.875 2.34375 \r\nL 13.28125 2.34375 \r\nz\r\n\" id=\"SimHei-55\"/>\r\n       </defs>\r\n       <use xlink:href=\"#SimHei-55\"/>\r\n       <use x=\"50\" xlink:href=\"#SimHei-53\"/>\r\n       <use x=\"100\" xlink:href=\"#SimHei-48\"/>\r\n       <use x=\"150\" xlink:href=\"#SimHei-48\"/>\r\n      </g>\r\n     </g>\r\n    </g>\r\n    <g id=\"ytick_5\">\r\n     <g id=\"line2d_21\">\r\n      <path clip-path=\"url(#pe06941adc5)\" d=\"M 39.2 137.851721 \r\nL 374 137.851721 \r\n\" style=\"fill:none;stroke:#b0b0b0;stroke-dasharray:2.96,1.28;stroke-dashoffset:0;stroke-opacity:0.5;stroke-width:0.8;\"/>\r\n     </g>\r\n     <g id=\"line2d_22\">\r\n      <g>\r\n       <use style=\"stroke:#000000;stroke-width:0.8;\" x=\"39.2\" xlink:href=\"#m9ed03e58f2\" y=\"137.851721\"/>\r\n      </g>\r\n     </g>\r\n     <g id=\"text_11\">\r\n      <!-- 10000 -->\r\n      <g transform=\"translate(7.2 141.289221)scale(0.1 -0.1)\">\r\n       <defs>\r\n        <path d=\"M 21.875 56.25 \r\nQ 16.796875 51.171875 8.984375 46.484375 \r\nL 8.984375 53.90625 \r\nQ 18.75 60.546875 25 69.53125 \r\nL 29.6875 69.53125 \r\nL 29.6875 2.34375 \r\nL 21.875 2.34375 \r\nz\r\n\" id=\"SimHei-49\"/>\r\n       </defs>\r\n       <use xlink:href=\"#SimHei-49\"/>\r\n       <use x=\"50\" xlink:href=\"#SimHei-48\"/>\r\n       <use x=\"100\" xlink:href=\"#SimHei-48\"/>\r\n       <use x=\"150\" xlink:href=\"#SimHei-48\"/>\r\n       <use x=\"200\" xlink:href=\"#SimHei-48\"/>\r\n      </g>\r\n     </g>\r\n    </g>\r\n    <g id=\"ytick_6\">\r\n     <g id=\"line2d_23\">\r\n      <path clip-path=\"url(#pe06941adc5)\" d=\"M 39.2 112.275745 \r\nL 374 112.275745 \r\n\" style=\"fill:none;stroke:#b0b0b0;stroke-dasharray:2.96,1.28;stroke-dashoffset:0;stroke-opacity:0.5;stroke-width:0.8;\"/>\r\n     </g>\r\n     <g id=\"line2d_24\">\r\n      <g>\r\n       <use style=\"stroke:#000000;stroke-width:0.8;\" x=\"39.2\" xlink:href=\"#m9ed03e58f2\" y=\"112.275745\"/>\r\n      </g>\r\n     </g>\r\n     <g id=\"text_12\">\r\n      <!-- 12500 -->\r\n      <g transform=\"translate(7.2 115.713245)scale(0.1 -0.1)\">\r\n       <use xlink:href=\"#SimHei-49\"/>\r\n       <use x=\"50\" xlink:href=\"#SimHei-50\"/>\r\n       <use x=\"100\" xlink:href=\"#SimHei-53\"/>\r\n       <use x=\"150\" xlink:href=\"#SimHei-48\"/>\r\n       <use x=\"200\" xlink:href=\"#SimHei-48\"/>\r\n      </g>\r\n     </g>\r\n    </g>\r\n    <g id=\"ytick_7\">\r\n     <g id=\"line2d_25\">\r\n      <path clip-path=\"url(#pe06941adc5)\" d=\"M 39.2 86.699768 \r\nL 374 86.699768 \r\n\" style=\"fill:none;stroke:#b0b0b0;stroke-dasharray:2.96,1.28;stroke-dashoffset:0;stroke-opacity:0.5;stroke-width:0.8;\"/>\r\n     </g>\r\n     <g id=\"line2d_26\">\r\n      <g>\r\n       <use style=\"stroke:#000000;stroke-width:0.8;\" x=\"39.2\" xlink:href=\"#m9ed03e58f2\" y=\"86.699768\"/>\r\n      </g>\r\n     </g>\r\n     <g id=\"text_13\">\r\n      <!-- 15000 -->\r\n      <g transform=\"translate(7.2 90.137268)scale(0.1 -0.1)\">\r\n       <use xlink:href=\"#SimHei-49\"/>\r\n       <use x=\"50\" xlink:href=\"#SimHei-53\"/>\r\n       <use x=\"100\" xlink:href=\"#SimHei-48\"/>\r\n       <use x=\"150\" xlink:href=\"#SimHei-48\"/>\r\n       <use x=\"200\" xlink:href=\"#SimHei-48\"/>\r\n      </g>\r\n     </g>\r\n    </g>\r\n    <g id=\"ytick_8\">\r\n     <g id=\"line2d_27\">\r\n      <path clip-path=\"url(#pe06941adc5)\" d=\"M 39.2 61.123792 \r\nL 374 61.123792 \r\n\" style=\"fill:none;stroke:#b0b0b0;stroke-dasharray:2.96,1.28;stroke-dashoffset:0;stroke-opacity:0.5;stroke-width:0.8;\"/>\r\n     </g>\r\n     <g id=\"line2d_28\">\r\n      <g>\r\n       <use style=\"stroke:#000000;stroke-width:0.8;\" x=\"39.2\" xlink:href=\"#m9ed03e58f2\" y=\"61.123792\"/>\r\n      </g>\r\n     </g>\r\n     <g id=\"text_14\">\r\n      <!-- 17500 -->\r\n      <g transform=\"translate(7.2 64.561292)scale(0.1 -0.1)\">\r\n       <use xlink:href=\"#SimHei-49\"/>\r\n       <use x=\"50\" xlink:href=\"#SimHei-55\"/>\r\n       <use x=\"100\" xlink:href=\"#SimHei-53\"/>\r\n       <use x=\"150\" xlink:href=\"#SimHei-48\"/>\r\n       <use x=\"200\" xlink:href=\"#SimHei-48\"/>\r\n      </g>\r\n     </g>\r\n    </g>\r\n    <g id=\"ytick_9\">\r\n     <g id=\"line2d_29\">\r\n      <path clip-path=\"url(#pe06941adc5)\" d=\"M 39.2 35.547816 \r\nL 374 35.547816 \r\n\" style=\"fill:none;stroke:#b0b0b0;stroke-dasharray:2.96,1.28;stroke-dashoffset:0;stroke-opacity:0.5;stroke-width:0.8;\"/>\r\n     </g>\r\n     <g id=\"line2d_30\">\r\n      <g>\r\n       <use style=\"stroke:#000000;stroke-width:0.8;\" x=\"39.2\" xlink:href=\"#m9ed03e58f2\" y=\"35.547816\"/>\r\n      </g>\r\n     </g>\r\n     <g id=\"text_15\">\r\n      <!-- 20000 -->\r\n      <g transform=\"translate(7.2 38.985316)scale(0.1 -0.1)\">\r\n       <use xlink:href=\"#SimHei-50\"/>\r\n       <use x=\"50\" xlink:href=\"#SimHei-48\"/>\r\n       <use x=\"100\" xlink:href=\"#SimHei-48\"/>\r\n       <use x=\"150\" xlink:href=\"#SimHei-48\"/>\r\n       <use x=\"200\" xlink:href=\"#SimHei-48\"/>\r\n      </g>\r\n     </g>\r\n    </g>\r\n   </g>\r\n   <g id=\"patch_9\">\r\n    <path d=\"M 39.2 240.155625 \r\nL 39.2 22.715625 \r\n\" style=\"fill:none;stroke:#000000;stroke-linecap:square;stroke-linejoin:miter;stroke-width:0.8;\"/>\r\n   </g>\r\n   <g id=\"patch_10\">\r\n    <path d=\"M 374 240.155625 \r\nL 374 22.715625 \r\n\" style=\"fill:none;stroke:#000000;stroke-linecap:square;stroke-linejoin:miter;stroke-width:0.8;\"/>\r\n   </g>\r\n   <g id=\"patch_11\">\r\n    <path d=\"M 39.2 240.155625 \r\nL 374 240.155625 \r\n\" style=\"fill:none;stroke:#000000;stroke-linecap:square;stroke-linejoin:miter;stroke-width:0.8;\"/>\r\n   </g>\r\n   <g id=\"patch_12\">\r\n    <path d=\"M 39.2 22.715625 \r\nL 374 22.715625 \r\n\" style=\"fill:none;stroke:#000000;stroke-linecap:square;stroke-linejoin:miter;stroke-width:0.8;\"/>\r\n   </g>\r\n   <g id=\"text_16\">\r\n    <!-- 不同岗位平均薪资对比 -->\r\n    <g transform=\"translate(146.6 16.715625)scale(0.12 -0.12)\">\r\n     <defs>\r\n      <path d=\"M 93.359375 69.53125 \r\nQ 86.328125 69.921875 81.25 69.921875 \r\nL 58.203125 69.921875 \r\nQ 55.46875 64.453125 51.5625 57.8125 \r\nL 51.5625 8.984375 \r\nQ 51.5625 1.171875 51.953125 -8.59375 \r\nL 43.359375 -8.59375 \r\nQ 43.75 0.78125 43.75 8.984375 \r\nL 43.75 47.265625 \r\nQ 31.640625 30.46875 10.9375 16.40625 \r\nQ 7.8125 21.09375 5.078125 23.046875 \r\nQ 12.890625 26.5625 25.78125 38.078125 \r\nQ 38.671875 49.609375 49.609375 69.921875 \r\nL 23.828125 69.921875 \r\nQ 16.40625 69.921875 8.203125 69.53125 \r\nL 8.203125 77.34375 \r\nQ 19.921875 76.953125 26.171875 76.953125 \r\nL 80.859375 76.953125 \r\nQ 85.9375 76.953125 93.359375 77.34375 \r\nz\r\nM 85.15625 17.578125 \r\nQ 77.734375 26.953125 58.59375 46.484375 \r\nQ 61.71875 49.21875 63.671875 51.953125 \r\nQ 73.046875 43.359375 79.6875 36.90625 \r\nQ 86.328125 30.46875 92.1875 24.21875 \r\nQ 88.28125 21.09375 85.15625 17.578125 \r\nz\r\n\" id=\"SimHei-19981\"/>\r\n      <path d=\"M 91.015625 76.953125 \r\nQ 90.234375 71.09375 90.234375 62.109375 \r\nL 90.234375 -0.78125 \r\nQ 90.234375 -6.25 86.328125 -7.609375 \r\nQ 82.421875 -8.984375 73.828125 -9.765625 \r\nQ 73.828125 -6.25 70.703125 -0.78125 \r\nQ 76.953125 -0.78125 79.6875 -0.1875 \r\nQ 82.421875 0.390625 82.421875 3.125 \r\nL 82.421875 69.53125 \r\nL 17.96875 69.53125 \r\nL 17.96875 -9.375 \r\nL 8.984375 -9.375 \r\nQ 9.375 -3.90625 9.765625 3.125 \r\nL 9.765625 62.109375 \r\nQ 9.765625 71.484375 9.375 76.953125 \r\nL 91.015625 76.953125 \r\nz\r\nM 68.359375 39.84375 \r\nQ 67.578125 35.546875 67.578125 26.5625 \r\nQ 67.578125 17.96875 68.359375 11.328125 \r\nL 31.640625 11.328125 \r\nQ 32.03125 18.359375 32.03125 27.34375 \r\nQ 32.03125 36.328125 31.640625 39.84375 \r\nL 68.359375 39.84375 \r\nz\r\nM 64.0625 58.59375 \r\nQ 71.875 58.59375 75.390625 58.984375 \r\nL 75.390625 51.171875 \r\nQ 71.484375 51.5625 63.671875 51.5625 \r\nL 38.28125 51.5625 \r\nQ 28.90625 51.5625 25 51.171875 \r\nL 25 58.984375 \r\nQ 29.296875 58.59375 38.671875 58.59375 \r\nz\r\nM 60.546875 17.96875 \r\nL 60.546875 33.59375 \r\nL 39.453125 33.59375 \r\nL 39.453125 17.96875 \r\nz\r\n\" id=\"SimHei-21516\"/>\r\n      <path d=\"M 89.453125 48.4375 \r\nQ 89.0625 41.796875 89.0625 33.984375 \r\nL 89.0625 2.734375 \r\nQ 89.0625 -5.46875 83.984375 -7.21875 \r\nQ 78.90625 -8.984375 69.53125 -10.15625 \r\nQ 68.75 -5.46875 66.40625 -1.171875 \r\nQ 75 -1.171875 78.125 -0.1875 \r\nQ 81.25 0.78125 81.25 5.859375 \r\nL 81.25 42.1875 \r\nL 17.96875 42.1875 \r\nL 17.96875 -7.8125 \r\nL 10.15625 -7.8125 \r\nQ 10.546875 3.125 10.546875 21.09375 \r\nQ 10.546875 39.453125 10.15625 48.4375 \r\nL 89.453125 48.4375 \r\nz\r\nM 54.296875 62.5 \r\nL 79.6875 62.5 \r\nQ 79.6875 69.140625 79.296875 75.390625 \r\nL 87.890625 75.390625 \r\nQ 87.5 69.921875 87.5 64.84375 \r\nL 87.5 56.25 \r\nL 12.5 56.25 \r\nL 12.5 66.015625 \r\nQ 12.5 70.703125 12.109375 75.78125 \r\nL 21.484375 75.78125 \r\nQ 20.703125 72.65625 20.703125 69.921875 \r\nL 20.703125 62.5 \r\nL 46.09375 62.5 \r\nL 46.09375 71.875 \r\nQ 46.09375 76.5625 45.703125 80.46875 \r\nL 54.6875 80.46875 \r\nQ 54.296875 76.171875 54.296875 72.265625 \r\nz\r\nM 23.046875 8.984375 \r\nQ 38.28125 14.453125 44.921875 20.3125 \r\nQ 38.28125 24.609375 26.5625 29.296875 \r\nQ 30.078125 32.421875 32.421875 35.15625 \r\nQ 44.140625 29.296875 51.5625 25.390625 \r\nQ 57.8125 29.6875 64.84375 37.890625 \r\nQ 67.578125 35.15625 71.875 32.03125 \r\nQ 68.75 30.46875 65.421875 27.53125 \r\nQ 62.109375 24.609375 58.59375 21.484375 \r\nQ 68.75 15.234375 75.78125 10.9375 \r\nQ 71.875 7.8125 68.359375 5.46875 \r\nQ 62.109375 10.15625 51.953125 16.40625 \r\nQ 43.75 10.15625 28.90625 2.734375 \r\nQ 25.390625 7.03125 23.046875 8.984375 \r\nz\r\n\" id=\"SimHei-23703\"/>\r\n      <path d=\"M 33.203125 76.953125 \r\nQ 30.46875 74.21875 25.390625 58.59375 \r\nL 25.390625 8.984375 \r\nQ 25.390625 -3.515625 25.78125 -10.15625 \r\nL 17.1875 -10.15625 \r\nQ 17.96875 -3.125 17.96875 8.59375 \r\nL 17.96875 46.09375 \r\nQ 12.109375 35.546875 8.59375 30.46875 \r\nQ 5.859375 35.546875 3.125 37.890625 \r\nQ 8.203125 43.359375 14.25 55.859375 \r\nQ 20.3125 68.359375 23.4375 81.25 \r\nQ 28.515625 78.125 33.203125 76.953125 \r\nz\r\nM 83.984375 47.265625 \r\nQ 82.421875 44.921875 79.6875 35.15625 \r\nQ 76.953125 25.390625 71.875 4.6875 \r\nL 85.15625 4.6875 \r\nQ 92.578125 4.6875 95.3125 5.078125 \r\nL 95.3125 -2.734375 \r\nQ 91.796875 -2.34375 85.15625 -2.34375 \r\nL 45.3125 -2.34375 \r\nQ 35.546875 -2.34375 32.03125 -2.734375 \r\nL 32.03125 5.078125 \r\nQ 35.546875 4.6875 44.53125 4.6875 \r\nL 63.671875 4.6875 \r\nQ 68.75 21.875 73.4375 49.609375 \r\nQ 79.6875 48.046875 83.984375 47.265625 \r\nz\r\nM 82.03125 62.890625 \r\nQ 89.0625 62.890625 92.578125 63.28125 \r\nL 92.578125 55.859375 \r\nQ 89.0625 56.25 81.640625 56.25 \r\nL 46.875 56.25 \r\nQ 41.40625 56.25 35.546875 55.859375 \r\nL 35.546875 63.28125 \r\nQ 41.796875 62.890625 46.875 62.890625 \r\nz\r\nM 47.65625 47.65625 \r\nQ 54.6875 27.734375 58.59375 11.328125 \r\nQ 53.90625 9.765625 50.78125 8.59375 \r\nQ 48.828125 17.578125 46.28125 26.171875 \r\nQ 43.75 34.765625 39.84375 44.921875 \r\nQ 43.75 45.703125 47.65625 47.65625 \r\nz\r\nM 60.546875 81.25 \r\nQ 65.234375 73.046875 68.75 67.1875 \r\nQ 65.625 66.40625 60.546875 63.671875 \r\nQ 57.8125 70.703125 53.125 77.34375 \r\nQ 57.03125 78.90625 60.546875 81.25 \r\nz\r\n\" id=\"SimHei-20301\"/>\r\n      <path d=\"M 70.703125 75.390625 \r\nQ 76.5625 75.390625 85.15625 75.78125 \r\nL 85.15625 68.359375 \r\nQ 76.953125 68.75 70.703125 68.75 \r\nL 54.296875 68.75 \r\nL 54.296875 31.640625 \r\nL 78.125 31.640625 \r\nQ 86.71875 31.640625 94.140625 32.03125 \r\nL 94.140625 24.609375 \r\nQ 86.71875 25 78.125 25 \r\nL 54.296875 25 \r\nL 54.296875 7.03125 \r\nQ 54.296875 -1.5625 54.6875 -9.375 \r\nL 45.703125 -9.375 \r\nQ 46.09375 -1.5625 46.09375 7.03125 \r\nL 46.09375 25 \r\nL 17.578125 25 \r\nQ 12.109375 25 5.859375 24.609375 \r\nL 5.859375 32.03125 \r\nQ 12.109375 31.640625 18.359375 31.640625 \r\nL 46.09375 31.640625 \r\nL 46.09375 68.75 \r\nL 27.734375 68.75 \r\nQ 21.875 68.75 13.671875 68.359375 \r\nL 13.671875 75.78125 \r\nQ 21.875 75.390625 27.34375 75.390625 \r\nz\r\nM 61.328125 40.625 \r\nQ 70.3125 51.5625 76.5625 64.453125 \r\nQ 80.46875 61.71875 84.375 59.765625 \r\nQ 74.609375 44.53125 67.96875 35.9375 \r\nQ 64.84375 38.671875 61.328125 40.625 \r\nz\r\nM 30.859375 36.71875 \r\nQ 25 48.4375 16.40625 58.203125 \r\nQ 19.53125 60.546875 22.65625 63.28125 \r\nQ 32.421875 51.5625 38.28125 42.578125 \r\nQ 33.59375 39.0625 30.859375 36.71875 \r\nz\r\n\" id=\"SimHei-24179\"/>\r\n      <path d=\"M 90.234375 4.296875 \r\nQ 90.234375 -5.078125 83.78125 -7.03125 \r\nQ 77.34375 -8.984375 69.140625 -9.375 \r\nQ 68.359375 -4.296875 66.40625 0.390625 \r\nQ 77.34375 -0.390625 80.078125 0.96875 \r\nQ 82.8125 2.34375 82.8125 7.8125 \r\nL 83.984375 57.8125 \r\nL 55.46875 57.8125 \r\nQ 53.515625 52.734375 50.96875 47.453125 \r\nQ 48.4375 42.1875 45.703125 37.5 \r\nQ 41.796875 39.84375 38.671875 41.015625 \r\nQ 49.21875 56.640625 54.6875 81.25 \r\nQ 59.375 79.6875 63.671875 78.515625 \r\nQ 62.109375 76.171875 60.546875 72.65625 \r\nQ 58.984375 69.140625 57.421875 64.453125 \r\nL 92.1875 64.453125 \r\nL 90.234375 4.296875 \r\nz\r\nM 19.53125 56.640625 \r\nL 19.53125 68.359375 \r\nQ 19.53125 74.609375 19.140625 79.6875 \r\nL 27.734375 79.6875 \r\nQ 27.34375 73.828125 27.34375 68.359375 \r\nL 27.34375 56.640625 \r\nL 29.6875 56.640625 \r\nQ 34.375 56.640625 39.453125 57.03125 \r\nL 39.453125 49.21875 \r\nQ 34.375 49.609375 29.6875 49.609375 \r\nL 27.34375 49.609375 \r\nL 27.34375 17.1875 \r\nL 39.0625 21.484375 \r\nQ 38.671875 17.578125 39.453125 14.0625 \r\nQ 19.140625 7.421875 15.03125 5.65625 \r\nQ 10.9375 3.90625 7.421875 2.34375 \r\nQ 5.859375 7.421875 3.90625 11.71875 \r\nQ 8.984375 12.5 12.5 13.28125 \r\nQ 16.015625 14.0625 19.53125 15.234375 \r\nL 19.53125 49.609375 \r\nL 17.578125 49.609375 \r\nQ 13.28125 49.609375 6.25 49.21875 \r\nL 6.25 57.03125 \r\nQ 13.28125 56.640625 17.1875 56.640625 \r\nz\r\nM 77.34375 25.390625 \r\nQ 73.046875 22.265625 64.640625 16.40625 \r\nQ 56.25 10.546875 49.609375 4.6875 \r\nQ 46.875 8.984375 44.53125 12.109375 \r\nQ 52.34375 16.40625 58.78125 20.703125 \r\nQ 65.234375 25 74.609375 32.421875 \r\nQ 75.390625 28.90625 77.34375 25.390625 \r\nz\r\nM 58.984375 49.21875 \r\nQ 64.453125 43.75 69.921875 35.9375 \r\nQ 66.40625 33.203125 64.0625 30.859375 \r\nQ 60.9375 36.328125 53.90625 44.140625 \r\nQ 56.25 46.875 58.984375 49.21875 \r\nz\r\n\" id=\"SimHei-22343\"/>\r\n      <path d=\"M 93.75 51.953125 \r\nQ 89.0625 51.5625 80.265625 50.578125 \r\nQ 71.484375 49.609375 65.625 48.828125 \r\nL 65.625 35.15625 \r\nL 80.859375 35.15625 \r\nQ 88.671875 35.15625 95.3125 35.546875 \r\nL 95.3125 28.90625 \r\nQ 89.0625 29.296875 83.59375 29.296875 \r\nL 83.59375 7.421875 \r\nQ 83.59375 -0.78125 83.984375 -8.984375 \r\nL 76.171875 -8.984375 \r\nQ 76.5625 -0.78125 76.5625 7.8125 \r\nL 76.5625 29.296875 \r\nL 65.625 29.296875 \r\nQ 65.625 24.609375 64.84375 19.140625 \r\nQ 64.0625 13.671875 62.890625 8.59375 \r\nQ 61.71875 3.515625 59.953125 -1.171875 \r\nQ 58.203125 -5.859375 54.6875 -10.546875 \r\nQ 51.5625 -8.59375 47.65625 -6.640625 \r\nQ 52.34375 -0.78125 54.484375 5.65625 \r\nQ 56.640625 12.109375 57.421875 18.15625 \r\nQ 58.203125 24.21875 58.203125 35.9375 \r\nQ 58.203125 48.046875 57.8125 54.296875 \r\nQ 63.28125 54.296875 73.046875 55.46875 \r\nQ 82.8125 56.640625 88.671875 58.984375 \r\nQ 89.84375 55.46875 93.75 51.953125 \r\nz\r\nM 21.09375 46.09375 \r\nQ 23.046875 43.359375 26.171875 38.28125 \r\nQ 24.21875 37.109375 21.484375 35.15625 \r\nL 34.765625 35.15625 \r\nQ 35.546875 37.890625 36.125 40.03125 \r\nQ 36.71875 42.1875 37.5 46.09375 \r\nQ 40.625 44.921875 45.703125 43.359375 \r\nQ 42.1875 39.453125 40.625 35.15625 \r\nQ 47.65625 35.15625 53.90625 35.546875 \r\nL 53.90625 28.90625 \r\nQ 46.09375 29.296875 39.453125 29.296875 \r\nL 35.546875 29.296875 \r\nL 35.546875 22.265625 \r\nL 38.671875 22.265625 \r\nQ 45.3125 22.265625 52.734375 22.65625 \r\nL 52.734375 16.015625 \r\nQ 45.703125 16.40625 39.0625 16.40625 \r\nL 35.546875 16.40625 \r\nL 35.546875 0.390625 \r\nQ 35.546875 -6.25 33.390625 -7.609375 \r\nQ 31.25 -8.984375 22.265625 -10.546875 \r\nQ 21.09375 -6.25 19.140625 -2.34375 \r\nQ 24.609375 -2.34375 26.5625 -2.140625 \r\nQ 28.515625 -1.953125 28.515625 0.78125 \r\nL 28.515625 16.40625 \r\nL 24.609375 16.40625 \r\nQ 15.234375 16.40625 8.984375 16.015625 \r\nL 8.984375 22.65625 \r\nQ 15.234375 22.265625 24.21875 22.265625 \r\nL 28.515625 22.265625 \r\nL 28.515625 29.296875 \r\nL 18.359375 29.296875 \r\nQ 12.5 29.296875 5.46875 28.90625 \r\nL 5.46875 35.546875 \r\nQ 12.5 35.15625 18.359375 35.15625 \r\nL 20.3125 35.15625 \r\nQ 18.359375 38.671875 16.015625 41.796875 \r\nQ 17.96875 44.140625 21.09375 46.09375 \r\nz\r\nM 31.25 73.4375 \r\nQ 31.25 76.171875 30.859375 80.859375 \r\nL 39.0625 80.859375 \r\nQ 38.28125 76.171875 38.28125 73.4375 \r\nL 59.765625 73.4375 \r\nQ 59.765625 76.5625 59.375 81.25 \r\nL 67.578125 81.25 \r\nQ 66.796875 76.5625 66.796875 73.4375 \r\nL 83.984375 73.4375 \r\nQ 89.84375 73.4375 95.703125 73.828125 \r\nL 95.703125 67.578125 \r\nQ 89.84375 67.96875 83.984375 67.96875 \r\nL 66.796875 67.96875 \r\nQ 66.796875 66.015625 67.1875 60.9375 \r\nL 59.765625 60.9375 \r\nL 59.765625 67.96875 \r\nL 38.28125 67.96875 \r\nL 38.28125 60.9375 \r\nL 30.859375 60.9375 \r\nQ 31.25 65.234375 31.25 67.96875 \r\nL 16.015625 67.96875 \r\nQ 10.15625 67.96875 4.296875 67.578125 \r\nL 4.296875 73.828125 \r\nQ 10.15625 73.4375 16.015625 73.4375 \r\nz\r\nM 29.296875 62.5 \r\nQ 32.8125 57.421875 35.15625 52.734375 \r\nL 38.671875 52.734375 \r\nQ 45.3125 52.734375 51.953125 53.125 \r\nL 51.953125 46.875 \r\nQ 45.703125 47.265625 38.671875 47.265625 \r\nL 21.484375 47.265625 \r\nQ 14.0625 47.265625 7.421875 46.875 \r\nL 7.421875 53.125 \r\nQ 14.0625 52.734375 21.09375 52.734375 \r\nL 26.953125 52.734375 \r\nQ 25.390625 57.03125 23.046875 59.765625 \r\nQ 26.171875 60.546875 29.296875 62.5 \r\nz\r\nM 24.21875 10.15625 \r\nQ 20.703125 7.8125 18.546875 4.875 \r\nQ 16.40625 1.953125 10.546875 -3.90625 \r\nQ 7.8125 -1.5625 4.6875 0.390625 \r\nQ 8.59375 3.125 11.515625 6.4375 \r\nQ 14.453125 9.765625 16.796875 14.453125 \r\nQ 19.140625 12.5 24.21875 10.15625 \r\nz\r\nM 44.921875 12.890625 \r\nQ 46.484375 10.9375 48.4375 8.59375 \r\nQ 50.390625 6.25 51.953125 3.515625 \r\nQ 49.609375 1.953125 46.875 -0.390625 \r\nQ 44.921875 2.734375 42.96875 5.078125 \r\nQ 41.015625 7.421875 39.0625 8.984375 \r\nQ 41.40625 10.9375 44.921875 12.890625 \r\nz\r\n\" id=\"SimHei-34218\"/>\r\n      <path d=\"M 82.8125 33.59375 \r\nQ 82.421875 28.515625 82.421875 22.65625 \r\nQ 82.421875 16.796875 82.8125 8.984375 \r\nL 75 8.984375 \r\nL 75 26.953125 \r\nL 26.5625 26.953125 \r\nL 26.5625 6.640625 \r\nL 18.75 6.640625 \r\nQ 19.140625 15.625 19.140625 21.484375 \r\nQ 19.140625 27.734375 18.75 33.59375 \r\nL 82.8125 33.59375 \r\nz\r\nM 66.015625 63.671875 \r\nQ 63.28125 58.984375 65.625 55.65625 \r\nQ 67.96875 52.34375 72.0625 49.40625 \r\nQ 76.171875 46.484375 82.21875 44.53125 \r\nQ 88.28125 42.578125 95.703125 42.1875 \r\nQ 92.578125 37.890625 91.015625 33.984375 \r\nQ 81.25 35.9375 73.625 39.84375 \r\nQ 66.015625 43.75 60.9375 52.34375 \r\nQ 57.421875 43.359375 50.78125 39.84375 \r\nQ 44.140625 36.328125 36.328125 33.984375 \r\nQ 33.203125 37.5 30.078125 40.234375 \r\nQ 46.484375 43.359375 51.5625 49.609375 \r\nQ 56.640625 55.859375 57.03125 64.84375 \r\nL 66.015625 63.671875 \r\nz\r\nM 48.828125 66.40625 \r\nQ 44.140625 60.15625 39.84375 57.03125 \r\nQ 37.109375 59.765625 33.984375 61.71875 \r\nQ 38.671875 64.84375 42.765625 70.109375 \r\nQ 46.875 75.390625 49.21875 81.25 \r\nQ 52.734375 79.6875 57.8125 78.90625 \r\nQ 55.859375 75.390625 53.125 72.65625 \r\nL 89.84375 72.65625 \r\nQ 88.671875 70.3125 82.8125 57.421875 \r\nQ 78.125 58.59375 75 58.984375 \r\nQ 76.953125 63.28125 78.515625 66.40625 \r\nL 48.828125 66.40625 \r\nz\r\nM 55.078125 21.484375 \r\nQ 53.125 17.1875 52.140625 12.890625 \r\nQ 51.171875 8.59375 47.0625 4.09375 \r\nQ 42.96875 -0.390625 35.15625 -4.296875 \r\nQ 27.34375 -8.203125 12.5 -10.546875 \r\nQ 11.328125 -6.640625 7.8125 -3.125 \r\nQ 19.140625 -2.734375 26.75 -0.1875 \r\nQ 34.375 2.34375 38.28125 5.46875 \r\nQ 42.1875 8.59375 43.9375 13.078125 \r\nQ 45.703125 17.578125 45.703125 22.65625 \r\nQ 50.390625 21.875 55.078125 21.484375 \r\nz\r\nM 59.765625 10.9375 \r\nQ 67.1875 8.203125 74.21875 5.46875 \r\nQ 81.25 2.734375 91.015625 -1.5625 \r\nQ 88.671875 -4.6875 86.71875 -9.375 \r\nQ 79.296875 -5.078125 72.0625 -1.953125 \r\nQ 64.84375 1.171875 56.640625 3.90625 \r\nQ 58.59375 7.03125 59.765625 10.9375 \r\nz\r\nM 32.421875 51.953125 \r\nQ 22.65625 42.96875 13.671875 32.03125 \r\nQ 9.765625 36.328125 7.421875 37.890625 \r\nQ 19.921875 47.65625 26.953125 56.640625 \r\nQ 28.90625 54.6875 32.421875 51.953125 \r\nz\r\nM 26.5625 62.109375 \r\nQ 20.3125 66.796875 9.765625 73.046875 \r\nQ 12.5 75.78125 14.453125 78.515625 \r\nQ 17.96875 76.171875 31.25 67.96875 \r\nQ 28.90625 65.625 26.5625 62.109375 \r\nz\r\n\" id=\"SimHei-36164\"/>\r\n      <path d=\"M 8.203125 66.40625 \r\nQ 14.0625 66.015625 21.875 66.015625 \r\nL 44.140625 66.015625 \r\nQ 40.234375 41.015625 34.375 27.34375 \r\nQ 44.140625 13.671875 48.828125 6.25 \r\nQ 46.09375 4.296875 42.578125 1.171875 \r\nQ 34.375 15.234375 30.46875 20.3125 \r\nQ 25.78125 12.109375 21.09375 6.640625 \r\nQ 16.40625 1.171875 9.375 -5.46875 \r\nQ 6.640625 -1.953125 3.125 -0.390625 \r\nQ 9.765625 4.296875 15.234375 10.546875 \r\nQ 20.703125 16.796875 25.78125 26.5625 \r\nQ 16.40625 37.890625 8.59375 45.3125 \r\nQ 10.9375 47.265625 14.0625 50.390625 \r\nQ 25.390625 37.890625 29.296875 33.59375 \r\nQ 34.375 47.65625 35.9375 59.765625 \r\nL 21.875 59.765625 \r\nQ 14.0625 59.765625 8.203125 59.375 \r\nz\r\nM 45.703125 57.8125 \r\nQ 55.078125 57.421875 58.59375 57.421875 \r\nL 75.390625 57.421875 \r\nL 75.390625 69.140625 \r\nQ 75.390625 74.21875 74.609375 80.078125 \r\nL 83.59375 80.078125 \r\nQ 83.203125 75.390625 83.203125 68.359375 \r\nL 83.203125 57.421875 \r\nQ 87.109375 57.421875 96.09375 57.8125 \r\nL 96.09375 50.78125 \r\nQ 87.109375 51.171875 83.203125 51.171875 \r\nL 83.203125 1.953125 \r\nQ 83.59375 -5.46875 78.3125 -7.421875 \r\nQ 73.046875 -9.375 66.40625 -10.15625 \r\nQ 65.234375 -5.46875 62.890625 -1.5625 \r\nQ 71.484375 -1.5625 73.625 -0.578125 \r\nQ 75.78125 0.390625 75.390625 5.078125 \r\nL 75.390625 51.171875 \r\nL 58.984375 51.171875 \r\nQ 55.46875 51.171875 45.703125 50.390625 \r\nz\r\nM 53.90625 42.578125 \r\nQ 60.546875 30.859375 65.234375 20.703125 \r\nQ 60.15625 18.75 57.8125 16.796875 \r\nQ 54.296875 27.34375 47.65625 38.671875 \r\nQ 50.390625 39.84375 53.90625 42.578125 \r\nz\r\n\" id=\"SimHei-23545\"/>\r\n      <path d=\"M 58.984375 79.6875 \r\nQ 58.59375 71.484375 58.59375 64.0625 \r\nL 58.59375 47.65625 \r\nQ 76.953125 56.25 85.546875 65.234375 \r\nQ 88.671875 60.9375 92.1875 57.421875 \r\nQ 87.5 54.6875 78.703125 49.796875 \r\nQ 69.921875 44.921875 58.59375 39.84375 \r\nL 58.59375 7.03125 \r\nQ 58.59375 1.5625 63.28125 1.5625 \r\nL 78.125 1.5625 \r\nQ 80.859375 1.5625 82.21875 3.90625 \r\nQ 83.59375 6.25 85.15625 14.0625 \r\nQ 88.28125 12.109375 94.140625 10.546875 \r\nQ 91.40625 0 88.28125 -2.734375 \r\nQ 85.15625 -5.46875 81.640625 -5.46875 \r\nL 60.9375 -5.46875 \r\nQ 50.78125 -5.46875 50.78125 4.296875 \r\nL 50.78125 62.5 \r\nQ 50.78125 71.09375 50.390625 79.6875 \r\nL 58.984375 79.6875 \r\nz\r\nM 19.921875 77.734375 \r\nQ 19.53125 71.484375 19.53125 62.5 \r\nL 19.53125 49.21875 \r\nL 28.90625 49.21875 \r\nQ 36.328125 49.21875 44.921875 49.609375 \r\nL 44.921875 41.40625 \r\nQ 36.328125 41.796875 28.90625 41.796875 \r\nL 19.53125 41.796875 \r\nL 19.53125 7.421875 \r\nQ 25.78125 10.15625 30.65625 12.6875 \r\nQ 35.546875 15.234375 44.53125 19.921875 \r\nQ 45.3125 14.84375 46.09375 11.71875 \r\nQ 37.109375 7.421875 27.53125 2.734375 \r\nQ 17.96875 -1.953125 14.453125 -5.078125 \r\nQ 11.71875 -1.5625 8.984375 3.125 \r\nQ 10.9375 4.6875 11.71875 9.375 \r\nL 11.71875 61.71875 \r\nQ 11.71875 71.09375 11.328125 77.734375 \r\nL 19.921875 77.734375 \r\nz\r\n\" id=\"SimHei-27604\"/>\r\n     </defs>\r\n     <use xlink:href=\"#SimHei-19981\"/>\r\n     <use x=\"100\" xlink:href=\"#SimHei-21516\"/>\r\n     <use x=\"200\" xlink:href=\"#SimHei-23703\"/>\r\n     <use x=\"300\" xlink:href=\"#SimHei-20301\"/>\r\n     <use x=\"400\" xlink:href=\"#SimHei-24179\"/>\r\n     <use x=\"500\" xlink:href=\"#SimHei-22343\"/>\r\n     <use x=\"600\" xlink:href=\"#SimHei-34218\"/>\r\n     <use x=\"700\" xlink:href=\"#SimHei-36164\"/>\r\n     <use x=\"800\" xlink:href=\"#SimHei-23545\"/>\r\n     <use x=\"900\" xlink:href=\"#SimHei-27604\"/>\r\n    </g>\r\n   </g>\r\n  </g>\r\n </g>\r\n <defs>\r\n  <clipPath id=\"pe06941adc5\">\r\n   <rect height=\"217.44\" width=\"334.8\" x=\"39.2\" y=\"22.715625\"/>\r\n  </clipPath>\r\n </defs>\r\n</svg>\r\n"
     },
     "metadata": {
      "needs_background": "light"
     }
    }
   ],
   "source": [
    "#绘制柱状图\n",
    "plt.bar(x=df_ks.index,height=df_ks.values)\n",
    "\n",
    "plt.title(\"不同岗位平均薪资对比\")\n",
    "\n",
    "plt.grid(linestyle=\"--\",alpha=0.5)\n",
    "\n",
    "plt.show()"
   ]
  },
  {
   "source": [
    "#### 深度学习，机器学习，算法岗位的薪资较高，而数据挖掘，数据分析的岗位薪酬较低"
   ],
   "cell_type": "markdown",
   "metadata": {}
  },
  {
   "source": [
    "### 岗位工作经验处理"
   ],
   "cell_type": "markdown",
   "metadata": {}
  },
  {
   "cell_type": "code",
   "execution_count": 53,
   "metadata": {},
   "outputs": [
    {
     "output_type": "execute_result",
     "data": {
      "text/plain": [
       "0"
      ]
     },
     "metadata": {},
     "execution_count": 53
    }
   ],
   "source": [
    "# 查看工作经验为空的数\n",
    "jobs_info['job_EXP_require'].isnull().sum()"
   ]
  },
  {
   "cell_type": "code",
   "execution_count": 54,
   "metadata": {},
   "outputs": [
    {
     "output_type": "execute_result",
     "data": {
      "text/plain": [
       "3-4年经验     11133\n",
       "2年经验        6112\n",
       "5-7年经验      4307\n",
       "1年经验        3995\n",
       "无需经验        1552\n",
       "在校生/应届生     1475\n",
       "8-9年经验       344\n",
       "10年以上经验      181\n",
       "Name: job_EXP_require, dtype: int64"
      ]
     },
     "metadata": {},
     "execution_count": 54
    }
   ],
   "source": [
    "# 查看工作经验排行\n",
    "jobs_info['job_EXP_require'].value_counts()"
   ]
  },
  {
   "cell_type": "code",
   "execution_count": 55,
   "metadata": {},
   "outputs": [
    {
     "output_type": "execute_result",
     "data": {
      "text/plain": [
       "job_EXP_require\n",
       "10年以上经验    32540.976059\n",
       "1年经验       13749.094702\n",
       "2年经验       15332.126691\n",
       "3-4年经验     18248.665379\n",
       "5-7年经验     22232.940562\n",
       "8-9年经验     29662.911822\n",
       "在校生/应届生    14793.158192\n",
       "无需经验       17799.624141\n",
       "Name: salary, dtype: float64"
      ]
     },
     "metadata": {},
     "execution_count": 55
    }
   ],
   "source": [
    "# 根据工作经验列出平均薪资\n",
    "jobs_info['salary'].groupby(jobs_info['job_EXP_require']).mean()"
   ]
  },
  {
   "cell_type": "code",
   "execution_count": 56,
   "metadata": {},
   "outputs": [
    {
     "output_type": "execute_result",
     "data": {
      "text/plain": [
       "job_EXP_require\n",
       "1年经验       13749.094702\n",
       "在校生/应届生    14793.158192\n",
       "2年经验       15332.126691\n",
       "无需经验       17799.624141\n",
       "3-4年经验     18248.665379\n",
       "5-7年经验     22232.940562\n",
       "8-9年经验     29662.911822\n",
       "10年以上经验    32540.976059\n",
       "Name: salary, dtype: float64"
      ]
     },
     "metadata": {},
     "execution_count": 56
    }
   ],
   "source": [
    "df_x=jobs_info['salary'].groupby(jobs_info['job_EXP_require']).mean().sort_values()\n",
    "df_x"
   ]
  },
  {
   "cell_type": "code",
   "execution_count": 57,
   "metadata": {},
   "outputs": [
    {
     "output_type": "execute_result",
     "data": {
      "text/plain": [
       "Index(['1年经验', '在校生/应届生', '2年经验', '无需经验', '3-4年经验', '5-7年经验', '8-9年经验',\n",
       "       '10年以上经验'],\n",
       "      dtype='object', name='job_EXP_require')"
      ]
     },
     "metadata": {},
     "execution_count": 57
    }
   ],
   "source": [
    "df_x.index"
   ]
  },
  {
   "cell_type": "code",
   "execution_count": 58,
   "metadata": {},
   "outputs": [
    {
     "output_type": "display_data",
     "data": {
      "text/plain": "<Figure size 600x400 with 1 Axes>",
      "image/svg+xml": "<?xml version=\"1.0\" encoding=\"utf-8\" standalone=\"no\"?>\r\n<!DOCTYPE svg PUBLIC \"-//W3C//DTD SVG 1.1//EN\"\r\n  \"http://www.w3.org/Graphics/SVG/1.1/DTD/svg11.dtd\">\r\n<!-- Created with matplotlib (https://matplotlib.org/) -->\r\n<svg height=\"308.396563pt\" version=\"1.1\" viewBox=\"0 0 394.379687 308.396563\" width=\"394.379687pt\" xmlns=\"http://www.w3.org/2000/svg\" xmlns:xlink=\"http://www.w3.org/1999/xlink\">\r\n <metadata>\r\n  <rdf:RDF xmlns:cc=\"http://creativecommons.org/ns#\" xmlns:dc=\"http://purl.org/dc/elements/1.1/\" xmlns:rdf=\"http://www.w3.org/1999/02/22-rdf-syntax-ns#\">\r\n   <cc:Work>\r\n    <dc:type rdf:resource=\"http://purl.org/dc/dcmitype/StillImage\"/>\r\n    <dc:date>2021-03-26T14:41:08.189829</dc:date>\r\n    <dc:format>image/svg+xml</dc:format>\r\n    <dc:creator>\r\n     <cc:Agent>\r\n      <dc:title>Matplotlib v3.3.2, https://matplotlib.org/</dc:title>\r\n     </cc:Agent>\r\n    </dc:creator>\r\n   </cc:Work>\r\n  </rdf:RDF>\r\n </metadata>\r\n <defs>\r\n  <style type=\"text/css\">*{stroke-linecap:butt;stroke-linejoin:round;}</style>\r\n </defs>\r\n <g id=\"figure_1\">\r\n  <g id=\"patch_1\">\r\n   <path d=\"M 0 308.396563 \r\nL 394.379687 308.396563 \r\nL 394.379687 0 \r\nL 0 0 \r\nz\r\n\" style=\"fill:none;\"/>\r\n  </g>\r\n  <g id=\"axes_1\">\r\n   <g id=\"patch_2\">\r\n    <path d=\"M 52.379688 240.343125 \r\nL 387.179688 240.343125 \r\nL 387.179688 22.903125 \r\nL 52.379688 22.903125 \r\nz\r\n\" style=\"fill:#ffffff;\"/>\r\n   </g>\r\n   <g id=\"patch_3\">\r\n    <path clip-path=\"url(#p7c78a5c425)\" d=\"M 67.597869 240.343125 \r\nL 98.814653 240.343125 \r\nL 98.814653 152.846023 \r\nL 67.597869 152.846023 \r\nz\r\n\" style=\"fill:#1f77b4;\"/>\r\n   </g>\r\n   <g id=\"patch_4\">\r\n    <path clip-path=\"url(#p7c78a5c425)\" d=\"M 106.618848 240.343125 \r\nL 137.835632 240.343125 \r\nL 137.835632 146.201765 \r\nL 106.618848 146.201765 \r\nz\r\n\" style=\"fill:#1f77b4;\"/>\r\n   </g>\r\n   <g id=\"patch_5\">\r\n    <path clip-path=\"url(#p7c78a5c425)\" d=\"M 145.639827 240.343125 \r\nL 176.856611 240.343125 \r\nL 176.856611 142.771854 \r\nL 145.639827 142.771854 \r\nz\r\n\" style=\"fill:#1f77b4;\"/>\r\n   </g>\r\n   <g id=\"patch_6\">\r\n    <path clip-path=\"url(#p7c78a5c425)\" d=\"M 184.660806 240.343125 \r\nL 215.87759 240.343125 \r\nL 215.87759 127.069083 \r\nL 184.660806 127.069083 \r\nz\r\n\" style=\"fill:#1f77b4;\"/>\r\n   </g>\r\n   <g id=\"patch_7\">\r\n    <path clip-path=\"url(#p7c78a5c425)\" d=\"M 223.681785 240.343125 \r\nL 254.898569 240.343125 \r\nL 254.898569 124.211455 \r\nL 223.681785 124.211455 \r\nz\r\n\" style=\"fill:#1f77b4;\"/>\r\n   </g>\r\n   <g id=\"patch_8\">\r\n    <path clip-path=\"url(#p7c78a5c425)\" d=\"M 262.702764 240.343125 \r\nL 293.919548 240.343125 \r\nL 293.919548 98.856147 \r\nL 262.702764 98.856147 \r\nz\r\n\" style=\"fill:#1f77b4;\"/>\r\n   </g>\r\n   <g id=\"patch_9\">\r\n    <path clip-path=\"url(#p7c78a5c425)\" d=\"M 301.723743 240.343125 \r\nL 332.940527 240.343125 \r\nL 332.940527 51.572964 \r\nL 301.723743 51.572964 \r\nz\r\n\" style=\"fill:#1f77b4;\"/>\r\n   </g>\r\n   <g id=\"patch_10\">\r\n    <path clip-path=\"url(#p7c78a5c425)\" d=\"M 340.744722 240.343125 \r\nL 371.961506 240.343125 \r\nL 371.961506 33.257411 \r\nL 340.744722 33.257411 \r\nz\r\n\" style=\"fill:#1f77b4;\"/>\r\n   </g>\r\n   <g id=\"matplotlib.axis_1\">\r\n    <g id=\"xtick_1\">\r\n     <g id=\"line2d_1\">\r\n      <defs>\r\n       <path d=\"M 0 0 \r\nL 0 3.5 \r\n\" id=\"m3b5db853f5\" style=\"stroke:#000000;stroke-width:0.8;\"/>\r\n      </defs>\r\n      <g>\r\n       <use style=\"stroke:#000000;stroke-width:0.8;\" x=\"83.206261\" xlink:href=\"#m3b5db853f5\" y=\"240.343125\"/>\r\n      </g>\r\n     </g>\r\n     <g id=\"text_1\">\r\n      <!-- 1年经验 -->\r\n      <g transform=\"translate(69.750035 271.811923)rotate(-30)scale(0.1 -0.1)\">\r\n       <defs>\r\n        <path d=\"M 21.875 56.25 \r\nQ 16.796875 51.171875 8.984375 46.484375 \r\nL 8.984375 53.90625 \r\nQ 18.75 60.546875 25 69.53125 \r\nL 29.6875 69.53125 \r\nL 29.6875 2.34375 \r\nL 21.875 2.34375 \r\nz\r\n\" id=\"SimHei-49\"/>\r\n        <path d=\"M 5.46875 45.703125 \r\nQ 14.0625 53.90625 21.484375 65.625 \r\nQ 28.90625 77.34375 29.6875 82.421875 \r\nQ 35.546875 80.078125 40.625 78.90625 \r\nQ 37.109375 75.390625 32.8125 67.578125 \r\nL 72.265625 67.578125 \r\nQ 80.859375 67.578125 89.84375 67.96875 \r\nL 89.84375 61.328125 \r\nQ 81.640625 61.71875 72.265625 61.71875 \r\nL 59.375 61.71875 \r\nL 59.375 45.703125 \r\nQ 74.21875 45.703125 85.546875 46.09375 \r\nL 85.546875 39.453125 \r\nQ 73.828125 39.84375 59.375 39.84375 \r\nL 59.375 21.484375 \r\nL 79.296875 21.484375 \r\nQ 87.890625 21.484375 95.3125 21.875 \r\nL 95.3125 15.234375 \r\nQ 88.28125 15.625 79.296875 15.625 \r\nL 59.375 15.625 \r\nL 59.375 6.640625 \r\nQ 59.375 -2.34375 59.765625 -9.765625 \r\nL 51.171875 -9.765625 \r\nQ 51.5625 -2.34375 51.5625 5.859375 \r\nL 51.5625 15.625 \r\nL 25 15.625 \r\nQ 14.0625 15.625 4.296875 15.234375 \r\nL 4.296875 21.875 \r\nQ 13.671875 21.484375 22.65625 21.484375 \r\nQ 22.65625 36.71875 22.265625 45.703125 \r\nL 51.5625 45.703125 \r\nL 51.5625 61.71875 \r\nL 29.296875 61.71875 \r\nQ 21.09375 49.21875 14.453125 41.40625 \r\nQ 10.15625 44.921875 5.46875 45.703125 \r\nz\r\nM 51.5625 21.484375 \r\nL 51.5625 39.84375 \r\nL 30.078125 39.84375 \r\nL 30.078125 21.484375 \r\nz\r\n\" id=\"SimHei-24180\"/>\r\n        <path d=\"M 31.640625 74.21875 \r\nQ 29.296875 71.09375 25.78125 65.234375 \r\nQ 22.265625 59.375 14.453125 47.65625 \r\nQ 17.1875 47.65625 29.6875 48.4375 \r\nQ 33.984375 54.6875 37.109375 61.328125 \r\nQ 40.234375 58.203125 44.53125 56.640625 \r\nQ 40.625 51.953125 35.15625 44.53125 \r\nQ 29.6875 37.109375 18.75 23.828125 \r\nQ 33.984375 25.78125 40.625 27.34375 \r\nQ 40.234375 25 40.234375 20.703125 \r\nQ 36.71875 19.921875 27.34375 18.75 \r\nQ 17.96875 17.578125 9.765625 15.625 \r\nQ 9.375 18.359375 7.03125 22.65625 \r\nQ 11.328125 24.609375 15.8125 29.6875 \r\nQ 20.3125 34.765625 25.390625 42.1875 \r\nQ 21.09375 42.1875 16.203125 41.59375 \r\nQ 11.328125 41.015625 8.203125 40.234375 \r\nQ 7.421875 42.96875 5.078125 47.265625 \r\nQ 9.375 50 14.84375 59.375 \r\nQ 20.3125 68.75 23.828125 78.515625 \r\nQ 26.5625 76.171875 31.640625 74.21875 \r\nz\r\nM 76.953125 29.296875 \r\nQ 83.203125 29.296875 88.671875 29.6875 \r\nL 88.671875 22.65625 \r\nQ 83.59375 23.046875 77.34375 23.046875 \r\nL 71.09375 23.046875 \r\nL 71.09375 0 \r\nL 82.421875 0 \r\nQ 87.890625 0 94.140625 0.390625 \r\nL 94.140625 -6.640625 \r\nQ 87.890625 -6.25 82.421875 -6.25 \r\nL 51.953125 -6.25 \r\nQ 46.875 -6.25 38.671875 -6.640625 \r\nL 38.671875 0.390625 \r\nQ 46.875 0 51.953125 0 \r\nL 63.671875 0 \r\nL 63.671875 23.046875 \r\nL 58.203125 23.046875 \r\nQ 51.5625 23.046875 45.3125 22.65625 \r\nL 45.3125 29.6875 \r\nQ 51.5625 29.296875 58.203125 29.296875 \r\nz\r\nM 85.9375 72.65625 \r\nQ 83.984375 68.75 80.859375 64.0625 \r\nQ 77.734375 59.375 72.65625 53.515625 \r\nQ 89.84375 42.1875 95.3125 38.671875 \r\nQ 92.1875 35.546875 89.453125 32.03125 \r\nQ 84.375 37.109375 68.75 48.828125 \r\nQ 63.671875 44.140625 58.390625 40.421875 \r\nQ 53.125 36.71875 44.140625 31.25 \r\nQ 41.796875 35.15625 38.671875 37.890625 \r\nQ 45.3125 40.234375 50.578125 43.359375 \r\nQ 55.859375 46.484375 62.890625 53.125 \r\nQ 69.921875 59.765625 74.21875 66.40625 \r\nL 57.421875 66.40625 \r\nQ 50.390625 66.40625 44.140625 66.015625 \r\nL 44.140625 73.046875 \r\nQ 50.390625 72.65625 57.421875 72.65625 \r\nz\r\nM 41.40625 10.15625 \r\nQ 41.40625 7.8125 41.796875 3.515625 \r\nQ 34.765625 2.34375 25.578125 0.390625 \r\nQ 16.40625 -1.5625 8.984375 -3.515625 \r\nQ 7.03125 1.171875 5.46875 4.6875 \r\nQ 16.40625 5.859375 21.875 6.828125 \r\nQ 27.34375 7.8125 41.40625 10.15625 \r\nz\r\n\" id=\"SimHei-32463\"/>\r\n        <path d=\"M 35.9375 73.828125 \r\nQ 35.15625 70.3125 34.765625 63.671875 \r\nL 32.03125 33.203125 \r\nL 39.453125 33.203125 \r\nQ 39.0625 30.078125 38.671875 22.65625 \r\nL 37.109375 1.171875 \r\nQ 37.109375 -7.03125 32.421875 -8.203125 \r\nQ 27.734375 -9.375 19.53125 -10.546875 \r\nQ 18.359375 -5.078125 16.40625 -1.5625 \r\nQ 24.609375 -1.5625 27.140625 -1.359375 \r\nQ 29.6875 -1.171875 30.46875 2.34375 \r\nL 31.640625 26.5625 \r\nL 8.59375 26.5625 \r\nQ 8.984375 33.984375 9.171875 42.765625 \r\nQ 9.375 51.5625 9.375 59.375 \r\nL 17.1875 59.375 \r\nQ 16.40625 55.078125 16.015625 48.234375 \r\nQ 15.625 41.40625 15.625 33.203125 \r\nL 25.390625 33.203125 \r\nL 28.125 67.578125 \r\nL 17.578125 67.578125 \r\nQ 11.328125 67.578125 5.46875 67.1875 \r\nL 5.46875 74.21875 \r\nQ 11.328125 73.828125 17.578125 73.828125 \r\nz\r\nM 67.578125 76.171875 \r\nQ 73.828125 64.453125 80.46875 58.984375 \r\nQ 87.109375 53.515625 96.09375 50.390625 \r\nQ 92.578125 47.265625 90.625 42.578125 \r\nQ 85.15625 45.703125 80.078125 50 \r\nL 80.078125 43.359375 \r\nQ 75 43.75 65.625 43.75 \r\nQ 56.25 43.75 50.390625 43.359375 \r\nL 50.390625 49.609375 \r\nQ 48.046875 46.484375 43.75 41.40625 \r\nQ 40.234375 44.921875 36.328125 46.875 \r\nQ 42.578125 51.171875 45.890625 55.46875 \r\nQ 49.21875 59.765625 51.75 64.453125 \r\nQ 54.296875 69.140625 56.046875 73.046875 \r\nQ 57.8125 76.953125 58.984375 81.640625 \r\nQ 64.0625 80.46875 69.53125 79.296875 \r\nz\r\nM 87.5 33.59375 \r\nQ 85.546875 31.25 84.375 27.140625 \r\nQ 83.203125 23.046875 80.65625 14.25 \r\nQ 78.125 5.46875 76.5625 0.390625 \r\nL 82.03125 0.390625 \r\nQ 84.765625 0.390625 90.625 0.78125 \r\nL 90.625 -6.25 \r\nQ 85.546875 -5.859375 82.03125 -5.859375 \r\nL 51.953125 -5.859375 \r\nQ 44.921875 -5.859375 41.796875 -6.25 \r\nL 41.796875 0.78125 \r\nQ 46.484375 0.390625 52.34375 0.390625 \r\nL 69.921875 0.390625 \r\nQ 73.046875 8.984375 75 17.96875 \r\nL 78.90625 35.9375 \r\nQ 82.03125 34.765625 87.5 33.59375 \r\nz\r\nM 79.6875 50.390625 \r\nQ 75 53.90625 71.09375 58.984375 \r\nQ 67.1875 64.0625 63.28125 71.875 \r\nQ 60.15625 65.625 57.609375 61.125 \r\nQ 55.078125 56.640625 50.78125 50.390625 \r\nz\r\nM 50.78125 33.984375 \r\nQ 52.34375 28.515625 54.09375 21.484375 \r\nQ 55.859375 14.453125 57.421875 8.59375 \r\nQ 53.90625 8.203125 50.78125 6.640625 \r\nQ 49.609375 14.0625 48.234375 19.140625 \r\nQ 46.875 24.21875 44.53125 32.03125 \r\nQ 47.65625 33.203125 50.78125 33.984375 \r\nz\r\nM 27.734375 17.578125 \r\nQ 27.34375 14.84375 26.953125 10.9375 \r\nQ 21.09375 9.765625 17.375 8.984375 \r\nQ 13.671875 8.203125 5.859375 5.859375 \r\nQ 4.6875 10.15625 3.125 14.453125 \r\nQ 8.59375 14.84375 14.453125 15.625 \r\nQ 20.3125 16.40625 27.734375 17.578125 \r\nz\r\nM 67.1875 25.78125 \r\nQ 67.96875 20.703125 69.140625 12.890625 \r\nL 62.890625 11.328125 \r\nQ 61.328125 19.921875 60.546875 24.40625 \r\nQ 59.765625 28.90625 58.59375 34.765625 \r\nQ 62.109375 35.546875 65.625 35.9375 \r\nz\r\n\" id=\"SimHei-39564\"/>\r\n       </defs>\r\n       <use xlink:href=\"#SimHei-49\"/>\r\n       <use x=\"50\" xlink:href=\"#SimHei-24180\"/>\r\n       <use x=\"150\" xlink:href=\"#SimHei-32463\"/>\r\n       <use x=\"250\" xlink:href=\"#SimHei-39564\"/>\r\n      </g>\r\n     </g>\r\n    </g>\r\n    <g id=\"xtick_2\">\r\n     <g id=\"line2d_2\">\r\n      <g>\r\n       <use style=\"stroke:#000000;stroke-width:0.8;\" x=\"122.22724\" xlink:href=\"#m3b5db853f5\" y=\"240.343125\"/>\r\n      </g>\r\n     </g>\r\n     <g id=\"text_2\">\r\n      <!-- 在校生/应届生 -->\r\n      <g transform=\"translate(95.770867 286.778094)rotate(-30)scale(0.1 -0.1)\">\r\n       <defs>\r\n        <path d=\"M 37.890625 65.625 \r\nQ 39.453125 70.703125 40.625 74.40625 \r\nQ 41.796875 78.125 42.1875 82.03125 \r\nQ 47.65625 80.859375 51.953125 79.6875 \r\nQ 50 75.78125 49.21875 73.625 \r\nQ 48.4375 71.484375 46.484375 65.625 \r\nL 78.125 65.625 \r\nQ 86.328125 65.625 92.96875 66.015625 \r\nL 92.96875 58.59375 \r\nQ 86.328125 58.984375 78.125 58.984375 \r\nL 44.140625 58.984375 \r\nQ 41.796875 53.515625 38.078125 46.875 \r\nQ 34.375 40.234375 28.515625 32.421875 \r\nL 28.515625 5.078125 \r\nQ 28.515625 -2.734375 28.90625 -10.15625 \r\nL 20.703125 -10.15625 \r\nQ 21.09375 -2.734375 21.09375 5.078125 \r\nL 21.09375 25.390625 \r\nQ 14.84375 19.53125 9.765625 15.625 \r\nQ 7.03125 19.140625 3.125 21.484375 \r\nQ 7.8125 24.21875 12.5 28.125 \r\nQ 17.1875 32.03125 21.09375 37.109375 \r\nQ 21.09375 40.625 20.703125 44.140625 \r\nL 26.953125 44.140625 \r\nQ 29.6875 47.265625 31.828125 51.171875 \r\nQ 33.984375 55.078125 35.546875 58.984375 \r\nL 26.171875 58.984375 \r\nQ 16.796875 58.984375 9.765625 58.59375 \r\nL 9.765625 66.015625 \r\nQ 17.1875 65.625 26.171875 65.625 \r\nz\r\nM 57.8125 35.15625 \r\nL 57.8125 40.625 \r\nQ 57.8125 48.4375 57.421875 53.125 \r\nL 66.015625 53.125 \r\nQ 65.625 48.4375 65.625 40.625 \r\nL 65.625 35.15625 \r\nL 74.609375 35.15625 \r\nQ 81.640625 35.15625 87.5 35.546875 \r\nL 87.5 28.125 \r\nQ 81.640625 28.515625 74.609375 28.515625 \r\nL 65.625 28.515625 \r\nL 65.625 2.34375 \r\nL 80.46875 2.34375 \r\nQ 87.890625 2.34375 93.75 2.734375 \r\nL 93.75 -4.296875 \r\nQ 87.890625 -3.90625 80.46875 -3.90625 \r\nL 48.828125 -3.90625 \r\nQ 38.671875 -3.90625 32.8125 -4.296875 \r\nL 32.8125 2.734375 \r\nQ 38.671875 2.34375 48.828125 2.34375 \r\nL 57.8125 2.34375 \r\nL 57.8125 28.515625 \r\nL 50.390625 28.515625 \r\nQ 43.359375 28.515625 36.71875 28.125 \r\nL 36.71875 35.546875 \r\nQ 43.359375 35.15625 50.390625 35.15625 \r\nz\r\n\" id=\"SimHei-22312\"/>\r\n        <path d=\"M 19.53125 59.765625 \r\nQ 19.53125 75 19.140625 80.078125 \r\nL 27.34375 80.078125 \r\nQ 26.953125 75 26.953125 59.765625 \r\nQ 31.640625 59.765625 37.109375 60.15625 \r\nL 37.109375 53.125 \r\nQ 32.03125 53.515625 26.953125 53.515625 \r\nL 26.953125 38.671875 \r\nQ 29.6875 40.625 32.8125 42.1875 \r\nQ 37.109375 34.765625 40.625 29.296875 \r\nQ 36.71875 27.34375 33.203125 25 \r\nQ 30.859375 31.25 26.953125 37.890625 \r\nL 26.953125 7.421875 \r\nQ 26.953125 -0.390625 27.34375 -8.59375 \r\nL 19.140625 -8.59375 \r\nQ 19.53125 -0.390625 19.53125 7.421875 \r\nL 19.53125 36.328125 \r\nQ 16.015625 24.609375 9.765625 12.5 \r\nQ 6.640625 17.1875 3.125 19.921875 \r\nQ 13.28125 33.203125 17.96875 53.515625 \r\nQ 12.109375 53.515625 5.46875 53.125 \r\nL 5.46875 60.15625 \r\nQ 12.109375 59.765625 19.53125 59.765625 \r\nz\r\nM 55.46875 34.765625 \r\nQ 60.546875 21.484375 65.625 15.625 \r\nQ 71.484375 22.265625 75.78125 35.9375 \r\nQ 79.296875 33.59375 84.375 32.8125 \r\nQ 81.640625 28.125 79.09375 22.65625 \r\nQ 76.5625 17.1875 70.703125 10.15625 \r\nQ 74.21875 6.25 80.859375 3.125 \r\nQ 87.5 0 96.875 -1.5625 \r\nQ 91.796875 -5.46875 90.625 -9.375 \r\nQ 82.421875 -6.640625 75.96875 -3.125 \r\nQ 69.53125 0.390625 65.625 4.6875 \r\nQ 60.546875 0.390625 55.078125 -2.734375 \r\nQ 49.609375 -5.859375 38.671875 -10.15625 \r\nQ 36.328125 -5.859375 32.8125 -3.125 \r\nQ 44.53125 0 50.1875 3.125 \r\nQ 55.859375 6.25 60.546875 10.15625 \r\nQ 53.125 19.140625 48.828125 31.640625 \r\nQ 52.34375 32.421875 55.46875 34.765625 \r\nz\r\nM 80.46875 66.796875 \r\nQ 88.28125 66.796875 95.3125 67.1875 \r\nL 95.3125 60.15625 \r\nQ 89.0625 60.546875 80.46875 60.546875 \r\nL 52.734375 60.546875 \r\nQ 44.921875 60.546875 39.0625 60.15625 \r\nL 39.0625 67.1875 \r\nQ 44.921875 66.796875 52.734375 66.796875 \r\nz\r\nM 62.890625 50.78125 \r\nQ 60.15625 48.828125 55.078125 43.15625 \r\nQ 50 37.5 46.875 33.984375 \r\nQ 43.75 36.71875 39.84375 38.671875 \r\nQ 50 47.65625 54.6875 55.859375 \r\nL 62.890625 50.78125 \r\nz\r\nM 78.515625 55.078125 \r\nQ 90.234375 45.703125 95.3125 41.40625 \r\nQ 91.40625 38.28125 88.28125 35.15625 \r\nQ 84.375 40.625 73.046875 50 \r\nQ 76.5625 52.34375 78.515625 55.078125 \r\nz\r\nM 66.015625 82.03125 \r\nQ 69.140625 77.734375 72.265625 71.09375 \r\nQ 68.75 69.921875 64.453125 67.578125 \r\nQ 63.28125 72.65625 59.375 78.90625 \r\nL 66.015625 82.03125 \r\nz\r\n\" id=\"SimHei-26657\"/>\r\n        <path d=\"M 29.296875 72.65625 \r\nQ 26.953125 69.921875 25.390625 65.8125 \r\nQ 23.828125 61.71875 22.265625 57.8125 \r\nL 45.703125 57.8125 \r\nL 45.703125 71.484375 \r\nQ 45.703125 76.5625 45.3125 81.25 \r\nL 54.296875 81.25 \r\nQ 53.90625 76.953125 53.90625 71.484375 \r\nL 53.90625 57.8125 \r\nL 71.09375 57.8125 \r\nQ 77.34375 57.8125 85.15625 58.203125 \r\nL 85.15625 50.390625 \r\nQ 77.734375 50.78125 71.09375 50.78125 \r\nL 53.90625 50.78125 \r\nL 53.90625 33.203125 \r\nL 66.015625 33.203125 \r\nQ 71.484375 33.203125 79.296875 33.59375 \r\nL 79.296875 25.78125 \r\nQ 71.875 26.171875 66.015625 26.171875 \r\nL 53.90625 26.171875 \r\nL 53.90625 2.734375 \r\nL 77.34375 2.734375 \r\nQ 83.59375 2.734375 91.796875 3.125 \r\nL 91.796875 -4.296875 \r\nQ 83.984375 -3.90625 77.34375 -3.90625 \r\nL 21.09375 -3.90625 \r\nQ 14.453125 -3.90625 7.421875 -4.296875 \r\nL 7.421875 3.125 \r\nQ 14.84375 2.734375 21.09375 2.734375 \r\nL 45.703125 2.734375 \r\nL 45.703125 26.171875 \r\nL 31.25 26.171875 \r\nQ 25.78125 26.171875 19.921875 25.78125 \r\nL 19.921875 33.59375 \r\nQ 25.78125 33.203125 31.25 33.203125 \r\nL 45.703125 33.203125 \r\nL 45.703125 50.78125 \r\nL 19.53125 50.78125 \r\nQ 16.015625 42.578125 12.5 36.71875 \r\nQ 8.203125 38.671875 3.125 39.453125 \r\nQ 7.421875 44.140625 12.296875 54.484375 \r\nQ 17.1875 64.84375 19.140625 76.5625 \r\nL 29.296875 72.65625 \r\nz\r\n\" id=\"SimHei-29983\"/>\r\n        <path d=\"M 46.875 71.09375 \r\nL 5.46875 -2.734375 \r\nL 1.5625 -0.390625 \r\nL 42.96875 73.4375 \r\nz\r\n\" id=\"SimHei-47\"/>\r\n        <path d=\"M 55.078125 82.421875 \r\nQ 57.8125 75.390625 60.15625 68.75 \r\nL 74.21875 68.75 \r\nQ 82.421875 68.75 91.40625 69.140625 \r\nL 91.40625 62.109375 \r\nQ 82.421875 62.5 74.21875 62.5 \r\nL 23.046875 62.5 \r\nQ 23.046875 39.453125 22.265625 29.6875 \r\nQ 21.484375 19.921875 19.328125 9.765625 \r\nQ 17.1875 -0.390625 11.71875 -9.765625 \r\nQ 8.984375 -6.25 4.6875 -3.90625 \r\nQ 9.765625 2.734375 12.5 14.640625 \r\nQ 15.234375 26.5625 15.625 40.234375 \r\nQ 16.015625 53.90625 15.625 68.75 \r\nL 50.78125 68.75 \r\nQ 49.609375 74.21875 46.875 79.6875 \r\nQ 50.78125 80.46875 55.078125 82.421875 \r\nz\r\nM 87.890625 48.828125 \r\nQ 83.984375 40.234375 81.046875 32.03125 \r\nQ 78.125 23.828125 69.53125 3.515625 \r\nL 80.46875 3.515625 \r\nQ 85.9375 3.515625 92.578125 3.90625 \r\nL 92.578125 -4.296875 \r\nQ 85.9375 -3.90625 80.46875 -3.90625 \r\nL 38.671875 -3.90625 \r\nQ 32.03125 -3.90625 22.65625 -4.296875 \r\nL 22.65625 3.90625 \r\nQ 31.640625 3.515625 38.671875 3.515625 \r\nL 61.71875 3.515625 \r\nQ 67.578125 15.625 72.0625 28.90625 \r\nQ 76.5625 42.1875 78.515625 52.34375 \r\nQ 83.59375 49.609375 87.890625 48.828125 \r\nz\r\nM 32.8125 44.53125 \r\nQ 42.96875 28.515625 48.046875 16.40625 \r\nQ 45.3125 14.84375 41.40625 12.5 \r\nQ 33.59375 30.078125 26.5625 40.234375 \r\nQ 30.078125 42.96875 32.8125 44.53125 \r\nz\r\nM 51.5625 53.515625 \r\nQ 59.375 39.84375 65.234375 26.5625 \r\nQ 61.71875 24.609375 57.8125 22.65625 \r\nQ 53.125 35.9375 45.3125 50 \r\nQ 48.4375 51.171875 51.5625 53.515625 \r\nz\r\n\" id=\"SimHei-24212\"/>\r\n        <path d=\"M 55.46875 41.796875 \r\nQ 55.46875 46.09375 55.078125 51.171875 \r\nL 63.28125 51.171875 \r\nQ 62.890625 46.09375 62.890625 41.796875 \r\nL 89.453125 41.796875 \r\nQ 89.0625 33.59375 89.0625 25 \r\nL 89.0625 6.25 \r\nQ 89.0625 -0.390625 89.453125 -7.8125 \r\nL 81.640625 -7.8125 \r\nL 81.640625 -1.171875 \r\nL 37.109375 -1.171875 \r\nL 37.109375 -8.203125 \r\nL 29.296875 -8.203125 \r\nQ 29.6875 0.390625 29.6875 6.640625 \r\nL 29.6875 25 \r\nQ 29.6875 33.59375 29.296875 41.796875 \r\nL 55.46875 41.796875 \r\nz\r\nM 89.0625 76.171875 \r\nQ 88.671875 71.09375 88.671875 64.84375 \r\nQ 88.671875 58.59375 89.0625 52.734375 \r\nL 24.609375 52.734375 \r\nQ 24.21875 39.84375 23.625 30.46875 \r\nQ 23.046875 21.09375 21.484375 13.859375 \r\nQ 19.921875 6.640625 17.765625 1.171875 \r\nQ 15.625 -4.296875 12.5 -10.15625 \r\nQ 8.59375 -6.640625 4.6875 -5.078125 \r\nQ 9.375 1.5625 11.71875 8.203125 \r\nQ 14.0625 14.84375 15.234375 23.046875 \r\nQ 16.40625 31.25 16.796875 46.671875 \r\nQ 17.1875 62.109375 16.796875 76.171875 \r\nL 89.0625 76.171875 \r\nz\r\nM 81.25 58.984375 \r\nL 81.25 69.921875 \r\nL 24.609375 69.921875 \r\nL 24.609375 58.984375 \r\nz\r\nM 81.640625 5.078125 \r\nL 81.640625 17.578125 \r\nL 62.890625 17.578125 \r\nL 62.890625 5.078125 \r\nz\r\nM 55.46875 5.078125 \r\nL 55.46875 17.578125 \r\nL 37.109375 17.578125 \r\nL 37.109375 5.078125 \r\nz\r\nM 81.640625 23.828125 \r\nL 81.640625 35.546875 \r\nL 62.890625 35.546875 \r\nL 62.890625 23.828125 \r\nz\r\nM 55.46875 23.828125 \r\nL 55.46875 35.546875 \r\nL 37.109375 35.546875 \r\nL 37.109375 23.828125 \r\nz\r\n\" id=\"SimHei-23626\"/>\r\n       </defs>\r\n       <use xlink:href=\"#SimHei-22312\"/>\r\n       <use x=\"100\" xlink:href=\"#SimHei-26657\"/>\r\n       <use x=\"200\" xlink:href=\"#SimHei-29983\"/>\r\n       <use x=\"300\" xlink:href=\"#SimHei-47\"/>\r\n       <use x=\"350\" xlink:href=\"#SimHei-24212\"/>\r\n       <use x=\"450\" xlink:href=\"#SimHei-23626\"/>\r\n       <use x=\"550\" xlink:href=\"#SimHei-29983\"/>\r\n      </g>\r\n     </g>\r\n    </g>\r\n    <g id=\"xtick_3\">\r\n     <g id=\"line2d_3\">\r\n      <g>\r\n       <use style=\"stroke:#000000;stroke-width:0.8;\" x=\"161.248219\" xlink:href=\"#m3b5db853f5\" y=\"240.343125\"/>\r\n      </g>\r\n     </g>\r\n     <g id=\"text_3\">\r\n      <!-- 2年经验 -->\r\n      <g transform=\"translate(147.791993 271.811923)rotate(-30)scale(0.1 -0.1)\">\r\n       <defs>\r\n        <path d=\"M 4.6875 3.90625 \r\nQ 5.078125 9.765625 10.15625 14.453125 \r\nQ 15.234375 19.140625 23.046875 29.09375 \r\nQ 30.859375 39.0625 33.203125 44.53125 \r\nQ 35.546875 50 34.953125 53.90625 \r\nQ 34.375 57.8125 31.25 60.34375 \r\nQ 28.125 62.890625 24.015625 62.5 \r\nQ 19.921875 62.109375 16.203125 59.375 \r\nQ 12.5 56.640625 10.546875 51.171875 \r\nL 3.125 52.34375 \r\nQ 6.25 61.328125 11.125 65.421875 \r\nQ 16.015625 69.53125 22.65625 69.921875 \r\nQ 26.5625 70.3125 29.6875 69.71875 \r\nQ 32.8125 69.140625 36.125 66.984375 \r\nQ 39.453125 64.84375 41.59375 60.546875 \r\nQ 43.75 56.25 43.15625 50.1875 \r\nQ 42.578125 44.140625 37.109375 35.734375 \r\nQ 31.640625 27.34375 16.015625 9.375 \r\nL 44.140625 9.375 \r\nL 44.140625 2.34375 \r\nL 4.6875 2.34375 \r\nz\r\n\" id=\"SimHei-50\"/>\r\n       </defs>\r\n       <use xlink:href=\"#SimHei-50\"/>\r\n       <use x=\"50\" xlink:href=\"#SimHei-24180\"/>\r\n       <use x=\"150\" xlink:href=\"#SimHei-32463\"/>\r\n       <use x=\"250\" xlink:href=\"#SimHei-39564\"/>\r\n      </g>\r\n     </g>\r\n    </g>\r\n    <g id=\"xtick_4\">\r\n     <g id=\"line2d_4\">\r\n      <g>\r\n       <use style=\"stroke:#000000;stroke-width:0.8;\" x=\"200.269198\" xlink:href=\"#m3b5db853f5\" y=\"240.343125\"/>\r\n      </g>\r\n     </g>\r\n     <g id=\"text_4\">\r\n      <!-- 无需经验 -->\r\n      <g transform=\"translate(184.628377 274.244265)rotate(-30)scale(0.1 -0.1)\">\r\n       <defs>\r\n        <path d=\"M 67.96875 73.828125 \r\nQ 76.171875 73.828125 82.8125 74.21875 \r\nL 82.8125 66.796875 \r\nQ 76.953125 67.1875 67.96875 67.1875 \r\nL 49.609375 67.1875 \r\nQ 49.609375 54.296875 48.828125 43.75 \r\nL 78.90625 43.75 \r\nQ 85.9375 43.75 91.796875 44.140625 \r\nL 91.796875 36.71875 \r\nQ 85.9375 37.109375 79.296875 37.109375 \r\nL 61.71875 37.109375 \r\nL 61.71875 6.640625 \r\nQ 61.71875 1.5625 67.578125 1.5625 \r\nL 80.859375 1.5625 \r\nQ 85.15625 1.5625 85.546875 13.28125 \r\nQ 89.453125 10.9375 94.140625 9.765625 \r\nQ 92.1875 -5.46875 85.15625 -5.46875 \r\nL 63.671875 -5.46875 \r\nQ 54.6875 -5.078125 54.6875 4.6875 \r\nL 54.6875 37.109375 \r\nL 48.046875 37.109375 \r\nQ 44.921875 22.265625 40.421875 14.640625 \r\nQ 35.9375 7.03125 30.078125 1.75 \r\nQ 24.21875 -3.515625 12.5 -10.15625 \r\nQ 10.546875 -5.859375 5.859375 -3.515625 \r\nQ 15.234375 0.78125 21.09375 5.265625 \r\nQ 26.953125 9.765625 32.21875 16.40625 \r\nQ 37.5 23.046875 40.625 37.109375 \r\nL 23.4375 37.109375 \r\nQ 13.671875 37.109375 9.375 36.71875 \r\nL 9.375 44.140625 \r\nQ 13.671875 43.75 23.4375 43.75 \r\nL 41.40625 43.75 \r\nQ 41.796875 55.46875 41.796875 67.1875 \r\nL 31.25 67.1875 \r\nQ 23.4375 67.1875 16.796875 66.796875 \r\nL 16.796875 74.21875 \r\nQ 23.4375 73.828125 31.25 73.828125 \r\nz\r\n\" id=\"SimHei-26080\"/>\r\n        <path d=\"M 80.46875 32.8125 \r\nQ 85.9375 32.8125 93.359375 33.203125 \r\nL 93.359375 26.5625 \r\nQ 85.9375 26.953125 80.46875 26.953125 \r\nL 53.515625 26.953125 \r\nQ 51.5625 23.4375 50.78125 19.921875 \r\nL 87.5 19.921875 \r\nQ 87.109375 14.84375 87.109375 10.9375 \r\nL 87.109375 -0.78125 \r\nQ 87.109375 -5.46875 84.765625 -6.828125 \r\nQ 82.421875 -8.203125 74.609375 -9.765625 \r\nQ 74.21875 -6.25 71.09375 -1.5625 \r\nQ 77.34375 -1.5625 78.515625 -0.78125 \r\nQ 79.6875 0 79.6875 3.125 \r\nL 79.6875 14.0625 \r\nL 64.453125 14.0625 \r\nL 64.453125 -5.859375 \r\nL 57.03125 -5.859375 \r\nL 57.03125 14.0625 \r\nL 43.359375 14.0625 \r\nL 43.359375 -5.859375 \r\nL 35.9375 -5.859375 \r\nL 35.9375 14.0625 \r\nL 21.09375 14.0625 \r\nL 21.09375 -8.984375 \r\nL 13.671875 -8.984375 \r\nQ 14.0625 -3.515625 14.0625 2.734375 \r\nL 14.0625 8.984375 \r\nQ 14.0625 14.0625 13.671875 19.921875 \r\nL 43.75 19.921875 \r\nQ 44.921875 23.4375 45.703125 26.953125 \r\nL 21.09375 26.953125 \r\nQ 14.453125 26.953125 8.203125 26.5625 \r\nL 8.203125 33.203125 \r\nQ 14.0625 32.8125 20.703125 32.8125 \r\nz\r\nM 73.4375 79.296875 \r\nQ 79.296875 79.296875 86.71875 79.6875 \r\nL 86.71875 73.046875 \r\nQ 79.296875 73.4375 73.4375 73.4375 \r\nL 54.296875 73.4375 \r\nL 54.296875 66.796875 \r\nL 93.359375 66.796875 \r\nL 93.359375 48.4375 \r\nL 85.9375 48.4375 \r\nL 85.9375 60.9375 \r\nL 54.296875 60.9375 \r\nL 54.296875 50 \r\nQ 54.296875 43.359375 54.6875 37.890625 \r\nL 46.484375 37.890625 \r\nQ 46.875 42.96875 46.875 49.609375 \r\nL 46.875 60.9375 \r\nL 14.84375 60.9375 \r\nL 14.84375 48.4375 \r\nL 7.03125 48.4375 \r\nQ 7.03125 52.734375 7.21875 57.03125 \r\nQ 7.421875 61.328125 7.03125 66.796875 \r\nL 46.875 66.796875 \r\nL 46.875 73.4375 \r\nL 27.734375 73.4375 \r\nQ 21.875 73.4375 16.015625 73.046875 \r\nL 16.015625 79.6875 \r\nQ 21.875 79.296875 27.34375 79.296875 \r\nz\r\nM 38.671875 38.28125 \r\nL 19.53125 38.28125 \r\nL 19.53125 43.75 \r\nL 38.671875 43.75 \r\nz\r\nM 39.0625 49.21875 \r\nL 20.703125 49.21875 \r\nL 20.703125 54.6875 \r\nL 39.0625 54.6875 \r\nz\r\nM 78.125 49.609375 \r\nL 59.765625 49.609375 \r\nL 59.765625 55.078125 \r\nL 78.125 55.078125 \r\nz\r\nM 78.515625 39.0625 \r\nL 60.15625 39.0625 \r\nL 60.15625 44.53125 \r\nL 78.515625 44.53125 \r\nz\r\n\" id=\"SimHei-38656\"/>\r\n       </defs>\r\n       <use xlink:href=\"#SimHei-26080\"/>\r\n       <use x=\"100\" xlink:href=\"#SimHei-38656\"/>\r\n       <use x=\"200\" xlink:href=\"#SimHei-32463\"/>\r\n       <use x=\"300\" xlink:href=\"#SimHei-39564\"/>\r\n      </g>\r\n     </g>\r\n    </g>\r\n    <g id=\"xtick_5\">\r\n     <g id=\"line2d_5\">\r\n      <g>\r\n       <use style=\"stroke:#000000;stroke-width:0.8;\" x=\"239.290177\" xlink:href=\"#m3b5db853f5\" y=\"240.343125\"/>\r\n      </g>\r\n     </g>\r\n     <g id=\"text_5\">\r\n      <!-- 3-4年经验 -->\r\n      <g transform=\"translate(221.503824 276.811923)rotate(-30)scale(0.1 -0.1)\">\r\n       <defs>\r\n        <path d=\"M 3.90625 19.140625 \r\nL 10.9375 20.3125 \r\nQ 12.5 15.234375 16.015625 11.90625 \r\nQ 19.53125 8.59375 24.796875 8.78125 \r\nQ 30.078125 8.984375 33.203125 13.078125 \r\nQ 36.328125 17.1875 35.9375 22.453125 \r\nQ 35.546875 27.734375 31.828125 30.65625 \r\nQ 28.125 33.59375 19.921875 34.765625 \r\nL 19.921875 39.84375 \r\nQ 28.125 40.625 31.828125 44.140625 \r\nQ 35.546875 47.65625 35.15625 53.3125 \r\nQ 34.765625 58.984375 30.078125 61.515625 \r\nQ 25.390625 64.0625 20.109375 62.109375 \r\nQ 14.84375 60.15625 11.71875 51.171875 \r\nL 4.6875 52.34375 \r\nQ 7.03125 59.375 11.125 64.0625 \r\nQ 15.234375 68.75 22.265625 69.53125 \r\nQ 29.296875 70.3125 34.5625 67.765625 \r\nQ 39.84375 65.234375 41.984375 59.953125 \r\nQ 44.140625 54.6875 42.578125 48.4375 \r\nQ 41.015625 42.1875 33.59375 37.5 \r\nQ 39.0625 35.15625 41.984375 30.46875 \r\nQ 44.921875 25.78125 43.9375 18.15625 \r\nQ 42.96875 10.546875 37.109375 5.859375 \r\nQ 31.25 1.171875 23.828125 1.359375 \r\nQ 16.40625 1.5625 10.9375 6.046875 \r\nQ 5.46875 10.546875 3.90625 19.140625 \r\nz\r\n\" id=\"SimHei-51\"/>\r\n        <path d=\"M 46.484375 33.203125 \r\nL 1.953125 33.203125 \r\nL 1.953125 39.453125 \r\nL 46.484375 39.453125 \r\nz\r\n\" id=\"SimHei-45\"/>\r\n        <path d=\"M 31.25 17.1875 \r\nL 1.171875 17.1875 \r\nL 1.171875 23.828125 \r\nL 32.8125 69.53125 \r\nL 38.671875 69.53125 \r\nL 38.671875 23.828125 \r\nL 48.046875 23.828125 \r\nL 48.046875 17.1875 \r\nL 38.671875 17.1875 \r\nL 38.671875 2.34375 \r\nL 31.25 2.34375 \r\nz\r\nM 31.25 23.828125 \r\nL 31.25 54.6875 \r\nL 9.375 23.828125 \r\nz\r\n\" id=\"SimHei-52\"/>\r\n       </defs>\r\n       <use xlink:href=\"#SimHei-51\"/>\r\n       <use x=\"50\" xlink:href=\"#SimHei-45\"/>\r\n       <use x=\"100\" xlink:href=\"#SimHei-52\"/>\r\n       <use x=\"150\" xlink:href=\"#SimHei-24180\"/>\r\n       <use x=\"250\" xlink:href=\"#SimHei-32463\"/>\r\n       <use x=\"350\" xlink:href=\"#SimHei-39564\"/>\r\n      </g>\r\n     </g>\r\n    </g>\r\n    <g id=\"xtick_6\">\r\n     <g id=\"line2d_6\">\r\n      <g>\r\n       <use style=\"stroke:#000000;stroke-width:0.8;\" x=\"278.311156\" xlink:href=\"#m3b5db853f5\" y=\"240.343125\"/>\r\n      </g>\r\n     </g>\r\n     <g id=\"text_6\">\r\n      <!-- 5-7年经验 -->\r\n      <g transform=\"translate(260.524803 276.811923)rotate(-30)scale(0.1 -0.1)\">\r\n       <defs>\r\n        <path d=\"M 8.59375 20.703125 \r\nQ 11.328125 10.15625 17.96875 8.984375 \r\nQ 24.609375 7.8125 28.703125 10.34375 \r\nQ 32.8125 12.890625 34.5625 16.984375 \r\nQ 36.328125 21.09375 36.125 26.171875 \r\nQ 35.9375 31.25 33.390625 34.765625 \r\nQ 30.859375 38.28125 26.953125 39.453125 \r\nQ 23.046875 40.625 18.15625 39.453125 \r\nQ 13.28125 38.28125 10.15625 33.984375 \r\nL 3.515625 34.765625 \r\nQ 4.296875 37.109375 10.9375 68.359375 \r\nL 41.796875 68.359375 \r\nL 41.796875 61.328125 \r\nL 16.796875 61.328125 \r\nQ 14.84375 50.78125 12.890625 44.53125 \r\nQ 18.75 47.265625 23.828125 47.0625 \r\nQ 28.90625 46.875 33.59375 44.71875 \r\nQ 38.28125 42.578125 40.421875 38.859375 \r\nQ 42.578125 35.15625 43.546875 31.4375 \r\nQ 44.53125 27.734375 44.328125 23.4375 \r\nQ 44.140625 19.140625 42.578125 14.640625 \r\nQ 41.015625 10.15625 37.890625 7.21875 \r\nQ 34.765625 4.296875 30.265625 2.53125 \r\nQ 25.78125 0.78125 19.921875 1.171875 \r\nQ 14.0625 1.5625 8.78125 5.46875 \r\nQ 3.515625 9.375 1.5625 18.75 \r\nz\r\n\" id=\"SimHei-53\"/>\r\n        <path d=\"M 13.28125 2.34375 \r\nQ 20.3125 32.03125 37.890625 61.328125 \r\nL 4.296875 61.328125 \r\nL 4.296875 68.359375 \r\nL 46.09375 68.359375 \r\nL 46.09375 61.71875 \r\nQ 27.734375 32.03125 21.875 2.34375 \r\nL 13.28125 2.34375 \r\nz\r\n\" id=\"SimHei-55\"/>\r\n       </defs>\r\n       <use xlink:href=\"#SimHei-53\"/>\r\n       <use x=\"50\" xlink:href=\"#SimHei-45\"/>\r\n       <use x=\"100\" xlink:href=\"#SimHei-55\"/>\r\n       <use x=\"150\" xlink:href=\"#SimHei-24180\"/>\r\n       <use x=\"250\" xlink:href=\"#SimHei-32463\"/>\r\n       <use x=\"350\" xlink:href=\"#SimHei-39564\"/>\r\n      </g>\r\n     </g>\r\n    </g>\r\n    <g id=\"xtick_7\">\r\n     <g id=\"line2d_7\">\r\n      <g>\r\n       <use style=\"stroke:#000000;stroke-width:0.8;\" x=\"317.332135\" xlink:href=\"#m3b5db853f5\" y=\"240.343125\"/>\r\n      </g>\r\n     </g>\r\n     <g id=\"text_7\">\r\n      <!-- 8-9年经验 -->\r\n      <g transform=\"translate(299.545782 276.811923)rotate(-30)scale(0.1 -0.1)\">\r\n       <defs>\r\n        <path d=\"M 2.734375 16.796875 \r\nQ 2.734375 26.171875 5.078125 30.65625 \r\nQ 7.421875 35.15625 12.890625 37.890625 \r\nQ 8.203125 40.625 6.640625 43.9375 \r\nQ 5.078125 47.265625 4.875 51.5625 \r\nQ 4.6875 55.859375 6.046875 58.984375 \r\nQ 7.421875 62.109375 10.15625 64.84375 \r\nQ 12.890625 67.578125 16.203125 68.546875 \r\nQ 19.53125 69.53125 23.4375 69.53125 \r\nQ 27.34375 69.53125 30.46875 68.75 \r\nQ 33.59375 67.96875 37.109375 65.421875 \r\nQ 40.625 62.890625 42.1875 58.203125 \r\nQ 43.75 53.515625 41.984375 47.265625 \r\nQ 40.234375 41.015625 32.8125 37.5 \r\nQ 39.453125 35.546875 42.1875 31.4375 \r\nQ 44.921875 27.34375 44.921875 21.484375 \r\nQ 44.921875 15.625 43.15625 12.109375 \r\nQ 41.40625 8.59375 39.25 6.25 \r\nQ 37.109375 3.90625 33.390625 2.53125 \r\nQ 29.6875 1.171875 24.015625 1.171875 \r\nQ 18.359375 1.171875 14.25 2.53125 \r\nQ 10.15625 3.90625 7.421875 6.640625 \r\nQ 4.6875 9.375 3.703125 13.078125 \r\nQ 2.734375 16.796875 2.734375 26.171875 \r\nz\r\nM 10.9375 26.5625 \r\nQ 10.546875 17.1875 12.296875 13.671875 \r\nQ 14.0625 10.15625 18.75 9.171875 \r\nQ 23.4375 8.203125 28.515625 9.375 \r\nQ 33.59375 10.546875 35.546875 14.84375 \r\nQ 37.5 19.140625 36.90625 23.4375 \r\nQ 36.328125 27.734375 32.03125 30.65625 \r\nQ 27.734375 33.59375 22.65625 33.203125 \r\nQ 17.578125 32.8125 14.25 29.6875 \r\nQ 10.9375 26.5625 10.546875 17.1875 \r\nz\r\nM 12.109375 56.25 \r\nQ 12.109375 48.4375 14.84375 44.921875 \r\nQ 17.578125 41.40625 23.4375 41.40625 \r\nQ 29.296875 41.40625 32.21875 44.921875 \r\nQ 35.15625 48.4375 34.953125 53.3125 \r\nQ 34.765625 58.203125 31.4375 60.546875 \r\nQ 28.125 62.890625 22.453125 62.5 \r\nQ 16.796875 62.109375 14.453125 59.171875 \r\nQ 12.109375 56.25 12.109375 48.4375 \r\nz\r\n\" id=\"SimHei-56\"/>\r\n        <path d=\"M 12.5 1.171875 \r\nQ 21.09375 15.625 26.5625 27.34375 \r\nQ 16.796875 25.78125 10.34375 29.875 \r\nQ 3.90625 33.984375 2.53125 41.015625 \r\nQ 1.171875 48.046875 2.734375 53.703125 \r\nQ 4.296875 59.375 7.609375 63.078125 \r\nQ 10.9375 66.796875 15.625 68.359375 \r\nQ 20.3125 69.921875 24.015625 69.921875 \r\nQ 27.734375 69.921875 31.640625 68.359375 \r\nQ 35.546875 66.796875 38.671875 63.671875 \r\nQ 41.796875 60.546875 42.96875 57.21875 \r\nQ 44.140625 53.90625 44.140625 48.625 \r\nQ 44.140625 43.359375 40.234375 35.15625 \r\nQ 36.328125 26.953125 21.09375 1.171875 \r\nz\r\nM 9.765625 50 \r\nQ 10.9375 39.84375 14.640625 36.515625 \r\nQ 18.359375 33.203125 22.65625 33.59375 \r\nQ 26.953125 33.984375 29.484375 35.9375 \r\nQ 32.03125 37.890625 34.375 42.578125 \r\nQ 35.9375 48.4375 35.15625 52.53125 \r\nQ 34.375 56.640625 31.046875 59.375 \r\nQ 27.734375 62.109375 23.828125 62.109375 \r\nQ 21.484375 62.5 17.765625 60.9375 \r\nQ 14.0625 59.375 11.90625 54.6875 \r\nQ 9.765625 50 10.9375 39.84375 \r\nz\r\n\" id=\"SimHei-57\"/>\r\n       </defs>\r\n       <use xlink:href=\"#SimHei-56\"/>\r\n       <use x=\"50\" xlink:href=\"#SimHei-45\"/>\r\n       <use x=\"100\" xlink:href=\"#SimHei-57\"/>\r\n       <use x=\"150\" xlink:href=\"#SimHei-24180\"/>\r\n       <use x=\"250\" xlink:href=\"#SimHei-32463\"/>\r\n       <use x=\"350\" xlink:href=\"#SimHei-39564\"/>\r\n      </g>\r\n     </g>\r\n    </g>\r\n    <g id=\"xtick_8\">\r\n     <g id=\"line2d_8\">\r\n      <g>\r\n       <use style=\"stroke:#000000;stroke-width:0.8;\" x=\"356.353114\" xlink:href=\"#m3b5db853f5\" y=\"240.343125\"/>\r\n      </g>\r\n     </g>\r\n     <g id=\"text_8\">\r\n      <!-- 10年以上经验 -->\r\n      <g transform=\"translate(332.081336 284.345752)rotate(-30)scale(0.1 -0.1)\">\r\n       <defs>\r\n        <path d=\"M 3.125 29.296875 \r\nQ 3.90625 50 6.4375 56.046875 \r\nQ 8.984375 62.109375 13.671875 66.015625 \r\nQ 18.359375 69.921875 25.1875 69.921875 \r\nQ 32.03125 69.921875 37.109375 64.25 \r\nQ 42.1875 58.59375 43.75 50 \r\nQ 45.3125 41.40625 44.71875 30.265625 \r\nQ 44.140625 19.140625 40.8125 12.109375 \r\nQ 37.5 5.078125 30.859375 2.34375 \r\nQ 24.21875 -0.390625 17.578125 2.921875 \r\nQ 10.9375 6.25 8.203125 11.71875 \r\nQ 5.46875 17.1875 4.296875 23.234375 \r\nQ 3.125 29.296875 3.90625 50 \r\nz\r\nM 12.890625 52.734375 \r\nQ 10.546875 31.25 12.5 22.84375 \r\nQ 14.453125 14.453125 18.9375 10.9375 \r\nQ 23.4375 7.421875 28.125 9.5625 \r\nQ 32.8125 11.71875 34.953125 18.15625 \r\nQ 37.109375 24.609375 37.109375 32.21875 \r\nQ 37.109375 39.84375 36.515625 46.09375 \r\nQ 35.9375 52.34375 33 57.421875 \r\nQ 30.078125 62.5 25.1875 62.6875 \r\nQ 20.3125 62.890625 16.59375 57.8125 \r\nQ 12.890625 52.734375 10.546875 31.25 \r\nz\r\n\" id=\"SimHei-48\"/>\r\n        <path d=\"M 84.375 74.609375 \r\nQ 82.421875 69.53125 80.65625 51.171875 \r\nQ 78.90625 32.8125 73.046875 21.09375 \r\nQ 89.0625 5.46875 94.921875 -2.34375 \r\nQ 91.40625 -4.6875 87.890625 -7.8125 \r\nQ 80.859375 2.34375 68.359375 14.0625 \r\nQ 53.125 -2.734375 34.375 -10.9375 \r\nQ 30.46875 -5.078125 28.125 -3.125 \r\nQ 44.921875 1.953125 56.640625 13.28125 \r\nQ 68.359375 24.609375 71.09375 43.9375 \r\nQ 73.828125 63.28125 73.4375 76.953125 \r\nQ 80.078125 75.390625 84.375 74.609375 \r\nz\r\nM 41.40625 33.59375 \r\nQ 44.140625 29.296875 47.265625 26.171875 \r\nQ 34.375 16.40625 16.015625 -2.734375 \r\nQ 12.5 1.171875 10.15625 3.125 \r\nQ 13.28125 7.03125 13.28125 11.71875 \r\nL 13.28125 55.078125 \r\nQ 13.28125 60.9375 12.890625 67.96875 \r\nL 21.875 67.96875 \r\nQ 21.484375 65.234375 21.484375 58.984375 \r\nL 21.484375 13.671875 \r\nQ 32.8125 23.828125 41.40625 33.59375 \r\nz\r\nM 38.28125 78.515625 \r\nQ 42.578125 73.828125 47.265625 68.15625 \r\nQ 51.953125 62.5 57.8125 54.296875 \r\nQ 54.296875 51.953125 50.78125 48.828125 \r\nQ 45.703125 57.8125 32.03125 73.4375 \r\nQ 35.15625 75.390625 38.28125 78.515625 \r\nz\r\n\" id=\"SimHei-20197\"/>\r\n        <path d=\"M 50.78125 79.296875 \r\nQ 50.390625 72.65625 50.390625 66.796875 \r\nL 50.390625 50.390625 \r\nL 72.65625 50.390625 \r\nQ 80.46875 50.390625 87.5 50.78125 \r\nL 87.5 42.1875 \r\nQ 79.6875 42.578125 71.875 42.578125 \r\nL 50.390625 42.578125 \r\nL 50.390625 3.125 \r\nL 81.25 3.125 \r\nQ 87.109375 3.125 94.921875 3.515625 \r\nL 94.921875 -4.6875 \r\nQ 87.5 -4.296875 81.25 -4.296875 \r\nL 19.53125 -4.296875 \r\nQ 13.28125 -4.296875 5.46875 -4.6875 \r\nL 5.46875 3.515625 \r\nQ 12.890625 3.125 19.53125 3.125 \r\nL 42.1875 3.125 \r\nL 42.1875 66.40625 \r\nQ 42.1875 72.265625 41.796875 79.296875 \r\nL 50.78125 79.296875 \r\nz\r\n\" id=\"SimHei-19978\"/>\r\n       </defs>\r\n       <use xlink:href=\"#SimHei-49\"/>\r\n       <use x=\"50\" xlink:href=\"#SimHei-48\"/>\r\n       <use x=\"100\" xlink:href=\"#SimHei-24180\"/>\r\n       <use x=\"200\" xlink:href=\"#SimHei-20197\"/>\r\n       <use x=\"300\" xlink:href=\"#SimHei-19978\"/>\r\n       <use x=\"400\" xlink:href=\"#SimHei-32463\"/>\r\n       <use x=\"500\" xlink:href=\"#SimHei-39564\"/>\r\n      </g>\r\n     </g>\r\n    </g>\r\n    <g id=\"text_9\">\r\n     <!-- 工作经验 -->\r\n     <g transform=\"translate(199.779688 299.946563)scale(0.1 -0.1)\">\r\n      <defs>\r\n       <path d=\"M 69.921875 73.046875 \r\nQ 79.296875 73.046875 87.109375 73.4375 \r\nL 87.109375 65.625 \r\nQ 79.296875 66.015625 69.921875 66.015625 \r\nL 53.90625 66.015625 \r\nL 53.90625 4.296875 \r\nL 79.296875 4.296875 \r\nQ 88.28125 4.296875 95.703125 4.6875 \r\nL 95.703125 -3.125 \r\nQ 88.28125 -2.734375 79.6875 -2.734375 \r\nL 19.140625 -2.734375 \r\nQ 10.546875 -2.734375 4.296875 -3.125 \r\nL 4.296875 4.6875 \r\nQ 10.9375 4.296875 19.53125 4.296875 \r\nL 45.3125 4.296875 \r\nL 45.3125 66.015625 \r\nL 29.6875 66.015625 \r\nQ 19.53125 66.015625 12.109375 65.625 \r\nL 12.109375 73.4375 \r\nQ 19.53125 73.046875 29.6875 73.046875 \r\nz\r\n\" id=\"SimHei-24037\"/>\r\n       <path d=\"M 63.671875 78.90625 \r\nQ 59.765625 75.78125 55.078125 64.0625 \r\nL 80.859375 64.0625 \r\nQ 89.453125 64.0625 94.53125 64.453125 \r\nL 94.53125 57.421875 \r\nQ 89.453125 57.8125 80.859375 57.8125 \r\nL 62.890625 57.8125 \r\nL 62.890625 42.578125 \r\nL 78.90625 42.578125 \r\nQ 85.546875 42.578125 89.84375 42.96875 \r\nL 89.84375 35.546875 \r\nQ 84.765625 35.9375 78.90625 35.9375 \r\nL 62.890625 35.9375 \r\nL 62.890625 18.359375 \r\nL 79.6875 18.359375 \r\nQ 87.5 18.359375 92.578125 18.75 \r\nL 92.578125 11.328125 \r\nQ 87.5 11.71875 80.078125 11.71875 \r\nL 62.890625 11.71875 \r\nL 62.890625 4.296875 \r\nQ 62.890625 -6.640625 63.28125 -10.546875 \r\nL 55.078125 -10.546875 \r\nQ 55.46875 -6.25 55.46875 1.171875 \r\nL 55.46875 57.8125 \r\nL 51.5625 57.8125 \r\nQ 45.703125 47.65625 40.234375 40.234375 \r\nQ 35.9375 44.140625 32.8125 45.3125 \r\nQ 38.28125 50.78125 44.140625 60.9375 \r\nQ 50 71.09375 53.515625 82.8125 \r\nQ 59.375 80.078125 63.671875 78.90625 \r\nz\r\nM 36.328125 77.34375 \r\nQ 32.8125 74.609375 27.34375 60.546875 \r\nL 27.34375 10.546875 \r\nQ 27.34375 -1.953125 27.734375 -9.375 \r\nL 18.75 -9.375 \r\nQ 19.140625 -2.34375 19.140625 10.15625 \r\nL 19.140625 46.875 \r\nQ 13.671875 37.890625 8.59375 31.640625 \r\nQ 5.46875 36.328125 3.125 38.28125 \r\nQ 8.203125 43.75 15.421875 56.4375 \r\nQ 22.65625 69.140625 26.171875 82.421875 \r\nQ 30.46875 79.6875 36.328125 77.34375 \r\nz\r\n\" id=\"SimHei-20316\"/>\r\n      </defs>\r\n      <use xlink:href=\"#SimHei-24037\"/>\r\n      <use x=\"100\" xlink:href=\"#SimHei-20316\"/>\r\n      <use x=\"200\" xlink:href=\"#SimHei-32463\"/>\r\n      <use x=\"300\" xlink:href=\"#SimHei-39564\"/>\r\n     </g>\r\n    </g>\r\n   </g>\r\n   <g id=\"matplotlib.axis_2\">\r\n    <g id=\"ytick_1\">\r\n     <g id=\"line2d_9\">\r\n      <defs>\r\n       <path d=\"M 0 0 \r\nL -3.5 0 \r\n\" id=\"mc711d66258\" style=\"stroke:#000000;stroke-width:0.8;\"/>\r\n      </defs>\r\n      <g>\r\n       <use style=\"stroke:#000000;stroke-width:0.8;\" x=\"52.379688\" xlink:href=\"#mc711d66258\" y=\"240.343125\"/>\r\n      </g>\r\n     </g>\r\n     <g id=\"text_10\">\r\n      <!-- 0 -->\r\n      <g transform=\"translate(40.379688 243.780625)scale(0.1 -0.1)\">\r\n       <use xlink:href=\"#SimHei-48\"/>\r\n      </g>\r\n     </g>\r\n    </g>\r\n    <g id=\"ytick_2\">\r\n     <g id=\"line2d_10\">\r\n      <g>\r\n       <use style=\"stroke:#000000;stroke-width:0.8;\" x=\"52.379688\" xlink:href=\"#mc711d66258\" y=\"208.523902\"/>\r\n      </g>\r\n     </g>\r\n     <g id=\"text_11\">\r\n      <!-- 5000 -->\r\n      <g transform=\"translate(25.379688 211.961402)scale(0.1 -0.1)\">\r\n       <use xlink:href=\"#SimHei-53\"/>\r\n       <use x=\"50\" xlink:href=\"#SimHei-48\"/>\r\n       <use x=\"100\" xlink:href=\"#SimHei-48\"/>\r\n       <use x=\"150\" xlink:href=\"#SimHei-48\"/>\r\n      </g>\r\n     </g>\r\n    </g>\r\n    <g id=\"ytick_3\">\r\n     <g id=\"line2d_11\">\r\n      <g>\r\n       <use style=\"stroke:#000000;stroke-width:0.8;\" x=\"52.379688\" xlink:href=\"#mc711d66258\" y=\"176.704679\"/>\r\n      </g>\r\n     </g>\r\n     <g id=\"text_12\">\r\n      <!-- 10000 -->\r\n      <g transform=\"translate(20.379688 180.142179)scale(0.1 -0.1)\">\r\n       <use xlink:href=\"#SimHei-49\"/>\r\n       <use x=\"50\" xlink:href=\"#SimHei-48\"/>\r\n       <use x=\"100\" xlink:href=\"#SimHei-48\"/>\r\n       <use x=\"150\" xlink:href=\"#SimHei-48\"/>\r\n       <use x=\"200\" xlink:href=\"#SimHei-48\"/>\r\n      </g>\r\n     </g>\r\n    </g>\r\n    <g id=\"ytick_4\">\r\n     <g id=\"line2d_12\">\r\n      <g>\r\n       <use style=\"stroke:#000000;stroke-width:0.8;\" x=\"52.379688\" xlink:href=\"#mc711d66258\" y=\"144.885456\"/>\r\n      </g>\r\n     </g>\r\n     <g id=\"text_13\">\r\n      <!-- 15000 -->\r\n      <g transform=\"translate(20.379688 148.322956)scale(0.1 -0.1)\">\r\n       <use xlink:href=\"#SimHei-49\"/>\r\n       <use x=\"50\" xlink:href=\"#SimHei-53\"/>\r\n       <use x=\"100\" xlink:href=\"#SimHei-48\"/>\r\n       <use x=\"150\" xlink:href=\"#SimHei-48\"/>\r\n       <use x=\"200\" xlink:href=\"#SimHei-48\"/>\r\n      </g>\r\n     </g>\r\n    </g>\r\n    <g id=\"ytick_5\">\r\n     <g id=\"line2d_13\">\r\n      <g>\r\n       <use style=\"stroke:#000000;stroke-width:0.8;\" x=\"52.379688\" xlink:href=\"#mc711d66258\" y=\"113.066233\"/>\r\n      </g>\r\n     </g>\r\n     <g id=\"text_14\">\r\n      <!-- 20000 -->\r\n      <g transform=\"translate(20.379688 116.503733)scale(0.1 -0.1)\">\r\n       <use xlink:href=\"#SimHei-50\"/>\r\n       <use x=\"50\" xlink:href=\"#SimHei-48\"/>\r\n       <use x=\"100\" xlink:href=\"#SimHei-48\"/>\r\n       <use x=\"150\" xlink:href=\"#SimHei-48\"/>\r\n       <use x=\"200\" xlink:href=\"#SimHei-48\"/>\r\n      </g>\r\n     </g>\r\n    </g>\r\n    <g id=\"ytick_6\">\r\n     <g id=\"line2d_14\">\r\n      <g>\r\n       <use style=\"stroke:#000000;stroke-width:0.8;\" x=\"52.379688\" xlink:href=\"#mc711d66258\" y=\"81.24701\"/>\r\n      </g>\r\n     </g>\r\n     <g id=\"text_15\">\r\n      <!-- 25000 -->\r\n      <g transform=\"translate(20.379688 84.68451)scale(0.1 -0.1)\">\r\n       <use xlink:href=\"#SimHei-50\"/>\r\n       <use x=\"50\" xlink:href=\"#SimHei-53\"/>\r\n       <use x=\"100\" xlink:href=\"#SimHei-48\"/>\r\n       <use x=\"150\" xlink:href=\"#SimHei-48\"/>\r\n       <use x=\"200\" xlink:href=\"#SimHei-48\"/>\r\n      </g>\r\n     </g>\r\n    </g>\r\n    <g id=\"ytick_7\">\r\n     <g id=\"line2d_15\">\r\n      <g>\r\n       <use style=\"stroke:#000000;stroke-width:0.8;\" x=\"52.379688\" xlink:href=\"#mc711d66258\" y=\"49.427787\"/>\r\n      </g>\r\n     </g>\r\n     <g id=\"text_16\">\r\n      <!-- 30000 -->\r\n      <g transform=\"translate(20.379688 52.865287)scale(0.1 -0.1)\">\r\n       <use xlink:href=\"#SimHei-51\"/>\r\n       <use x=\"50\" xlink:href=\"#SimHei-48\"/>\r\n       <use x=\"100\" xlink:href=\"#SimHei-48\"/>\r\n       <use x=\"150\" xlink:href=\"#SimHei-48\"/>\r\n       <use x=\"200\" xlink:href=\"#SimHei-48\"/>\r\n      </g>\r\n     </g>\r\n    </g>\r\n    <g id=\"text_17\">\r\n     <!-- 平均薪资 -->\r\n     <g transform=\"translate(15.129688 151.623125)rotate(-90)scale(0.1 -0.1)\">\r\n      <defs>\r\n       <path d=\"M 70.703125 75.390625 \r\nQ 76.5625 75.390625 85.15625 75.78125 \r\nL 85.15625 68.359375 \r\nQ 76.953125 68.75 70.703125 68.75 \r\nL 54.296875 68.75 \r\nL 54.296875 31.640625 \r\nL 78.125 31.640625 \r\nQ 86.71875 31.640625 94.140625 32.03125 \r\nL 94.140625 24.609375 \r\nQ 86.71875 25 78.125 25 \r\nL 54.296875 25 \r\nL 54.296875 7.03125 \r\nQ 54.296875 -1.5625 54.6875 -9.375 \r\nL 45.703125 -9.375 \r\nQ 46.09375 -1.5625 46.09375 7.03125 \r\nL 46.09375 25 \r\nL 17.578125 25 \r\nQ 12.109375 25 5.859375 24.609375 \r\nL 5.859375 32.03125 \r\nQ 12.109375 31.640625 18.359375 31.640625 \r\nL 46.09375 31.640625 \r\nL 46.09375 68.75 \r\nL 27.734375 68.75 \r\nQ 21.875 68.75 13.671875 68.359375 \r\nL 13.671875 75.78125 \r\nQ 21.875 75.390625 27.34375 75.390625 \r\nz\r\nM 61.328125 40.625 \r\nQ 70.3125 51.5625 76.5625 64.453125 \r\nQ 80.46875 61.71875 84.375 59.765625 \r\nQ 74.609375 44.53125 67.96875 35.9375 \r\nQ 64.84375 38.671875 61.328125 40.625 \r\nz\r\nM 30.859375 36.71875 \r\nQ 25 48.4375 16.40625 58.203125 \r\nQ 19.53125 60.546875 22.65625 63.28125 \r\nQ 32.421875 51.5625 38.28125 42.578125 \r\nQ 33.59375 39.0625 30.859375 36.71875 \r\nz\r\n\" id=\"SimHei-24179\"/>\r\n       <path d=\"M 90.234375 4.296875 \r\nQ 90.234375 -5.078125 83.78125 -7.03125 \r\nQ 77.34375 -8.984375 69.140625 -9.375 \r\nQ 68.359375 -4.296875 66.40625 0.390625 \r\nQ 77.34375 -0.390625 80.078125 0.96875 \r\nQ 82.8125 2.34375 82.8125 7.8125 \r\nL 83.984375 57.8125 \r\nL 55.46875 57.8125 \r\nQ 53.515625 52.734375 50.96875 47.453125 \r\nQ 48.4375 42.1875 45.703125 37.5 \r\nQ 41.796875 39.84375 38.671875 41.015625 \r\nQ 49.21875 56.640625 54.6875 81.25 \r\nQ 59.375 79.6875 63.671875 78.515625 \r\nQ 62.109375 76.171875 60.546875 72.65625 \r\nQ 58.984375 69.140625 57.421875 64.453125 \r\nL 92.1875 64.453125 \r\nL 90.234375 4.296875 \r\nz\r\nM 19.53125 56.640625 \r\nL 19.53125 68.359375 \r\nQ 19.53125 74.609375 19.140625 79.6875 \r\nL 27.734375 79.6875 \r\nQ 27.34375 73.828125 27.34375 68.359375 \r\nL 27.34375 56.640625 \r\nL 29.6875 56.640625 \r\nQ 34.375 56.640625 39.453125 57.03125 \r\nL 39.453125 49.21875 \r\nQ 34.375 49.609375 29.6875 49.609375 \r\nL 27.34375 49.609375 \r\nL 27.34375 17.1875 \r\nL 39.0625 21.484375 \r\nQ 38.671875 17.578125 39.453125 14.0625 \r\nQ 19.140625 7.421875 15.03125 5.65625 \r\nQ 10.9375 3.90625 7.421875 2.34375 \r\nQ 5.859375 7.421875 3.90625 11.71875 \r\nQ 8.984375 12.5 12.5 13.28125 \r\nQ 16.015625 14.0625 19.53125 15.234375 \r\nL 19.53125 49.609375 \r\nL 17.578125 49.609375 \r\nQ 13.28125 49.609375 6.25 49.21875 \r\nL 6.25 57.03125 \r\nQ 13.28125 56.640625 17.1875 56.640625 \r\nz\r\nM 77.34375 25.390625 \r\nQ 73.046875 22.265625 64.640625 16.40625 \r\nQ 56.25 10.546875 49.609375 4.6875 \r\nQ 46.875 8.984375 44.53125 12.109375 \r\nQ 52.34375 16.40625 58.78125 20.703125 \r\nQ 65.234375 25 74.609375 32.421875 \r\nQ 75.390625 28.90625 77.34375 25.390625 \r\nz\r\nM 58.984375 49.21875 \r\nQ 64.453125 43.75 69.921875 35.9375 \r\nQ 66.40625 33.203125 64.0625 30.859375 \r\nQ 60.9375 36.328125 53.90625 44.140625 \r\nQ 56.25 46.875 58.984375 49.21875 \r\nz\r\n\" id=\"SimHei-22343\"/>\r\n       <path d=\"M 93.75 51.953125 \r\nQ 89.0625 51.5625 80.265625 50.578125 \r\nQ 71.484375 49.609375 65.625 48.828125 \r\nL 65.625 35.15625 \r\nL 80.859375 35.15625 \r\nQ 88.671875 35.15625 95.3125 35.546875 \r\nL 95.3125 28.90625 \r\nQ 89.0625 29.296875 83.59375 29.296875 \r\nL 83.59375 7.421875 \r\nQ 83.59375 -0.78125 83.984375 -8.984375 \r\nL 76.171875 -8.984375 \r\nQ 76.5625 -0.78125 76.5625 7.8125 \r\nL 76.5625 29.296875 \r\nL 65.625 29.296875 \r\nQ 65.625 24.609375 64.84375 19.140625 \r\nQ 64.0625 13.671875 62.890625 8.59375 \r\nQ 61.71875 3.515625 59.953125 -1.171875 \r\nQ 58.203125 -5.859375 54.6875 -10.546875 \r\nQ 51.5625 -8.59375 47.65625 -6.640625 \r\nQ 52.34375 -0.78125 54.484375 5.65625 \r\nQ 56.640625 12.109375 57.421875 18.15625 \r\nQ 58.203125 24.21875 58.203125 35.9375 \r\nQ 58.203125 48.046875 57.8125 54.296875 \r\nQ 63.28125 54.296875 73.046875 55.46875 \r\nQ 82.8125 56.640625 88.671875 58.984375 \r\nQ 89.84375 55.46875 93.75 51.953125 \r\nz\r\nM 21.09375 46.09375 \r\nQ 23.046875 43.359375 26.171875 38.28125 \r\nQ 24.21875 37.109375 21.484375 35.15625 \r\nL 34.765625 35.15625 \r\nQ 35.546875 37.890625 36.125 40.03125 \r\nQ 36.71875 42.1875 37.5 46.09375 \r\nQ 40.625 44.921875 45.703125 43.359375 \r\nQ 42.1875 39.453125 40.625 35.15625 \r\nQ 47.65625 35.15625 53.90625 35.546875 \r\nL 53.90625 28.90625 \r\nQ 46.09375 29.296875 39.453125 29.296875 \r\nL 35.546875 29.296875 \r\nL 35.546875 22.265625 \r\nL 38.671875 22.265625 \r\nQ 45.3125 22.265625 52.734375 22.65625 \r\nL 52.734375 16.015625 \r\nQ 45.703125 16.40625 39.0625 16.40625 \r\nL 35.546875 16.40625 \r\nL 35.546875 0.390625 \r\nQ 35.546875 -6.25 33.390625 -7.609375 \r\nQ 31.25 -8.984375 22.265625 -10.546875 \r\nQ 21.09375 -6.25 19.140625 -2.34375 \r\nQ 24.609375 -2.34375 26.5625 -2.140625 \r\nQ 28.515625 -1.953125 28.515625 0.78125 \r\nL 28.515625 16.40625 \r\nL 24.609375 16.40625 \r\nQ 15.234375 16.40625 8.984375 16.015625 \r\nL 8.984375 22.65625 \r\nQ 15.234375 22.265625 24.21875 22.265625 \r\nL 28.515625 22.265625 \r\nL 28.515625 29.296875 \r\nL 18.359375 29.296875 \r\nQ 12.5 29.296875 5.46875 28.90625 \r\nL 5.46875 35.546875 \r\nQ 12.5 35.15625 18.359375 35.15625 \r\nL 20.3125 35.15625 \r\nQ 18.359375 38.671875 16.015625 41.796875 \r\nQ 17.96875 44.140625 21.09375 46.09375 \r\nz\r\nM 31.25 73.4375 \r\nQ 31.25 76.171875 30.859375 80.859375 \r\nL 39.0625 80.859375 \r\nQ 38.28125 76.171875 38.28125 73.4375 \r\nL 59.765625 73.4375 \r\nQ 59.765625 76.5625 59.375 81.25 \r\nL 67.578125 81.25 \r\nQ 66.796875 76.5625 66.796875 73.4375 \r\nL 83.984375 73.4375 \r\nQ 89.84375 73.4375 95.703125 73.828125 \r\nL 95.703125 67.578125 \r\nQ 89.84375 67.96875 83.984375 67.96875 \r\nL 66.796875 67.96875 \r\nQ 66.796875 66.015625 67.1875 60.9375 \r\nL 59.765625 60.9375 \r\nL 59.765625 67.96875 \r\nL 38.28125 67.96875 \r\nL 38.28125 60.9375 \r\nL 30.859375 60.9375 \r\nQ 31.25 65.234375 31.25 67.96875 \r\nL 16.015625 67.96875 \r\nQ 10.15625 67.96875 4.296875 67.578125 \r\nL 4.296875 73.828125 \r\nQ 10.15625 73.4375 16.015625 73.4375 \r\nz\r\nM 29.296875 62.5 \r\nQ 32.8125 57.421875 35.15625 52.734375 \r\nL 38.671875 52.734375 \r\nQ 45.3125 52.734375 51.953125 53.125 \r\nL 51.953125 46.875 \r\nQ 45.703125 47.265625 38.671875 47.265625 \r\nL 21.484375 47.265625 \r\nQ 14.0625 47.265625 7.421875 46.875 \r\nL 7.421875 53.125 \r\nQ 14.0625 52.734375 21.09375 52.734375 \r\nL 26.953125 52.734375 \r\nQ 25.390625 57.03125 23.046875 59.765625 \r\nQ 26.171875 60.546875 29.296875 62.5 \r\nz\r\nM 24.21875 10.15625 \r\nQ 20.703125 7.8125 18.546875 4.875 \r\nQ 16.40625 1.953125 10.546875 -3.90625 \r\nQ 7.8125 -1.5625 4.6875 0.390625 \r\nQ 8.59375 3.125 11.515625 6.4375 \r\nQ 14.453125 9.765625 16.796875 14.453125 \r\nQ 19.140625 12.5 24.21875 10.15625 \r\nz\r\nM 44.921875 12.890625 \r\nQ 46.484375 10.9375 48.4375 8.59375 \r\nQ 50.390625 6.25 51.953125 3.515625 \r\nQ 49.609375 1.953125 46.875 -0.390625 \r\nQ 44.921875 2.734375 42.96875 5.078125 \r\nQ 41.015625 7.421875 39.0625 8.984375 \r\nQ 41.40625 10.9375 44.921875 12.890625 \r\nz\r\n\" id=\"SimHei-34218\"/>\r\n       <path d=\"M 82.8125 33.59375 \r\nQ 82.421875 28.515625 82.421875 22.65625 \r\nQ 82.421875 16.796875 82.8125 8.984375 \r\nL 75 8.984375 \r\nL 75 26.953125 \r\nL 26.5625 26.953125 \r\nL 26.5625 6.640625 \r\nL 18.75 6.640625 \r\nQ 19.140625 15.625 19.140625 21.484375 \r\nQ 19.140625 27.734375 18.75 33.59375 \r\nL 82.8125 33.59375 \r\nz\r\nM 66.015625 63.671875 \r\nQ 63.28125 58.984375 65.625 55.65625 \r\nQ 67.96875 52.34375 72.0625 49.40625 \r\nQ 76.171875 46.484375 82.21875 44.53125 \r\nQ 88.28125 42.578125 95.703125 42.1875 \r\nQ 92.578125 37.890625 91.015625 33.984375 \r\nQ 81.25 35.9375 73.625 39.84375 \r\nQ 66.015625 43.75 60.9375 52.34375 \r\nQ 57.421875 43.359375 50.78125 39.84375 \r\nQ 44.140625 36.328125 36.328125 33.984375 \r\nQ 33.203125 37.5 30.078125 40.234375 \r\nQ 46.484375 43.359375 51.5625 49.609375 \r\nQ 56.640625 55.859375 57.03125 64.84375 \r\nL 66.015625 63.671875 \r\nz\r\nM 48.828125 66.40625 \r\nQ 44.140625 60.15625 39.84375 57.03125 \r\nQ 37.109375 59.765625 33.984375 61.71875 \r\nQ 38.671875 64.84375 42.765625 70.109375 \r\nQ 46.875 75.390625 49.21875 81.25 \r\nQ 52.734375 79.6875 57.8125 78.90625 \r\nQ 55.859375 75.390625 53.125 72.65625 \r\nL 89.84375 72.65625 \r\nQ 88.671875 70.3125 82.8125 57.421875 \r\nQ 78.125 58.59375 75 58.984375 \r\nQ 76.953125 63.28125 78.515625 66.40625 \r\nL 48.828125 66.40625 \r\nz\r\nM 55.078125 21.484375 \r\nQ 53.125 17.1875 52.140625 12.890625 \r\nQ 51.171875 8.59375 47.0625 4.09375 \r\nQ 42.96875 -0.390625 35.15625 -4.296875 \r\nQ 27.34375 -8.203125 12.5 -10.546875 \r\nQ 11.328125 -6.640625 7.8125 -3.125 \r\nQ 19.140625 -2.734375 26.75 -0.1875 \r\nQ 34.375 2.34375 38.28125 5.46875 \r\nQ 42.1875 8.59375 43.9375 13.078125 \r\nQ 45.703125 17.578125 45.703125 22.65625 \r\nQ 50.390625 21.875 55.078125 21.484375 \r\nz\r\nM 59.765625 10.9375 \r\nQ 67.1875 8.203125 74.21875 5.46875 \r\nQ 81.25 2.734375 91.015625 -1.5625 \r\nQ 88.671875 -4.6875 86.71875 -9.375 \r\nQ 79.296875 -5.078125 72.0625 -1.953125 \r\nQ 64.84375 1.171875 56.640625 3.90625 \r\nQ 58.59375 7.03125 59.765625 10.9375 \r\nz\r\nM 32.421875 51.953125 \r\nQ 22.65625 42.96875 13.671875 32.03125 \r\nQ 9.765625 36.328125 7.421875 37.890625 \r\nQ 19.921875 47.65625 26.953125 56.640625 \r\nQ 28.90625 54.6875 32.421875 51.953125 \r\nz\r\nM 26.5625 62.109375 \r\nQ 20.3125 66.796875 9.765625 73.046875 \r\nQ 12.5 75.78125 14.453125 78.515625 \r\nQ 17.96875 76.171875 31.25 67.96875 \r\nQ 28.90625 65.625 26.5625 62.109375 \r\nz\r\n\" id=\"SimHei-36164\"/>\r\n      </defs>\r\n      <use xlink:href=\"#SimHei-24179\"/>\r\n      <use x=\"100\" xlink:href=\"#SimHei-22343\"/>\r\n      <use x=\"200\" xlink:href=\"#SimHei-34218\"/>\r\n      <use x=\"300\" xlink:href=\"#SimHei-36164\"/>\r\n     </g>\r\n    </g>\r\n   </g>\r\n   <g id=\"patch_11\">\r\n    <path d=\"M 52.379688 240.343125 \r\nL 52.379688 22.903125 \r\n\" style=\"fill:none;stroke:#000000;stroke-linecap:square;stroke-linejoin:miter;stroke-width:0.8;\"/>\r\n   </g>\r\n   <g id=\"patch_12\">\r\n    <path d=\"M 387.179688 240.343125 \r\nL 387.179688 22.903125 \r\n\" style=\"fill:none;stroke:#000000;stroke-linecap:square;stroke-linejoin:miter;stroke-width:0.8;\"/>\r\n   </g>\r\n   <g id=\"patch_13\">\r\n    <path d=\"M 52.379688 240.343125 \r\nL 387.179688 240.343125 \r\n\" style=\"fill:none;stroke:#000000;stroke-linecap:square;stroke-linejoin:miter;stroke-width:0.8;\"/>\r\n   </g>\r\n   <g id=\"patch_14\">\r\n    <path d=\"M 52.379688 22.903125 \r\nL 387.179688 22.903125 \r\n\" style=\"fill:none;stroke:#000000;stroke-linecap:square;stroke-linejoin:miter;stroke-width:0.8;\"/>\r\n   </g>\r\n   <g id=\"text_18\">\r\n    <!-- 工作经验和薪资关系对比 -->\r\n    <g transform=\"translate(153.779688 16.903125)scale(0.12 -0.12)\">\r\n     <defs>\r\n      <path d=\"M 91.796875 65.625 \r\nQ 91.40625 57.8125 91.40625 51.171875 \r\nL 91.40625 10.9375 \r\nQ 91.40625 3.90625 91.796875 -0.390625 \r\nL 83.984375 -0.390625 \r\nL 83.984375 8.984375 \r\nL 65.234375 8.984375 \r\nL 65.234375 -1.171875 \r\nL 57.8125 -1.171875 \r\nQ 58.203125 7.8125 58.203125 9.765625 \r\nL 58.203125 51.171875 \r\nQ 58.203125 57.8125 57.8125 65.625 \r\nL 91.796875 65.625 \r\nz\r\nM 51.171875 69.53125 \r\nQ 47.65625 69.53125 35.15625 67.578125 \r\nL 35.15625 50 \r\nL 41.015625 50 \r\nQ 46.875 50 53.515625 50.390625 \r\nL 53.515625 43.359375 \r\nQ 46.875 43.75 41.40625 43.75 \r\nL 35.15625 43.75 \r\nL 35.15625 3.515625 \r\nQ 35.15625 -3.125 35.546875 -8.59375 \r\nL 27.734375 -8.59375 \r\nQ 28.125 -2.34375 28.125 3.515625 \r\nL 28.125 28.90625 \r\nQ 22.265625 17.96875 10.546875 3.90625 \r\nQ 8.59375 6.640625 4.296875 9.375 \r\nQ 12.890625 17.578125 19.328125 28.3125 \r\nQ 25.78125 39.0625 26.5625 43.75 \r\nL 19.53125 43.75 \r\nQ 10.9375 43.75 7.03125 43.359375 \r\nL 7.03125 50.390625 \r\nQ 11.328125 50 19.53125 50 \r\nL 28.125 50 \r\nL 28.125 66.40625 \r\nQ 23.046875 65.625 12.109375 64.453125 \r\nQ 11.328125 68.359375 9.765625 71.484375 \r\nQ 17.1875 71.875 28.515625 73.4375 \r\nQ 39.84375 75 47.65625 78.125 \r\nQ 48.4375 73.828125 51.171875 69.53125 \r\nz\r\nM 83.984375 15.234375 \r\nL 83.984375 58.984375 \r\nL 65.234375 58.984375 \r\nL 65.234375 15.234375 \r\nz\r\nM 48.046875 15.625 \r\nQ 42.96875 25.390625 36.328125 32.8125 \r\nQ 38.671875 34.375 42.1875 37.5 \r\nQ 49.609375 29.296875 54.6875 20.703125 \r\nQ 50.78125 18.359375 48.046875 15.625 \r\nz\r\n\" id=\"SimHei-21644\"/>\r\n      <path d=\"M 73.046875 75.78125 \r\nQ 70.703125 73.046875 68.15625 68.359375 \r\nQ 65.625 63.671875 63.671875 59.765625 \r\nL 72.265625 59.765625 \r\nQ 80.46875 59.765625 86.71875 60.15625 \r\nL 86.71875 52.734375 \r\nQ 81.640625 53.125 73.4375 53.125 \r\nL 53.125 53.125 \r\nL 53.125 33.59375 \r\nL 77.734375 33.59375 \r\nQ 85.546875 33.59375 91.796875 33.984375 \r\nL 91.796875 26.5625 \r\nQ 85.546875 26.953125 78.515625 26.953125 \r\nL 54.6875 26.953125 \r\nQ 66.40625 7.03125 93.75 1.171875 \r\nQ 90.234375 -2.734375 87.5 -8.203125 \r\nQ 62.890625 0 50.390625 20.3125 \r\nQ 43.75 3.125 13.671875 -9.375 \r\nQ 12.109375 -5.46875 7.8125 -2.34375 \r\nQ 37.890625 5.859375 44.921875 26.953125 \r\nL 24.21875 26.953125 \r\nQ 15.234375 26.953125 9.375 26.5625 \r\nL 9.375 33.59375 \r\nQ 13.671875 33.203125 22.65625 33.203125 \r\nL 45.703125 33.203125 \r\nL 45.703125 53.125 \r\nL 27.34375 53.125 \r\nQ 19.921875 53.125 14.0625 52.734375 \r\nL 14.0625 60.15625 \r\nQ 19.921875 59.765625 27.734375 59.765625 \r\nL 55.859375 59.765625 \r\nQ 61.328125 72.265625 63.671875 80.46875 \r\nQ 67.578125 78.125 73.046875 75.78125 \r\nz\r\nM 33.203125 80.078125 \r\nQ 38.28125 73.828125 43.75 65.234375 \r\nQ 39.0625 62.890625 36.328125 60.546875 \r\nQ 31.640625 69.53125 26.953125 75.390625 \r\nQ 30.46875 77.734375 33.203125 80.078125 \r\nz\r\n\" id=\"SimHei-20851\"/>\r\n      <path d=\"M 82.8125 81.25 \r\nQ 85.15625 77.34375 89.453125 73.046875 \r\nQ 77.734375 72.65625 69.328125 71.671875 \r\nQ 60.9375 70.703125 48.828125 69.53125 \r\nQ 50.78125 67.578125 54.296875 66.015625 \r\nQ 49.21875 62.890625 44.328125 58.78125 \r\nQ 39.453125 54.6875 34.765625 51.171875 \r\nL 54.296875 51.171875 \r\nQ 64.0625 57.8125 70.703125 63.28125 \r\nQ 74.609375 60.15625 80.078125 57.8125 \r\nQ 74.609375 55.46875 69.53125 52.734375 \r\nQ 64.453125 50 52.921875 42.765625 \r\nQ 41.40625 35.546875 33.203125 30.859375 \r\nQ 56.25 32.03125 76.171875 32.8125 \r\nQ 74.21875 34.765625 66.015625 41.015625 \r\nQ 69.921875 42.578125 72.65625 44.921875 \r\nQ 77.34375 41.40625 83.390625 36.125 \r\nQ 89.453125 30.859375 94.921875 25.78125 \r\nQ 90.234375 23.046875 87.5 20.703125 \r\nQ 84.375 24.609375 81.640625 26.953125 \r\nQ 71.09375 26.5625 56.640625 25.78125 \r\nL 56.640625 2.34375 \r\nQ 56.640625 -5.078125 52.921875 -6.4375 \r\nQ 49.21875 -7.8125 39.453125 -9.375 \r\nQ 38.671875 -4.6875 35.9375 -0.390625 \r\nQ 44.921875 -0.390625 47.0625 0.1875 \r\nQ 49.21875 0.78125 49.21875 4.6875 \r\nL 49.21875 25.78125 \r\nQ 25.390625 25.390625 16.796875 23.828125 \r\nQ 15.625 27.734375 14.0625 32.03125 \r\nQ 22.65625 32.8125 29.296875 35.9375 \r\nQ 35.9375 39.0625 45.3125 45.3125 \r\nQ 36.328125 45.3125 31.828125 44.921875 \r\nQ 27.34375 44.53125 21.875 43.75 \r\nQ 20.703125 48.046875 19.53125 51.953125 \r\nQ 26.171875 51.953125 32.8125 57.21875 \r\nQ 39.453125 62.5 42.96875 68.75 \r\nQ 21.09375 67.96875 14.453125 67.1875 \r\nQ 13.28125 71.09375 11.71875 74.21875 \r\nQ 33.59375 74.21875 50.78125 75.78125 \r\nQ 67.96875 77.34375 82.8125 81.25 \r\nz\r\nM 72.265625 19.53125 \r\nQ 76.953125 16.015625 83.203125 11.515625 \r\nQ 89.453125 7.03125 93.75 2.734375 \r\nQ 90.625 0 87.5 -3.515625 \r\nQ 82.421875 1.953125 76.953125 6.25 \r\nQ 71.484375 10.546875 66.796875 13.671875 \r\nQ 70.3125 16.40625 72.265625 19.53125 \r\nz\r\nM 34.375 13.671875 \r\nQ 29.6875 11.328125 24.015625 5.859375 \r\nQ 18.359375 0.390625 12.5 -4.6875 \r\nQ 8.984375 -1.171875 5.859375 0.390625 \r\nQ 16.796875 7.03125 26.171875 19.140625 \r\nQ 29.6875 16.40625 34.375 13.671875 \r\nz\r\n\" id=\"SimHei-31995\"/>\r\n      <path d=\"M 8.203125 66.40625 \r\nQ 14.0625 66.015625 21.875 66.015625 \r\nL 44.140625 66.015625 \r\nQ 40.234375 41.015625 34.375 27.34375 \r\nQ 44.140625 13.671875 48.828125 6.25 \r\nQ 46.09375 4.296875 42.578125 1.171875 \r\nQ 34.375 15.234375 30.46875 20.3125 \r\nQ 25.78125 12.109375 21.09375 6.640625 \r\nQ 16.40625 1.171875 9.375 -5.46875 \r\nQ 6.640625 -1.953125 3.125 -0.390625 \r\nQ 9.765625 4.296875 15.234375 10.546875 \r\nQ 20.703125 16.796875 25.78125 26.5625 \r\nQ 16.40625 37.890625 8.59375 45.3125 \r\nQ 10.9375 47.265625 14.0625 50.390625 \r\nQ 25.390625 37.890625 29.296875 33.59375 \r\nQ 34.375 47.65625 35.9375 59.765625 \r\nL 21.875 59.765625 \r\nQ 14.0625 59.765625 8.203125 59.375 \r\nz\r\nM 45.703125 57.8125 \r\nQ 55.078125 57.421875 58.59375 57.421875 \r\nL 75.390625 57.421875 \r\nL 75.390625 69.140625 \r\nQ 75.390625 74.21875 74.609375 80.078125 \r\nL 83.59375 80.078125 \r\nQ 83.203125 75.390625 83.203125 68.359375 \r\nL 83.203125 57.421875 \r\nQ 87.109375 57.421875 96.09375 57.8125 \r\nL 96.09375 50.78125 \r\nQ 87.109375 51.171875 83.203125 51.171875 \r\nL 83.203125 1.953125 \r\nQ 83.59375 -5.46875 78.3125 -7.421875 \r\nQ 73.046875 -9.375 66.40625 -10.15625 \r\nQ 65.234375 -5.46875 62.890625 -1.5625 \r\nQ 71.484375 -1.5625 73.625 -0.578125 \r\nQ 75.78125 0.390625 75.390625 5.078125 \r\nL 75.390625 51.171875 \r\nL 58.984375 51.171875 \r\nQ 55.46875 51.171875 45.703125 50.390625 \r\nz\r\nM 53.90625 42.578125 \r\nQ 60.546875 30.859375 65.234375 20.703125 \r\nQ 60.15625 18.75 57.8125 16.796875 \r\nQ 54.296875 27.34375 47.65625 38.671875 \r\nQ 50.390625 39.84375 53.90625 42.578125 \r\nz\r\n\" id=\"SimHei-23545\"/>\r\n      <path d=\"M 58.984375 79.6875 \r\nQ 58.59375 71.484375 58.59375 64.0625 \r\nL 58.59375 47.65625 \r\nQ 76.953125 56.25 85.546875 65.234375 \r\nQ 88.671875 60.9375 92.1875 57.421875 \r\nQ 87.5 54.6875 78.703125 49.796875 \r\nQ 69.921875 44.921875 58.59375 39.84375 \r\nL 58.59375 7.03125 \r\nQ 58.59375 1.5625 63.28125 1.5625 \r\nL 78.125 1.5625 \r\nQ 80.859375 1.5625 82.21875 3.90625 \r\nQ 83.59375 6.25 85.15625 14.0625 \r\nQ 88.28125 12.109375 94.140625 10.546875 \r\nQ 91.40625 0 88.28125 -2.734375 \r\nQ 85.15625 -5.46875 81.640625 -5.46875 \r\nL 60.9375 -5.46875 \r\nQ 50.78125 -5.46875 50.78125 4.296875 \r\nL 50.78125 62.5 \r\nQ 50.78125 71.09375 50.390625 79.6875 \r\nL 58.984375 79.6875 \r\nz\r\nM 19.921875 77.734375 \r\nQ 19.53125 71.484375 19.53125 62.5 \r\nL 19.53125 49.21875 \r\nL 28.90625 49.21875 \r\nQ 36.328125 49.21875 44.921875 49.609375 \r\nL 44.921875 41.40625 \r\nQ 36.328125 41.796875 28.90625 41.796875 \r\nL 19.53125 41.796875 \r\nL 19.53125 7.421875 \r\nQ 25.78125 10.15625 30.65625 12.6875 \r\nQ 35.546875 15.234375 44.53125 19.921875 \r\nQ 45.3125 14.84375 46.09375 11.71875 \r\nQ 37.109375 7.421875 27.53125 2.734375 \r\nQ 17.96875 -1.953125 14.453125 -5.078125 \r\nQ 11.71875 -1.5625 8.984375 3.125 \r\nQ 10.9375 4.6875 11.71875 9.375 \r\nL 11.71875 61.71875 \r\nQ 11.71875 71.09375 11.328125 77.734375 \r\nL 19.921875 77.734375 \r\nz\r\n\" id=\"SimHei-27604\"/>\r\n     </defs>\r\n     <use xlink:href=\"#SimHei-24037\"/>\r\n     <use x=\"100\" xlink:href=\"#SimHei-20316\"/>\r\n     <use x=\"200\" xlink:href=\"#SimHei-32463\"/>\r\n     <use x=\"300\" xlink:href=\"#SimHei-39564\"/>\r\n     <use x=\"400\" xlink:href=\"#SimHei-21644\"/>\r\n     <use x=\"500\" xlink:href=\"#SimHei-34218\"/>\r\n     <use x=\"600\" xlink:href=\"#SimHei-36164\"/>\r\n     <use x=\"700\" xlink:href=\"#SimHei-20851\"/>\r\n     <use x=\"800\" xlink:href=\"#SimHei-31995\"/>\r\n     <use x=\"900\" xlink:href=\"#SimHei-23545\"/>\r\n     <use x=\"1000\" xlink:href=\"#SimHei-27604\"/>\r\n    </g>\r\n   </g>\r\n  </g>\r\n </g>\r\n <defs>\r\n  <clipPath id=\"p7c78a5c425\">\r\n   <rect height=\"217.44\" width=\"334.8\" x=\"52.379688\" y=\"22.903125\"/>\r\n  </clipPath>\r\n </defs>\r\n</svg>\r\n"
     },
     "metadata": {
      "needs_background": "light"
     }
    }
   ],
   "source": [
    "df_x = jobs_info['salary'].groupby(jobs_info['job_EXP_require']).mean()\n",
    "\n",
    "# 1. 绘制画布\n",
    "plt.figure(figsize=(6,4),dpi=100)\n",
    "\n",
    "# 2. 图像绘制\n",
    "plt.bar(x=df_x.sort_values().index,height=df_x.sort_values())\n",
    "\n",
    "# 2.1 添加网格\n",
    "# plt.grid(True,linestyle=\"--\",alpha=0.5)\n",
    "\n",
    "# 2.2 添加xy轴标题\n",
    "plt.xlabel(\"工作经验\")\n",
    "plt.ylabel(\"平均薪资\")\n",
    "plt.title(\"工作经验和薪资关系对比\")\n",
    "plt.xticks(rotation = 30)\n",
    "# 3. 展示图像\n",
    "plt.show()"
   ]
  },
  {
   "source": [
    "随着工作经验要求的提高，薪资水平逐步提升，且经验达到5年之后，薪资水平预期会有比较高的提升"
   ],
   "cell_type": "markdown",
   "metadata": {}
  },
  {
   "source": [
    "## 全国不同城市，三种最热门岗位的需求量\n",
    "### 公司地点数据处理"
   ],
   "cell_type": "markdown",
   "metadata": {}
  },
  {
   "cell_type": "code",
   "execution_count": 59,
   "metadata": {},
   "outputs": [
    {
     "output_type": "execute_result",
     "data": {
      "text/plain": [
       "          company_industry                                       company_info  \\\n",
       "2  计算机软件,计算机服务(系统、数据服务、维修)  亿达信息技术有限公司（简称YIDATEC）创建于2006年，是中国领先、国际化的IT服务及数...   \n",
       "\n",
       "                  company_locations      company_names company_size  \\\n",
       "2  深圳-南山区  |  3-4年经验  |  本科  |  招1人  大连亿达信息技术有限公司深圳分公司    500-1000人   \n",
       "\n",
       "  company_type job_EDU_require job_EXP_require  \\\n",
       "2         民营公司              本科          3-4年经验   \n",
       "\n",
       "                                   job_position_info job_position_names  \\\n",
       "2  本科，需要具备数据分析和数据挖掘的能力和经验1.熟悉数据库查询脚本,如mysql或者hive...            数据挖掘工程师   \n",
       "\n",
       "             job_position_welfare job_salary search_by   salary  \\\n",
       "2  五险一金,补充商业保险,公积金,年终奖金,员工旅游,定期体检     1-2万/月      数据挖掘  15000.0   \n",
       "\n",
       "  company_locations_new  \n",
       "2                    深圳  "
      ],
      "text/html": "<div>\n<style scoped>\n    .dataframe tbody tr th:only-of-type {\n        vertical-align: middle;\n    }\n\n    .dataframe tbody tr th {\n        vertical-align: top;\n    }\n\n    .dataframe thead th {\n        text-align: right;\n    }\n</style>\n<table border=\"1\" class=\"dataframe\">\n  <thead>\n    <tr style=\"text-align: right;\">\n      <th></th>\n      <th>company_industry</th>\n      <th>company_info</th>\n      <th>company_locations</th>\n      <th>company_names</th>\n      <th>company_size</th>\n      <th>company_type</th>\n      <th>job_EDU_require</th>\n      <th>job_EXP_require</th>\n      <th>job_position_info</th>\n      <th>job_position_names</th>\n      <th>job_position_welfare</th>\n      <th>job_salary</th>\n      <th>search_by</th>\n      <th>salary</th>\n      <th>company_locations_new</th>\n    </tr>\n  </thead>\n  <tbody>\n    <tr>\n      <th>2</th>\n      <td>计算机软件,计算机服务(系统、数据服务、维修)</td>\n      <td>亿达信息技术有限公司（简称YIDATEC）创建于2006年，是中国领先、国际化的IT服务及数...</td>\n      <td>深圳-南山区  |  3-4年经验  |  本科  |  招1人</td>\n      <td>大连亿达信息技术有限公司深圳分公司</td>\n      <td>500-1000人</td>\n      <td>民营公司</td>\n      <td>本科</td>\n      <td>3-4年经验</td>\n      <td>本科，需要具备数据分析和数据挖掘的能力和经验1.熟悉数据库查询脚本,如mysql或者hive...</td>\n      <td>数据挖掘工程师</td>\n      <td>五险一金,补充商业保险,公积金,年终奖金,员工旅游,定期体检</td>\n      <td>1-2万/月</td>\n      <td>数据挖掘</td>\n      <td>15000.0</td>\n      <td>深圳</td>\n    </tr>\n  </tbody>\n</table>\n</div>"
     },
     "metadata": {},
     "execution_count": 59
    }
   ],
   "source": [
    "jobs_info['company_locations_new']=jobs_info['company_locations'].apply(lambda x:x.split('-')[0])\n",
    "jobs_info.head(1)"
   ]
  },
  {
   "cell_type": "code",
   "execution_count": 60,
   "metadata": {},
   "outputs": [
    {
     "output_type": "execute_result",
     "data": {
      "text/plain": [
       "array(['深圳', '广州', '异地招聘  |  2年经验  |  硕士  |  招1人', ...,\n",
       "       '青岛  |  无需经验  |  大专  |  招5人', '广州  |  在校生/应届生  |  本科  |  招4人',\n",
       "       '异地招聘  |  在校生/应届生  |  本科  |  招6人'], dtype=object)"
      ]
     },
     "metadata": {},
     "execution_count": 60
    }
   ],
   "source": [
    "# 查看公司地点\n",
    "jobs_info[\"company_locations_new\"].unique()"
   ]
  },
  {
   "cell_type": "code",
   "execution_count": 61,
   "metadata": {},
   "outputs": [],
   "source": [
    "# 将异地招聘删除\n",
    "jobs_info = jobs_info[~jobs_info[\"company_locations_new\"].str.contains(\"异地招聘|省\")]"
   ]
  },
  {
   "cell_type": "code",
   "execution_count": 62,
   "metadata": {},
   "outputs": [
    {
     "output_type": "execute_result",
     "data": {
      "text/plain": [
       "(27446, 15)"
      ]
     },
     "metadata": {},
     "execution_count": 62
    }
   ],
   "source": [
    "jobs_info.shape"
   ]
  },
  {
   "cell_type": "code",
   "execution_count": 63,
   "metadata": {},
   "outputs": [
    {
     "output_type": "execute_result",
     "data": {
      "text/plain": [
       "上海    4170\n",
       "深圳    4164\n",
       "广州    2334\n",
       "北京    1751\n",
       "杭州    1149\n",
       "成都     941\n",
       "武汉     928\n",
       "南京     879\n",
       "苏州     830\n",
       "西安     410\n",
       "Name: company_locations_new, dtype: int64"
      ]
     },
     "metadata": {},
     "execution_count": 63
    }
   ],
   "source": [
    "jobs_info['company_locations_new'].value_counts().head(10)"
   ]
  },
  {
   "cell_type": "code",
   "execution_count": 65,
   "metadata": {},
   "outputs": [
    {
     "output_type": "error",
     "ename": "ModuleNotFoundError",
     "evalue": "No module named 'pyecharts'",
     "traceback": [
      "\u001b[1;31m---------------------------------------------------------------------------\u001b[0m",
      "\u001b[1;31mModuleNotFoundError\u001b[0m                       Traceback (most recent call last)",
      "\u001b[1;32m<ipython-input-65-8fbdc95e2009>\u001b[0m in \u001b[0;36m<module>\u001b[1;34m\u001b[0m\n\u001b[0;32m      2\u001b[0m \u001b[0mcount\u001b[0m\u001b[1;33m=\u001b[0m\u001b[0mjobs_info\u001b[0m\u001b[1;33m[\u001b[0m\u001b[1;34m'company_locations_new'\u001b[0m\u001b[1;33m]\u001b[0m\u001b[1;33m.\u001b[0m\u001b[0mvalue_counts\u001b[0m\u001b[1;33m(\u001b[0m\u001b[1;33m)\u001b[0m\u001b[1;33m\u001b[0m\u001b[1;33m\u001b[0m\u001b[0m\n\u001b[0;32m      3\u001b[0m \u001b[1;33m\u001b[0m\u001b[0m\n\u001b[1;32m----> 4\u001b[1;33m \u001b[1;32mfrom\u001b[0m \u001b[0mpyecharts\u001b[0m \u001b[1;32mimport\u001b[0m \u001b[0moptions\u001b[0m \u001b[1;32mas\u001b[0m \u001b[0mopts\u001b[0m\u001b[1;33m\u001b[0m\u001b[1;33m\u001b[0m\u001b[0m\n\u001b[0m\u001b[0;32m      5\u001b[0m \u001b[1;32mfrom\u001b[0m \u001b[0mpyecharts\u001b[0m\u001b[1;33m.\u001b[0m\u001b[0mcharts\u001b[0m \u001b[1;32mimport\u001b[0m \u001b[0mGeo\u001b[0m\u001b[1;33m\u001b[0m\u001b[1;33m\u001b[0m\u001b[0m\n\u001b[0;32m      6\u001b[0m \u001b[1;31m#from pyecharts.faker import Faker\u001b[0m\u001b[1;33m\u001b[0m\u001b[1;33m\u001b[0m\u001b[1;33m\u001b[0m\u001b[0m\n",
      "\u001b[1;31mModuleNotFoundError\u001b[0m: No module named 'pyecharts'"
     ]
    }
   ],
   "source": [
    "#不同岗位数量在全国范围内的分布\n",
    "count=jobs_info['company_locations_new'].value_counts()\n",
    "\n",
    "from pyecharts import options as opts\n",
    "from pyecharts.charts import Geo\n",
    "#from pyecharts.faker import Faker\n",
    "\n",
    "c = (\n",
    "    Geo(\n",
    "        is_ignore_nonexistent_coord= True,#忽略不存在的地点\n",
    "    )\n",
    "    .add_schema(maptype=\"china\",     # 地图类型\n",
    "                aspect_scale= 0.75,  #地图的长宽比。\n",
    "               )\n",
    "    \n",
    "    .add(\"geo\", \n",
    "         [list(count) for count in zip(count.index.tolist(), count.tolist())],#传入的值\n",
    "         \n",
    "         point_size=1000,\n",
    "         symbol_size=8,  #标记点的大小\n",
    "         color='green',   #标记点颜色\n",
    "        )\n",
    "    \n",
    "    .set_series_opts(label_opts=opts.LabelOpts(is_show=False))\n",
    "    \n",
    "    .set_global_opts(\n",
    "        visualmap_opts=opts.VisualMapOpts(min_=0,max_=1000),#设置滑动标签的大小值\n",
    "        title_opts=opts.TitleOpts(title=\"岗位数量全国分布图\")\n",
    "    )\n",
    ")\n",
    "c.render_notebook()"
   ]
  },
  {
   "source": [
    "#### 从图中可以看出，按城市，北上广深四大城市岗位数量较多，按地区，长三角、珠三角及北京地区岗位需求量较大。不难看出，经济相对发达的地区和城市其岗位需求量也大。"
   ],
   "cell_type": "markdown",
   "metadata": {}
  },
  {
   "source": [
    "## 不同规模的公司，对于人工智能岗位的薪酬待遇"
   ],
   "cell_type": "markdown",
   "metadata": {}
  },
  {
   "cell_type": "code",
   "execution_count": null,
   "metadata": {},
   "outputs": [],
   "source": [
    "jobs_info.head(1)"
   ]
  },
  {
   "cell_type": "code",
   "execution_count": null,
   "metadata": {},
   "outputs": [],
   "source": [
    "jobs_info.shape"
   ]
  },
  {
   "cell_type": "code",
   "execution_count": null,
   "metadata": {},
   "outputs": [],
   "source": [
    "jobs_info.columns"
   ]
  },
  {
   "cell_type": "code",
   "execution_count": null,
   "metadata": {},
   "outputs": [],
   "source": [
    "jobs_info[\"company_size\"].unique()"
   ]
  },
  {
   "cell_type": "code",
   "execution_count": null,
   "metadata": {},
   "outputs": [],
   "source": [
    "df_smart = jobs_info[jobs_info[\"search_by\"]==\"人工智能\"]\n",
    "df_smart.shape"
   ]
  },
  {
   "cell_type": "code",
   "execution_count": null,
   "metadata": {},
   "outputs": [],
   "source": [
    "df_smart['salary'].sort_values()"
   ]
  },
  {
   "cell_type": "code",
   "execution_count": null,
   "metadata": {},
   "outputs": [],
   "source": [
    "df_smart.shape"
   ]
  },
  {
   "cell_type": "code",
   "execution_count": null,
   "metadata": {},
   "outputs": [],
   "source": [
    "df_smart[df_smart[\"company_size\"]==\"少于50人\"]['salary']"
   ]
  },
  {
   "source": [
    "### 不同规模的公司人工智能岗位的薪酬待遇箱型图"
   ],
   "cell_type": "markdown",
   "metadata": {}
  },
  {
   "cell_type": "code",
   "execution_count": null,
   "metadata": {},
   "outputs": [],
   "source": [
    "#不同规模的公司，对于人工智能岗位的薪酬待遇，制作箱型图\n",
    "data = [df_smart[df_smart['company_size']=='少于50人']['salary'],\n",
    "        df_smart[df_smart['company_size']=='50-150人']['salary'],\n",
    "        df_smart[df_smart['company_size']=='150-500人']['salary'],\n",
    "        df_smart[df_smart['company_size']=='500-1000人']['salary'],\n",
    "        df_smart[df_smart['company_size']=='1000-5000人']['salary'],\n",
    "        df_smart[df_smart['company_size']=='5000-10000人']['salary'],\n",
    "        df_smart[df_smart['company_size']=='10000人以上']['salary']\n",
    "       ]\n",
    "\n",
    "# 中文显示\n",
    "plt.rcParams['font.sans-serif'] = ['SimHei']  \n",
    "plt.rcParams['axes.unicode_minus'] = False\n",
    "\n",
    "# 创建箱型图\n",
    "fig, ax = plt.subplots(figsize=(10,5))\n",
    "# 设置标题\n",
    "ax.set_title('薪资与公司规模的关系')\n",
    "ax.boxplot(data)\n",
    "\n",
    "# 设置标签\n",
    "plt.xlabel(\"公司规模\")\n",
    "plt.ylabel(\"薪资\")\n",
    "plt.grid()\n",
    "ax.set_xticklabels(['少于50人','50-150人','150-500人','500-1000人','1000-5000人','5000-10000人','10000人以上']) #设置x轴刻度标签\n",
    "# 倾斜x轴\n",
    "plt.xticks(rotation=-30)\n",
    "\n",
    "plt.show()"
   ]
  },
  {
   "source": [
    "可以看出公司规模居中的公司，其薪资水平较高"
   ],
   "cell_type": "markdown",
   "metadata": {}
  },
  {
   "source": [
    "### 人工智能不同公司规模和岗位数量对比"
   ],
   "cell_type": "markdown",
   "metadata": {}
  },
  {
   "cell_type": "code",
   "execution_count": null,
   "metadata": {},
   "outputs": [],
   "source": [
    "df_opp = df_smart[\"company_size\"].value_counts()\n",
    "df_opp = df_opp[['少于50人','50-150人','150-500人','500-1000人','1000-5000人','5000-10000人','10000人以上']]\n",
    "df_opp"
   ]
  },
  {
   "cell_type": "code",
   "execution_count": null,
   "metadata": {},
   "outputs": [],
   "source": [
    "plt.figure(figsize=(8,4))\n",
    "plt.bar(df_opp.index,height=df_opp.values,width=0.6)\n",
    "plt.title(\"人工智能不同公司规模和岗位数量对比\")\n",
    "plt.xlabel(\"公司规模\")\n",
    "plt.ylabel(\"岗位数量\")\n",
    "\n",
    "plt.show()"
   ]
  },
  {
   "source": [
    "0-5000人规模的企业需求的人工智能岗位明显多于5000人以上规模的大型企业"
   ],
   "cell_type": "markdown",
   "metadata": {}
  },
  {
   "source": [
    "### 不同规模公司，经验和学历要求"
   ],
   "cell_type": "markdown",
   "metadata": {}
  },
  {
   "cell_type": "code",
   "execution_count": null,
   "metadata": {},
   "outputs": [],
   "source": [
    "df_smart.head(1)"
   ]
  },
  {
   "cell_type": "code",
   "execution_count": null,
   "metadata": {},
   "outputs": [],
   "source": [
    "df_smart[\"job_EDU_require\"].unique()"
   ]
  },
  {
   "cell_type": "code",
   "execution_count": null,
   "metadata": {},
   "outputs": [],
   "source": [
    "df_edu = df_smart[\"company_size\"].groupby(df_smart[\"job_EDU_require\"]).value_counts()\n",
    "df_edu"
   ]
  },
  {
   "cell_type": "code",
   "execution_count": null,
   "metadata": {},
   "outputs": [],
   "source": [
    "df_edu = df_edu.unstack()\n",
    "df_edu"
   ]
  },
  {
   "cell_type": "code",
   "execution_count": null,
   "metadata": {},
   "outputs": [],
   "source": [
    "df_edu=df_edu[['少于50人','50-150人','150-500人','500-1000人','1000-5000人','5000-10000人','10000人以上']]\n",
    "df_edu"
   ]
  },
  {
   "cell_type": "code",
   "execution_count": null,
   "metadata": {},
   "outputs": [],
   "source": [
    "# 填充空值\n",
    "df_edu = df_edu.fillna(0)\n",
    "df_edu"
   ]
  },
  {
   "cell_type": "code",
   "execution_count": null,
   "metadata": {},
   "outputs": [],
   "source": [
    "#重新排序index\n",
    "df_edu = df_edu.reindex(index=[\"中专\",\"大专\",\"本科\",\"硕士\",\"博士\"])\n",
    "df_edu"
   ]
  },
  {
   "source": [
    "### 不同规模的公司相关学历的招聘量"
   ],
   "cell_type": "markdown",
   "metadata": {}
  },
  {
   "cell_type": "code",
   "execution_count": null,
   "metadata": {},
   "outputs": [],
   "source": [
    "#绘制柱状图\n",
    "df_edu.plot(kind = 'bar',stacked = True,grid = True)\n",
    "plt.show()"
   ]
  },
  {
   "source": [
    "可以看出，本科学历要求远高于其他学历，说明现阶段本科学历需求量依旧很大，但随着社会的发展，学历要求也会逐步提高。"
   ],
   "cell_type": "markdown",
   "metadata": {}
  },
  {
   "source": [
    "### 不同规模公司对人工智能岗位的学历要求占比"
   ],
   "cell_type": "markdown",
   "metadata": {}
  },
  {
   "cell_type": "code",
   "execution_count": null,
   "metadata": {},
   "outputs": [],
   "source": [
    "df1 = pd.DataFrame({df_edu.index[0]:df_edu.iloc[0].values,\n",
    "                   df_edu.index[1]:df_edu.iloc[1].values,\n",
    "                   df_edu.index[2]:df_edu.iloc[2].values,\n",
    "                   df_edu.index[3]:df_edu.iloc[3].values,\n",
    "                   df_edu.index[4]:df_edu.iloc[4].values,\n",
    "                  \n",
    "\n",
    "                   })\n",
    "\n",
    "df1 = df1[[\"中专\",\"大专\",\"本科\",\"硕士\",\"博士\"]]\n",
    "df1"
   ]
  },
  {
   "cell_type": "code",
   "execution_count": null,
   "metadata": {},
   "outputs": [],
   "source": [
    "# 按行求和\n",
    "sum_df1 = df1.sum(axis=1)\n",
    "sum_df1"
   ]
  },
  {
   "cell_type": "code",
   "execution_count": null,
   "metadata": {},
   "outputs": [],
   "source": [
    "# 算出百分占比\n",
    "per = df1.div(sum_df1, axis=0)\n",
    "per"
   ]
  },
  {
   "cell_type": "code",
   "execution_count": null,
   "metadata": {},
   "outputs": [],
   "source": [
    "ax=per.plot(kind = 'bar',stacked = True,grid = False,legend=\"reverse\")\n",
    "\n",
    "ax.set_xticklabels(df_edu.columns)\n",
    "ax.set_ylim(0,1)\n",
    "ax.set_title(\"不同规模公司对人工智能岗位的学历要求占比\")\n",
    "ax.set_xlabel(\"公司规模\")\n",
    "ax.set_ylabel(\"学历要求占比\")\n",
    "\n",
    "plt.show()"
   ]
  },
  {
   "source": [
    "相对小规模公司，大规模公司对学历的要求更高，这也是社会发展的趋势，需要我们不断学习。"
   ],
   "cell_type": "markdown",
   "metadata": {}
  },
  {
   "source": [
    "#### 不同规模公司对人工智能岗位的经验要求占比"
   ],
   "cell_type": "markdown",
   "metadata": {}
  },
  {
   "cell_type": "code",
   "execution_count": null,
   "metadata": {},
   "outputs": [],
   "source": [
    "df_smart[\"job_EXP_require\"].unique()"
   ]
  },
  {
   "cell_type": "code",
   "execution_count": null,
   "metadata": {},
   "outputs": [],
   "source": [
    "df_exp = df_smart[\"company_size\"].groupby(df_smart[\"job_EXP_require\"]).value_counts().unstack()\n",
    "df_exp = df_exp.fillna(0)\n",
    "df_exp"
   ]
  },
  {
   "cell_type": "code",
   "execution_count": null,
   "metadata": {},
   "outputs": [],
   "source": [
    "df_exp=df_exp[['少于50人','50-150人','150-500人','500-1000人','1000-5000人','5000-10000人','10000人以上']]\n",
    "df_exp"
   ]
  },
  {
   "cell_type": "code",
   "execution_count": null,
   "metadata": {},
   "outputs": [],
   "source": [
    "df3 = pd.DataFrame({df_exp.index[0]:df_exp.iloc[0].values,\n",
    "                   df_exp.index[1]:df_exp.iloc[1].values,\n",
    "                   df_exp.index[2]:df_exp.iloc[2].values,\n",
    "                   df_exp.index[3]:df_exp.iloc[3].values,\n",
    "                   df_exp.index[4]:df_exp.iloc[4].values,\n",
    "                   df_exp.index[5]:df_exp.iloc[5].values,\n",
    "                   df_exp.index[6]:df_exp.iloc[6].values,\n",
    "\n",
    "                   })\n",
    "\n",
    "df3"
   ]
  },
  {
   "cell_type": "code",
   "execution_count": null,
   "metadata": {},
   "outputs": [],
   "source": [
    "#按行求和\n",
    "sum_exp = df3.sum(axis=1)\n",
    "sum_exp"
   ]
  },
  {
   "cell_type": "code",
   "execution_count": null,
   "metadata": {},
   "outputs": [],
   "source": [
    "#求出占比\n",
    "per_exp = df3.div(sum_exp,axis=0)\n",
    "per_exp"
   ]
  },
  {
   "cell_type": "code",
   "execution_count": null,
   "metadata": {},
   "outputs": [],
   "source": [
    "per_exp.columns"
   ]
  },
  {
   "cell_type": "code",
   "execution_count": null,
   "metadata": {},
   "outputs": [],
   "source": [
    "per_exp = per_exp[[\"1年经验\",\"2年经验\",\"3-4年经验\",\"5-7年经验\",\"8-9年经验\",\"10年以上经验\",\"在校生/应届生\"]]\n",
    "per_exp"
   ]
  },
  {
   "cell_type": "code",
   "execution_count": null,
   "metadata": {},
   "outputs": [],
   "source": [
    "per_exp.loc[0].sum()"
   ]
  },
  {
   "cell_type": "code",
   "execution_count": null,
   "metadata": {},
   "outputs": [],
   "source": [
    "ax=per_exp.plot(kind = 'bar',stacked = True,grid = False,legend=\"reverse\")\n",
    "\n",
    "ax.set_xticklabels(df_exp.columns)\n",
    "ax.set_ylim(0,1)\n",
    "ax.set_title(\"不同规模公司对人工智能岗位的经验要求占比\")\n",
    "ax.set_xlabel(\"公司规模\")\n",
    "ax.set_ylabel(\"经验要求占比\")\n"
   ]
  },
  {
   "source": [
    "经验要求和公司规模整体呈正相关，随着经验的增长，进入大公司的机会也越多。"
   ],
   "cell_type": "markdown",
   "metadata": {}
  },
  {
   "source": [
    "### 人工智能公司行业占比"
   ],
   "cell_type": "markdown",
   "metadata": {}
  },
  {
   "cell_type": "code",
   "execution_count": null,
   "metadata": {},
   "outputs": [],
   "source": [
    "jobs_info.head(1)"
   ]
  },
  {
   "cell_type": "code",
   "execution_count": null,
   "metadata": {},
   "outputs": [],
   "source": [
    "df_undergraduate=jobs_info.query(\"job_EDU_require=='本科'\")\n",
    "df_undergraduate.head(1)"
   ]
  },
  {
   "cell_type": "code",
   "execution_count": null,
   "metadata": {},
   "outputs": [],
   "source": [
    "df_undergraduate[\"company_industry\"].unique()"
   ]
  },
  {
   "cell_type": "code",
   "execution_count": null,
   "metadata": {},
   "outputs": [],
   "source": [
    "df_undergraduate[\"company_industry\"]"
   ]
  },
  {
   "cell_type": "code",
   "execution_count": null,
   "metadata": {},
   "outputs": [],
   "source": [
    "#d对公司类型进行修改\n",
    "df_undergraduate.reset_index(inplace=True,drop=True)\n",
    "for ind,industry in enumerate(df_undergraduate[\"company_industry\"]):\n",
    "    if \"计算机\"in industry or \"电子\"in industry or \"通信\"in industry or\"网络\"in industry:\n",
    "        df_undergraduate[\"company_industry\"][ind]=\"互联网/通信\"\n",
    "    elif \"银行\"in industry or \"保险\"in industry or \"金融\"in industry or\"银行\"in industry or\"信托\"in industry:\n",
    "        df_undergraduate[\"company_industry\"][ind]=\"金融\"\n",
    "    elif \"贸易\"in industry or \"批发\"in industry or \"奢侈品\"in industry or\"消费品\"in industry or\"家电\"in industry or \"汽车\"in industry or\"办公用品\"in industry or\"机械\"in industry or\"贸易\"in industry:\n",
    "        df_undergraduate[\"company_industry\"][ind]=\"贸易/制造\"\n",
    "    elif \"贸易\"in industry or \"制药\"in industry or \"医疗\"in industry:\n",
    "        df_undergraduate[\"company_industry\"][ind]=\"制药/医疗\"\n",
    "    elif \"贸易\"in industry or \"物业\"in industry or \"建筑\"in industry or\"房地产\"in industry:\n",
    "        df_undergraduate[\"company_industry\"][ind]=\"房地产/建筑\"\n",
    "    elif \"贸易\"in industry or \"教育\"in industry or \"专业服务\"in industry:\n",
    "        df_undergraduate[\"company_industry\"][ind]=\"教育/培训\"\n",
    "    else:\n",
    "        df_undergraduate[\"company_industry\"][ind]=\"其他\"\n",
    "df_undergraduate[\"company_industry\"].value_counts()"
   ]
  },
  {
   "cell_type": "code",
   "execution_count": null,
   "metadata": {},
   "outputs": [],
   "source": [
    "df_industry=df_undergraduate[\"company_industry\"].value_counts()\n",
    "df_industry"
   ]
  },
  {
   "cell_type": "code",
   "execution_count": null,
   "metadata": {},
   "outputs": [],
   "source": [
    "df_industry.index.to_list()"
   ]
  },
  {
   "cell_type": "code",
   "execution_count": null,
   "metadata": {},
   "outputs": [],
   "source": [
    "df_industry.values.tolist()"
   ]
  },
  {
   "cell_type": "code",
   "execution_count": null,
   "metadata": {},
   "outputs": [],
   "source": [
    "from pyecharts import options as opts\n",
    "from pyecharts.charts import Pie\n",
    "from pyecharts.faker import Faker\n",
    "\n",
    "c = (\n",
    "    Pie()\n",
    "    .add(\"\", [list(z) for z in zip(df_industry.index.to_list(), df_industry.values.tolist())])\n",
    "    .set_global_opts(title_opts=opts.TitleOpts(title=\"公司行业占比\"))\n",
    "    .set_series_opts(label_opts=opts.LabelOpts(formatter=\"{b}: {c}\"))\n",
    "    \n",
    ")\n",
    "c.render_notebook()"
   ]
  },
  {
   "source": [
    "本科学历要求的招聘岗位中，互联网/通信方面的招聘占比较高，可以看出本科学历招聘在互联网的需求量比较大，就业前景明朗。"
   ],
   "cell_type": "markdown",
   "metadata": {}
  },
  {
   "source": [
    "### 对本科要求占比较高的互联网/通信进一步分析"
   ],
   "cell_type": "markdown",
   "metadata": {}
  },
  {
   "cell_type": "code",
   "execution_count": null,
   "metadata": {},
   "outputs": [],
   "source": [
    "df_undergraduate.head(1)"
   ]
  },
  {
   "cell_type": "code",
   "execution_count": null,
   "metadata": {},
   "outputs": [],
   "source": [
    "df_undergraduate.shape"
   ]
  },
  {
   "cell_type": "code",
   "execution_count": null,
   "metadata": {},
   "outputs": [],
   "source": [
    "df_internet = df_undergraduate[df_undergraduate[\"company_industry\"]==\"互联网/通信\"]\n",
    "df_internet.shape"
   ]
  },
  {
   "cell_type": "code",
   "execution_count": null,
   "metadata": {},
   "outputs": [],
   "source": [
    "df_internet.head(1)"
   ]
  },
  {
   "cell_type": "code",
   "execution_count": null,
   "metadata": {},
   "outputs": [],
   "source": [
    "df_internet['job_position_info']"
   ]
  },
  {
   "cell_type": "code",
   "execution_count": null,
   "metadata": {},
   "outputs": [],
   "source": [
    "from pyecharts.charts import WordCloud\n",
    "import re\n",
    "\n",
    "word_all=[]\n",
    "word_lower=[]\n",
    "#找出所有英文单词词\n",
    "for index,job_kw in enumerate(df_internet['job_position_info']):\n",
    "    c=re.findall(\"[a-zA-Z]+\",job_kw)\n",
    "    for word in c:\n",
    "        word_all.append(word)\n",
    "#将词全部转为小写\n",
    "for w in word_all:\n",
    "    word_lower.append(w.lower())\n",
    "df_word=pd.value_counts(word_lower)\n",
    "\n",
    "df_word"
   ]
  },
  {
   "cell_type": "code",
   "execution_count": null,
   "metadata": {},
   "outputs": [],
   "source": [
    "df_word.index"
   ]
  },
  {
   "cell_type": "code",
   "execution_count": null,
   "metadata": {},
   "outputs": [],
   "source": [
    "df_word.values"
   ]
  },
  {
   "cell_type": "code",
   "execution_count": null,
   "metadata": {},
   "outputs": [],
   "source": [
    "data = list(zip(df_word.index,df_word.values.astype(\"str\")))\n",
    "data"
   ]
  },
  {
   "source": [
    "### 互联网/通信的词云图"
   ],
   "cell_type": "markdown",
   "metadata": {}
  },
  {
   "cell_type": "code",
   "execution_count": null,
   "metadata": {},
   "outputs": [],
   "source": [
    "import pyecharts.options as opts\n",
    "from pyecharts.charts import WordCloud\n",
    "\n",
    "data = list(zip(df_word.index,df_word.values.astype(\"str\")))\n",
    "\n",
    "\n",
    "(\n",
    "    WordCloud()\n",
    "    .add(series_name=\"热点分析\", data_pair=data, word_size_range=[6, 66])\n",
    "    .set_global_opts(\n",
    "        title_opts=opts.TitleOpts(\n",
    "            title=\"热点分析\", title_textstyle_opts=opts.TextStyleOpts(font_size=23)\n",
    "        ),\n",
    "        tooltip_opts=opts.TooltipOpts(is_show=True),\n",
    "    )\n",
    "    .render_notebook()\n",
    ")\n",
    "\n"
   ]
  },
  {
   "source": [
    "上图可以直观看出，Python，C，Java，Linux等是主流技术要求"
   ],
   "cell_type": "markdown",
   "metadata": {}
  },
  {
   "source": [
    "## 招聘网站数据分析结果\n",
    "### 岗位占比中，算法、人工智能、数据挖掘占了绝大部分岗位  \n",
    "### 热门的岗位中数据分析、图像算法、大数据占比较高\n",
    "### 算法、人工智能、深度学习的薪酬较高，而数据挖掘、数据分析的薪酬较低\n",
    "### 随着工作经验要求的提高，薪资水平逐步提升，且经验达到5年之后，薪资水平预期会有比较高的提升\n",
    "### 按城市，北上广深四大城市岗位数量较多，按地区，长三角、珠三角及京津冀地区岗位需求量较大。不难看出，经济相对发达的地区和城市其岗位需求量也大。\n",
    "### 公司规模越大，其薪资水平相对小规模公司有不小的提升。\n",
    "### 中小企业薪资和大企业薪资还是有一定差距的，中小企业薪资上差距不大，大企业薪资有较高提升，但是中小企业的就业机会比大企业多。\n",
    "### 人工智能方面，本科学历要求远高于其他学历，说明现阶段本科学历需求量依旧很大，但随着社会的发展，学历要求也会逐步提高。\n",
    "### 相对小规模公司，大规模公司对学历的要求更高，这也是社会发展的趋势，需要我们不断学习。\n",
    "### 经验要求和公司规模整体呈正相关，随着经验的增长，进入大公司的机会也越多。\n",
    "### 本科学历要求的招聘岗位中，互联网/通信方面的招聘占比较高，可以看出本科学历招聘在互联网的需求量比较大，就业前景明朗。\n",
    "### 人工智能行业中，Python，C，Java，Linux等是主流技术要求等是主流技术要求\n",
    "### 整体来看，现如今人工智能、数据分析等岗位仍是热门岗位，主要集中在沿海发达城市，同时公司规模、经验是和薪资成正相关，就业方向可以向大公司，大城市靠拢，会获得更多晋升的机会，同时也要求我们自身对Python，sql等技术熟练掌握，提高自身技术实力，博得更多的机会。"
   ],
   "cell_type": "markdown",
   "metadata": {}
  },
  {
   "cell_type": "code",
   "execution_count": null,
   "metadata": {},
   "outputs": [],
   "source": []
  }
 ]
}